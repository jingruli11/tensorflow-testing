{
 "cells": [
  {
   "cell_type": "markdown",
   "metadata": {},
   "source": [
    "## Import relevant libraries"
   ]
  },
  {
   "cell_type": "code",
   "execution_count": 1,
   "metadata": {
    "collapsed": true
   },
   "outputs": [],
   "source": [
    "# import relevant libraries\n",
    "import pandas as pd\n",
    "import numpy as np\n",
    "import matplotlib.pyplot as plt\n",
    "import seaborn as sns\n",
    "import tensorflow as tf\n",
    "from tensorflow.examples.tutorials.mnist import input_data\n",
    "import sklearn\n",
    "import timeit\n",
    "import datetime"
   ]
  },
  {
   "cell_type": "markdown",
   "metadata": {
    "collapsed": true
   },
   "source": [
    "## Load and cleanse dataset "
   ]
  },
  {
   "cell_type": "code",
   "execution_count": 2,
   "metadata": {
    "collapsed": false
   },
   "outputs": [
    {
     "name": "stdout",
     "output_type": "stream",
     "text": [
      "Extracting ./train-images-idx3-ubyte.gz\n",
      "Extracting ./train-labels-idx1-ubyte.gz\n",
      "Extracting ./t10k-images-idx3-ubyte.gz\n",
      "Extracting ./t10k-labels-idx1-ubyte.gz\n"
     ]
    }
   ],
   "source": [
    "# load dataset\n",
    "mnisttt = input_data.read_data_sets(\".\", one_hot=False)"
   ]
  },
  {
   "cell_type": "code",
   "execution_count": 3,
   "metadata": {
    "collapsed": true
   },
   "outputs": [],
   "source": [
    "# define function to plot images\n",
    "def image_plot(image, size):\n",
    "    idxs = np.random.randint(len(image), size=size)\n",
    "    plt.clf()\n",
    "    f, axarr = plt.subplots(1, size, figsize = (20,20))\n",
    "    for i in range(0,len(idxs)):\n",
    "        X = mnisttt.train.images[idxs[i]]\n",
    "        X = X.reshape([28, 28])\n",
    "        axarr[i].imshow(X)\n",
    "        axarr[i].set_axis_off()\n",
    "    plt.show()"
   ]
  },
  {
   "cell_type": "code",
   "execution_count": 4,
   "metadata": {
    "collapsed": false
   },
   "outputs": [
    {
     "data": {
      "text/plain": [
       "<matplotlib.figure.Figure at 0x11ae3e7f0>"
      ]
     },
     "metadata": {},
     "output_type": "display_data"
    },
    {
     "data": {
      "image/png": "[encoded data removed]",
      "text/plain": [
       "<matplotlib.figure.Figure at 0x11ae3eb70>"
      ]
     },
     "metadata": {},
     "output_type": "display_data"
    }
   ],
   "source": [
    "# plot 20 random images\n",
    "image_plot(mnisttt.train.images, 20)"
   ]
  },
  {
   "cell_type": "code",
   "execution_count": 5,
   "metadata": {
    "collapsed": false
   },
   "outputs": [
    {
     "name": "stdout",
     "output_type": "stream",
     "text": [
      "The size of training image dataset is:  (55000, 784)\n",
      "The size of training label dataset is:  (55000,)\n",
      "The size of validation image dataset is:  (5000, 784)\n",
      "The size of validation label dataset is:  (5000,)\n",
      "The size of testing image dataset is:  (10000, 784)\n",
      "The size of testing label dataset is:  (10000,)\n"
     ]
    }
   ],
   "source": [
    "# print dataset size\n",
    "print('The size of training image dataset is: ', mnisttt.train.images.shape)\n",
    "print('The size of training label dataset is: ', mnisttt.train.labels.shape)\n",
    "print('The size of validation image dataset is: ', mnisttt.validation.images.shape)\n",
    "print('The size of validation label dataset is: ', mnisttt.validation.labels.shape)\n",
    "print('The size of testing image dataset is: ', mnisttt.test.images.shape)\n",
    "print('The size of testing label dataset is: ', mnisttt.test.labels.shape)"
   ]
  },
  {
   "cell_type": "markdown",
   "metadata": {},
   "source": [
    "Since the requirement is to run classification algorithms on training data (60,000) and testing data (10,000) respectively, the training and validation datasets should be concatenated as one."
   ]
  },
  {
   "cell_type": "code",
   "execution_count": 6,
   "metadata": {
    "collapsed": false
   },
   "outputs": [],
   "source": [
    "# concatenate training and validation data\n",
    "train_image = np.append(mnisttt.train.images,mnisttt.validation.images, axis = 0) \n",
    "train_label = np.append(mnisttt.train.labels,mnisttt.validation.labels, axis = 0) \n",
    "\n",
    "# copy test labels to a new numpy array\n",
    "test_label = mnisttt.test.labels"
   ]
  },
  {
   "cell_type": "code",
   "execution_count": 7,
   "metadata": {
    "collapsed": false
   },
   "outputs": [
    {
     "name": "stdout",
     "output_type": "stream",
     "text": [
      "The size of training image dataset is:  (60000, 784)\n",
      "The size of training label dataset is:  (60000,)\n"
     ]
    }
   ],
   "source": [
    "# print the size of training image and label dataset\n",
    "print('The size of training image dataset is: ', train_image.shape)\n",
    "print('The size of training label dataset is: ', train_label.shape)"
   ]
  },
  {
   "cell_type": "code",
   "execution_count": 8,
   "metadata": {
    "collapsed": false
   },
   "outputs": [
    {
     "name": "stderr",
     "output_type": "stream",
     "text": [
      "/Users/Michael/anaconda/lib/python3.6/site-packages/sklearn/preprocessing/data.py:160: UserWarning: Numerical issues were encountered when centering the data and might not be solved. Dataset may contain too large values. You may need to prescale your features.\n",
      "  warnings.warn(\"Numerical issues were encountered \"\n",
      "/Users/Michael/anaconda/lib/python3.6/site-packages/sklearn/preprocessing/data.py:177: UserWarning: Numerical issues were encountered when scaling the data and might not be solved. The standard deviation of the data is probably very close to 0. \n",
      "  warnings.warn(\"Numerical issues were encountered \"\n"
     ]
    }
   ],
   "source": [
    "# Normalize training and testing data\n",
    "from sklearn.preprocessing import scale\n",
    "train_image = scale(train_image)\n",
    "test_image = scale(mnisttt.test.images)"
   ]
  },
  {
   "cell_type": "markdown",
   "metadata": {},
   "source": [
    "## Classification vanilla model "
   ]
  },
  {
   "cell_type": "markdown",
   "metadata": {},
   "source": [
    "### Classifier 1: Perceptron"
   ]
  },
  {
   "cell_type": "code",
   "execution_count": 14,
   "metadata": {
    "collapsed": false
   },
   "outputs": [
    {
     "name": "stdout",
     "output_type": "stream",
     "text": [
      "Running time: 4.223s\n"
     ]
    }
   ],
   "source": [
    "# fit perceptron with training dataset\n",
    "start = timeit.default_timer()\n",
    "\n",
    "from sklearn.linear_model import Perceptron\n",
    "clf_p = Perceptron()\n",
    "clf_p.fit(train_image, train_label)\n",
    "\n",
    "stop = timeit.default_timer()\n",
    "print('Running time: %.3fs' % (stop - start))"
   ]
  },
  {
   "cell_type": "code",
   "execution_count": 15,
   "metadata": {
    "collapsed": false
   },
   "outputs": [
    {
     "data": {
      "text/plain": [
       "0.88388333333333335"
      ]
     },
     "execution_count": 15,
     "metadata": {},
     "output_type": "execute_result"
    }
   ],
   "source": [
    "# get the accuracy of training dataset\n",
    "clf_p.score(train_image, train_label)"
   ]
  },
  {
   "cell_type": "code",
   "execution_count": 16,
   "metadata": {
    "collapsed": false
   },
   "outputs": [
    {
     "data": {
      "text/plain": [
       "0.87470000000000003"
      ]
     },
     "execution_count": 16,
     "metadata": {},
     "output_type": "execute_result"
    }
   ],
   "source": [
    "# get the accuracy of test dataset\n",
    "clf_p.score(test_image, test_label)"
   ]
  },
  {
   "cell_type": "markdown",
   "metadata": {},
   "source": [
    "### Classifier 2: Logistic Regression"
   ]
  },
  {
   "cell_type": "code",
   "execution_count": 35,
   "metadata": {
    "collapsed": true
   },
   "outputs": [],
   "source": [
    "# Random sample a smaller dataset\n",
    "from sklearn.utils import resample\n",
    "train_image_sample = resample(train_image, n_samples = 20000, random_state = 0)\n",
    "train_label_sample = resample(train_label, n_samples = 20000, random_state = 0)"
   ]
  },
  {
   "cell_type": "code",
   "execution_count": 36,
   "metadata": {
    "collapsed": false
   },
   "outputs": [
    {
     "name": "stdout",
     "output_type": "stream",
     "text": [
      "Running time: 118.118\n"
     ]
    }
   ],
   "source": [
    "# fit logistic regression with training dataset\n",
    "start = timeit.default_timer()\n",
    "\n",
    "from sklearn.linear_model import LogisticRegression\n",
    "clf_logit = LogisticRegression(penalty = 'l2', C = 1, solver ='newton-cg')\n",
    "clf_logit.fit(train_image_sample, train_label_sample)\n",
    "\n",
    "stop = timeit.default_timer()\n",
    "print('Running time: %.3f' % (stop - start))"
   ]
  },
  {
   "cell_type": "code",
   "execution_count": 37,
   "metadata": {
    "collapsed": false
   },
   "outputs": [
    {
     "data": {
      "text/plain": [
       "0.95350000000000001"
      ]
     },
     "execution_count": 37,
     "metadata": {},
     "output_type": "execute_result"
    }
   ],
   "source": [
    "# get the accuracy of training sample\n",
    "clf_logit.score(train_image_sample, train_label_sample)"
   ]
  },
  {
   "cell_type": "code",
   "execution_count": 38,
   "metadata": {
    "collapsed": false
   },
   "outputs": [
    {
     "data": {
      "text/plain": [
       "0.89580000000000004"
      ]
     },
     "execution_count": 38,
     "metadata": {},
     "output_type": "execute_result"
    }
   ],
   "source": [
    "# get the accuracy of testing dataset\n",
    "clf_logit.score(test_image, test_label)"
   ]
  },
  {
   "cell_type": "markdown",
   "metadata": {},
   "source": [
    "### Classifier 3: Linear SVM "
   ]
  },
  {
   "cell_type": "code",
   "execution_count": null,
   "metadata": {
    "collapsed": true
   },
   "outputs": [],
   "source": [
    "# fit linear svm with training dataset\n",
    "start = timeit.default_timer()"
   ]
  },
  {
   "cell_type": "code",
   "execution_count": null,
   "metadata": {
    "collapsed": true
   },
   "outputs": [],
   "source": []
  }
 ],
 "metadata": {
  "kernelspec": {
   "display_name": "Python 3",
   "language": "python",
   "name": "python3"
  },
  "language_info": {
   "codemirror_mode": {
    "name": "ipython",
    "version": 3
   },
   "file_extension": ".py",
   "mimetype": "text/x-python",
   "name": "python",
   "nbconvert_exporter": "python",
   "pygments_lexer": "ipython3",
   "version": "3.6.0"
  }
 },
 "nbformat": 4,
 "nbformat_minor": 2
}
