{
 "cells": [
  {
   "cell_type": "markdown",
   "metadata": {},
   "source": [
    "# Machine Learning Homework 3"
   ]
  },
  {
   "cell_type": "markdown",
   "metadata": {},
   "source": [
    "Michael Li\n",
    "\n",
    "Nov 12, 2017\n",
    "\n",
    "Abstract:\n",
    "\n",
    "- Apply classification algorithms on MNIST dataset and compare results.\n",
    "- Tune classification models to find the best predicting accuracy."
   ]
  },
  {
   "cell_type": "markdown",
   "metadata": {},
   "source": [
    "## Environment setup"
   ]
  },
  {
   "cell_type": "code",
   "execution_count": 1,
   "metadata": {
    "collapsed": true
   },
   "outputs": [],
   "source": [
    "# import relevant libraries\n",
    "import pandas as pd\n",
    "import numpy as np\n",
    "import matplotlib.pyplot as plt\n",
    "import seaborn as sns\n",
    "import tensorflow as tf\n",
    "from tensorflow.examples.tutorials.mnist import input_data\n",
    "import sklearn\n",
    "import timeit\n",
    "import datetime\n",
    "# Suppress warnings\n",
    "import warnings\n",
    "warnings.simplefilter('ignore')"
   ]
  },
  {
   "cell_type": "markdown",
   "metadata": {
    "collapsed": true
   },
   "source": [
    "## Load and cleanse dataset "
   ]
  },
  {
   "cell_type": "code",
   "execution_count": 2,
   "metadata": {
    "collapsed": false
   },
   "outputs": [
    {
     "name": "stdout",
     "output_type": "stream",
     "text": [
      "Extracting ./train-images-idx3-ubyte.gz\n",
      "Extracting ./train-labels-idx1-ubyte.gz\n",
      "Extracting ./t10k-images-idx3-ubyte.gz\n",
      "Extracting ./t10k-labels-idx1-ubyte.gz\n"
     ]
    }
   ],
   "source": [
    "# load dataset\n",
    "mnisttt = input_data.read_data_sets(\".\", one_hot=False)"
   ]
  },
  {
   "cell_type": "code",
   "execution_count": 3,
   "metadata": {
    "collapsed": true
   },
   "outputs": [],
   "source": [
    "# define function to plot images\n",
    "def image_plot(image, size):\n",
    "    idxs = np.random.randint(len(image), size=size)\n",
    "    plt.clf()\n",
    "    f, axarr = plt.subplots(1, size, figsize = (20,20))\n",
    "    for i in range(0,len(idxs)):\n",
    "        X = mnisttt.train.images[idxs[i]]\n",
    "        X = X.reshape([28, 28])\n",
    "        axarr[i].imshow(X)\n",
    "        axarr[i].set_axis_off()\n",
    "    plt.show()"
   ]
  },
  {
   "cell_type": "code",
   "execution_count": 4,
   "metadata": {
    "collapsed": false
   },
   "outputs": [
    {
     "data": {
      "text/plain": [
       "<matplotlib.figure.Figure at 0x11a3da7b8>"
      ]
     },
     "metadata": {},
     "output_type": "display_data"
    },
    {
     "data": {
      "image/png": "[encoded data removed]",
      "text/plain": [
       "<matplotlib.figure.Figure at 0x11a3dab70>"
      ]
     },
     "metadata": {},
     "output_type": "display_data"
    }
   ],
   "source": [
    "# plot 20 random images\n",
    "image_plot(mnisttt.train.images, 20)"
   ]
  },
  {
   "cell_type": "code",
   "execution_count": 5,
   "metadata": {
    "collapsed": false
   },
   "outputs": [
    {
     "name": "stdout",
     "output_type": "stream",
     "text": [
      "The size of training image dataset is:  (55000, 784)\n",
      "The size of training label dataset is:  (55000,)\n",
      "The size of validation image dataset is:  (5000, 784)\n",
      "The size of validation label dataset is:  (5000,)\n",
      "The size of testing image dataset is:  (10000, 784)\n",
      "The size of testing label dataset is:  (10000,)\n"
     ]
    }
   ],
   "source": [
    "# print dataset size\n",
    "print('The size of training image dataset is: ', mnisttt.train.images.shape)\n",
    "print('The size of training label dataset is: ', mnisttt.train.labels.shape)\n",
    "print('The size of validation image dataset is: ', mnisttt.validation.images.shape)\n",
    "print('The size of validation label dataset is: ', mnisttt.validation.labels.shape)\n",
    "print('The size of testing image dataset is: ', mnisttt.test.images.shape)\n",
    "print('The size of testing label dataset is: ', mnisttt.test.labels.shape)"
   ]
  },
  {
   "cell_type": "markdown",
   "metadata": {},
   "source": [
    "Since the requirement is to run classification algorithms on training data (60,000) and testing data (10,000) respectively, the training and validation datasets should be concatenated as one."
   ]
  },
  {
   "cell_type": "code",
   "execution_count": 6,
   "metadata": {
    "collapsed": false
   },
   "outputs": [],
   "source": [
    "# concatenate training and validation data\n",
    "train_image = np.append(mnisttt.train.images,mnisttt.validation.images, axis = 0) \n",
    "train_label = np.append(mnisttt.train.labels,mnisttt.validation.labels, axis = 0) \n",
    "\n",
    "# copy test labels to a new numpy array\n",
    "test_label = mnisttt.test.labels"
   ]
  },
  {
   "cell_type": "code",
   "execution_count": 7,
   "metadata": {
    "collapsed": false
   },
   "outputs": [
    {
     "name": "stdout",
     "output_type": "stream",
     "text": [
      "The size of training image dataset is:  (60000, 784)\n",
      "The size of training label dataset is:  (60000,)\n"
     ]
    }
   ],
   "source": [
    "# print the size of training image and label dataset\n",
    "print('The size of training image dataset is: ', train_image.shape)\n",
    "print('The size of training label dataset is: ', train_label.shape)"
   ]
  },
  {
   "cell_type": "code",
   "execution_count": 8,
   "metadata": {
    "collapsed": false
   },
   "outputs": [],
   "source": [
    "# Normalize training and testing data\n",
    "from sklearn.preprocessing import scale\n",
    "train_image = scale(train_image)\n",
    "test_image = scale(mnisttt.test.images)"
   ]
  },
  {
   "cell_type": "markdown",
   "metadata": {},
   "source": [
    "## Basic classification models "
   ]
  },
  {
   "cell_type": "markdown",
   "metadata": {},
   "source": [
    "### Classifier 1: Perceptron"
   ]
  },
  {
   "cell_type": "code",
   "execution_count": 9,
   "metadata": {
    "collapsed": false
   },
   "outputs": [
    {
     "name": "stdout",
     "output_type": "stream",
     "text": [
      "Running time: 3.891s\n"
     ]
    }
   ],
   "source": [
    "# fit perceptron with training dataset\n",
    "start = timeit.default_timer()\n",
    "\n",
    "from sklearn.linear_model import Perceptron\n",
    "clf_p = Perceptron()\n",
    "clf_p.fit(train_image, train_label)\n",
    "\n",
    "stop = timeit.default_timer()\n",
    "clf_p_time = stop - start\n",
    "print('Running time: %.3fs' % (stop - start))"
   ]
  },
  {
   "cell_type": "code",
   "execution_count": 10,
   "metadata": {
    "collapsed": false
   },
   "outputs": [
    {
     "name": "stdout",
     "output_type": "stream",
     "text": [
      "0.883883333333\n"
     ]
    }
   ],
   "source": [
    "# get the accuracy of training dataset\n",
    "clf_p_train_score = clf_p.score(train_image, train_label)\n",
    "print(clf_p_train_score)"
   ]
  },
  {
   "cell_type": "code",
   "execution_count": 11,
   "metadata": {
    "collapsed": false
   },
   "outputs": [
    {
     "name": "stdout",
     "output_type": "stream",
     "text": [
      "0.8747\n"
     ]
    }
   ],
   "source": [
    "# get the accuracy of test dataset\n",
    "clf_p_test_score = clf_p.score(test_image, test_label)\n",
    "print(clf_p_test_score)"
   ]
  },
  {
   "cell_type": "markdown",
   "metadata": {},
   "source": [
    "### Classifier 2: Logistic Regression"
   ]
  },
  {
   "cell_type": "code",
   "execution_count": 12,
   "metadata": {
    "collapsed": true
   },
   "outputs": [],
   "source": [
    "# Random sample a smaller dataset\n",
    "from sklearn.utils import resample\n",
    "train_image_sample = resample(train_image, n_samples = 20000, random_state = 0)\n",
    "train_label_sample = resample(train_label, n_samples = 20000, random_state = 0)"
   ]
  },
  {
   "cell_type": "code",
   "execution_count": 13,
   "metadata": {
    "collapsed": false
   },
   "outputs": [
    {
     "name": "stdout",
     "output_type": "stream",
     "text": [
      "Running time: 122.940\n"
     ]
    }
   ],
   "source": [
    "# fit logistic regression with training sample dataset\n",
    "start = timeit.default_timer()\n",
    "\n",
    "from sklearn.linear_model import LogisticRegression\n",
    "clf_logit = LogisticRegression(penalty = 'l2', C = 1, solver ='newton-cg')\n",
    "clf_logit.fit(train_image_sample, train_label_sample)\n",
    "\n",
    "stop = timeit.default_timer()\n",
    "clf_logit_time = stop - start\n",
    "print('Running time: %.3f' % (stop - start))"
   ]
  },
  {
   "cell_type": "code",
   "execution_count": 14,
   "metadata": {
    "collapsed": false
   },
   "outputs": [
    {
     "name": "stdout",
     "output_type": "stream",
     "text": [
      "0.91045\n"
     ]
    }
   ],
   "source": [
    "# get the accuracy of training sample\n",
    "clf_logit_train_score = clf_logit.score(train_image, train_label)\n",
    "print(clf_logit_train_score)"
   ]
  },
  {
   "cell_type": "code",
   "execution_count": 15,
   "metadata": {
    "collapsed": false
   },
   "outputs": [
    {
     "name": "stdout",
     "output_type": "stream",
     "text": [
      "0.8958\n"
     ]
    }
   ],
   "source": [
    "# get the accuracy of testing dataset\n",
    "clf_logit_test_score = clf_logit.score(test_image, test_label)\n",
    "print(clf_logit_test_score)"
   ]
  },
  {
   "cell_type": "markdown",
   "metadata": {},
   "source": [
    "### Classifier 3: Linear SVM "
   ]
  },
  {
   "cell_type": "code",
   "execution_count": 16,
   "metadata": {
    "collapsed": false
   },
   "outputs": [
    {
     "name": "stdout",
     "output_type": "stream",
     "text": [
      "Running time: 105.615\n"
     ]
    }
   ],
   "source": [
    "# fit linear svm with training sample dataset\n",
    "start = timeit.default_timer()\n",
    "\n",
    "from sklearn.svm import LinearSVC\n",
    "clf_lsvm = LinearSVC(penalty = 'l2', C = 1.0, multi_class = 'ovr')\n",
    "clf_lsvm.fit(train_image_sample, train_label_sample)\n",
    "\n",
    "stop = timeit.default_timer()\n",
    "clf_lsvm_time = stop - start\n",
    "print('Running time: %.3f' % (stop - start))"
   ]
  },
  {
   "cell_type": "code",
   "execution_count": 17,
   "metadata": {
    "collapsed": false
   },
   "outputs": [
    {
     "name": "stdout",
     "output_type": "stream",
     "text": [
      "0.894216666667\n"
     ]
    }
   ],
   "source": [
    "# get the accuracy of training dataset\n",
    "clf_lsvm_train_score = clf_lsvm.score(train_image, train_label)\n",
    "print(clf_lsvm_train_score)"
   ]
  },
  {
   "cell_type": "code",
   "execution_count": 18,
   "metadata": {
    "collapsed": false
   },
   "outputs": [
    {
     "name": "stdout",
     "output_type": "stream",
     "text": [
      "0.8821\n"
     ]
    }
   ],
   "source": [
    "# get the accuracy of testing dataset\n",
    "clf_lsvm_test_score = clf_lsvm.score(test_image, test_label)\n",
    "print(clf_lsvm_test_score)"
   ]
  },
  {
   "cell_type": "markdown",
   "metadata": {},
   "source": [
    "### Classifier 4: Radial SVM"
   ]
  },
  {
   "cell_type": "code",
   "execution_count": 19,
   "metadata": {
    "collapsed": false
   },
   "outputs": [
    {
     "name": "stdout",
     "output_type": "stream",
     "text": [
      "Running time: 109.954\n"
     ]
    }
   ],
   "source": [
    "# fit radial SVM with training sample dataset\n",
    "start = timeit.default_timer()\n",
    "\n",
    "from sklearn.svm import SVC\n",
    "clf_rsvm = SVC(C = 1.0, kernel = 'rbf', degree = 3, gamma = 'auto')\n",
    "clf_rsvm.fit(train_image_sample, train_label_sample)\n",
    "\n",
    "stop = timeit.default_timer()\n",
    "clf_rsvm_time = stop - start\n",
    "print('Running time: %.3f' % (stop - start))"
   ]
  },
  {
   "cell_type": "code",
   "execution_count": 20,
   "metadata": {
    "collapsed": false
   },
   "outputs": [
    {
     "name": "stdout",
     "output_type": "stream",
     "text": [
      "0.960416666667\n"
     ]
    }
   ],
   "source": [
    "# get the accuracy of training dataset\n",
    "clf_rsvm_train_score = clf_rsvm.score(train_image, train_label)\n",
    "print(clf_rsvm_train_score)"
   ]
  },
  {
   "cell_type": "code",
   "execution_count": 21,
   "metadata": {
    "collapsed": false
   },
   "outputs": [
    {
     "name": "stdout",
     "output_type": "stream",
     "text": [
      "0.9519\n"
     ]
    }
   ],
   "source": [
    "# get the accuracy of testing dataset\n",
    "clf_rsvm_test_score = clf_rsvm.score(test_image, test_label)\n",
    "print(clf_rsvm_test_score)"
   ]
  },
  {
   "cell_type": "markdown",
   "metadata": {},
   "source": [
    "### Basic classifier comparison"
   ]
  },
  {
   "cell_type": "code",
   "execution_count": 22,
   "metadata": {
    "collapsed": false
   },
   "outputs": [
    {
     "data": {
      "text/html": [
       "<div>\n",
       "<style>\n",
       "    .dataframe thead tr:only-child th {\n",
       "        text-align: right;\n",
       "    }\n",
       "\n",
       "    .dataframe thead th {\n",
       "        text-align: left;\n",
       "    }\n",
       "\n",
       "    .dataframe tbody tr th {\n",
       "        vertical-align: top;\n",
       "    }\n",
       "</style>\n",
       "<table border=\"1\" class=\"dataframe\">\n",
       "  <thead>\n",
       "    <tr style=\"text-align: right;\">\n",
       "      <th></th>\n",
       "      <th>Classifier</th>\n",
       "      <th>Processing Time</th>\n",
       "      <th>Testing Accuracy</th>\n",
       "      <th>Training Accuracy</th>\n",
       "    </tr>\n",
       "  </thead>\n",
       "  <tbody>\n",
       "    <tr>\n",
       "      <th>0</th>\n",
       "      <td>Perceptron</td>\n",
       "      <td>3.891455</td>\n",
       "      <td>0.8747</td>\n",
       "      <td>0.883883</td>\n",
       "    </tr>\n",
       "    <tr>\n",
       "      <th>1</th>\n",
       "      <td>Logistic Regression</td>\n",
       "      <td>122.939647</td>\n",
       "      <td>0.8958</td>\n",
       "      <td>0.910450</td>\n",
       "    </tr>\n",
       "    <tr>\n",
       "      <th>2</th>\n",
       "      <td>Linear SVM</td>\n",
       "      <td>105.615162</td>\n",
       "      <td>0.8821</td>\n",
       "      <td>0.894217</td>\n",
       "    </tr>\n",
       "    <tr>\n",
       "      <th>3</th>\n",
       "      <td>Radial SVM</td>\n",
       "      <td>109.954286</td>\n",
       "      <td>0.9519</td>\n",
       "      <td>0.960417</td>\n",
       "    </tr>\n",
       "  </tbody>\n",
       "</table>\n",
       "</div>"
      ],
      "text/plain": [
       "            Classifier  Processing Time  Testing Accuracy  Training Accuracy\n",
       "0           Perceptron         3.891455            0.8747           0.883883\n",
       "1  Logistic Regression       122.939647            0.8958           0.910450\n",
       "2           Linear SVM       105.615162            0.8821           0.894217\n",
       "3           Radial SVM       109.954286            0.9519           0.960417"
      ]
     },
     "execution_count": 22,
     "metadata": {},
     "output_type": "execute_result"
    }
   ],
   "source": [
    "# create a dataframe to display comparison\n",
    "d = {'Classifier': ['Perceptron', 'Logistic Regression', 'Linear SVM', 'Radial SVM'],\n",
    "    'Training Accuracy': [clf_p_train_score, clf_logit_train_score, clf_lsvm_train_score, clf_rsvm_train_score],\n",
    "    'Testing Accuracy': [clf_p_test_score, clf_logit_test_score, clf_lsvm_test_score, clf_rsvm_test_score],\n",
    "    'Processing Time': [clf_p_time, clf_logit_time, clf_lsvm_time, clf_rsvm_time]}\n",
    "df_clf_basic = pd.DataFrame(data = d)\n",
    "df_clf_basic"
   ]
  },
  {
   "cell_type": "markdown",
   "metadata": {},
   "source": [
    "Based on the accuracy score, the radial SVM model has the best predicting ability for both training and testing data. "
   ]
  },
  {
   "cell_type": "markdown",
   "metadata": {},
   "source": [
    "## Tuned classification models"
   ]
  },
  {
   "cell_type": "code",
   "execution_count": null,
   "metadata": {
    "collapsed": true
   },
   "outputs": [],
   "source": []
  },
  {
   "cell_type": "code",
   "execution_count": null,
   "metadata": {
    "collapsed": true
   },
   "outputs": [],
   "source": []
  },
  {
   "cell_type": "code",
   "execution_count": null,
   "metadata": {
    "collapsed": true
   },
   "outputs": [],
   "source": []
  },
  {
   "cell_type": "code",
   "execution_count": null,
   "metadata": {
    "collapsed": true
   },
   "outputs": [],
   "source": []
  },
  {
   "cell_type": "code",
   "execution_count": null,
   "metadata": {
    "collapsed": true
   },
   "outputs": [],
   "source": []
  },
  {
   "cell_type": "code",
   "execution_count": null,
   "metadata": {
    "collapsed": true
   },
   "outputs": [],
   "source": []
  }
 ],
 "metadata": {
  "kernelspec": {
   "display_name": "Python 3",
   "language": "python",
   "name": "python3"
  },
  "language_info": {
   "codemirror_mode": {
    "name": "ipython",
    "version": 3
   },
   "file_extension": ".py",
   "mimetype": "text/x-python",
   "name": "python",
   "nbconvert_exporter": "python",
   "pygments_lexer": "ipython3",
   "version": "3.6.0"
  }
 },
 "nbformat": 4,
 "nbformat_minor": 2
}
