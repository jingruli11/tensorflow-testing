{
 "cells": [
  {
   "cell_type": "markdown",
   "metadata": {},
   "source": [
    "# Machine Learning Homework 3"
   ]
  },
  {
   "cell_type": "markdown",
   "metadata": {},
   "source": [
    "Michael Li\n",
    "\n",
    "Nov 12, 2017\n",
    "\n",
    "Abstract:\n",
    "\n",
    "- Apply classification algorithms on MNIST dataset and compare results.\n",
    "- Tune classification models to find the best predicting accuracy."
   ]
  },
  {
   "cell_type": "markdown",
   "metadata": {},
   "source": [
    "## Environment setup"
   ]
  },
  {
   "cell_type": "code",
   "execution_count": 1,
   "metadata": {
    "collapsed": true
   },
   "outputs": [],
   "source": [
    "# import relevant libraries\n",
    "import pandas as pd\n",
    "import numpy as np\n",
    "import matplotlib.pyplot as plt\n",
    "import seaborn as sns\n",
    "import tensorflow as tf\n",
    "from tensorflow.examples.tutorials.mnist import input_data\n",
    "import sklearn\n",
    "import timeit\n",
    "import datetime\n",
    "# Suppress warnings\n",
    "import warnings\n",
    "warnings.simplefilter('ignore')"
   ]
  },
  {
   "cell_type": "markdown",
   "metadata": {
    "collapsed": true
   },
   "source": [
    "## Load and cleanse dataset "
   ]
  },
  {
   "cell_type": "code",
   "execution_count": 2,
   "metadata": {
    "collapsed": false
   },
   "outputs": [
    {
     "name": "stdout",
     "output_type": "stream",
     "text": [
      "Extracting ./train-images-idx3-ubyte.gz\n",
      "Extracting ./train-labels-idx1-ubyte.gz\n",
      "Extracting ./t10k-images-idx3-ubyte.gz\n",
      "Extracting ./t10k-labels-idx1-ubyte.gz\n"
     ]
    }
   ],
   "source": [
    "# load dataset\n",
    "mnisttt = input_data.read_data_sets(\".\", one_hot=False)"
   ]
  },
  {
   "cell_type": "code",
   "execution_count": 3,
   "metadata": {
    "collapsed": true
   },
   "outputs": [],
   "source": [
    "# define function to plot images\n",
    "def image_plot(image, size):\n",
    "    idxs = np.random.randint(len(image), size=size)\n",
    "    plt.clf()\n",
    "    f, axarr = plt.subplots(1, size, figsize = (20,20))\n",
    "    for i in range(0,len(idxs)):\n",
    "        X = mnisttt.train.images[idxs[i]]\n",
    "        X = X.reshape([28, 28])\n",
    "        axarr[i].imshow(X)\n",
    "        axarr[i].set_axis_off()\n",
    "    plt.show()"
   ]
  },
  {
   "cell_type": "code",
   "execution_count": 4,
   "metadata": {
    "collapsed": false
   },
   "outputs": [
    {
     "data": {
      "text/plain": [
       "<matplotlib.figure.Figure at 0x1205a2710>"
      ]
     },
     "metadata": {},
     "output_type": "display_data"
    },
    {
     "data": {
      "image/png": "[encoded data removed]",
      "text/plain": [
       "<matplotlib.figure.Figure at 0x1205a2b00>"
      ]
     },
     "metadata": {},
     "output_type": "display_data"
    }
   ],
   "source": [
    "# plot 20 random images\n",
    "image_plot(mnisttt.train.images, 20)"
   ]
  },
  {
   "cell_type": "code",
   "execution_count": 5,
   "metadata": {
    "collapsed": false
   },
   "outputs": [
    {
     "name": "stdout",
     "output_type": "stream",
     "text": [
      "The size of training image dataset is:  (55000, 784)\n",
      "The size of training label dataset is:  (55000,)\n",
      "The size of validation image dataset is:  (5000, 784)\n",
      "The size of validation label dataset is:  (5000,)\n",
      "The size of testing image dataset is:  (10000, 784)\n",
      "The size of testing label dataset is:  (10000,)\n"
     ]
    }
   ],
   "source": [
    "# print dataset size\n",
    "print('The size of training image dataset is: ', mnisttt.train.images.shape)\n",
    "print('The size of training label dataset is: ', mnisttt.train.labels.shape)\n",
    "print('The size of validation image dataset is: ', mnisttt.validation.images.shape)\n",
    "print('The size of validation label dataset is: ', mnisttt.validation.labels.shape)\n",
    "print('The size of testing image dataset is: ', mnisttt.test.images.shape)\n",
    "print('The size of testing label dataset is: ', mnisttt.test.labels.shape)"
   ]
  },
  {
   "cell_type": "markdown",
   "metadata": {},
   "source": [
    "Since the requirement is to run classification algorithms on training data (60,000) and testing data (10,000) respectively, the training and validation datasets should be concatenated as one."
   ]
  },
  {
   "cell_type": "code",
   "execution_count": 6,
   "metadata": {
    "collapsed": false
   },
   "outputs": [],
   "source": [
    "# concatenate training and validation data\n",
    "train_image = np.append(mnisttt.train.images,mnisttt.validation.images, axis = 0) \n",
    "train_label = np.append(mnisttt.train.labels,mnisttt.validation.labels, axis = 0) \n",
    "\n",
    "# copy test labels to a new numpy array\n",
    "test_label = mnisttt.test.labels"
   ]
  },
  {
   "cell_type": "code",
   "execution_count": 7,
   "metadata": {
    "collapsed": false
   },
   "outputs": [
    {
     "name": "stdout",
     "output_type": "stream",
     "text": [
      "The size of training image dataset is:  (60000, 784)\n",
      "The size of training label dataset is:  (60000,)\n"
     ]
    }
   ],
   "source": [
    "# print the size of training image and label dataset\n",
    "print('The size of training image dataset is: ', train_image.shape)\n",
    "print('The size of training label dataset is: ', train_label.shape)"
   ]
  },
  {
   "cell_type": "code",
   "execution_count": 8,
   "metadata": {
    "collapsed": false
   },
   "outputs": [],
   "source": [
    "# Normalize training and testing data\n",
    "from sklearn.preprocessing import scale\n",
    "train_image = scale(train_image)\n",
    "test_image = scale(mnisttt.test.images)"
   ]
  },
  {
   "cell_type": "markdown",
   "metadata": {},
   "source": [
    "## Basic classification models "
   ]
  },
  {
   "cell_type": "markdown",
   "metadata": {},
   "source": [
    "### Classifier 1: Perceptron"
   ]
  },
  {
   "cell_type": "code",
   "execution_count": 9,
   "metadata": {
    "collapsed": true
   },
   "outputs": [],
   "source": [
    "# Randomly sample a smaller dataset\n",
    "from sklearn.utils import resample\n",
    "train_image_sample = resample(train_image, n_samples = 10000, random_state = 0)\n",
    "train_label_sample = resample(train_label, n_samples = 10000, random_state = 0)"
   ]
  },
  {
   "cell_type": "code",
   "execution_count": 10,
   "metadata": {
    "collapsed": false
   },
   "outputs": [
    {
     "name": "stdout",
     "output_type": "stream",
     "text": [
      "Running time: 0.713s\n"
     ]
    }
   ],
   "source": [
    "# fit perceptron with training dataset\n",
    "start = timeit.default_timer()\n",
    "\n",
    "from sklearn.linear_model import Perceptron\n",
    "clf_p = Perceptron()\n",
    "clf_p.fit(train_image_sample, train_label_sample)\n",
    "\n",
    "stop = timeit.default_timer()\n",
    "clf_p_time = stop - start\n",
    "print('Running time: %.3fs' % (stop - start))"
   ]
  },
  {
   "cell_type": "code",
   "execution_count": 11,
   "metadata": {
    "collapsed": false
   },
   "outputs": [
    {
     "name": "stdout",
     "output_type": "stream",
     "text": [
      "0.84695\n"
     ]
    }
   ],
   "source": [
    "# get the accuracy of training dataset\n",
    "clf_p_train_score = clf_p.score(train_image, train_label)\n",
    "print(clf_p_train_score)"
   ]
  },
  {
   "cell_type": "code",
   "execution_count": 12,
   "metadata": {
    "collapsed": false
   },
   "outputs": [
    {
     "name": "stdout",
     "output_type": "stream",
     "text": [
      "0.8487\n"
     ]
    }
   ],
   "source": [
    "# get the accuracy of test dataset\n",
    "clf_p_test_score = clf_p.score(test_image, test_label)\n",
    "print(clf_p_test_score)"
   ]
  },
  {
   "cell_type": "markdown",
   "metadata": {},
   "source": [
    "### Classifier 2: Logistic Regression"
   ]
  },
  {
   "cell_type": "code",
   "execution_count": 13,
   "metadata": {
    "collapsed": false
   },
   "outputs": [
    {
     "name": "stdout",
     "output_type": "stream",
     "text": [
      "Running time: 48.385\n"
     ]
    }
   ],
   "source": [
    "# fit logistic regression with training sample dataset\n",
    "start = timeit.default_timer()\n",
    "\n",
    "from sklearn.linear_model import LogisticRegression\n",
    "clf_logit = LogisticRegression(penalty = 'l2', C = 1, solver ='newton-cg')\n",
    "clf_logit.fit(train_image_sample, train_label_sample)\n",
    "\n",
    "stop = timeit.default_timer()\n",
    "clf_logit_time = stop - start\n",
    "print('Running time: %.3f' % (stop - start))"
   ]
  },
  {
   "cell_type": "code",
   "execution_count": 14,
   "metadata": {
    "collapsed": false
   },
   "outputs": [
    {
     "name": "stdout",
     "output_type": "stream",
     "text": [
      "0.89585\n"
     ]
    }
   ],
   "source": [
    "# get the accuracy of training sample\n",
    "clf_logit_train_score = clf_logit.score(train_image, train_label)\n",
    "print(clf_logit_train_score)"
   ]
  },
  {
   "cell_type": "code",
   "execution_count": 15,
   "metadata": {
    "collapsed": false
   },
   "outputs": [
    {
     "name": "stdout",
     "output_type": "stream",
     "text": [
      "0.8895\n"
     ]
    }
   ],
   "source": [
    "# get the accuracy of testing dataset\n",
    "clf_logit_test_score = clf_logit.score(test_image, test_label)\n",
    "print(clf_logit_test_score)"
   ]
  },
  {
   "cell_type": "markdown",
   "metadata": {},
   "source": [
    "### Classifier 3: Linear SVM "
   ]
  },
  {
   "cell_type": "code",
   "execution_count": 16,
   "metadata": {
    "collapsed": false
   },
   "outputs": [
    {
     "name": "stdout",
     "output_type": "stream",
     "text": [
      "Running time: 33.066\n"
     ]
    }
   ],
   "source": [
    "# fit linear svm with training sample dataset\n",
    "start = timeit.default_timer()\n",
    "\n",
    "from sklearn.svm import LinearSVC\n",
    "clf_lsvm = LinearSVC(penalty = 'l2', C = 1.0, multi_class = 'ovr')\n",
    "clf_lsvm.fit(train_image_sample, train_label_sample)\n",
    "\n",
    "stop = timeit.default_timer()\n",
    "clf_lsvm_time = stop - start\n",
    "print('Running time: %.3f' % (stop - start))"
   ]
  },
  {
   "cell_type": "code",
   "execution_count": 17,
   "metadata": {
    "collapsed": false
   },
   "outputs": [
    {
     "name": "stdout",
     "output_type": "stream",
     "text": [
      "0.871166666667\n"
     ]
    }
   ],
   "source": [
    "# get the accuracy of training dataset\n",
    "clf_lsvm_train_score = clf_lsvm.score(train_image, train_label)\n",
    "print(clf_lsvm_train_score)"
   ]
  },
  {
   "cell_type": "code",
   "execution_count": 18,
   "metadata": {
    "collapsed": false
   },
   "outputs": [
    {
     "name": "stdout",
     "output_type": "stream",
     "text": [
      "0.8591\n"
     ]
    }
   ],
   "source": [
    "# get the accuracy of testing dataset\n",
    "clf_lsvm_test_score = clf_lsvm.score(test_image, test_label)\n",
    "print(clf_lsvm_test_score)"
   ]
  },
  {
   "cell_type": "markdown",
   "metadata": {},
   "source": [
    "### Classifier 4: Radial SVM"
   ]
  },
  {
   "cell_type": "code",
   "execution_count": 19,
   "metadata": {
    "collapsed": false
   },
   "outputs": [
    {
     "name": "stdout",
     "output_type": "stream",
     "text": [
      "Running time: 36.720\n"
     ]
    }
   ],
   "source": [
    "# fit radial SVM with training sample dataset\n",
    "start = timeit.default_timer()\n",
    "\n",
    "from sklearn.svm import SVC\n",
    "clf_rsvm = SVC(C = 1.0, kernel = 'rbf', degree = 3, gamma = 'auto')\n",
    "clf_rsvm.fit(train_image_sample, train_label_sample)\n",
    "\n",
    "stop = timeit.default_timer()\n",
    "clf_rsvm_time = stop - start\n",
    "print('Running time: %.3f' % (stop - start))"
   ]
  },
  {
   "cell_type": "code",
   "execution_count": 20,
   "metadata": {
    "collapsed": false
   },
   "outputs": [
    {
     "name": "stdout",
     "output_type": "stream",
     "text": [
      "0.945666666667\n"
     ]
    }
   ],
   "source": [
    "# get the accuracy of training dataset\n",
    "clf_rsvm_train_score = clf_rsvm.score(train_image, train_label)\n",
    "print(clf_rsvm_train_score)"
   ]
  },
  {
   "cell_type": "code",
   "execution_count": 21,
   "metadata": {
    "collapsed": false
   },
   "outputs": [
    {
     "name": "stdout",
     "output_type": "stream",
     "text": [
      "0.9398\n"
     ]
    }
   ],
   "source": [
    "# get the accuracy of testing dataset\n",
    "clf_rsvm_test_score = clf_rsvm.score(test_image, test_label)\n",
    "print(clf_rsvm_test_score)"
   ]
  },
  {
   "cell_type": "markdown",
   "metadata": {},
   "source": [
    "### Basic classifier comparison"
   ]
  },
  {
   "cell_type": "code",
   "execution_count": 22,
   "metadata": {
    "collapsed": false
   },
   "outputs": [
    {
     "data": {
      "text/html": [
       "<div>\n",
       "<style>\n",
       "    .dataframe thead tr:only-child th {\n",
       "        text-align: right;\n",
       "    }\n",
       "\n",
       "    .dataframe thead th {\n",
       "        text-align: left;\n",
       "    }\n",
       "\n",
       "    .dataframe tbody tr th {\n",
       "        vertical-align: top;\n",
       "    }\n",
       "</style>\n",
       "<table border=\"1\" class=\"dataframe\">\n",
       "  <thead>\n",
       "    <tr style=\"text-align: right;\">\n",
       "      <th></th>\n",
       "      <th>Classifier</th>\n",
       "      <th>Processing Time</th>\n",
       "      <th>Testing Accuracy</th>\n",
       "      <th>Training Accuracy</th>\n",
       "    </tr>\n",
       "  </thead>\n",
       "  <tbody>\n",
       "    <tr>\n",
       "      <th>0</th>\n",
       "      <td>Perceptron</td>\n",
       "      <td>0.712973</td>\n",
       "      <td>0.8487</td>\n",
       "      <td>0.846950</td>\n",
       "    </tr>\n",
       "    <tr>\n",
       "      <th>1</th>\n",
       "      <td>Logistic Regression</td>\n",
       "      <td>48.385472</td>\n",
       "      <td>0.8895</td>\n",
       "      <td>0.895850</td>\n",
       "    </tr>\n",
       "    <tr>\n",
       "      <th>2</th>\n",
       "      <td>Linear SVM</td>\n",
       "      <td>33.065627</td>\n",
       "      <td>0.8591</td>\n",
       "      <td>0.871167</td>\n",
       "    </tr>\n",
       "    <tr>\n",
       "      <th>3</th>\n",
       "      <td>Radial SVM</td>\n",
       "      <td>36.719988</td>\n",
       "      <td>0.9398</td>\n",
       "      <td>0.945667</td>\n",
       "    </tr>\n",
       "  </tbody>\n",
       "</table>\n",
       "</div>"
      ],
      "text/plain": [
       "            Classifier  Processing Time  Testing Accuracy  Training Accuracy\n",
       "0           Perceptron         0.712973            0.8487           0.846950\n",
       "1  Logistic Regression        48.385472            0.8895           0.895850\n",
       "2           Linear SVM        33.065627            0.8591           0.871167\n",
       "3           Radial SVM        36.719988            0.9398           0.945667"
      ]
     },
     "execution_count": 22,
     "metadata": {},
     "output_type": "execute_result"
    }
   ],
   "source": [
    "# create a dataframe to display comparison\n",
    "d = {'Classifier': ['Perceptron', 'Logistic Regression', 'Linear SVM', 'Radial SVM'],\n",
    "    'Training Accuracy': [clf_p_train_score, clf_logit_train_score, clf_lsvm_train_score, clf_rsvm_train_score],\n",
    "    'Testing Accuracy': [clf_p_test_score, clf_logit_test_score, clf_lsvm_test_score, clf_rsvm_test_score],\n",
    "    'Processing Time': [clf_p_time, clf_logit_time, clf_lsvm_time, clf_rsvm_time]}\n",
    "df_clf_basic = pd.DataFrame(data = d)\n",
    "df_clf_basic"
   ]
  },
  {
   "cell_type": "markdown",
   "metadata": {},
   "source": [
    "Based on the accuracy score, the radial SVM model has the best predicting ability for both training and testing data. "
   ]
  },
  {
   "cell_type": "markdown",
   "metadata": {},
   "source": [
    "## Tuned classification models"
   ]
  },
  {
   "cell_type": "markdown",
   "metadata": {},
   "source": [
    "### Tuned Perceptron"
   ]
  },
  {
   "cell_type": "markdown",
   "metadata": {},
   "source": [
    "To try different parameters and compare the accuracy, there are two methods:\n",
    "\n",
    "1. **GridsearchCV method in Scikit-learn.**\n",
    "    - This method takes in different parameters, which satisfies the requirement. But it also uses cross validation, which is not required and must use great computing power. Considering the limitation of computing power of this local machine, this method will not be used. \n",
    "    \n",
    "2. **Customized function to try different parameters.**\n",
    "    - This method also takes in different parameters and fit the models in turn. It does not compute using cross validation, and hence would not require great computing power. Thus this method is prefered."
   ]
  },
  {
   "cell_type": "code",
   "execution_count": 23,
   "metadata": {
    "collapsed": false
   },
   "outputs": [
    {
     "name": "stdout",
     "output_type": "stream",
     "text": [
      "Running time: 55.409\n"
     ]
    }
   ],
   "source": [
    "# try different parameters and tune Perceptron\n",
    "\n",
    "start = timeit.default_timer()\n",
    "\n",
    "param_p = [1, 5, 10, 15, 20, 25, 50, 75, 100, 150]\n",
    "train_scores_p = []\n",
    "test_scores_p = []\n",
    "for i in param_p:\n",
    "    clf_temp = Perceptron(n_iter = i)\n",
    "    clf_temp.fit(train_image_sample, train_label_sample)\n",
    "    temp_train_score = clf_temp.score(train_image, train_label)\n",
    "    temp_test_score = clf_temp.score(test_image, test_label)\n",
    "    train_scores_p.append(temp_train_score)\n",
    "    test_scores_p.append(temp_test_score)\n",
    "\n",
    "stop = timeit.default_timer()\n",
    "clf_tune_p_time = stop - start\n",
    "print('Running time: %.3f' % (stop - start))"
   ]
  },
  {
   "cell_type": "code",
   "execution_count": 24,
   "metadata": {
    "collapsed": false
   },
   "outputs": [],
   "source": [
    "# create a dataframe to display comparison\n",
    "d_tune_p = {'n_iter': param_p,\n",
    "            'Training Accuracy': train_scores_p,\n",
    "            'Testing Accuracy': test_scores_p}\n",
    "df_tune_p = pd.DataFrame(data = d_tune_p)\n",
    "df_tune_p.set_index('n_iter', inplace = True)"
   ]
  },
  {
   "cell_type": "code",
   "execution_count": 25,
   "metadata": {
    "collapsed": false
   },
   "outputs": [
    {
     "data": {
      "image/png": "[encoded data removed]",
      "text/plain": [
       "<matplotlib.figure.Figure at 0x141b428d0>"
      ]
     },
     "metadata": {},
     "output_type": "display_data"
    }
   ],
   "source": [
    "# display the result\n",
    "plt.clf()\n",
    "\n",
    "fig_p = sns.heatmap(df_tune_p, annot=True, fmt='f')\n",
    "plt.subplots_adjust(top=0.9)\n",
    "fig_p.set_title('Perceptron Accuracy Heatmap')\n",
    "\n",
    "plt.show()"
   ]
  },
  {
   "cell_type": "markdown",
   "metadata": {
    "collapsed": true
   },
   "source": [
    "The best Perceptron model:\n",
    "\n",
    "- training\n",
    "    - n_iter = 150\n",
    "    - accuracy = 0.87550\n",
    "- testing \n",
    "    - n_iter = 75\n",
    "    - accuracy = 0.88525"
   ]
  },
  {
   "cell_type": "markdown",
   "metadata": {
    "collapsed": true
   },
   "source": [
    "### Tuned Logistic Regression"
   ]
  },
  {
   "cell_type": "code",
   "execution_count": 26,
   "metadata": {
    "collapsed": false
   },
   "outputs": [
    {
     "name": "stdout",
     "output_type": "stream",
     "text": [
      "Running time: 85.969\n"
     ]
    }
   ],
   "source": [
    "# try different parameters and tune Logistic Regression\n",
    "\n",
    "start = timeit.default_timer()\n",
    "\n",
    "param_logit = [0.0001, 0.01, 0.1, 0.5, 1, 5, 10, 50, 100]\n",
    "train_scores_logit = []\n",
    "test_scores_logit = []\n",
    "\n",
    "# Due to limited computing power, the parameters will be tested in sub-for-loops\n",
    "for i in param_logit[:3]:\n",
    "    clf_temp = LogisticRegression(penalty = 'l2', C = i, solver ='newton-cg')\n",
    "    clf_temp.fit(train_image_sample, train_label_sample)\n",
    "    temp_train_score = clf_temp.score(train_image, train_label)\n",
    "    temp_test_score = clf_temp.score(test_image, test_label)\n",
    "    train_scores_logit.append(temp_train_score)\n",
    "    test_scores_logit.append(temp_test_score)\n",
    "\n",
    "stop = timeit.default_timer()\n",
    "clf_tune_logit_time = stop - start\n",
    "print('Running time: %.3f' % (stop - start))"
   ]
  },
  {
   "cell_type": "code",
   "execution_count": 27,
   "metadata": {
    "collapsed": false
   },
   "outputs": [
    {
     "name": "stdout",
     "output_type": "stream",
     "text": [
      "Running time: 87.205\n"
     ]
    }
   ],
   "source": [
    "# Due to limited computing power, the parameters will be tested in sub-for-loops\n",
    "start = timeit.default_timer()\n",
    "\n",
    "for i in param_logit[3:5]:\n",
    "    clf_temp = LogisticRegression(penalty = 'l2', C = i, solver ='newton-cg')\n",
    "    clf_temp.fit(train_image_sample, train_label_sample)\n",
    "    temp_train_score = clf_temp.score(train_image, train_label)\n",
    "    temp_test_score = clf_temp.score(test_image, test_label)\n",
    "    train_scores_logit.append(temp_train_score)\n",
    "    test_scores_logit.append(temp_test_score)\n",
    "\n",
    "stop = timeit.default_timer()\n",
    "clf_tune_logit_time = stop - start\n",
    "print('Running time: %.3f' % (stop - start))"
   ]
  },
  {
   "cell_type": "code",
   "execution_count": 28,
   "metadata": {
    "collapsed": false
   },
   "outputs": [
    {
     "name": "stdout",
     "output_type": "stream",
     "text": [
      "Running time: 157.823\n"
     ]
    }
   ],
   "source": [
    "# Due to limited computing power, the parameters will be tested in sub-for-loops\n",
    "start = timeit.default_timer()\n",
    "\n",
    "for i in param_logit[5:7]:\n",
    "    clf_temp = LogisticRegression(penalty = 'l2', C = i, solver ='newton-cg')\n",
    "    clf_temp.fit(train_image_sample, train_label_sample)\n",
    "    temp_train_score = clf_temp.score(train_image, train_label)\n",
    "    temp_test_score = clf_temp.score(test_image, test_label)\n",
    "    train_scores_logit.append(temp_train_score)\n",
    "    test_scores_logit.append(temp_test_score)\n",
    "\n",
    "stop = timeit.default_timer()\n",
    "clf_tune_logit_time = stop - start\n",
    "print('Running time: %.3f' % (stop - start))"
   ]
  },
  {
   "cell_type": "code",
   "execution_count": 29,
   "metadata": {
    "collapsed": false
   },
   "outputs": [
    {
     "name": "stdout",
     "output_type": "stream",
     "text": [
      "Running time: 346.007\n"
     ]
    }
   ],
   "source": [
    "# Due to limited computing power, the parameters will be tested in sub-for-loops\n",
    "start = timeit.default_timer()\n",
    "\n",
    "for i in param_logit[7:]:\n",
    "    clf_temp = LogisticRegression(penalty = 'l2', C = i, solver ='newton-cg')\n",
    "    clf_temp.fit(train_image_sample, train_label_sample)\n",
    "    temp_train_score = clf_temp.score(train_image, train_label)\n",
    "    temp_test_score = clf_temp.score(test_image, test_label)\n",
    "    train_scores_logit.append(temp_train_score)\n",
    "    test_scores_logit.append(temp_test_score)\n",
    "\n",
    "stop = timeit.default_timer()\n",
    "clf_tune_logit_time = stop - start\n",
    "print('Running time: %.3f' % (stop - start))"
   ]
  },
  {
   "cell_type": "code",
   "execution_count": 30,
   "metadata": {
    "collapsed": false
   },
   "outputs": [
    {
     "data": {
      "text/plain": [
       "[0.85670000000000002,\n",
       " 0.90759999999999996,\n",
       " 0.90300000000000002,\n",
       " 0.89359999999999995,\n",
       " 0.88949999999999996,\n",
       " 0.87809999999999999,\n",
       " 0.87290000000000001,\n",
       " 0.86539999999999995,\n",
       " 0.86250000000000004]"
      ]
     },
     "execution_count": 30,
     "metadata": {},
     "output_type": "execute_result"
    }
   ],
   "source": [
    "test_scores_logit"
   ]
  },
  {
   "cell_type": "code",
   "execution_count": 31,
   "metadata": {
    "collapsed": false
   },
   "outputs": [],
   "source": [
    "# create a dataframe to display comparison\n",
    "d_tune_logit = {'C': param_logit,\n",
    "            'Training Accuracy': train_scores_logit,\n",
    "            'Testing Accuracy': test_scores_logit}\n",
    "df_tune_logit = pd.DataFrame(data = d_tune_logit)\n",
    "df_tune_logit.set_index('C', inplace = True)"
   ]
  },
  {
   "cell_type": "code",
   "execution_count": 32,
   "metadata": {
    "collapsed": false
   },
   "outputs": [
    {
     "data": {
      "image/png": "[encoded data removed]",
      "text/plain": [
       "<matplotlib.figure.Figure at 0x141bf89b0>"
      ]
     },
     "metadata": {},
     "output_type": "display_data"
    }
   ],
   "source": [
    "# display the result\n",
    "plt.clf()\n",
    "\n",
    "fig_logit = sns.heatmap(df_tune_logit, annot=True, fmt='f')\n",
    "plt.subplots_adjust(top=0.9)\n",
    "fig_logit.set_title('Logistic Regression Accuracy Heatmap')\n",
    "\n",
    "plt.show()"
   ]
  },
  {
   "cell_type": "markdown",
   "metadata": {},
   "source": [
    "The best Logistic Regression model:\n",
    "\n",
    "- training\n",
    "    - C = 0.01\n",
    "    - accuracy = 0.907217\n",
    "- testing \n",
    "    - C = 0.01\n",
    "    - accuracy = 0.907600"
   ]
  },
  {
   "cell_type": "markdown",
   "metadata": {},
   "source": [
    "### Tuned Linear SVM"
   ]
  },
  {
   "cell_type": "code",
   "execution_count": 34,
   "metadata": {
    "collapsed": false
   },
   "outputs": [
    {
     "name": "stdout",
     "output_type": "stream",
     "text": [
      "Running time: 84.938\n"
     ]
    }
   ],
   "source": [
    "# try different parameters and tune Linear SVM\n",
    "\n",
    "start = timeit.default_timer()\n",
    "\n",
    "param_lsvm = [0.0001, 0.01, 0.1, 0.5, 1, 5, 10, 50, 100]\n",
    "train_scores_lsvm = []\n",
    "test_scores_lsvm = []\n",
    "# Due to limited computing power, the parameters will be tested in sub-for-loops\n",
    "for i in param_lsvm[:3]:\n",
    "    clf_temp = LinearSVC(penalty = 'l2', C = i, multi_class = 'ovr')\n",
    "    clf_temp.fit(train_image_sample, train_label_sample)\n",
    "    temp_train_score = clf_temp.score(train_image, train_label)\n",
    "    temp_test_score = clf_temp.score(test_image, test_label)\n",
    "    train_scores_lsvm.append(temp_train_score)\n",
    "    test_scores_lsvm.append(temp_test_score)\n",
    "\n",
    "stop = timeit.default_timer()\n",
    "clf_tune_lsvm_time = stop - start\n",
    "print('Running time: %.3f' % (stop - start))"
   ]
  },
  {
   "cell_type": "code",
   "execution_count": 35,
   "metadata": {
    "collapsed": false
   },
   "outputs": [
    {
     "name": "stdout",
     "output_type": "stream",
     "text": [
      "Running time: 70.423\n"
     ]
    }
   ],
   "source": [
    "# Due to limited computing power, the parameters will be tested in sub-for-loops\n",
    "start = timeit.default_timer()\n",
    "for i in param_lsvm[3:5]:\n",
    "    clf_temp = LinearSVC(penalty = 'l2', C = i, multi_class = 'ovr')\n",
    "    clf_temp.fit(train_image_sample, train_label_sample)\n",
    "    temp_train_score = clf_temp.score(train_image, train_label)\n",
    "    temp_test_score = clf_temp.score(test_image, test_label)\n",
    "    train_scores_lsvm.append(temp_train_score)\n",
    "    test_scores_lsvm.append(temp_test_score)\n",
    "\n",
    "stop = timeit.default_timer()\n",
    "clf_tune_lsvm_time = stop - start\n",
    "print('Running time: %.3f' % (stop - start))"
   ]
  },
  {
   "cell_type": "code",
   "execution_count": 36,
   "metadata": {
    "collapsed": false
   },
   "outputs": [
    {
     "name": "stdout",
     "output_type": "stream",
     "text": [
      "Running time: 77.800\n"
     ]
    }
   ],
   "source": [
    "# Due to limited computing power, the parameters will be tested in sub-for-loops\n",
    "start = timeit.default_timer()\n",
    "for i in param_lsvm[5:7]:\n",
    "    clf_temp = LinearSVC(penalty = 'l2', C = i, multi_class = 'ovr')\n",
    "    clf_temp.fit(train_image_sample, train_label_sample)\n",
    "    temp_train_score = clf_temp.score(train_image, train_label)\n",
    "    temp_test_score = clf_temp.score(test_image, test_label)\n",
    "    train_scores_lsvm.append(temp_train_score)\n",
    "    test_scores_lsvm.append(temp_test_score)\n",
    "\n",
    "stop = timeit.default_timer()\n",
    "clf_tune_lsvm_time = stop - start\n",
    "print('Running time: %.3f' % (stop - start))"
   ]
  },
  {
   "cell_type": "code",
   "execution_count": 37,
   "metadata": {
    "collapsed": false
   },
   "outputs": [
    {
     "name": "stdout",
     "output_type": "stream",
     "text": [
      "Running time: 76.632\n"
     ]
    }
   ],
   "source": [
    "# Due to limited computing power, the parameters will be tested in sub-for-loops\n",
    "start = timeit.default_timer()\n",
    "for i in param_lsvm[7:]:\n",
    "    clf_temp = LinearSVC(penalty = 'l2', C = i, multi_class = 'ovr')\n",
    "    clf_temp.fit(train_image_sample, train_label_sample)\n",
    "    temp_train_score = clf_temp.score(train_image, train_label)\n",
    "    temp_test_score = clf_temp.score(test_image, test_label)\n",
    "    train_scores_lsvm.append(temp_train_score)\n",
    "    test_scores_lsvm.append(temp_test_score)\n",
    "\n",
    "stop = timeit.default_timer()\n",
    "clf_tune_lsvm_time = stop - start\n",
    "print('Running time: %.3f' % (stop - start))"
   ]
  },
  {
   "cell_type": "code",
   "execution_count": 38,
   "metadata": {
    "collapsed": true
   },
   "outputs": [],
   "source": [
    "# create a dataframe to display comparison\n",
    "d_tune_lsvm = {'C': param_lsvm,\n",
    "            'Training Accuracy': train_scores_lsvm,\n",
    "            'Testing Accuracy': test_scores_lsvm}\n",
    "df_tune_lsvm = pd.DataFrame(data = d_tune_lsvm)\n",
    "df_tune_lsvm.set_index('C', inplace = True)"
   ]
  },
  {
   "cell_type": "code",
   "execution_count": 39,
   "metadata": {
    "collapsed": false
   },
   "outputs": [
    {
     "data": {
      "image/png": "[encoded data removed]",
      "text/plain": [
       "<matplotlib.figure.Figure at 0x141d52cf8>"
      ]
     },
     "metadata": {},
     "output_type": "display_data"
    }
   ],
   "source": [
    "# display the result\n",
    "plt.clf()\n",
    "\n",
    "fig_lsvm = sns.heatmap(df_tune_lsvm, annot=True, fmt='f')\n",
    "plt.subplots_adjust(top=0.9)\n",
    "fig_lsvm.set_title('Linear SVM Accuracy Heatmap')\n",
    "\n",
    "plt.show()"
   ]
  },
  {
   "cell_type": "markdown",
   "metadata": {},
   "source": [
    "The best Linear SVM model:\n",
    "\n",
    "- training\n",
    "    - C = 0.01\n",
    "    - accuracy = 0.894717\n",
    "- testing \n",
    "    - C = 0.01\n",
    "    - accuracy = 0.893700"
   ]
  },
  {
   "cell_type": "markdown",
   "metadata": {},
   "source": [
    "### Tuned Radial SVM"
   ]
  },
  {
   "cell_type": "code",
   "execution_count": 51,
   "metadata": {
    "collapsed": true
   },
   "outputs": [],
   "source": [
    "# try different parameters and tune Linear SVM\n",
    "\n",
    "start = timeit.default_timer()\n",
    "\n",
    "param_rsvm = [0.0001, 0.01, 0.1, 0.5, 1, 5, 10, 25, 50]\n",
    "train_scores_rsvm = []\n",
    "test_scores_rsvm = []"
   ]
  },
  {
   "cell_type": "code",
   "execution_count": 40,
   "metadata": {
    "collapsed": false
   },
   "outputs": [
    {
     "name": "stdout",
     "output_type": "stream",
     "text": [
      "Running time: 775.596\n"
     ]
    }
   ],
   "source": [
    "# Due to limited computing power, the parameters will be tested in one by one\n",
    "\n",
    "clf_temp = SVC(C = param_rsvm[0], kernel = 'rbf', degree = 3, gamma = 'auto')\n",
    "clf_temp.fit(train_image_sample, train_label_sample)\n",
    "temp_train_score = clf_temp.score(train_image, train_label)\n",
    "temp_test_score = clf_temp.score(test_image, test_label)\n",
    "train_scores_rsvm.append(temp_train_score)\n",
    "test_scores_rsvm.append(temp_test_score)\n",
    "\n",
    "stop = timeit.default_timer()\n",
    "clf_tune_rsvm_time = stop - start\n",
    "print('Running time: %.3f' % (stop - start))"
   ]
  },
  {
   "cell_type": "code",
   "execution_count": 41,
   "metadata": {
    "collapsed": false
   },
   "outputs": [
    {
     "name": "stdout",
     "output_type": "stream",
     "text": [
      "Running time: 782.354\n"
     ]
    }
   ],
   "source": [
    "# Due to limited computing power, the parameters will be tested in one by one\n",
    "start = timeit.default_timer()\n",
    "clf_temp = SVC(C = param_rsvm[1], kernel = 'rbf', degree = 3, gamma = 'auto')\n",
    "clf_temp.fit(train_image_sample, train_label_sample)\n",
    "temp_train_score = clf_temp.score(train_image, train_label)\n",
    "temp_test_score = clf_temp.score(test_image, test_label)\n",
    "train_scores_rsvm.append(temp_train_score)\n",
    "test_scores_rsvm.append(temp_test_score)\n",
    "\n",
    "stop = timeit.default_timer()\n",
    "clf_tune_rsvm_time = stop - start\n",
    "print('Running time: %.3f' % (stop - start))"
   ]
  },
  {
   "cell_type": "code",
   "execution_count": 42,
   "metadata": {
    "collapsed": false
   },
   "outputs": [
    {
     "name": "stdout",
     "output_type": "stream",
     "text": [
      "Running time: 562.400\n"
     ]
    }
   ],
   "source": [
    "# Due to limited computing power, the parameters will be tested in one by one\n",
    "start = timeit.default_timer()\n",
    "clf_temp = SVC(C = param_rsvm[2], kernel = 'rbf', degree = 3, gamma = 'auto')\n",
    "clf_temp.fit(train_image_sample, train_label_sample)\n",
    "temp_train_score = clf_temp.score(train_image, train_label)\n",
    "temp_test_score = clf_temp.score(test_image, test_label)\n",
    "train_scores_rsvm.append(temp_train_score)\n",
    "test_scores_rsvm.append(temp_test_score)\n",
    "\n",
    "stop = timeit.default_timer()\n",
    "clf_tune_rsvm_time = stop - start\n",
    "print('Running time: %.3f' % (stop - start))"
   ]
  },
  {
   "cell_type": "code",
   "execution_count": 43,
   "metadata": {
    "collapsed": false
   },
   "outputs": [
    {
     "name": "stdout",
     "output_type": "stream",
     "text": [
      "Running time: 391.347\n"
     ]
    }
   ],
   "source": [
    "# Due to limited computing power, the parameters will be tested in one by one\n",
    "start = timeit.default_timer()\n",
    "clf_temp = SVC(C = param_rsvm[3], kernel = 'rbf', degree = 3, gamma = 'auto')\n",
    "clf_temp.fit(train_image_sample, train_label_sample)\n",
    "temp_train_score = clf_temp.score(train_image, train_label)\n",
    "temp_test_score = clf_temp.score(test_image, test_label)\n",
    "train_scores_rsvm.append(temp_train_score)\n",
    "test_scores_rsvm.append(temp_test_score)\n",
    "\n",
    "stop = timeit.default_timer()\n",
    "clf_tune_rsvm_time = stop - start\n",
    "print('Running time: %.3f' % (stop - start))"
   ]
  },
  {
   "cell_type": "code",
   "execution_count": 44,
   "metadata": {
    "collapsed": false
   },
   "outputs": [
    {
     "name": "stdout",
     "output_type": "stream",
     "text": [
      "Running time: 359.545\n"
     ]
    }
   ],
   "source": [
    "# Due to limited computing power, the parameters will be tested in one by one\n",
    "start = timeit.default_timer()\n",
    "clf_temp = SVC(C = param_rsvm[4], kernel = 'rbf', degree = 3, gamma = 'auto')\n",
    "clf_temp.fit(train_image_sample, train_label_sample)\n",
    "temp_train_score = clf_temp.score(train_image, train_label)\n",
    "temp_test_score = clf_temp.score(test_image, test_label)\n",
    "train_scores_rsvm.append(temp_train_score)\n",
    "test_scores_rsvm.append(temp_test_score)\n",
    "\n",
    "stop = timeit.default_timer()\n",
    "clf_tune_rsvm_time = stop - start\n",
    "print('Running time: %.3f' % (stop - start))"
   ]
  },
  {
   "cell_type": "code",
   "execution_count": 45,
   "metadata": {
    "collapsed": false
   },
   "outputs": [
    {
     "name": "stdout",
     "output_type": "stream",
     "text": [
      "Running time: 364.674\n"
     ]
    }
   ],
   "source": [
    "# Due to limited computing power, the parameters will be tested in one by one\n",
    "start = timeit.default_timer()\n",
    "clf_temp = SVC(C = param_rsvm[5], kernel = 'rbf', degree = 3, gamma = 'auto')\n",
    "clf_temp.fit(train_image_sample, train_label_sample)\n",
    "temp_train_score = clf_temp.score(train_image, train_label)\n",
    "temp_test_score = clf_temp.score(test_image, test_label)\n",
    "train_scores_rsvm.append(temp_train_score)\n",
    "test_scores_rsvm.append(temp_test_score)\n",
    "\n",
    "stop = timeit.default_timer()\n",
    "clf_tune_rsvm_time = stop - start\n",
    "print('Running time: %.3f' % (stop - start))"
   ]
  },
  {
   "cell_type": "code",
   "execution_count": 46,
   "metadata": {
    "collapsed": false
   },
   "outputs": [
    {
     "name": "stdout",
     "output_type": "stream",
     "text": [
      "Running time: 322.565\n"
     ]
    }
   ],
   "source": [
    "# Due to limited computing power, the parameters will be tested in one by one\n",
    "start = timeit.default_timer()\n",
    "clf_temp = SVC(C = param_rsvm[6], kernel = 'rbf', degree = 3, gamma = 'auto')\n",
    "clf_temp.fit(train_image_sample, train_label_sample)\n",
    "temp_train_score = clf_temp.score(train_image, train_label)\n",
    "temp_test_score = clf_temp.score(test_image, test_label)\n",
    "train_scores_rsvm.append(temp_train_score)\n",
    "test_scores_rsvm.append(temp_test_score)\n",
    "\n",
    "stop = timeit.default_timer()\n",
    "clf_tune_rsvm_time = stop - start\n",
    "print('Running time: %.3f' % (stop - start))"
   ]
  },
  {
   "cell_type": "code",
   "execution_count": 52,
   "metadata": {
    "collapsed": false
   },
   "outputs": [
    {
     "name": "stdout",
     "output_type": "stream",
     "text": [
      "Running time: 353.673\n"
     ]
    }
   ],
   "source": [
    "# Due to limited computing power, the parameters will be tested in one by one\n",
    "start = timeit.default_timer()\n",
    "clf_temp = SVC(C = param_rsvm[7], kernel = 'rbf', degree = 3, gamma = 'auto')\n",
    "clf_temp.fit(train_image_sample, train_label_sample)\n",
    "temp_train_score = clf_temp.score(train_image, train_label)\n",
    "temp_test_score = clf_temp.score(test_image, test_label)\n",
    "train_scores_rsvm.append(temp_train_score)\n",
    "test_scores_rsvm.append(temp_test_score)\n",
    "\n",
    "stop = timeit.default_timer()\n",
    "clf_tune_rsvm_time = stop - start\n",
    "print('Running time: %.3f' % (stop - start))"
   ]
  },
  {
   "cell_type": "code",
   "execution_count": 53,
   "metadata": {
    "collapsed": false
   },
   "outputs": [
    {
     "name": "stdout",
     "output_type": "stream",
     "text": [
      "Running time: 313.959\n"
     ]
    }
   ],
   "source": [
    "# Due to limited computing power, the parameters will be tested in one by one\n",
    "start = timeit.default_timer()\n",
    "clf_temp = SVC(C = param_rsvm[8], kernel = 'rbf', degree = 3, gamma = 'auto')\n",
    "clf_temp.fit(train_image_sample, train_label_sample)\n",
    "temp_train_score = clf_temp.score(train_image, train_label)\n",
    "temp_test_score = clf_temp.score(test_image, test_label)\n",
    "train_scores_rsvm.append(temp_train_score)\n",
    "test_scores_rsvm.append(temp_test_score)\n",
    "\n",
    "stop = timeit.default_timer()\n",
    "clf_tune_rsvm_time = stop - start\n",
    "print('Running time: %.3f' % (stop - start))"
   ]
  },
  {
   "cell_type": "code",
   "execution_count": 54,
   "metadata": {
    "collapsed": false
   },
   "outputs": [
    {
     "ename": "ValueError",
     "evalue": "arrays must all be same length",
     "output_type": "error",
     "traceback": [
      "\u001b[0;31m---------------------------------------------------------------------------\u001b[0m",
      "\u001b[0;31mValueError\u001b[0m                                Traceback (most recent call last)",
      "\u001b[0;32m<ipython-input-54-34ad4eedd042>\u001b[0m in \u001b[0;36m<module>\u001b[0;34m()\u001b[0m\n\u001b[1;32m      3\u001b[0m             \u001b[0;34m'Training Accuracy'\u001b[0m\u001b[0;34m:\u001b[0m \u001b[0mtrain_scores_rsvm\u001b[0m\u001b[0;34m,\u001b[0m\u001b[0;34m\u001b[0m\u001b[0m\n\u001b[1;32m      4\u001b[0m             'Testing Accuracy': test_scores_rsvm}\n\u001b[0;32m----> 5\u001b[0;31m \u001b[0mdf_tune_rsvm\u001b[0m \u001b[0;34m=\u001b[0m \u001b[0mpd\u001b[0m\u001b[0;34m.\u001b[0m\u001b[0mDataFrame\u001b[0m\u001b[0;34m(\u001b[0m\u001b[0mdata\u001b[0m \u001b[0;34m=\u001b[0m \u001b[0md_tune_rsvm\u001b[0m\u001b[0;34m)\u001b[0m\u001b[0;34m\u001b[0m\u001b[0m\n\u001b[0m\u001b[1;32m      6\u001b[0m \u001b[0mdf_tune_rsvm\u001b[0m\u001b[0;34m.\u001b[0m\u001b[0mset_index\u001b[0m\u001b[0;34m(\u001b[0m\u001b[0;34m'C'\u001b[0m\u001b[0;34m,\u001b[0m \u001b[0minplace\u001b[0m \u001b[0;34m=\u001b[0m \u001b[0;32mTrue\u001b[0m\u001b[0;34m)\u001b[0m\u001b[0;34m\u001b[0m\u001b[0m\n",
      "\u001b[0;32m/Users/Michael/anaconda/lib/python3.6/site-packages/pandas/core/frame.py\u001b[0m in \u001b[0;36m__init__\u001b[0;34m(self, data, index, columns, dtype, copy)\u001b[0m\n\u001b[1;32m    273\u001b[0m                                  dtype=dtype, copy=copy)\n\u001b[1;32m    274\u001b[0m         \u001b[0;32melif\u001b[0m \u001b[0misinstance\u001b[0m\u001b[0;34m(\u001b[0m\u001b[0mdata\u001b[0m\u001b[0;34m,\u001b[0m \u001b[0mdict\u001b[0m\u001b[0;34m)\u001b[0m\u001b[0;34m:\u001b[0m\u001b[0;34m\u001b[0m\u001b[0m\n\u001b[0;32m--> 275\u001b[0;31m             \u001b[0mmgr\u001b[0m \u001b[0;34m=\u001b[0m \u001b[0mself\u001b[0m\u001b[0;34m.\u001b[0m\u001b[0m_init_dict\u001b[0m\u001b[0;34m(\u001b[0m\u001b[0mdata\u001b[0m\u001b[0;34m,\u001b[0m \u001b[0mindex\u001b[0m\u001b[0;34m,\u001b[0m \u001b[0mcolumns\u001b[0m\u001b[0;34m,\u001b[0m \u001b[0mdtype\u001b[0m\u001b[0;34m=\u001b[0m\u001b[0mdtype\u001b[0m\u001b[0;34m)\u001b[0m\u001b[0;34m\u001b[0m\u001b[0m\n\u001b[0m\u001b[1;32m    276\u001b[0m         \u001b[0;32melif\u001b[0m \u001b[0misinstance\u001b[0m\u001b[0;34m(\u001b[0m\u001b[0mdata\u001b[0m\u001b[0;34m,\u001b[0m \u001b[0mma\u001b[0m\u001b[0;34m.\u001b[0m\u001b[0mMaskedArray\u001b[0m\u001b[0;34m)\u001b[0m\u001b[0;34m:\u001b[0m\u001b[0;34m\u001b[0m\u001b[0m\n\u001b[1;32m    277\u001b[0m             \u001b[0;32mimport\u001b[0m \u001b[0mnumpy\u001b[0m\u001b[0;34m.\u001b[0m\u001b[0mma\u001b[0m\u001b[0;34m.\u001b[0m\u001b[0mmrecords\u001b[0m \u001b[0;32mas\u001b[0m \u001b[0mmrecords\u001b[0m\u001b[0;34m\u001b[0m\u001b[0m\n",
      "\u001b[0;32m/Users/Michael/anaconda/lib/python3.6/site-packages/pandas/core/frame.py\u001b[0m in \u001b[0;36m_init_dict\u001b[0;34m(self, data, index, columns, dtype)\u001b[0m\n\u001b[1;32m    409\u001b[0m             \u001b[0marrays\u001b[0m \u001b[0;34m=\u001b[0m \u001b[0;34m[\u001b[0m\u001b[0mdata\u001b[0m\u001b[0;34m[\u001b[0m\u001b[0mk\u001b[0m\u001b[0;34m]\u001b[0m \u001b[0;32mfor\u001b[0m \u001b[0mk\u001b[0m \u001b[0;32min\u001b[0m \u001b[0mkeys\u001b[0m\u001b[0;34m]\u001b[0m\u001b[0;34m\u001b[0m\u001b[0m\n\u001b[1;32m    410\u001b[0m \u001b[0;34m\u001b[0m\u001b[0m\n\u001b[0;32m--> 411\u001b[0;31m         \u001b[0;32mreturn\u001b[0m \u001b[0m_arrays_to_mgr\u001b[0m\u001b[0;34m(\u001b[0m\u001b[0marrays\u001b[0m\u001b[0;34m,\u001b[0m \u001b[0mdata_names\u001b[0m\u001b[0;34m,\u001b[0m \u001b[0mindex\u001b[0m\u001b[0;34m,\u001b[0m \u001b[0mcolumns\u001b[0m\u001b[0;34m,\u001b[0m \u001b[0mdtype\u001b[0m\u001b[0;34m=\u001b[0m\u001b[0mdtype\u001b[0m\u001b[0;34m)\u001b[0m\u001b[0;34m\u001b[0m\u001b[0m\n\u001b[0m\u001b[1;32m    412\u001b[0m \u001b[0;34m\u001b[0m\u001b[0m\n\u001b[1;32m    413\u001b[0m     \u001b[0;32mdef\u001b[0m \u001b[0m_init_ndarray\u001b[0m\u001b[0;34m(\u001b[0m\u001b[0mself\u001b[0m\u001b[0;34m,\u001b[0m \u001b[0mvalues\u001b[0m\u001b[0;34m,\u001b[0m \u001b[0mindex\u001b[0m\u001b[0;34m,\u001b[0m \u001b[0mcolumns\u001b[0m\u001b[0;34m,\u001b[0m \u001b[0mdtype\u001b[0m\u001b[0;34m=\u001b[0m\u001b[0;32mNone\u001b[0m\u001b[0;34m,\u001b[0m \u001b[0mcopy\u001b[0m\u001b[0;34m=\u001b[0m\u001b[0;32mFalse\u001b[0m\u001b[0;34m)\u001b[0m\u001b[0;34m:\u001b[0m\u001b[0;34m\u001b[0m\u001b[0m\n",
      "\u001b[0;32m/Users/Michael/anaconda/lib/python3.6/site-packages/pandas/core/frame.py\u001b[0m in \u001b[0;36m_arrays_to_mgr\u001b[0;34m(arrays, arr_names, index, columns, dtype)\u001b[0m\n\u001b[1;32m   5494\u001b[0m     \u001b[0;31m# figure out the index, if necessary\u001b[0m\u001b[0;34m\u001b[0m\u001b[0;34m\u001b[0m\u001b[0m\n\u001b[1;32m   5495\u001b[0m     \u001b[0;32mif\u001b[0m \u001b[0mindex\u001b[0m \u001b[0;32mis\u001b[0m \u001b[0;32mNone\u001b[0m\u001b[0;34m:\u001b[0m\u001b[0;34m\u001b[0m\u001b[0m\n\u001b[0;32m-> 5496\u001b[0;31m         \u001b[0mindex\u001b[0m \u001b[0;34m=\u001b[0m \u001b[0mextract_index\u001b[0m\u001b[0;34m(\u001b[0m\u001b[0marrays\u001b[0m\u001b[0;34m)\u001b[0m\u001b[0;34m\u001b[0m\u001b[0m\n\u001b[0m\u001b[1;32m   5497\u001b[0m     \u001b[0;32melse\u001b[0m\u001b[0;34m:\u001b[0m\u001b[0;34m\u001b[0m\u001b[0m\n\u001b[1;32m   5498\u001b[0m         \u001b[0mindex\u001b[0m \u001b[0;34m=\u001b[0m \u001b[0m_ensure_index\u001b[0m\u001b[0;34m(\u001b[0m\u001b[0mindex\u001b[0m\u001b[0;34m)\u001b[0m\u001b[0;34m\u001b[0m\u001b[0m\n",
      "\u001b[0;32m/Users/Michael/anaconda/lib/python3.6/site-packages/pandas/core/frame.py\u001b[0m in \u001b[0;36mextract_index\u001b[0;34m(data)\u001b[0m\n\u001b[1;32m   5542\u001b[0m             \u001b[0mlengths\u001b[0m \u001b[0;34m=\u001b[0m \u001b[0mlist\u001b[0m\u001b[0;34m(\u001b[0m\u001b[0mset\u001b[0m\u001b[0;34m(\u001b[0m\u001b[0mraw_lengths\u001b[0m\u001b[0;34m)\u001b[0m\u001b[0;34m)\u001b[0m\u001b[0;34m\u001b[0m\u001b[0m\n\u001b[1;32m   5543\u001b[0m             \u001b[0;32mif\u001b[0m \u001b[0mlen\u001b[0m\u001b[0;34m(\u001b[0m\u001b[0mlengths\u001b[0m\u001b[0;34m)\u001b[0m \u001b[0;34m>\u001b[0m \u001b[0;36m1\u001b[0m\u001b[0;34m:\u001b[0m\u001b[0;34m\u001b[0m\u001b[0m\n\u001b[0;32m-> 5544\u001b[0;31m                 \u001b[0;32mraise\u001b[0m \u001b[0mValueError\u001b[0m\u001b[0;34m(\u001b[0m\u001b[0;34m'arrays must all be same length'\u001b[0m\u001b[0;34m)\u001b[0m\u001b[0;34m\u001b[0m\u001b[0m\n\u001b[0m\u001b[1;32m   5545\u001b[0m \u001b[0;34m\u001b[0m\u001b[0m\n\u001b[1;32m   5546\u001b[0m             \u001b[0;32mif\u001b[0m \u001b[0mhave_dicts\u001b[0m\u001b[0;34m:\u001b[0m\u001b[0;34m\u001b[0m\u001b[0m\n",
      "\u001b[0;31mValueError\u001b[0m: arrays must all be same length"
     ]
    }
   ],
   "source": [
    "# create a dataframe to display comparison\n",
    "d_tune_rsvm = {'C': param_rsvm,\n",
    "            'Training Accuracy': train_scores_rsvm,\n",
    "            'Testing Accuracy': test_scores_rsvm}\n",
    "df_tune_rsvm = pd.DataFrame(data = d_tune_rsvm)\n",
    "df_tune_rsvm.set_index('C', inplace = True)"
   ]
  },
  {
   "cell_type": "code",
   "execution_count": null,
   "metadata": {
    "collapsed": false
   },
   "outputs": [],
   "source": [
    "# display the result\n",
    "plt.clf()\n",
    "\n",
    "fig_rsvm = sns.heatmap(df_tune_rsvm, annot=True, fmt='f')\n",
    "plt.subplots_adjust(top=0.9)\n",
    "fig_rsvm.set_title('Radial SVM Accuracy Heatmap')\n",
    "\n",
    "plt.show()"
   ]
  },
  {
   "cell_type": "code",
   "execution_count": 55,
   "metadata": {
    "collapsed": false
   },
   "outputs": [
    {
     "data": {
      "text/plain": [
       "[0.95609999999999995, 0.95616666666666672]"
      ]
     },
     "execution_count": 55,
     "metadata": {},
     "output_type": "execute_result"
    }
   ],
   "source": [
    "train_scores_rsvm"
   ]
  },
  {
   "cell_type": "markdown",
   "metadata": {},
   "source": [
    "The best Radial SVM model:\n",
    "\n",
    "- training\n",
    "    - C = 10.0\n",
    "    - accuracy = 0.956367\n",
    "- testing \n",
    "    - C = 50.0 or 100.0\n",
    "    - accuracy = 0.950300"
   ]
  },
  {
   "cell_type": "markdown",
   "metadata": {},
   "source": [
    "### Tuned models comparison"
   ]
  },
  {
   "cell_type": "markdown",
   "metadata": {},
   "source": [
    "Overall:\n",
    "\n",
    "- The best classifier for training data:\n",
    "    - Model: Radial SVM\n",
    "    - Parameters: C = 10.0, kernel = 'rbf', degree = 3, gamma = 'auto'\n",
    "    - Accuracy: 0.956367\n",
    "\n",
    "- The best classifier for testing data:\n",
    "    - Model: Radial SVM\n",
    "    - Parameters: C = 50.0 or 100.0, kernel = 'rbf', degree = 3, gamma = 'auto'\n",
    "    - Accuracy: 0.950300"
   ]
  }
 ],
 "metadata": {
  "kernelspec": {
   "display_name": "Python 3",
   "language": "python",
   "name": "python3"
  },
  "language_info": {
   "codemirror_mode": {
    "name": "ipython",
    "version": 3
   },
   "file_extension": ".py",
   "mimetype": "text/x-python",
   "name": "python",
   "nbconvert_exporter": "python",
   "pygments_lexer": "ipython3",
   "version": "3.6.0"
  }
 },
 "nbformat": 4,
 "nbformat_minor": 2
}
