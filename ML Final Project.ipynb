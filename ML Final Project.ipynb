{
 "cells": [
  {
   "cell_type": "markdown",
   "metadata": {},
   "source": [
    "# Machine Learning Final Project\n",
    "\n",
    "Michael Li\n",
    "\n",
    "Dec 10, 2017"
   ]
  },
  {
   "cell_type": "markdown",
   "metadata": {},
   "source": [
    "## Environment Setup"
   ]
  },
  {
   "cell_type": "code",
   "execution_count": 1,
   "metadata": {
    "collapsed": true
   },
   "outputs": [],
   "source": [
    "# import relevant libraries\n",
    "import pandas as pd\n",
    "import numpy as np\n",
    "import scipy\n",
    "import matplotlib.pyplot as plt\n",
    "import seaborn as sns\n",
    "import sklearn\n",
    "import tensorflow as tf\n",
    "from tensorflow.examples.tutorials.mnist import input_data\n",
    "import timeit\n",
    "import datetime\n",
    "from sklearn.linear_model import Perceptron\n",
    "from sklearn.linear_model import LogisticRegression\n",
    "from sklearn.svm import LinearSVC\n",
    "from sklearn.svm import SVC\n",
    "from sklearn.tree import DecisionTreeClassifier\n",
    "from sklearn.ensemble import RandomForestClassifier\n",
    "from sklearn.neural_network import MLPClassifier\n",
    "from sklearn.model_selection import GridSearchCV\n",
    "from sklearn.metrics import roc_curve, auc\n",
    "from sklearn.model_selection import cross_val_predict\n",
    "from sklearn.preprocessing import OneHotEncoder\n",
    "from sklearn.utils import resample"
   ]
  },
  {
   "cell_type": "code",
   "execution_count": 2,
   "metadata": {
    "collapsed": true
   },
   "outputs": [],
   "source": [
    "# suppress warnings\n",
    "import warnings\n",
    "warnings.simplefilter('ignore')"
   ]
  },
  {
   "cell_type": "markdown",
   "metadata": {},
   "source": [
    "## Load and Cleanse Dataset "
   ]
  },
  {
   "cell_type": "code",
   "execution_count": 3,
   "metadata": {
    "collapsed": false
   },
   "outputs": [
    {
     "name": "stdout",
     "output_type": "stream",
     "text": [
      "Extracting ./train-images-idx3-ubyte.gz\n",
      "Extracting ./train-labels-idx1-ubyte.gz\n",
      "Extracting ./t10k-images-idx3-ubyte.gz\n",
      "Extracting ./t10k-labels-idx1-ubyte.gz\n"
     ]
    }
   ],
   "source": [
    "# load dataset \n",
    "mnisttt = input_data.read_data_sets(\".\", one_hot=False, validation_size = 0)"
   ]
  },
  {
   "cell_type": "code",
   "execution_count": 4,
   "metadata": {
    "collapsed": true
   },
   "outputs": [],
   "source": [
    "# define function to plot images\n",
    "def image_plot(image, size):\n",
    "    idxs = np.random.randint(len(image), size=size)\n",
    "    plt.clf()\n",
    "    f, axarr = plt.subplots(1, size, figsize = (20,20))\n",
    "    for i in range(0,len(idxs)):\n",
    "        X = mnisttt.train.images[idxs[i]]\n",
    "        X = X.reshape([28, 28])\n",
    "        axarr[i].imshow(X)\n",
    "        axarr[i].set_axis_off()\n",
    "    plt.show()"
   ]
  },
  {
   "cell_type": "code",
   "execution_count": 5,
   "metadata": {
    "collapsed": false
   },
   "outputs": [
    {
     "data": {
      "text/plain": [
       "<matplotlib.figure.Figure at 0x124ec2860>"
      ]
     },
     "metadata": {},
     "output_type": "display_data"
    },
    {
     "data": {
      "image/png": "[encoded data removed]",
      "text/plain": [
       "<matplotlib.figure.Figure at 0x124ec2cc0>"
      ]
     },
     "metadata": {},
     "output_type": "display_data"
    }
   ],
   "source": [
    "# plot 20 random images\n",
    "image_plot(mnisttt.train.images, 20)"
   ]
  },
  {
   "cell_type": "code",
   "execution_count": 6,
   "metadata": {
    "collapsed": false
   },
   "outputs": [
    {
     "name": "stdout",
     "output_type": "stream",
     "text": [
      "The size of training image dataset is:  (60000, 784)\n",
      "The size of training label dataset is:  (60000,)\n",
      "The size of validation image dataset is:  (0, 784)\n",
      "The size of validation label dataset is:  (0,)\n",
      "The size of testing image dataset is:  (10000, 784)\n",
      "The size of testing label dataset is:  (10000,)\n"
     ]
    }
   ],
   "source": [
    "# print dataset size\n",
    "print('The size of training image dataset is: ', mnisttt.train.images.shape)\n",
    "print('The size of training label dataset is: ', mnisttt.train.labels.shape)\n",
    "print('The size of validation image dataset is: ', mnisttt.validation.images.shape)\n",
    "print('The size of validation label dataset is: ', mnisttt.validation.labels.shape)\n",
    "print('The size of testing image dataset is: ', mnisttt.test.images.shape)\n",
    "print('The size of testing label dataset is: ', mnisttt.test.labels.shape)"
   ]
  },
  {
   "cell_type": "markdown",
   "metadata": {},
   "source": [
    "## Compute Easy / Hard Label"
   ]
  },
  {
   "cell_type": "markdown",
   "metadata": {},
   "source": [
    "- To find the label 'Easy / Hard', 5 classification models will be used:\n",
    "    1. Perceptron\n",
    "    2. Logistic Regression\n",
    "    3. Linear SVM\n",
    "    4. Decision Tree\n",
    "    5. Random Forest\n",
    "\n",
    "\n",
    "- Each classification model will be applied with 2 sets of parameters, which totals up to 10 classification results"
   ]
  },
  {
   "cell_type": "markdown",
   "metadata": {},
   "source": [
    "### Classification using Perceptron"
   ]
  },
  {
   "cell_type": "code",
   "execution_count": 35,
   "metadata": {
    "collapsed": true
   },
   "outputs": [],
   "source": [
    "# define a function to classify data using Perceptron\n",
    "def clf_perceptron(train_image, train_label, test_image, test_label, p):\n",
    "    clf = Perceptron(n_iter=p)\n",
    "    clf.fit(train_image, train_label)\n",
    "    train_pred = clf.predict(train_image)\n",
    "    test_pred = clf.predict(test_image)\n",
    "    df_train_temp = pd.DataFrame({'Label': train_label, 'Pred': train_pred})\n",
    "    df_test_temp = pd.DataFrame({'Label': test_label, 'Pred': test_pred})\n",
    "    # Correct -> 1, Wrong -> 0\n",
    "    df_train_temp['Perceptron'] = df_train_temp.apply(lambda x: 1 if x['Label'] == x['Pred'] else 0, axis = 1)\n",
    "    df_test_temp['Perceptron'] = df_test_temp.apply(lambda x: 1 if x['Label'] == x['Pred'] else 0, axis = 1)\n",
    "    return df_train_temp[['Perceptron']], df_test_temp[['Perceptron']]"
   ]
  },
  {
   "cell_type": "code",
   "execution_count": 65,
   "metadata": {
    "collapsed": false
   },
   "outputs": [
    {
     "name": "stdout",
     "output_type": "stream",
     "text": [
      "Running time: 173.288\n"
     ]
    }
   ],
   "source": [
    "start = timeit.default_timer()\n",
    "# Use perceptron to classify training and testing datasets with n_iter = 75\n",
    "df_p_train1, df_p_test1 = clf_perceptron(mnisttt.train.images, mnisttt.train.labels, \n",
    "                                         mnisttt.test.images, mnisttt.test.labels, 75)\n",
    "\n",
    "# Use perceptron to classify training and testing datasets with n_iter = 150\n",
    "df_p_train2, df_p_test2 = clf_perceptron(mnisttt.train.images, mnisttt.train.labels, \n",
    "                                         mnisttt.test.images, mnisttt.test.labels, 150)\n",
    "\n",
    "# rename the dataframes to include parameter\n",
    "df_p_train1.rename(columns = {'Perceptron': 'C1 Perceptron n_iter = 75'}, inplace = True)\n",
    "df_p_test1.rename(columns = {'Perceptron': 'C1 Perceptron n_iter = 75'}, inplace = True)\n",
    "df_p_train2.rename(columns = {'Perceptron': 'C1 Perceptron n_iter = 150'}, inplace = True)\n",
    "df_p_test2.rename(columns = {'Perceptron': 'C1 Perceptron n_iter = 150'}, inplace = True)\n",
    "\n",
    "stop = timeit.default_timer()\n",
    "print('Running time: %.3f' % (stop - start))"
   ]
  },
  {
   "cell_type": "markdown",
   "metadata": {},
   "source": [
    "### Classification using Logistic Regression"
   ]
  },
  {
   "cell_type": "code",
   "execution_count": 40,
   "metadata": {
    "collapsed": true
   },
   "outputs": [],
   "source": [
    "# define a function to classify data using Logistic Regression\n",
    "def clf_logit(train_image, train_label, test_image, test_label, p):\n",
    "    clf = LogisticRegression(penalty = 'l2', C = p, solver ='newton-cg')\n",
    "    clf.fit(train_image, train_label)\n",
    "    train_pred = clf.predict(train_image)\n",
    "    test_pred = clf.predict(test_image)\n",
    "    df_train_temp = pd.DataFrame({'Label': train_label, 'Pred': train_pred})\n",
    "    df_test_temp = pd.DataFrame({'Label': test_label, 'Pred': test_pred})\n",
    "    # Correct -> 1, Wrong -> 0\n",
    "    df_train_temp['Logit'] = df_train_temp[['Label','Pred']].apply(lambda x: 1 if x['Label'] == x['Pred'] else 0, axis = 1)\n",
    "    df_test_temp['Logit'] = df_test_temp[['Label','Pred']].apply(lambda x: 1 if x['Label'] == x['Pred'] else 0, axis = 1)\n",
    "    return df_train_temp[['Logit']], df_test_temp[['Logit']]"
   ]
  },
  {
   "cell_type": "code",
   "execution_count": 66,
   "metadata": {
    "collapsed": false
   },
   "outputs": [
    {
     "name": "stdout",
     "output_type": "stream",
     "text": [
      "Running time: 355.211\n"
     ]
    }
   ],
   "source": [
    "start = timeit.default_timer()\n",
    "# Use Logistic Regression to classify training and testing datasets with C = 0.1\n",
    "df_logit_train1, df_logit_test1 = clf_logit(mnisttt.train.images, mnisttt.train.labels, \n",
    "                                         mnisttt.test.images, mnisttt.test.labels, 0.1)\n",
    "\n",
    "# Use Logistic Regression to classify training and testing datasets with C = 0.01\n",
    "df_logit_train2, df_logit_test2 = clf_logit(mnisttt.train.images, mnisttt.train.labels, \n",
    "                                         mnisttt.test.images, mnisttt.test.labels, 0.01)\n",
    "\n",
    "# rename the dataframes to include parameter\n",
    "df_logit_train1.rename(columns = {'Logit': 'C2 Logistic Regression C = 0.1'}, inplace = True)\n",
    "df_logit_test1.rename(columns = {'Logit': 'C2 Logistic Regression C = 0.1'}, inplace = True)\n",
    "df_logit_train2.rename(columns = {'Logit': 'C2 Logistic Regression C = 0.01'}, inplace = True)\n",
    "df_logit_test2.rename(columns = {'Logit': 'C2 Logistic Regression C = 0.01'}, inplace = True)\n",
    "\n",
    "stop = timeit.default_timer()\n",
    "print('Running time: %.3f' % (stop - start))"
   ]
  },
  {
   "cell_type": "markdown",
   "metadata": {},
   "source": [
    "### Classification using Linear SVM"
   ]
  },
  {
   "cell_type": "code",
   "execution_count": 42,
   "metadata": {
    "collapsed": true
   },
   "outputs": [],
   "source": [
    "# define a function to classify data using Linear SVM\n",
    "def clf_lsvm(train_image, train_label, test_image, test_label, p):\n",
    "    clf = LinearSVC(penalty = 'l2', C = p, multi_class = 'ovr')\n",
    "    clf.fit(train_image, train_label)\n",
    "    train_pred = clf.predict(train_image)\n",
    "    test_pred = clf.predict(test_image)\n",
    "    df_train_temp = pd.DataFrame({'Label': train_label, 'Pred': train_pred})\n",
    "    df_test_temp = pd.DataFrame({'Label': test_label, 'Pred': test_pred})\n",
    "    # Correct -> 1, Wrong -> 0\n",
    "    df_train_temp['Linear SVM'] = df_train_temp[['Label','Pred']].apply(lambda x: 1 if x['Label'] == x['Pred'] else 0, axis = 1)\n",
    "    df_test_temp['Linear SVM'] = df_test_temp[['Label','Pred']].apply(lambda x: 1 if x['Label'] == x['Pred'] else 0, axis = 1)\n",
    "    return df_train_temp[['Linear SVM']], df_test_temp[['Linear SVM']]"
   ]
  },
  {
   "cell_type": "code",
   "execution_count": 67,
   "metadata": {
    "collapsed": false
   },
   "outputs": [
    {
     "name": "stdout",
     "output_type": "stream",
     "text": [
      "Running time: 45.904\n"
     ]
    }
   ],
   "source": [
    "start = timeit.default_timer()\n",
    "# Use Linear SVM to classify training and testing datasets with C = 0.1\n",
    "df_lsvm_train1, df_lsvm_test1 = clf_lsvm(mnisttt.train.images, mnisttt.train.labels, \n",
    "                                         mnisttt.test.images, mnisttt.test.labels, 0.1)\n",
    "\n",
    "# Use Linear SVM to classify training and testing datasets with C = 0.01\n",
    "df_lsvm_train2, df_lsvm_test2 = clf_lsvm(mnisttt.train.images, mnisttt.train.labels, \n",
    "                                         mnisttt.test.images, mnisttt.test.labels, 0.01)\n",
    "\n",
    "# rename the dataframes to include parameter\n",
    "df_lsvm_train1.rename(columns = {'Linear SVM': 'C3 Linear SVM C = 0.1'}, inplace = True)\n",
    "df_lsvm_test1.rename(columns = {'Linear SVM': 'C3 Linear SVM C = 0.1'}, inplace = True)\n",
    "df_lsvm_train2.rename(columns = {'Linear SVM': 'C3 Linear SVM C = 0.01'}, inplace = True)\n",
    "df_lsvm_test2.rename(columns = {'Linear SVM': 'C3 Linear SVM C = 0.01'}, inplace = True)\n",
    "\n",
    "stop = timeit.default_timer()\n",
    "print('Running time: %.3f' % (stop - start))"
   ]
  },
  {
   "cell_type": "markdown",
   "metadata": {},
   "source": [
    "### Classification using Decision Tree"
   ]
  },
  {
   "cell_type": "code",
   "execution_count": 50,
   "metadata": {
    "collapsed": false
   },
   "outputs": [
    {
     "name": "stdout",
     "output_type": "stream",
     "text": [
      "Running time: 594.915\n"
     ]
    }
   ],
   "source": [
    "# Before applying decision tree model to predict, \n",
    "# since the Decision Tree model's optimal parameter has not been searched, \n",
    "# I will use GridSearchCV to find the best parameter\n",
    "start = timeit.default_timer()\n",
    "\n",
    "# set the parameter grid for max_depth\n",
    "param_grid = {'max_depth': np.arange(3,26)}\n",
    "clf_tree = GridSearchCV(DecisionTreeClassifier(),param_grid)\n",
    "clf_tree.fit(mnisttt.train.images, mnisttt.train.labels)\n",
    "\n",
    "stop = timeit.default_timer()\n",
    "print('Running time: %.3f' % (stop - start))"
   ]
  },
  {
   "cell_type": "markdown",
   "metadata": {},
   "source": [
    "The best parameter for max_depth is 16 or 17."
   ]
  },
  {
   "cell_type": "code",
   "execution_count": 54,
   "metadata": {
    "collapsed": true
   },
   "outputs": [],
   "source": [
    "# define a function to classify data using Decision Tree\n",
    "def clf_dtree(train_image, train_label, test_image, test_label, p):\n",
    "    clf = DecisionTreeClassifier(max_depth = p)\n",
    "    clf.fit(train_image, train_label)\n",
    "    train_pred = clf.predict(train_image)\n",
    "    test_pred = clf.predict(test_image)\n",
    "    df_train_temp = pd.DataFrame({'Label': train_label, 'Pred': train_pred})\n",
    "    df_test_temp = pd.DataFrame({'Label': test_label, 'Pred': test_pred})\n",
    "    # Correct -> 1, Wrong -> 0\n",
    "    df_train_temp['Decision tree'] = df_train_temp[['Label','Pred']].apply(lambda x: 1 if x['Label'] == x['Pred'] else 0, axis = 1)\n",
    "    df_test_temp['Decision tree'] = df_test_temp[['Label','Pred']].apply(lambda x: 1 if x['Label'] == x['Pred'] else 0, axis = 1)\n",
    "    return df_train_temp[['Decision tree']], df_test_temp[['Decision tree']]"
   ]
  },
  {
   "cell_type": "code",
   "execution_count": 74,
   "metadata": {
    "collapsed": false
   },
   "outputs": [
    {
     "name": "stdout",
     "output_type": "stream",
     "text": [
      "Running time: 32.062\n"
     ]
    }
   ],
   "source": [
    "start = timeit.default_timer()\n",
    "# Use Decision Tree to classify training and testing datasets with max_depth = 16\n",
    "df_dtree_train1, df_dtree_test1 = clf_dtree(mnisttt.train.images, mnisttt.train.labels, \n",
    "                                         mnisttt.test.images, mnisttt.test.labels, 16)\n",
    "\n",
    "# Use Decision Tree to classify training and testing datasets with max_depth = 10\n",
    "df_dtree_train2, df_dtree_test2 = clf_dtree(mnisttt.train.images, mnisttt.train.labels, \n",
    "                                         mnisttt.test.images, mnisttt.test.labels, 10)\n",
    "\n",
    "# rename the dataframes to include parameter\n",
    "df_dtree_train1.rename(columns = {'Decision tree': 'C4 Decision Tree max_depth = 16'}, inplace = True)\n",
    "df_dtree_test1.rename(columns = {'Decision tree': 'C4 Decision Tree max_depth = 16'}, inplace = True)\n",
    "df_dtree_train2.rename(columns = {'Decision tree': 'C4 Decision Tree max_depth = 10'}, inplace = True)\n",
    "df_dtree_test2.rename(columns = {'Decision tree': 'C4 Decision Tree max_depth = 10'}, inplace = True)\n",
    "\n",
    "stop = timeit.default_timer()\n",
    "print('Running time: %.3f' % (stop - start))"
   ]
  },
  {
   "cell_type": "markdown",
   "metadata": {},
   "source": [
    "### Classification using Random Forest"
   ]
  },
  {
   "cell_type": "code",
   "execution_count": 57,
   "metadata": {
    "collapsed": false
   },
   "outputs": [
    {
     "name": "stdout",
     "output_type": "stream",
     "text": [
      "Running time: 487.623\n"
     ]
    }
   ],
   "source": [
    "# Before applying random forest model to predict, \n",
    "# since the Random Forest model's optimal parameter has not been searched, \n",
    "# I will use GridSearchCV to find the best parameter\n",
    "start = timeit.default_timer()\n",
    "\n",
    "# set the parameter grid for max_depth\n",
    "param_grid = {'n_estimators': np.arange(10,51,10),'max_depth': np.arange(3,10)}\n",
    "clf_rdmforest = GridSearchCV(RandomForestClassifier(),param_grid)\n",
    "clf_rdmforest.fit(mnisttt.train.images, mnisttt.train.labels)\n",
    "\n",
    "stop = timeit.default_timer()\n",
    "print('Running time: %.3f' % (stop - start))"
   ]
  },
  {
   "cell_type": "markdown",
   "metadata": {},
   "source": [
    "The best parameter set is: \n",
    "\n",
    "- max_depth = 9\n",
    "- n_estimators = 50\n",
    "\n",
    "The accuracy is presumed to continue increase with deeper depth and more estimators.\n",
    "\n",
    "The change in max_depth has larger effect on accuracy then change in n_estimators."
   ]
  },
  {
   "cell_type": "code",
   "execution_count": 61,
   "metadata": {
    "collapsed": true
   },
   "outputs": [],
   "source": [
    "# define a function to classify data using Random Forest\n",
    "def clf_rdmfst(train_image, train_label, test_image, test_label, p):\n",
    "    clf = RandomForestClassifier(n_estimators = 50, max_depth = p)\n",
    "    clf.fit(train_image, train_label)\n",
    "    train_pred = clf.predict(train_image)\n",
    "    test_pred = clf.predict(test_image)\n",
    "    df_train_temp = pd.DataFrame({'Label': train_label, 'Pred': train_pred})\n",
    "    df_test_temp = pd.DataFrame({'Label': test_label, 'Pred': test_pred})\n",
    "    # Correct -> 1, Wrong -> 0\n",
    "    df_train_temp['Random forest'] = df_train_temp[['Label','Pred']].apply(lambda x: 1 if x['Label'] == x['Pred'] else 0, axis = 1)\n",
    "    df_test_temp['Random forest'] = df_test_temp[['Label','Pred']].apply(lambda x: 1 if x['Label'] == x['Pred'] else 0, axis = 1)\n",
    "    return df_train_temp[['Random forest']], df_test_temp[['Random forest']]"
   ]
  },
  {
   "cell_type": "code",
   "execution_count": 75,
   "metadata": {
    "collapsed": false
   },
   "outputs": [
    {
     "name": "stdout",
     "output_type": "stream",
     "text": [
      "Running time: 31.375\n"
     ]
    }
   ],
   "source": [
    "start = timeit.default_timer()\n",
    "# Use Random Forest to classify training and testing datasets with max_depth = 9\n",
    "df_rdmfst_train1, df_rdmfst_test1 = clf_rdmfst(mnisttt.train.images, mnisttt.train.labels, \n",
    "                                         mnisttt.test.images, mnisttt.test.labels, 9)\n",
    "\n",
    "# Use Random Forest to classify training and testing datasets with max_depth = 7\n",
    "df_rdmfst_train2, df_rdmfst_test2 = clf_rdmfst(mnisttt.train.images, mnisttt.train.labels, \n",
    "                                         mnisttt.test.images, mnisttt.test.labels, 7)\n",
    "# rename the dataframes to include parameter\n",
    "df_rdmfst_train1.rename(columns = {'Random forest': 'C5 Random Forest max_depth = 9'}, inplace = True)\n",
    "df_rdmfst_test1.rename(columns = {'Random forest': 'C5 Random Forest max_depth = 9'}, inplace = True)\n",
    "df_rdmfst_train2.rename(columns = {'Random forest': 'C5 Random Forest max_depth = 7'}, inplace = True)\n",
    "df_rdmfst_test2.rename(columns = {'Random forest': 'C5 Random Forest max_depth = 7'}, inplace = True)\n",
    "\n",
    "stop = timeit.default_timer()\n",
    "print('Running time: %.3f' % (stop - start))"
   ]
  },
  {
   "cell_type": "markdown",
   "metadata": {},
   "source": [
    "### Consolidate result"
   ]
  },
  {
   "cell_type": "code",
   "execution_count": 76,
   "metadata": {
    "collapsed": true
   },
   "outputs": [],
   "source": [
    "# Merge all result together into a dataframe\n",
    "df_train_cw = pd.concat([df_p_train1, df_p_train2, df_logit_train1, df_logit_train2, \n",
    "                               df_lsvm_train1, df_lsvm_train2, df_dtree_train1, df_dtree_train2,\n",
    "                               df_rdmfst_train1, df_rdmfst_train2], axis = 1)\n",
    "\n",
    "df_test_cw = pd.concat([df_p_test1, df_p_test2, df_logit_test1, df_logit_test2, \n",
    "                               df_lsvm_test1, df_lsvm_test2, df_dtree_test1, df_dtree_test2,\n",
    "                               df_rdmfst_test1, df_rdmfst_test2], axis = 1)"
   ]
  },
  {
   "cell_type": "code",
   "execution_count": 78,
   "metadata": {
    "collapsed": false
   },
   "outputs": [
    {
     "data": {
      "text/html": [
       "<div>\n",
       "<style>\n",
       "    .dataframe thead tr:only-child th {\n",
       "        text-align: right;\n",
       "    }\n",
       "\n",
       "    .dataframe thead th {\n",
       "        text-align: left;\n",
       "    }\n",
       "\n",
       "    .dataframe tbody tr th {\n",
       "        vertical-align: top;\n",
       "    }\n",
       "</style>\n",
       "<table border=\"1\" class=\"dataframe\">\n",
       "  <thead>\n",
       "    <tr style=\"text-align: right;\">\n",
       "      <th></th>\n",
       "      <th>C1 Perceptron n_iter = 75</th>\n",
       "      <th>C1 Perceptron n_iter = 150</th>\n",
       "      <th>C2 Logistic Regression C = 0.1</th>\n",
       "      <th>C2 Logistic Regression C = 0.01</th>\n",
       "      <th>C3 Linear SVM C = 0.1</th>\n",
       "      <th>C3 Linear SVM C = 0.01</th>\n",
       "      <th>C4 Decision Tree max_depth = 16</th>\n",
       "      <th>C4 Decision Tree max_depth = 10</th>\n",
       "      <th>C5 Random Forest max_depth = 9</th>\n",
       "      <th>C5 Random Forest max_depth = 7</th>\n",
       "    </tr>\n",
       "  </thead>\n",
       "  <tbody>\n",
       "    <tr>\n",
       "      <th>0</th>\n",
       "      <td>0</td>\n",
       "      <td>0</td>\n",
       "      <td>1</td>\n",
       "      <td>1</td>\n",
       "      <td>1</td>\n",
       "      <td>1</td>\n",
       "      <td>1</td>\n",
       "      <td>1</td>\n",
       "      <td>1</td>\n",
       "      <td>1</td>\n",
       "    </tr>\n",
       "    <tr>\n",
       "      <th>1</th>\n",
       "      <td>1</td>\n",
       "      <td>1</td>\n",
       "      <td>1</td>\n",
       "      <td>1</td>\n",
       "      <td>1</td>\n",
       "      <td>1</td>\n",
       "      <td>1</td>\n",
       "      <td>1</td>\n",
       "      <td>1</td>\n",
       "      <td>1</td>\n",
       "    </tr>\n",
       "    <tr>\n",
       "      <th>2</th>\n",
       "      <td>1</td>\n",
       "      <td>1</td>\n",
       "      <td>1</td>\n",
       "      <td>1</td>\n",
       "      <td>1</td>\n",
       "      <td>1</td>\n",
       "      <td>1</td>\n",
       "      <td>1</td>\n",
       "      <td>1</td>\n",
       "      <td>1</td>\n",
       "    </tr>\n",
       "    <tr>\n",
       "      <th>3</th>\n",
       "      <td>1</td>\n",
       "      <td>1</td>\n",
       "      <td>1</td>\n",
       "      <td>1</td>\n",
       "      <td>1</td>\n",
       "      <td>1</td>\n",
       "      <td>1</td>\n",
       "      <td>1</td>\n",
       "      <td>1</td>\n",
       "      <td>1</td>\n",
       "    </tr>\n",
       "    <tr>\n",
       "      <th>4</th>\n",
       "      <td>1</td>\n",
       "      <td>1</td>\n",
       "      <td>1</td>\n",
       "      <td>1</td>\n",
       "      <td>1</td>\n",
       "      <td>1</td>\n",
       "      <td>1</td>\n",
       "      <td>1</td>\n",
       "      <td>1</td>\n",
       "      <td>1</td>\n",
       "    </tr>\n",
       "  </tbody>\n",
       "</table>\n",
       "</div>"
      ],
      "text/plain": [
       "   C1 Perceptron n_iter = 75  C1 Perceptron n_iter = 150  \\\n",
       "0                          0                           0   \n",
       "1                          1                           1   \n",
       "2                          1                           1   \n",
       "3                          1                           1   \n",
       "4                          1                           1   \n",
       "\n",
       "   C2 Logistic Regression C = 0.1  C2 Logistic Regression C = 0.01  \\\n",
       "0                               1                                1   \n",
       "1                               1                                1   \n",
       "2                               1                                1   \n",
       "3                               1                                1   \n",
       "4                               1                                1   \n",
       "\n",
       "   C3 Linear SVM C = 0.1  C3 Linear SVM C = 0.01  \\\n",
       "0                      1                       1   \n",
       "1                      1                       1   \n",
       "2                      1                       1   \n",
       "3                      1                       1   \n",
       "4                      1                       1   \n",
       "\n",
       "   C4 Decision Tree max_depth = 16  C4 Decision Tree max_depth = 10  \\\n",
       "0                                1                                1   \n",
       "1                                1                                1   \n",
       "2                                1                                1   \n",
       "3                                1                                1   \n",
       "4                                1                                1   \n",
       "\n",
       "   C5 Random Forest max_depth = 9  C5 Random Forest max_depth = 7  \n",
       "0                               1                               1  \n",
       "1                               1                               1  \n",
       "2                               1                               1  \n",
       "3                               1                               1  \n",
       "4                               1                               1  "
      ]
     },
     "execution_count": 78,
     "metadata": {},
     "output_type": "execute_result"
    }
   ],
   "source": [
    "# preview the first 5 rows of training dataset result\n",
    "df_train_cw.head()"
   ]
  },
  {
   "cell_type": "code",
   "execution_count": 116,
   "metadata": {
    "collapsed": true
   },
   "outputs": [],
   "source": [
    "# save result to csv file\n",
    "df_train_cw.to_csv('train_correct_wrong.csv', index = True)\n",
    "df_test_cw.to_csv('test_correct_wrong.csv', index = True)"
   ]
  },
  {
   "cell_type": "markdown",
   "metadata": {},
   "source": [
    "### Set threshold and compute Easy / Hard label"
   ]
  },
  {
   "cell_type": "code",
   "execution_count": 7,
   "metadata": {
    "collapsed": true
   },
   "outputs": [],
   "source": [
    "# read correct_wrong file\n",
    "df_train_cw = pd.read_csv('train_correct_wrong.csv', index_col = 0)\n",
    "df_test_cw = pd.read_csv('test_correct_wrong.csv', index_col = 0)"
   ]
  },
  {
   "cell_type": "code",
   "execution_count": 8,
   "metadata": {
    "collapsed": false
   },
   "outputs": [
    {
     "data": {
      "text/html": [
       "<div>\n",
       "<style>\n",
       "    .dataframe thead tr:only-child th {\n",
       "        text-align: right;\n",
       "    }\n",
       "\n",
       "    .dataframe thead th {\n",
       "        text-align: left;\n",
       "    }\n",
       "\n",
       "    .dataframe tbody tr th {\n",
       "        vertical-align: top;\n",
       "    }\n",
       "</style>\n",
       "<table border=\"1\" class=\"dataframe\">\n",
       "  <thead>\n",
       "    <tr style=\"text-align: right;\">\n",
       "      <th></th>\n",
       "      <th>C1 Perceptron n_iter = 75</th>\n",
       "      <th>C1 Perceptron n_iter = 150</th>\n",
       "      <th>C2 Logistic Regression C = 0.1</th>\n",
       "      <th>C2 Logistic Regression C = 0.01</th>\n",
       "      <th>C3 Linear SVM C = 0.1</th>\n",
       "      <th>C3 Linear SVM C = 0.01</th>\n",
       "      <th>C4 Decision Tree max_depth = 16</th>\n",
       "      <th>C4 Decision Tree max_depth = 10</th>\n",
       "      <th>C5 Random Forest max_depth = 9</th>\n",
       "      <th>C5 Random Forest max_depth = 7</th>\n",
       "    </tr>\n",
       "  </thead>\n",
       "  <tbody>\n",
       "    <tr>\n",
       "      <th>0</th>\n",
       "      <td>0</td>\n",
       "      <td>0</td>\n",
       "      <td>1</td>\n",
       "      <td>1</td>\n",
       "      <td>1</td>\n",
       "      <td>1</td>\n",
       "      <td>1</td>\n",
       "      <td>1</td>\n",
       "      <td>1</td>\n",
       "      <td>1</td>\n",
       "    </tr>\n",
       "    <tr>\n",
       "      <th>1</th>\n",
       "      <td>1</td>\n",
       "      <td>1</td>\n",
       "      <td>1</td>\n",
       "      <td>1</td>\n",
       "      <td>1</td>\n",
       "      <td>1</td>\n",
       "      <td>1</td>\n",
       "      <td>1</td>\n",
       "      <td>1</td>\n",
       "      <td>1</td>\n",
       "    </tr>\n",
       "    <tr>\n",
       "      <th>2</th>\n",
       "      <td>1</td>\n",
       "      <td>1</td>\n",
       "      <td>1</td>\n",
       "      <td>1</td>\n",
       "      <td>1</td>\n",
       "      <td>1</td>\n",
       "      <td>1</td>\n",
       "      <td>1</td>\n",
       "      <td>1</td>\n",
       "      <td>1</td>\n",
       "    </tr>\n",
       "    <tr>\n",
       "      <th>3</th>\n",
       "      <td>1</td>\n",
       "      <td>1</td>\n",
       "      <td>1</td>\n",
       "      <td>1</td>\n",
       "      <td>1</td>\n",
       "      <td>1</td>\n",
       "      <td>1</td>\n",
       "      <td>1</td>\n",
       "      <td>1</td>\n",
       "      <td>1</td>\n",
       "    </tr>\n",
       "    <tr>\n",
       "      <th>4</th>\n",
       "      <td>1</td>\n",
       "      <td>1</td>\n",
       "      <td>1</td>\n",
       "      <td>1</td>\n",
       "      <td>1</td>\n",
       "      <td>1</td>\n",
       "      <td>1</td>\n",
       "      <td>1</td>\n",
       "      <td>1</td>\n",
       "      <td>1</td>\n",
       "    </tr>\n",
       "  </tbody>\n",
       "</table>\n",
       "</div>"
      ],
      "text/plain": [
       "   C1 Perceptron n_iter = 75  C1 Perceptron n_iter = 150  \\\n",
       "0                          0                           0   \n",
       "1                          1                           1   \n",
       "2                          1                           1   \n",
       "3                          1                           1   \n",
       "4                          1                           1   \n",
       "\n",
       "   C2 Logistic Regression C = 0.1  C2 Logistic Regression C = 0.01  \\\n",
       "0                               1                                1   \n",
       "1                               1                                1   \n",
       "2                               1                                1   \n",
       "3                               1                                1   \n",
       "4                               1                                1   \n",
       "\n",
       "   C3 Linear SVM C = 0.1  C3 Linear SVM C = 0.01  \\\n",
       "0                      1                       1   \n",
       "1                      1                       1   \n",
       "2                      1                       1   \n",
       "3                      1                       1   \n",
       "4                      1                       1   \n",
       "\n",
       "   C4 Decision Tree max_depth = 16  C4 Decision Tree max_depth = 10  \\\n",
       "0                                1                                1   \n",
       "1                                1                                1   \n",
       "2                                1                                1   \n",
       "3                                1                                1   \n",
       "4                                1                                1   \n",
       "\n",
       "   C5 Random Forest max_depth = 9  C5 Random Forest max_depth = 7  \n",
       "0                               1                               1  \n",
       "1                               1                               1  \n",
       "2                               1                               1  \n",
       "3                               1                               1  \n",
       "4                               1                               1  "
      ]
     },
     "execution_count": 8,
     "metadata": {},
     "output_type": "execute_result"
    }
   ],
   "source": [
    "# check correct_wrong dataframe\n",
    "df_train_cw.head()"
   ]
  },
  {
   "cell_type": "code",
   "execution_count": 9,
   "metadata": {
    "collapsed": true
   },
   "outputs": [],
   "source": [
    "# set default threshold to be 50%\n",
    "# Easy -> 0, Hard -> 1\n",
    "df_train_cw_50 = df_train_cw.apply(lambda x: 0 if np.average(x) >= 0.5 else 1, axis = 1)\n",
    "df_test_cw_50 = df_test_cw.apply(lambda x: 0 if np.average(x) >= 0.5 else 1, axis = 1)"
   ]
  },
  {
   "cell_type": "code",
   "execution_count": 10,
   "metadata": {
    "collapsed": false
   },
   "outputs": [
    {
     "name": "stdout",
     "output_type": "stream",
     "text": [
      "0    56171\n",
      "1     3829\n",
      "dtype: int64\n",
      "0    9272\n",
      "1     728\n",
      "dtype: int64\n"
     ]
    }
   ],
   "source": [
    "# count the number of easy and hard images\n",
    "print(df_train_cw_50.value_counts())\n",
    "print(df_test_cw_50.value_counts())"
   ]
  },
  {
   "cell_type": "code",
   "execution_count": 11,
   "metadata": {
    "collapsed": true
   },
   "outputs": [],
   "source": [
    "# get the array of easy/hard label\n",
    "eh_train_label_50 = df_train_cw_50.values\n",
    "eh_test_label_50 = df_test_cw_50.values"
   ]
  },
  {
   "cell_type": "markdown",
   "metadata": {},
   "source": [
    "## Classify Easy / Hard Label"
   ]
  },
  {
   "cell_type": "markdown",
   "metadata": {},
   "source": [
    "Since any classification model can be used to classify the easy / hard label, logistic regression, linear svm and random forest models are chosen for this step.\n",
    "\n",
    "To achieve better accuracy, gridsearchCV is used in this step."
   ]
  },
  {
   "cell_type": "markdown",
   "metadata": {},
   "source": [
    "### Classification with Logistic Regression"
   ]
  },
  {
   "cell_type": "code",
   "execution_count": 12,
   "metadata": {
    "collapsed": false
   },
   "outputs": [
    {
     "name": "stdout",
     "output_type": "stream",
     "text": [
      "Running time: 396.666\n"
     ]
    }
   ],
   "source": [
    "start = timeit.default_timer()\n",
    "\n",
    "# set the parameter grid for C\n",
    "param_grid_logit = {'C': [0.0001, 0.001, 0.01, 0.1, 1, 5]}\n",
    "# use stratified 3-fold cross validation to tune the model\n",
    "# use accuracy as scoring parameter\n",
    "clf_eh_grid_logit = GridSearchCV(LogisticRegression(penalty= 'l2', solver='newton-cg'),param_grid_logit, scoring = 'accuracy', cv = 3)\n",
    "clf_eh_grid_logit.fit(mnisttt.train.images, eh_train_label_50)\n",
    "\n",
    "stop = timeit.default_timer()\n",
    "print('Running time: %.3f' % (stop - start))"
   ]
  },
  {
   "cell_type": "code",
   "execution_count": 13,
   "metadata": {
    "collapsed": false
   },
   "outputs": [
    {
     "data": {
      "text/plain": [
       "[mean: 0.93618, std: 0.00002, params: {'C': 0.0001},\n",
       " mean: 0.93618, std: 0.00002, params: {'C': 0.001},\n",
       " mean: 0.93615, std: 0.00007, params: {'C': 0.01},\n",
       " mean: 0.93612, std: 0.00019, params: {'C': 0.1},\n",
       " mean: 0.93572, std: 0.00065, params: {'C': 1},\n",
       " mean: 0.93517, std: 0.00073, params: {'C': 5}]"
      ]
     },
     "execution_count": 13,
     "metadata": {},
     "output_type": "execute_result"
    }
   ],
   "source": [
    "clf_eh_grid_logit.grid_scores_"
   ]
  },
  {
   "cell_type": "markdown",
   "metadata": {},
   "source": [
    "The optimal tuned Logistic Regression model:\n",
    "\n",
    "- parameter: C = 0.001\n",
    "\n",
    "- average accuracy = 93.618%"
   ]
  },
  {
   "cell_type": "code",
   "execution_count": 14,
   "metadata": {
    "collapsed": false
   },
   "outputs": [
    {
     "data": {
      "text/plain": [
       "0.92720000000000002"
      ]
     },
     "execution_count": 14,
     "metadata": {},
     "output_type": "execute_result"
    }
   ],
   "source": [
    "# predict test labels and get accuracy\n",
    "clf_eh_grid_logit.score(mnisttt.test.images, eh_test_label_50)"
   ]
  },
  {
   "cell_type": "markdown",
   "metadata": {},
   "source": [
    "The test accuracy is 92.72%"
   ]
  },
  {
   "cell_type": "markdown",
   "metadata": {},
   "source": [
    "### Classification with Linear SVM"
   ]
  },
  {
   "cell_type": "code",
   "execution_count": 18,
   "metadata": {
    "collapsed": false
   },
   "outputs": [
    {
     "name": "stdout",
     "output_type": "stream",
     "text": [
      "Running time: 254.497\n"
     ]
    }
   ],
   "source": [
    "start = timeit.default_timer()\n",
    "\n",
    "# set the parameter grid for C\n",
    "param_grid_lsvm = {'C': [0.0001,0.01, 1, 5, 10]}\n",
    "# use stratified 3-fold cross validation to tune the model\n",
    "# use accuracy as scoring paramsvm\n",
    "clf_eh_grid_lsvm = GridSearchCV(LinearSVC(penalty = 'l2', multi_class = 'ovr'),param_grid_lsvm, scoring = 'accuracy', cv = 3)\n",
    "clf_eh_grid_lsvm.fit(mnisttt.train.images, eh_train_label_50)\n",
    "\n",
    "stop = timeit.default_timer()\n",
    "print('Running time: %.3f' % (stop - start))"
   ]
  },
  {
   "cell_type": "code",
   "execution_count": 19,
   "metadata": {
    "collapsed": false
   },
   "outputs": [
    {
     "data": {
      "text/plain": [
       "[mean: 0.93618, std: 0.00002, params: {'C': 0.0001},\n",
       " mean: 0.93618, std: 0.00002, params: {'C': 0.01},\n",
       " mean: 0.93597, std: 0.00009, params: {'C': 1},\n",
       " mean: 0.93588, std: 0.00016, params: {'C': 5},\n",
       " mean: 0.93507, std: 0.00115, params: {'C': 10}]"
      ]
     },
     "execution_count": 19,
     "metadata": {},
     "output_type": "execute_result"
    }
   ],
   "source": [
    "clf_eh_grid_lsvm.grid_scores_"
   ]
  },
  {
   "cell_type": "markdown",
   "metadata": {
    "collapsed": true
   },
   "source": [
    "The optimal tuned Logistic Regression model:\n",
    "\n",
    "- parameter: C = 0.01\n",
    "\n",
    "- average accuracy = 93.618%"
   ]
  },
  {
   "cell_type": "code",
   "execution_count": 20,
   "metadata": {
    "collapsed": false
   },
   "outputs": [
    {
     "data": {
      "text/plain": [
       "0.92720000000000002"
      ]
     },
     "execution_count": 20,
     "metadata": {},
     "output_type": "execute_result"
    }
   ],
   "source": [
    "# predict test labels and get accuracy\n",
    "clf_eh_grid_lsvm.score(mnisttt.test.images, eh_test_label_50)"
   ]
  },
  {
   "cell_type": "markdown",
   "metadata": {},
   "source": [
    "The test accuracy is 92.72%"
   ]
  },
  {
   "cell_type": "markdown",
   "metadata": {},
   "source": [
    "### Classification with Random Forest"
   ]
  },
  {
   "cell_type": "code",
   "execution_count": 30,
   "metadata": {
    "collapsed": false
   },
   "outputs": [
    {
     "name": "stdout",
     "output_type": "stream",
     "text": [
      "Running time: 260.811\n"
     ]
    }
   ],
   "source": [
    "start = timeit.default_timer()\n",
    "\n",
    "# set the parameter grid for C\n",
    "param_grid_rf = {'n_estimators': [50],'max_depth': [5, 10, 15, 20, 50, 100]}\n",
    "# use stratified 3-fold cross validation to tune the model\n",
    "# use accuracy as scoring paramsvm\n",
    "clf_eh_grid_rf = GridSearchCV(RandomForestClassifier(),param_grid_rf, scoring = 'accuracy', cv = 3)\n",
    "clf_eh_grid_rf.fit(mnisttt.train.images, eh_train_label_50)\n",
    "\n",
    "stop = timeit.default_timer()\n",
    "print('Running time: %.3f' % (stop - start))"
   ]
  },
  {
   "cell_type": "code",
   "execution_count": 31,
   "metadata": {
    "collapsed": false
   },
   "outputs": [
    {
     "data": {
      "text/plain": [
       "[mean: 0.93618, std: 0.00002, params: {'max_depth': 5, 'n_estimators': 50},\n",
       " mean: 0.93618, std: 0.00002, params: {'max_depth': 10, 'n_estimators': 50},\n",
       " mean: 0.93622, std: 0.00006, params: {'max_depth': 15, 'n_estimators': 50},\n",
       " mean: 0.93643, std: 0.00013, params: {'max_depth': 20, 'n_estimators': 50},\n",
       " mean: 0.93642, std: 0.00002, params: {'max_depth': 50, 'n_estimators': 50},\n",
       " mean: 0.93640, std: 0.00014, params: {'max_depth': 100, 'n_estimators': 50}]"
      ]
     },
     "execution_count": 31,
     "metadata": {},
     "output_type": "execute_result"
    }
   ],
   "source": [
    "clf_eh_grid_rf.grid_scores_"
   ]
  },
  {
   "cell_type": "code",
   "execution_count": 113,
   "metadata": {
    "collapsed": false
   },
   "outputs": [
    {
     "name": "stdout",
     "output_type": "stream",
     "text": [
      "Running time: 367.467\n"
     ]
    }
   ],
   "source": [
    "start = timeit.default_timer()\n",
    "\n",
    "# set the parameter grid for C\n",
    "param_grid_rf = {'n_estimators': [100],'max_depth': [5, 10, 15, 20, 50]}\n",
    "# use stratified 3-fold cross validation to tune the model\n",
    "# use accuracy as scoring paramsvm\n",
    "clf_eh_grid_rf = GridSearchCV(RandomForestClassifier(),param_grid_rf, scoring = 'accuracy', cv = 3)\n",
    "clf_eh_grid_rf.fit(mnisttt.train.images, eh_train_label_50)\n",
    "\n",
    "stop = timeit.default_timer()\n",
    "print('Running time: %.3f' % (stop - start))"
   ]
  },
  {
   "cell_type": "code",
   "execution_count": 26,
   "metadata": {
    "collapsed": false
   },
   "outputs": [
    {
     "data": {
      "text/plain": [
       "[mean: 0.93618, std: 0.00002, params: {'max_depth': 5, 'n_estimators': 100},\n",
       " mean: 0.93618, std: 0.00002, params: {'max_depth': 10, 'n_estimators': 100},\n",
       " mean: 0.93625, std: 0.00004, params: {'max_depth': 15, 'n_estimators': 100},\n",
       " mean: 0.93635, std: 0.00012, params: {'max_depth': 20, 'n_estimators': 100},\n",
       " mean: 0.93637, std: 0.00010, params: {'max_depth': 50, 'n_estimators': 100}]"
      ]
     },
     "execution_count": 26,
     "metadata": {},
     "output_type": "execute_result"
    }
   ],
   "source": [
    "clf_eh_grid_rf.grid_scores_"
   ]
  },
  {
   "cell_type": "markdown",
   "metadata": {},
   "source": [
    "The optimal tuned Random Forest model:\n",
    "\n",
    "- parameter: max_depth = 20, n_estimators = 50\n",
    "\n",
    "- average accuracy = 93.643%"
   ]
  },
  {
   "cell_type": "code",
   "execution_count": 32,
   "metadata": {
    "collapsed": false
   },
   "outputs": [
    {
     "data": {
      "text/plain": [
       "0.92759999999999998"
      ]
     },
     "execution_count": 32,
     "metadata": {},
     "output_type": "execute_result"
    }
   ],
   "source": [
    "# predict test labels and get accuracy\n",
    "clf_eh_grid_rf.score(mnisttt.test.images, eh_test_label_50)"
   ]
  },
  {
   "cell_type": "markdown",
   "metadata": {},
   "source": [
    "The test accuracy is 92.76%"
   ]
  },
  {
   "cell_type": "markdown",
   "metadata": {},
   "source": [
    "### Conclusion"
   ]
  },
  {
   "cell_type": "markdown",
   "metadata": {},
   "source": [
    "Overall, the difference between 3 simple models are small:\n",
    "\n",
    "- Logistic Regression:\n",
    "    - Parameter: C = 0.001\n",
    "    - Test Accuracy: 92.72%\n",
    "\n",
    "- Linear SVM:\n",
    "    - Parameter: C = 0.01\n",
    "    - Test Accuracy: 92.72%\n",
    "\n",
    "- Random Forest:\n",
    "    - Parameter: max_depth = 20, n_estimators = 50\n",
    "    - Test Accuracy: 92.76\n",
    "\n",
    "The ***Random Forest*** model's performance is slightly better than the other two."
   ]
  },
  {
   "cell_type": "code",
   "execution_count": 12,
   "metadata": {
    "collapsed": false
   },
   "outputs": [
    {
     "data": {
      "text/plain": [
       "GridSearchCV(cv=3, error_score='raise',\n",
       "       estimator=RandomForestClassifier(bootstrap=True, class_weight=None, criterion='gini',\n",
       "            max_depth=None, max_features='auto', max_leaf_nodes=None,\n",
       "            min_impurity_decrease=0.0, min_impurity_split=None,\n",
       "            min_samples_leaf=1, min_samples_split=2,\n",
       "            min_weight_fraction_leaf=0.0, n_estimators=50, n_jobs=1,\n",
       "            oob_score=False, random_state=None, verbose=0,\n",
       "            warm_start=False),\n",
       "       fit_params=None, iid=True, n_jobs=1, param_grid={'max_depth': [20]},\n",
       "       pre_dispatch='2*n_jobs', refit=True, return_train_score=True,\n",
       "       scoring='accuracy', verbose=0)"
      ]
     },
     "execution_count": 12,
     "metadata": {},
     "output_type": "execute_result"
    }
   ],
   "source": [
    "# train the random forest model for future use\n",
    "clf_eh_rf = GridSearchCV(RandomForestClassifier(n_estimators=50), param_grid = {'max_depth': [20]}, scoring='accuracy', cv = 3)\n",
    "clf_eh_rf.fit(mnisttt.train.images, eh_train_label_50)"
   ]
  },
  {
   "cell_type": "code",
   "execution_count": 13,
   "metadata": {
    "collapsed": false
   },
   "outputs": [
    {
     "data": {
      "text/plain": [
       "[mean: 0.93645, std: 0.00011, params: {'max_depth': 20}]"
      ]
     },
     "execution_count": 13,
     "metadata": {},
     "output_type": "execute_result"
    }
   ],
   "source": [
    "clf_eh_rf.grid_scores_"
   ]
  },
  {
   "cell_type": "markdown",
   "metadata": {},
   "source": [
    "## Classify Easy Images"
   ]
  },
  {
   "cell_type": "markdown",
   "metadata": {},
   "source": [
    "### Split Easy dataset"
   ]
  },
  {
   "cell_type": "code",
   "execution_count": 12,
   "metadata": {
    "collapsed": true
   },
   "outputs": [],
   "source": [
    "# split training easy image data\n",
    "train_image_easy = pd.DataFrame(mnisttt.train.images)\n",
    "train_image_easy['eh'] = eh_train_label_50\n",
    "train_image_easy = train_image_easy[train_image_easy['eh'] == 0]\n",
    "train_image_easy.drop(['eh'], axis = 1, inplace = True)\n",
    "\n",
    "# split testing easy image data\n",
    "test_image_easy = pd.DataFrame(mnisttt.test.images)\n",
    "test_image_easy['eh'] = eh_test_label_50\n",
    "test_image_easy = test_image_easy[test_image_easy['eh'] == 0]\n",
    "test_image_easy.drop(['eh'], axis = 1, inplace = True)"
   ]
  },
  {
   "cell_type": "code",
   "execution_count": 13,
   "metadata": {
    "collapsed": false
   },
   "outputs": [
    {
     "name": "stdout",
     "output_type": "stream",
     "text": [
      "(56171, 784)\n",
      "(9272, 784)\n"
     ]
    }
   ],
   "source": [
    "# check training and testing easy image dataset shape\n",
    "print(train_image_easy.shape)\n",
    "print(test_image_easy.shape)"
   ]
  },
  {
   "cell_type": "code",
   "execution_count": 14,
   "metadata": {
    "collapsed": true
   },
   "outputs": [],
   "source": [
    "# split training easy label data\n",
    "train_label_easy = pd.DataFrame(mnisttt.train.labels)\n",
    "train_label_easy['eh'] = eh_train_label_50\n",
    "train_label_easy = train_label_easy[train_label_easy['eh'] == 0]\n",
    "train_label_easy.drop(['eh'], axis = 1, inplace = True)\n",
    "\n",
    "# split testing easy label data\n",
    "test_label_easy = pd.DataFrame(mnisttt.test.labels)\n",
    "test_label_easy['eh'] = eh_test_label_50\n",
    "test_label_easy = test_label_easy[test_label_easy['eh'] == 0]\n",
    "test_label_easy.drop(['eh'], axis = 1, inplace = True)"
   ]
  },
  {
   "cell_type": "code",
   "execution_count": 15,
   "metadata": {
    "collapsed": false
   },
   "outputs": [
    {
     "name": "stdout",
     "output_type": "stream",
     "text": [
      "(56171, 1)\n",
      "(9272, 1)\n"
     ]
    }
   ],
   "source": [
    "# check training and testing easy label dataset shape\n",
    "print(train_label_easy.shape)\n",
    "print(test_label_easy.shape)"
   ]
  },
  {
   "cell_type": "markdown",
   "metadata": {
    "collapsed": true
   },
   "source": [
    "### Simple Classifier for Easy Image"
   ]
  },
  {
   "cell_type": "markdown",
   "metadata": {
    "collapsed": true
   },
   "source": [
    "For the simple classifier, the model with best accuracy is Radial SVM (C = 50)"
   ]
  },
  {
   "cell_type": "code",
   "execution_count": 16,
   "metadata": {
    "collapsed": false
   },
   "outputs": [
    {
     "data": {
      "text/plain": [
       "<matplotlib.figure.Figure at 0x12f8df4a8>"
      ]
     },
     "metadata": {},
     "output_type": "display_data"
    },
    {
     "data": {
      "image/png": "[encoded data removed]",
      "text/plain": [
       "<matplotlib.figure.Figure at 0x12f8dfe48>"
      ]
     },
     "metadata": {},
     "output_type": "display_data"
    }
   ],
   "source": [
    "# preview 20 easy images\n",
    "image_plot(train_image_easy, 20)"
   ]
  },
  {
   "cell_type": "code",
   "execution_count": 18,
   "metadata": {
    "collapsed": false
   },
   "outputs": [
    {
     "name": "stdout",
     "output_type": "stream",
     "text": [
      "Running time: 105.591\n"
     ]
    }
   ],
   "source": [
    "start = timeit.default_timer()\n",
    "\n",
    "# fit easy data to radial svm model\n",
    "clf_easy = SVC(C = 50, kernel = 'rbf', degree = 3, gamma = 'auto')\n",
    "clf_easy.fit(train_image_easy, train_label_easy)\n",
    "\n",
    "stop = timeit.default_timer()\n",
    "print('Running time: %.3f' % (stop - start))"
   ]
  },
  {
   "cell_type": "code",
   "execution_count": 19,
   "metadata": {
    "collapsed": false
   },
   "outputs": [
    {
     "data": {
      "text/plain": [
       "0.99919887486425385"
      ]
     },
     "execution_count": 19,
     "metadata": {},
     "output_type": "execute_result"
    }
   ],
   "source": [
    "# get the accuracy of the easy model on training dataset\n",
    "clf_easy.score(train_image_easy, train_label_easy)"
   ]
  },
  {
   "cell_type": "code",
   "execution_count": 20,
   "metadata": {
    "collapsed": false
   },
   "outputs": [
    {
     "data": {
      "text/plain": [
       "0.99525452976704054"
      ]
     },
     "execution_count": 20,
     "metadata": {},
     "output_type": "execute_result"
    }
   ],
   "source": [
    "# get the accuracy of the easy model on test dataset\n",
    "clf_easy.score(test_image_easy, test_label_easy)"
   ]
  },
  {
   "cell_type": "code",
   "execution_count": 132,
   "metadata": {
    "collapsed": false
   },
   "outputs": [
    {
     "data": {
      "text/plain": [
       "array([7], dtype=uint8)"
      ]
     },
     "execution_count": 132,
     "metadata": {},
     "output_type": "execute_result"
    }
   ],
   "source": [
    "clf_easy.predict(test_image_easy.iloc[0])"
   ]
  },
  {
   "cell_type": "markdown",
   "metadata": {},
   "source": [
    "## Classify Hard Images"
   ]
  },
  {
   "cell_type": "markdown",
   "metadata": {},
   "source": [
    "### Split Hard Dataset"
   ]
  },
  {
   "cell_type": "code",
   "execution_count": 17,
   "metadata": {
    "collapsed": false
   },
   "outputs": [
    {
     "name": "stdout",
     "output_type": "stream",
     "text": [
      "Extracting ./train-images-idx3-ubyte.gz\n",
      "Extracting ./train-labels-idx1-ubyte.gz\n",
      "Extracting ./t10k-images-idx3-ubyte.gz\n",
      "Extracting ./t10k-labels-idx1-ubyte.gz\n"
     ]
    }
   ],
   "source": [
    "# load OneHotEncode dataset\n",
    "mnisttt_one_hot = input_data.read_data_sets(\".\", one_hot=True, validation_size = 0)"
   ]
  },
  {
   "cell_type": "code",
   "execution_count": 18,
   "metadata": {
    "collapsed": true
   },
   "outputs": [],
   "source": [
    "# split training hard image data\n",
    "train_image_hard = pd.DataFrame(mnisttt.train.images)\n",
    "train_image_hard['eh'] = eh_train_label_50\n",
    "train_image_hard = train_image_hard[train_image_hard['eh'] == 1]\n",
    "train_image_hard.drop(['eh'], axis = 1, inplace = True)\n",
    "train_image_hard.reset_index(drop = True, inplace = True)\n",
    "train_image_hard = train_image_hard.as_matrix()\n",
    "\n",
    "# split testing hard image data\n",
    "test_image_hard = pd.DataFrame(mnisttt.test.images)\n",
    "test_image_hard['eh'] = eh_test_label_50\n",
    "test_image_hard = test_image_hard[test_image_hard['eh'] == 1]\n",
    "test_image_hard.drop(['eh'], axis = 1, inplace = True)\n",
    "test_image_hard.reset_index(drop = True, inplace = True)\n",
    "test_image_hard = test_image_hard.as_matrix()"
   ]
  },
  {
   "cell_type": "code",
   "execution_count": 19,
   "metadata": {
    "collapsed": false
   },
   "outputs": [
    {
     "name": "stdout",
     "output_type": "stream",
     "text": [
      "(3829, 784)\n",
      "(728, 784)\n"
     ]
    }
   ],
   "source": [
    "# check training and testing hard image dataset shape\n",
    "print(train_image_hard.shape)\n",
    "print(test_image_hard.shape)"
   ]
  },
  {
   "cell_type": "code",
   "execution_count": 20,
   "metadata": {
    "collapsed": true
   },
   "outputs": [],
   "source": [
    "# split training hard label data\n",
    "train_label_hard = pd.DataFrame(mnisttt.train.labels)\n",
    "train_label_hard['eh'] = eh_train_label_50\n",
    "train_label_hard = train_label_hard[train_label_hard['eh'] == 1]\n",
    "train_label_hard.drop(['eh'], axis = 1, inplace = True)\n",
    "train_label_hard.reset_index(drop = True, inplace = True)\n",
    "train_label_hard = train_label_hard.as_matrix()\n",
    "\n",
    "# split testing hard label data\n",
    "test_label_hard = pd.DataFrame(mnisttt.test.labels)\n",
    "test_label_hard['eh'] = eh_test_label_50\n",
    "test_label_hard = test_label_hard[test_label_hard['eh'] == 1]\n",
    "test_label_hard.drop(['eh'], axis = 1, inplace = True)\n",
    "test_label_hard.reset_index(drop = True, inplace = True)\n",
    "test_label_hard = test_label_hard.as_matrix()"
   ]
  },
  {
   "cell_type": "code",
   "execution_count": 21,
   "metadata": {
    "collapsed": false
   },
   "outputs": [
    {
     "name": "stdout",
     "output_type": "stream",
     "text": [
      "(3829, 1)\n",
      "(728, 1)\n"
     ]
    }
   ],
   "source": [
    "# check training and testing hard label dataset shape\n",
    "print(train_label_hard.shape)\n",
    "print(test_label_hard.shape)"
   ]
  },
  {
   "cell_type": "code",
   "execution_count": 22,
   "metadata": {
    "collapsed": false
   },
   "outputs": [
    {
     "data": {
      "text/plain": [
       "<matplotlib.figure.Figure at 0x12f6b9f98>"
      ]
     },
     "metadata": {},
     "output_type": "display_data"
    },
    {
     "data": {
      "image/png": "[encoded data removed]",
      "text/plain": [
       "<matplotlib.figure.Figure at 0x12f6b9518>"
      ]
     },
     "metadata": {},
     "output_type": "display_data"
    }
   ],
   "source": [
    "# plot 20 random hard images\n",
    "image_plot(train_image_hard, 20)"
   ]
  },
  {
   "cell_type": "markdown",
   "metadata": {},
   "source": [
    "### MLP Classifier for Hard Images"
   ]
  },
  {
   "cell_type": "code",
   "execution_count": null,
   "metadata": {
    "collapsed": false
   },
   "outputs": [],
   "source": [
    "# use sklearn to construct MLP classifier\n",
    "start = timeit.default_timer()\n",
    "\n",
    "# set the parameter grid for C\n",
    "param_grid_mlp = {'hidden_layer_sizes': [(64, 32), (64,64), (128,64), (128, 64, 32), (256, 128, 64, 32)],\n",
    "                  'max_iter': [100, 200],\n",
    "                  'learning_rate_init': [0.001, 0.01, 0.1]}\n",
    "# use stratified 3-fold cross validation to tune the model\n",
    "# use accuracy as scoring paramsvm\n",
    "clf_eh_grid_mlp = GridSearchCV(MLPClassifier(activation='relu',alpha=1e-4,\n",
    "                                            solver='sgd', verbose=10, tol=1e-4, random_state=1),\n",
    "                              param_grid_mlp, scoring = 'accuracy', cv = 3)\n",
    "clf_eh_grid_mlp.fit(mnisttt.train.images, eh_train_label_50)\n",
    "\n",
    "stop = timeit.default_timer()\n",
    "print('Running time: %.3f' % (stop - start))"
   ]
  },
  {
   "cell_type": "code",
   "execution_count": 50,
   "metadata": {
    "collapsed": false
   },
   "outputs": [
    {
     "data": {
      "text/plain": [
       "[mean: 0.93657, std: 0.00008, params: {'hidden_layer_sizes': (64, 32), 'learning_rate_init': 0.001, 'max_iter': 100},\n",
       " mean: 0.93403, std: 0.00123, params: {'hidden_layer_sizes': (64, 32), 'learning_rate_init': 0.001, 'max_iter': 200},\n",
       " mean: 0.91415, std: 0.01411, params: {'hidden_layer_sizes': (64, 32), 'learning_rate_init': 0.01, 'max_iter': 100},\n",
       " mean: 0.91415, std: 0.01411, params: {'hidden_layer_sizes': (64, 32), 'learning_rate_init': 0.01, 'max_iter': 200},\n",
       " mean: 0.93170, std: 0.00179, params: {'hidden_layer_sizes': (64, 32), 'learning_rate_init': 0.1, 'max_iter': 100},\n",
       " mean: 0.93170, std: 0.00179, params: {'hidden_layer_sizes': (64, 32), 'learning_rate_init': 0.1, 'max_iter': 200},\n",
       " mean: 0.93625, std: 0.00067, params: {'hidden_layer_sizes': (64, 64), 'learning_rate_init': 0.001, 'max_iter': 100},\n",
       " mean: 0.93393, std: 0.00133, params: {'hidden_layer_sizes': (64, 64), 'learning_rate_init': 0.001, 'max_iter': 200},\n",
       " mean: 0.93092, std: 0.00479, params: {'hidden_layer_sizes': (64, 64), 'learning_rate_init': 0.01, 'max_iter': 100},\n",
       " mean: 0.93092, std: 0.00479, params: {'hidden_layer_sizes': (64, 64), 'learning_rate_init': 0.01, 'max_iter': 200},\n",
       " mean: 0.92907, std: 0.00303, params: {'hidden_layer_sizes': (64, 64), 'learning_rate_init': 0.1, 'max_iter': 100},\n",
       " mean: 0.92907, std: 0.00303, params: {'hidden_layer_sizes': (64, 64), 'learning_rate_init': 0.1, 'max_iter': 200},\n",
       " mean: 0.93663, std: 0.00035, params: {'hidden_layer_sizes': (128, 64), 'learning_rate_init': 0.001, 'max_iter': 100},\n",
       " mean: 0.93472, std: 0.00168, params: {'hidden_layer_sizes': (128, 64), 'learning_rate_init': 0.001, 'max_iter': 200},\n",
       " mean: 0.93113, std: 0.00069, params: {'hidden_layer_sizes': (128, 64), 'learning_rate_init': 0.01, 'max_iter': 100},\n",
       " mean: 0.93113, std: 0.00069, params: {'hidden_layer_sizes': (128, 64), 'learning_rate_init': 0.01, 'max_iter': 200},\n",
       " mean: 0.93620, std: 0.00134, params: {'hidden_layer_sizes': (128, 64), 'learning_rate_init': 0.1, 'max_iter': 100},\n",
       " mean: 0.93620, std: 0.00134, params: {'hidden_layer_sizes': (128, 64), 'learning_rate_init': 0.1, 'max_iter': 200},\n",
       " mean: 0.93465, std: 0.00016, params: {'hidden_layer_sizes': (128, 64, 32), 'learning_rate_init': 0.001, 'max_iter': 100},\n",
       " mean: 0.92995, std: 0.00500, params: {'hidden_layer_sizes': (128, 64, 32), 'learning_rate_init': 0.001, 'max_iter': 200},\n",
       " mean: 0.92673, std: 0.00589, params: {'hidden_layer_sizes': (128, 64, 32), 'learning_rate_init': 0.01, 'max_iter': 100},\n",
       " mean: 0.92673, std: 0.00589, params: {'hidden_layer_sizes': (128, 64, 32), 'learning_rate_init': 0.01, 'max_iter': 200},\n",
       " mean: 0.93490, std: 0.00213, params: {'hidden_layer_sizes': (128, 64, 32), 'learning_rate_init': 0.1, 'max_iter': 100},\n",
       " mean: 0.93490, std: 0.00213, params: {'hidden_layer_sizes': (128, 64, 32), 'learning_rate_init': 0.1, 'max_iter': 200},\n",
       " mean: 0.93187, std: 0.00078, params: {'hidden_layer_sizes': (256, 128, 64, 32), 'learning_rate_init': 0.001, 'max_iter': 100},\n",
       " mean: 0.93145, std: 0.00348, params: {'hidden_layer_sizes': (256, 128, 64, 32), 'learning_rate_init': 0.001, 'max_iter': 200},\n",
       " mean: 0.93383, std: 0.00255, params: {'hidden_layer_sizes': (256, 128, 64, 32), 'learning_rate_init': 0.01, 'max_iter': 100},\n",
       " mean: 0.93383, std: 0.00255, params: {'hidden_layer_sizes': (256, 128, 64, 32), 'learning_rate_init': 0.01, 'max_iter': 200},\n",
       " mean: 0.93885, std: 0.00190, params: {'hidden_layer_sizes': (256, 128, 64, 32), 'learning_rate_init': 0.1, 'max_iter': 100},\n",
       " mean: 0.93885, std: 0.00190, params: {'hidden_layer_sizes': (256, 128, 64, 32), 'learning_rate_init': 0.1, 'max_iter': 200}]"
      ]
     },
     "execution_count": 50,
     "metadata": {},
     "output_type": "execute_result"
    }
   ],
   "source": [
    "clf_eh_grid_mlp.grid_scores_"
   ]
  },
  {
   "cell_type": "code",
   "execution_count": 58,
   "metadata": {
    "collapsed": false
   },
   "outputs": [
    {
     "data": {
      "text/plain": [
       "0.024725274725274724"
      ]
     },
     "execution_count": 58,
     "metadata": {},
     "output_type": "execute_result"
    }
   ],
   "source": [
    "clf_eh_grid_mlp.score(test_image_hard, test_label_hard)"
   ]
  },
  {
   "cell_type": "code",
   "execution_count": null,
   "metadata": {
    "collapsed": false
   },
   "outputs": [],
   "source": [
    "# use sklearn to construct MLP classifier\n",
    "start = timeit.default_timer()\n",
    "\n",
    "# set the parameter grid for C\n",
    "param_grid_mlp_hard = {'hidden_layer_sizes': [(512, 256, 64, 32, 16, 4), (256, 128, 64, 32)],\n",
    "                      'max_iter': [200],\n",
    "                      'learning_rate_init': [0.1],\n",
    "                      'alpha': [0.1],\n",
    "                      'solver': ['sgd'],\n",
    "                      'tol': [0.001]}\n",
    "# use stratified 3-fold cross validation to tune the model\n",
    "# use accuracy as scoring paramsvm\n",
    "clf_eh_grid_mlp_hard = GridSearchCV(MLPClassifier(activation='relu', verbose=10, random_state=3),\n",
    "                              param_grid_mlp_hard, scoring = 'accuracy', cv = 3)\n",
    "clf_eh_grid_mlp_hard.fit(train_image_hard, train_label_hard.flatten())\n",
    "\n",
    "stop = timeit.default_timer()\n",
    "print('Running time: %.3f' % (stop - start))"
   ]
  },
  {
   "cell_type": "code",
   "execution_count": 72,
   "metadata": {
    "collapsed": false
   },
   "outputs": [
    {
     "data": {
      "text/plain": [
       "[mean: 0.41525, std: 0.00102, params: {'hidden_layer_sizes': (64, 32), 'learning_rate_init': 0.001, 'max_iter': 100},\n",
       " mean: 0.52651, std: 0.00088, params: {'hidden_layer_sizes': (64, 32), 'learning_rate_init': 0.001, 'max_iter': 200},\n",
       " mean: 0.64090, std: 0.01337, params: {'hidden_layer_sizes': (64, 32), 'learning_rate_init': 0.01, 'max_iter': 100},\n",
       " mean: 0.64194, std: 0.01128, params: {'hidden_layer_sizes': (64, 32), 'learning_rate_init': 0.01, 'max_iter': 200},\n",
       " mean: 0.68425, std: 0.00485, params: {'hidden_layer_sizes': (64, 32), 'learning_rate_init': 0.1, 'max_iter': 100},\n",
       " mean: 0.68425, std: 0.00485, params: {'hidden_layer_sizes': (64, 32), 'learning_rate_init': 0.1, 'max_iter': 200},\n",
       " mean: 0.43641, std: 0.00544, params: {'hidden_layer_sizes': (64, 64), 'learning_rate_init': 0.001, 'max_iter': 100},\n",
       " mean: 0.54688, std: 0.00503, params: {'hidden_layer_sizes': (64, 64), 'learning_rate_init': 0.001, 'max_iter': 200},\n",
       " mean: 0.66466, std: 0.00270, params: {'hidden_layer_sizes': (64, 64), 'learning_rate_init': 0.01, 'max_iter': 100},\n",
       " mean: 0.67381, std: 0.00088, params: {'hidden_layer_sizes': (64, 64), 'learning_rate_init': 0.01, 'max_iter': 200},\n",
       " mean: 0.69548, std: 0.00510, params: {'hidden_layer_sizes': (64, 64), 'learning_rate_init': 0.1, 'max_iter': 100},\n",
       " mean: 0.69548, std: 0.00510, params: {'hidden_layer_sizes': (64, 64), 'learning_rate_init': 0.1, 'max_iter': 200},\n",
       " mean: 0.44215, std: 0.00647, params: {'hidden_layer_sizes': (128, 64), 'learning_rate_init': 0.001, 'max_iter': 100},\n",
       " mean: 0.56359, std: 0.00178, params: {'hidden_layer_sizes': (128, 64), 'learning_rate_init': 0.001, 'max_iter': 200},\n",
       " mean: 0.67824, std: 0.00271, params: {'hidden_layer_sizes': (128, 64), 'learning_rate_init': 0.01, 'max_iter': 100},\n",
       " mean: 0.68086, std: 0.00324, params: {'hidden_layer_sizes': (128, 64), 'learning_rate_init': 0.01, 'max_iter': 200},\n",
       " mean: 0.70932, std: 0.00354, params: {'hidden_layer_sizes': (128, 64), 'learning_rate_init': 0.1, 'max_iter': 100},\n",
       " mean: 0.70932, std: 0.00354, params: {'hidden_layer_sizes': (128, 64), 'learning_rate_init': 0.1, 'max_iter': 200},\n",
       " mean: 0.43144, std: 0.00109, params: {'hidden_layer_sizes': (128, 64, 32), 'learning_rate_init': 0.001, 'max_iter': 100},\n",
       " mean: 0.57065, std: 0.00108, params: {'hidden_layer_sizes': (128, 64, 32), 'learning_rate_init': 0.001, 'max_iter': 200},\n",
       " mean: 0.66414, std: 0.00462, params: {'hidden_layer_sizes': (128, 64, 32), 'learning_rate_init': 0.01, 'max_iter': 100},\n",
       " mean: 0.66284, std: 0.00592, params: {'hidden_layer_sizes': (128, 64, 32), 'learning_rate_init': 0.01, 'max_iter': 200},\n",
       " mean: 0.67511, std: 0.03300, params: {'hidden_layer_sizes': (128, 64, 32), 'learning_rate_init': 0.1, 'max_iter': 100},\n",
       " mean: 0.67511, std: 0.03300, params: {'hidden_layer_sizes': (128, 64, 32), 'learning_rate_init': 0.1, 'max_iter': 200},\n",
       " mean: 0.41708, std: 0.00969, params: {'hidden_layer_sizes': (256, 128, 64, 32), 'learning_rate_init': 0.001, 'max_iter': 100},\n",
       " mean: 0.59911, std: 0.01332, params: {'hidden_layer_sizes': (256, 128, 64, 32), 'learning_rate_init': 0.001, 'max_iter': 200},\n",
       " mean: 0.64978, std: 0.00659, params: {'hidden_layer_sizes': (256, 128, 64, 32), 'learning_rate_init': 0.01, 'max_iter': 100},\n",
       " mean: 0.64978, std: 0.00659, params: {'hidden_layer_sizes': (256, 128, 64, 32), 'learning_rate_init': 0.01, 'max_iter': 200},\n",
       " mean: 0.73596, std: 0.00357, params: {'hidden_layer_sizes': (256, 128, 64, 32), 'learning_rate_init': 0.1, 'max_iter': 100},\n",
       " mean: 0.73596, std: 0.00357, params: {'hidden_layer_sizes': (256, 128, 64, 32), 'learning_rate_init': 0.1, 'max_iter': 200}]"
      ]
     },
     "execution_count": 72,
     "metadata": {},
     "output_type": "execute_result"
    }
   ],
   "source": [
    "clf_eh_grid_mlp_hard.grid_scores_"
   ]
  },
  {
   "cell_type": "code",
   "execution_count": 19,
   "metadata": {
    "collapsed": false
   },
   "outputs": [
    {
     "data": {
      "text/plain": [
       "[mean: 0.66937, std: 0.00202, params: {'hidden_layer_sizes': (512, 256, 128, 64, 32), 'learning_rate_init': 0.001, 'max_iter': 200},\n",
       " mean: 0.68112, std: 0.04846, params: {'hidden_layer_sizes': (512, 256, 128, 64, 32), 'learning_rate_init': 0.01, 'max_iter': 200},\n",
       " mean: 0.59963, std: 0.16670, params: {'hidden_layer_sizes': (512, 256, 128, 64, 32), 'learning_rate_init': 0.1, 'max_iter': 200},\n",
       " mean: 0.17942, std: 0.00018, params: {'hidden_layer_sizes': (512, 256, 128, 64, 32), 'learning_rate_init': 1, 'max_iter': 200},\n",
       " mean: 0.67746, std: 0.00427, params: {'hidden_layer_sizes': (1024, 512, 256, 128, 64, 32), 'learning_rate_init': 0.001, 'max_iter': 200},\n",
       " mean: 0.52781, std: 0.15335, params: {'hidden_layer_sizes': (1024, 512, 256, 128, 64, 32), 'learning_rate_init': 0.01, 'max_iter': 200},\n",
       " mean: 0.68425, std: 0.08097, params: {'hidden_layer_sizes': (1024, 512, 256, 128, 64, 32), 'learning_rate_init': 0.1, 'max_iter': 200},\n",
       " mean: 0.17132, std: 0.01133, params: {'hidden_layer_sizes': (1024, 512, 256, 128, 64, 32), 'learning_rate_init': 1, 'max_iter': 200}]"
      ]
     },
     "execution_count": 19,
     "metadata": {},
     "output_type": "execute_result"
    }
   ],
   "source": [
    "clf_eh_grid_mlp_hard.grid_scores_"
   ]
  },
  {
   "cell_type": "code",
   "execution_count": 37,
   "metadata": {
    "collapsed": false
   },
   "outputs": [
    {
     "data": {
      "text/plain": [
       "[mean: 0.71559, std: 0.00375, params: {'alpha': 0.0001, 'hidden_layer_sizes': (256, 128, 64, 32), 'learning_rate_init': 0.01, 'max_iter': 200},\n",
       " mean: 0.74197, std: 0.02216, params: {'alpha': 0.0001, 'hidden_layer_sizes': (256, 128, 64, 32), 'learning_rate_init': 0.1, 'max_iter': 200},\n",
       " mean: 0.71350, std: 0.00167, params: {'alpha': 0.001, 'hidden_layer_sizes': (256, 128, 64, 32), 'learning_rate_init': 0.01, 'max_iter': 200},\n",
       " mean: 0.72839, std: 0.01380, params: {'alpha': 0.001, 'hidden_layer_sizes': (256, 128, 64, 32), 'learning_rate_init': 0.1, 'max_iter': 200},\n",
       " mean: 0.71167, std: 0.00484, params: {'alpha': 0.01, 'hidden_layer_sizes': (256, 128, 64, 32), 'learning_rate_init': 0.01, 'max_iter': 200},\n",
       " mean: 0.73831, std: 0.01139, params: {'alpha': 0.01, 'hidden_layer_sizes': (256, 128, 64, 32), 'learning_rate_init': 0.1, 'max_iter': 200},\n",
       " mean: 0.71272, std: 0.00274, params: {'alpha': 0.1, 'hidden_layer_sizes': (256, 128, 64, 32), 'learning_rate_init': 0.01, 'max_iter': 200},\n",
       " mean: 0.75712, std: 0.01847, params: {'alpha': 0.1, 'hidden_layer_sizes': (256, 128, 64, 32), 'learning_rate_init': 0.1, 'max_iter': 200},\n",
       " mean: 0.71716, std: 0.01416, params: {'alpha': 1, 'hidden_layer_sizes': (256, 128, 64, 32), 'learning_rate_init': 0.01, 'max_iter': 200},\n",
       " mean: 0.35962, std: 0.20203, params: {'alpha': 1, 'hidden_layer_sizes': (256, 128, 64, 32), 'learning_rate_init': 0.1, 'max_iter': 200}]"
      ]
     },
     "execution_count": 37,
     "metadata": {},
     "output_type": "execute_result"
    }
   ],
   "source": [
    "clf_eh_grid_mlp_hard.grid_scores_"
   ]
  },
  {
   "cell_type": "code",
   "execution_count": 42,
   "metadata": {
    "collapsed": false
   },
   "outputs": [
    {
     "data": {
      "text/plain": [
       "[mean: 0.70593, std: 0.00108, params: {'alpha': 0.1, 'hidden_layer_sizes': (256, 128, 64, 32), 'learning_rate_init': 0.01, 'max_iter': 200, 'solver': 'lbfgs'},\n",
       " mean: 0.71272, std: 0.00274, params: {'alpha': 0.1, 'hidden_layer_sizes': (256, 128, 64, 32), 'learning_rate_init': 0.01, 'max_iter': 200, 'solver': 'sgd'},\n",
       " mean: 0.69783, std: 0.02264, params: {'alpha': 0.1, 'hidden_layer_sizes': (256, 128, 64, 32), 'learning_rate_init': 0.01, 'max_iter': 200, 'solver': 'adam'},\n",
       " mean: 0.70593, std: 0.00108, params: {'alpha': 0.1, 'hidden_layer_sizes': (256, 128, 64, 32), 'learning_rate_init': 0.1, 'max_iter': 200, 'solver': 'lbfgs'},\n",
       " mean: 0.75712, std: 0.01847, params: {'alpha': 0.1, 'hidden_layer_sizes': (256, 128, 64, 32), 'learning_rate_init': 0.1, 'max_iter': 200, 'solver': 'sgd'},\n",
       " mean: 0.16323, std: 0.01129, params: {'alpha': 0.1, 'hidden_layer_sizes': (256, 128, 64, 32), 'learning_rate_init': 0.1, 'max_iter': 200, 'solver': 'adam'}]"
      ]
     },
     "execution_count": 42,
     "metadata": {},
     "output_type": "execute_result"
    }
   ],
   "source": [
    "clf_eh_grid_mlp_hard.grid_scores_"
   ]
  },
  {
   "cell_type": "code",
   "execution_count": 44,
   "metadata": {
    "collapsed": false
   },
   "outputs": [
    {
     "data": {
      "text/plain": [
       "[mean: 0.71272, std: 0.00274, params: {'alpha': 0.1, 'hidden_layer_sizes': (256, 128, 64, 32), 'learning_rate_init': 0.01, 'max_iter': 200, 'solver': 'sgd', 'tol': 1e-05},\n",
       " mean: 0.71272, std: 0.00274, params: {'alpha': 0.1, 'hidden_layer_sizes': (256, 128, 64, 32), 'learning_rate_init': 0.01, 'max_iter': 200, 'solver': 'sgd', 'tol': 0.0001},\n",
       " mean: 0.71089, std: 0.00291, params: {'alpha': 0.1, 'hidden_layer_sizes': (256, 128, 64, 32), 'learning_rate_init': 0.01, 'max_iter': 200, 'solver': 'sgd', 'tol': 0.001},\n",
       " mean: 0.70253, std: 0.00569, params: {'alpha': 0.1, 'hidden_layer_sizes': (256, 128, 64, 32), 'learning_rate_init': 0.01, 'max_iter': 200, 'solver': 'sgd', 'tol': 0.01},\n",
       " mean: 0.75712, std: 0.01847, params: {'alpha': 0.1, 'hidden_layer_sizes': (256, 128, 64, 32), 'learning_rate_init': 0.1, 'max_iter': 200, 'solver': 'sgd', 'tol': 1e-05},\n",
       " mean: 0.75712, std: 0.01847, params: {'alpha': 0.1, 'hidden_layer_sizes': (256, 128, 64, 32), 'learning_rate_init': 0.1, 'max_iter': 200, 'solver': 'sgd', 'tol': 0.0001},\n",
       " mean: 0.76077, std: 0.02127, params: {'alpha': 0.1, 'hidden_layer_sizes': (256, 128, 64, 32), 'learning_rate_init': 0.1, 'max_iter': 200, 'solver': 'sgd', 'tol': 0.001},\n",
       " mean: 0.75451, std: 0.01663, params: {'alpha': 0.1, 'hidden_layer_sizes': (256, 128, 64, 32), 'learning_rate_init': 0.1, 'max_iter': 200, 'solver': 'sgd', 'tol': 0.01}]"
      ]
     },
     "execution_count": 44,
     "metadata": {},
     "output_type": "execute_result"
    }
   ],
   "source": [
    "clf_eh_grid_mlp_hard.grid_scores_"
   ]
  },
  {
   "cell_type": "code",
   "execution_count": 47,
   "metadata": {
    "collapsed": false
   },
   "outputs": [
    {
     "data": {
      "text/plain": [
       "[mean: 0.71272, std: 0.00274, params: {'alpha': 0.1, 'hidden_layer_sizes': (256, 128, 64, 32), 'learning_rate_init': 0.01, 'max_iter': 200, 'solver': 'sgd', 'tol': 0.0001},\n",
       " mean: 0.71089, std: 0.00291, params: {'alpha': 0.1, 'hidden_layer_sizes': (256, 128, 64, 32), 'learning_rate_init': 0.01, 'max_iter': 200, 'solver': 'sgd', 'tol': 0.001},\n",
       " mean: 0.71690, std: 0.00352, params: {'alpha': 0.1, 'hidden_layer_sizes': (256, 128, 64, 32), 'learning_rate_init': 0.01, 'max_iter': 400, 'solver': 'sgd', 'tol': 0.0001},\n",
       " mean: 0.71089, std: 0.00291, params: {'alpha': 0.1, 'hidden_layer_sizes': (256, 128, 64, 32), 'learning_rate_init': 0.01, 'max_iter': 400, 'solver': 'sgd', 'tol': 0.001},\n",
       " mean: 0.75712, std: 0.01847, params: {'alpha': 0.1, 'hidden_layer_sizes': (256, 128, 64, 32), 'learning_rate_init': 0.1, 'max_iter': 200, 'solver': 'sgd', 'tol': 0.0001},\n",
       " mean: 0.76077, std: 0.02127, params: {'alpha': 0.1, 'hidden_layer_sizes': (256, 128, 64, 32), 'learning_rate_init': 0.1, 'max_iter': 200, 'solver': 'sgd', 'tol': 0.001},\n",
       " mean: 0.75163, std: 0.01474, params: {'alpha': 0.1, 'hidden_layer_sizes': (256, 128, 64, 32), 'learning_rate_init': 0.1, 'max_iter': 400, 'solver': 'sgd', 'tol': 0.0001},\n",
       " mean: 0.76077, std: 0.02127, params: {'alpha': 0.1, 'hidden_layer_sizes': (256, 128, 64, 32), 'learning_rate_init': 0.1, 'max_iter': 400, 'solver': 'sgd', 'tol': 0.001}]"
      ]
     },
     "execution_count": 47,
     "metadata": {},
     "output_type": "execute_result"
    }
   ],
   "source": [
    "clf_eh_grid_mlp_hard.grid_scores_"
   ]
  },
  {
   "cell_type": "code",
   "execution_count": 64,
   "metadata": {
    "collapsed": false
   },
   "outputs": [
    {
     "data": {
      "text/plain": [
       "[mean: 0.44346, std: 0.16098, params: {'alpha': 0.1, 'hidden_layer_sizes': (512, 256, 64, 32, 16, 4), 'learning_rate_init': 0.1, 'max_iter': 200, 'solver': 'sgd', 'tol': 0.001},\n",
       " mean: 0.76077, std: 0.02127, params: {'alpha': 0.1, 'hidden_layer_sizes': (256, 128, 64, 32), 'learning_rate_init': 0.1, 'max_iter': 200, 'solver': 'sgd', 'tol': 0.001}]"
      ]
     },
     "execution_count": 64,
     "metadata": {},
     "output_type": "execute_result"
    }
   ],
   "source": [
    "clf_eh_grid_mlp_hard.grid_scores_"
   ]
  },
  {
   "cell_type": "code",
   "execution_count": 71,
   "metadata": {
    "collapsed": false
   },
   "outputs": [
    {
     "data": {
      "text/plain": [
       "0.7678571428571429"
      ]
     },
     "execution_count": 71,
     "metadata": {},
     "output_type": "execute_result"
    }
   ],
   "source": [
    "# parameter: 'hidden_layer_sizes': (256, 128, 64, 32), 'learning_rate_init': 0.1, 'max_iter': 200, 'alpha':0.0001, tol: 0.0001\n",
    "clf_eh_grid_mlp_hard.score(test_image_hard, test_label_hard.flatten())"
   ]
  },
  {
   "cell_type": "code",
   "execution_count": 38,
   "metadata": {
    "collapsed": false
   },
   "outputs": [
    {
     "data": {
      "text/plain": [
       "0.79120879120879117"
      ]
     },
     "execution_count": 38,
     "metadata": {},
     "output_type": "execute_result"
    }
   ],
   "source": [
    "# parameter: 'hidden_layer_sizes': (256, 128, 64, 32), 'learning_rate_init': 0.1, 'max_iter': 200, 'alpha': 0.1, tol: 0.0001\n",
    "clf_eh_grid_mlp_hard.score(test_image_hard, test_label_hard.flatten())"
   ]
  },
  {
   "cell_type": "code",
   "execution_count": 65,
   "metadata": {
    "collapsed": false
   },
   "outputs": [
    {
     "data": {
      "text/plain": [
       "0.79120879120879117"
      ]
     },
     "execution_count": 65,
     "metadata": {},
     "output_type": "execute_result"
    }
   ],
   "source": [
    "# parameter: 'hidden_layer_sizes': (256, 128, 64, 32), 'learning_rate_init': 0.1, 'max_iter': 200, 'alpha': 0.1, tol: 0.001\n",
    "clf_eh_grid_mlp_hard.score(test_image_hard, test_label_hard.flatten())"
   ]
  },
  {
   "cell_type": "markdown",
   "metadata": {},
   "source": [
    "The MLP model trained with random images performed poorly on hard images, with an embarrassing **2.472%** accuracy. \n",
    "\n",
    "The MLP models trained only with hard images performed much better. The best one has 4 hidden layers [256, 128, 64, 32], and yielded **79.121%** accuracy."
   ]
  },
  {
   "cell_type": "markdown",
   "metadata": {},
   "source": [
    "### CNN Classifier for Hard Images"
   ]
  },
  {
   "cell_type": "code",
   "execution_count": 27,
   "metadata": {
    "collapsed": true
   },
   "outputs": [],
   "source": [
    "# use one hot encoded dataset to split easy image and labels\n",
    "# split training easy image data\n",
    "train_image_easy_oneHot = pd.DataFrame(mnisttt.train.images)\n",
    "train_image_easy_oneHot['eh'] = eh_train_label_50\n",
    "train_image_easy_oneHot = train_image_easy_oneHot[train_image_easy_oneHot['eh'] == 0]\n",
    "train_image_easy_oneHot.drop(['eh'], axis = 1, inplace = True)\n",
    "train_image_easy_oneHot.reset_index(drop = True, inplace = True)\n",
    "train_image_easy_oneHot = train_image_easy_oneHot.as_matrix()\n",
    "\n",
    "# split testing easy image data\n",
    "test_image_easy_oneHot = pd.DataFrame(mnisttt.test.images)\n",
    "test_image_easy_oneHot['eh'] = eh_test_label_50\n",
    "test_image_easy_oneHot = test_image_easy_oneHot[test_image_easy_oneHot['eh'] == 0]\n",
    "test_image_easy_oneHot.drop(['eh'], axis = 1, inplace = True)\n",
    "test_image_easy_oneHot.reset_index(drop = True, inplace = True)\n",
    "test_image_easy_oneHot = test_image_easy_oneHot.as_matrix()\n",
    "\n",
    "# split training easy label data\n",
    "train_label_easy_oneHot = pd.DataFrame(mnisttt_one_hot.train.labels)\n",
    "train_label_easy_oneHot['eh'] = eh_train_label_50\n",
    "train_label_easy_oneHot = train_label_easy_oneHot[train_label_easy_oneHot['eh'] == 0]\n",
    "train_label_easy_oneHot.drop(['eh'], axis = 1, inplace = True)\n",
    "train_label_easy_oneHot.reset_index(drop = True, inplace = True)\n",
    "train_label_easy_oneHot = train_label_easy_oneHot.as_matrix()\n",
    "\n",
    "# split testing easy label data\n",
    "test_label_easy_oneHot = pd.DataFrame(mnisttt_one_hot.test.labels)\n",
    "test_label_easy_oneHot['eh'] = eh_test_label_50\n",
    "test_label_easy_oneHot = test_label_easy_oneHot[test_label_easy_oneHot['eh'] == 0]\n",
    "test_label_easy_oneHot.drop(['eh'], axis = 1, inplace = True)\n",
    "test_label_easy_oneHot.reset_index(drop = True, inplace = True)\n",
    "test_label_easy_oneHot = test_label_easy_oneHot.as_matrix()"
   ]
  },
  {
   "cell_type": "code",
   "execution_count": 28,
   "metadata": {
    "collapsed": true
   },
   "outputs": [],
   "source": [
    "# use one hot encoded dataset to split hard image and labels\n",
    "# split training hard image data\n",
    "train_image_hard_oneHot = pd.DataFrame(mnisttt.train.images)\n",
    "train_image_hard_oneHot['eh'] = eh_train_label_50\n",
    "train_image_hard_oneHot = train_image_hard_oneHot[train_image_hard_oneHot['eh'] == 1]\n",
    "train_image_hard_oneHot.drop(['eh'], axis = 1, inplace = True)\n",
    "train_image_hard_oneHot.reset_index(drop = True, inplace = True)\n",
    "train_image_hard_oneHot = train_image_hard_oneHot.as_matrix()\n",
    "\n",
    "# split testing hard image data\n",
    "test_image_hard_oneHot = pd.DataFrame(mnisttt.test.images)\n",
    "test_image_hard_oneHot['eh'] = eh_test_label_50\n",
    "test_image_hard_oneHot = test_image_hard_oneHot[test_image_hard_oneHot['eh'] == 1]\n",
    "test_image_hard_oneHot.drop(['eh'], axis = 1, inplace = True)\n",
    "test_image_hard_oneHot.reset_index(drop = True, inplace = True)\n",
    "test_image_hard_oneHot = test_image_hard_oneHot.as_matrix()\n",
    "\n",
    "# split training hard label data\n",
    "train_label_hard_oneHot = pd.DataFrame(mnisttt_one_hot.train.labels)\n",
    "train_label_hard_oneHot['eh'] = eh_train_label_50\n",
    "train_label_hard_oneHot = train_label_hard_oneHot[train_label_hard_oneHot['eh'] == 1]\n",
    "train_label_hard_oneHot.drop(['eh'], axis = 1, inplace = True)\n",
    "train_label_hard_oneHot.reset_index(drop = True, inplace = True)\n",
    "train_label_hard_oneHot = train_label_hard_oneHot.as_matrix()\n",
    "\n",
    "# split testing hard label data\n",
    "test_label_hard_oneHot = pd.DataFrame(mnisttt_one_hot.test.labels)\n",
    "test_label_hard_oneHot['eh'] = eh_test_label_50\n",
    "test_label_hard_oneHot = test_label_hard_oneHot[test_label_hard_oneHot['eh'] == 1]\n",
    "test_label_hard_oneHot.drop(['eh'], axis = 1, inplace = True)\n",
    "test_label_hard_oneHot.reset_index(drop = True, inplace = True)\n",
    "test_label_hard_oneHot = test_label_hard_oneHot.as_matrix()"
   ]
  },
  {
   "cell_type": "code",
   "execution_count": 29,
   "metadata": {
    "collapsed": true
   },
   "outputs": [],
   "source": [
    "def next_batch(num, data, labels):\n",
    "    #Return a total of `num` random samples and labels. \n",
    "    idx = np.arange(0 , len(data))\n",
    "    np.random.shuffle(idx)\n",
    "    idx = idx[:num]\n",
    "    data_shuffle = [data[ i] for i in idx]\n",
    "    labels_shuffle = [labels[ i] for i in idx]\n",
    "    return np.asarray(data_shuffle), np.asarray(labels_shuffle)"
   ]
  },
  {
   "cell_type": "code",
   "execution_count": 30,
   "metadata": {
    "collapsed": true
   },
   "outputs": [],
   "source": [
    "def weight_variable(shape):\n",
    "    initial= tf.truncated_normal(shape, stddev=0.1)\n",
    "    return tf.Variable(initial)\n",
    "\n",
    "def bias_variable(shape):\n",
    "    initial = tf.constant(0.1, shape=shape)\n",
    "    return tf.Variable(initial)\n",
    "\n",
    "def conv2d(x, W):\n",
    "    return tf.nn.conv2d(x, W, strides=[1, 1, 1, 1], padding='SAME')\n",
    "\n",
    "def max_pool_2x2(x):\n",
    "    return tf.nn.max_pool(x, ksize=[1, 2, 2, 1],strides=[1, 2, 2, 1], padding='SAME')"
   ]
  },
  {
   "cell_type": "code",
   "execution_count": 100,
   "metadata": {
    "collapsed": true
   },
   "outputs": [],
   "source": [
    "# define a function to construct the CNN model training with all image\n",
    "def cnn_clf_all(max_iter):\n",
    "    \n",
    "    # tensorflow graph input\n",
    "    x = tf.placeholder(tf.float32, [None, 784]) \n",
    "    y_ = tf.placeholder('float', [None, 10]) \n",
    "    \n",
    "    # transform 4D input images to a tensor\n",
    "    x_image = tf.reshape(x, [-1, 28, 28, 1])\n",
    "    \n",
    "    # store weight and bias for each layer\n",
    "\n",
    "    # 5x5 convolution layer 1, 1 input, 32 outputs (feature maps)\n",
    "    W_conv1 = weight_variable([5, 5, 1, 32])\n",
    "    b_conv1 = bias_variable([32])\n",
    "    h_conv1 = tf.nn.relu(conv2d(x_image, W_conv1) + b_conv1)\n",
    "    h_pool1 = max_pool_2x2(h_conv1)\n",
    "    \n",
    "    # 5x5 convolution layer 2, 32 inputs, 64 outputs (feature maps)\n",
    "    W_conv2 = weight_variable([5, 5, 32, 64])\n",
    "    b_conv2 = bias_variable([64])\n",
    "    h_conv2 = tf.nn.relu(conv2d(h_pool1, W_conv2) + b_conv2)\n",
    "    h_pool2 = max_pool_2x2(h_conv2)\n",
    "    \n",
    "    # fully connected layer, 7*7*64 inputs, 1024 outputs\n",
    "    W_fc1 = weight_variable([7 * 7 * 64, 1024])\n",
    "    b_fc1 = bias_variable([1024])\n",
    "    h_pool2_flat = tf.reshape(h_pool2, [-1, 7*7*64])\n",
    "    h_fc1 = tf.nn.relu(tf.matmul(h_pool2_flat, W_fc1) + b_fc1)\n",
    "    \n",
    "    # drop out\n",
    "    keep_prob = tf.placeholder(tf.float32)\n",
    "    h_fc1_drop = tf.nn.dropout(h_fc1, keep_prob)\n",
    "    \n",
    "    # readout layer\n",
    "    W_fc2 = weight_variable([1024, 10])\n",
    "    b_fc2 = bias_variable([10])\n",
    "    y_conv = tf.matmul(h_fc1_drop, W_fc2) + b_fc2\n",
    "\n",
    "    \n",
    "    start = timeit.default_timer()\n",
    "    cross_entropy = tf.reduce_mean(tf.nn.softmax_cross_entropy_with_logits(labels=y_, logits=y_conv))\n",
    "    train_step = tf.train.AdamOptimizer(1e-4).minimize(cross_entropy)\n",
    "    correct_prediction = tf.equal(tf.argmax(y_conv, 1), tf.argmax(y_, 1))\n",
    "    accuracy = tf.reduce_mean(tf.cast(correct_prediction, tf.float32))\n",
    "\n",
    "    with tf.Session() as sess:\n",
    "        sess.run(tf.global_variables_initializer())\n",
    "        for i in range(0,max_iter):\n",
    "            batch = next_batch(50, mnisttt_one_hot.train.images, mnisttt_one_hot.train.labels)\n",
    "            if i % 100 == 0:\n",
    "                train_accuracy = accuracy.eval(feed_dict={x: batch[0], y_: batch[1], keep_prob: 1.0})\n",
    "                #print('step %d, training accuracy %g' % (i, train_accuracy))\n",
    "            train_step.run(feed_dict={x: batch[0], y_: batch[1], keep_prob: 0.5})\n",
    "\n",
    "        print('test accuracy %g' % accuracy.eval(feed_dict={x: test_image_hard_oneHot, y_: test_label_hard_oneHot, keep_prob: 1.0}))\n",
    "    stop = timeit.default_timer()    \n",
    "    print('Running time: %.3f' % (stop - start))"
   ]
  },
  {
   "cell_type": "code",
   "execution_count": 101,
   "metadata": {
    "collapsed": false
   },
   "outputs": [
    {
     "name": "stdout",
     "output_type": "stream",
     "text": [
      "test accuracy 0.71978\n",
      "Running time: 347.676\n"
     ]
    }
   ],
   "source": [
    "# training only with all images and test with hard images\n",
    "# learning 0.0001\n",
    "# iteration 2000\n",
    "max_iter = 2000\n",
    "cnn_clf_all(max_iter)"
   ]
  },
  {
   "cell_type": "code",
   "execution_count": 78,
   "metadata": {
    "collapsed": true
   },
   "outputs": [],
   "source": [
    "# define a function to construct the CNN model training with hard image\n",
    "def cnn_clf(max_iter):\n",
    "    \n",
    "    # tensorflow graph input\n",
    "    x = tf.placeholder(tf.float32, [None, 784]) \n",
    "    y_ = tf.placeholder('float', [None, 10]) \n",
    "    \n",
    "    # transform 4D input images to a tensor\n",
    "    x_image = tf.reshape(x, [-1, 28, 28, 1])\n",
    "    \n",
    "    # store weight and bias for each layer\n",
    "\n",
    "    # 5x5 convolution layer 1, 1 input, 32 outputs (feature maps)\n",
    "    W_conv1 = weight_variable([5, 5, 1, 32])\n",
    "    b_conv1 = bias_variable([32])\n",
    "    h_conv1 = tf.nn.relu(conv2d(x_image, W_conv1) + b_conv1)\n",
    "    h_pool1 = max_pool_2x2(h_conv1)\n",
    "    \n",
    "    # 5x5 convolution layer 2, 32 inputs, 64 outputs (feature maps)\n",
    "    W_conv2 = weight_variable([5, 5, 32, 64])\n",
    "    b_conv2 = bias_variable([64])\n",
    "    h_conv2 = tf.nn.relu(conv2d(h_pool1, W_conv2) + b_conv2)\n",
    "    h_pool2 = max_pool_2x2(h_conv2)\n",
    "    \n",
    "    # fully connected layer, 7*7*64 inputs, 1024 outputs\n",
    "    W_fc1 = weight_variable([7 * 7 * 64, 1024])\n",
    "    b_fc1 = bias_variable([1024])\n",
    "    h_pool2_flat = tf.reshape(h_pool2, [-1, 7*7*64])\n",
    "    h_fc1 = tf.nn.relu(tf.matmul(h_pool2_flat, W_fc1) + b_fc1)\n",
    "    \n",
    "    # drop out\n",
    "    keep_prob = tf.placeholder(tf.float32)\n",
    "    h_fc1_drop = tf.nn.dropout(h_fc1, keep_prob)\n",
    "    \n",
    "    # readout layer\n",
    "    W_fc2 = weight_variable([1024, 10])\n",
    "    b_fc2 = bias_variable([10])\n",
    "    y_conv = tf.matmul(h_fc1_drop, W_fc2) + b_fc2\n",
    "\n",
    "    \n",
    "    start = timeit.default_timer()\n",
    "    cross_entropy = tf.reduce_mean(tf.nn.softmax_cross_entropy_with_logits(labels=y_, logits=y_conv))\n",
    "    train_step = tf.train.AdamOptimizer(1e-4).minimize(cross_entropy)\n",
    "    correct_prediction = tf.equal(tf.argmax(y_conv, 1), tf.argmax(y_, 1))\n",
    "    accuracy = tf.reduce_mean(tf.cast(correct_prediction, tf.float32))\n",
    "\n",
    "    with tf.Session() as sess:\n",
    "        sess.run(tf.global_variables_initializer())\n",
    "        for i in range(0,max_iter):\n",
    "            batch = next_batch(50, train_image_hard_oneHot, train_label_hard_oneHot)\n",
    "            if i % 100 == 0:\n",
    "                train_accuracy = accuracy.eval(feed_dict={x: batch[0], y_: batch[1], keep_prob: 1.0})\n",
    "                #print('step %d, training accuracy %g' % (i, train_accuracy))\n",
    "            train_step.run(feed_dict={x: batch[0], y_: batch[1], keep_prob: 0.5})\n",
    "\n",
    "        print('test accuracy %g' % accuracy.eval(feed_dict={x: test_image_hard_oneHot, y_: test_label_hard_oneHot, keep_prob: 1.0}))\n",
    "    stop = timeit.default_timer()    \n",
    "    print('Running time: %.3f' % (stop - start))"
   ]
  },
  {
   "cell_type": "code",
   "execution_count": 77,
   "metadata": {
    "collapsed": false
   },
   "outputs": [
    {
     "name": "stdout",
     "output_type": "stream",
     "text": [
      "test accuracy 0.891484\n",
      "Running time: 389.003\n"
     ]
    }
   ],
   "source": [
    "# training only with hard images\n",
    "# learning 0.0001\n",
    "# iteration 2000\n",
    "max_iter = 2000\n",
    "cnn_clf(max_iter)"
   ]
  },
  {
   "cell_type": "code",
   "execution_count": 80,
   "metadata": {
    "collapsed": false
   },
   "outputs": [
    {
     "name": "stdout",
     "output_type": "stream",
     "text": [
      "test accuracy 0.918956\n",
      "Running time: 578.359\n"
     ]
    }
   ],
   "source": [
    "# training only with hard images\n",
    "# learning 0.0001\n",
    "# iteration 3000\n",
    "max_iter = 3000\n",
    "cnn_clf(max_iter)"
   ]
  },
  {
   "cell_type": "code",
   "execution_count": 79,
   "metadata": {
    "collapsed": false
   },
   "outputs": [
    {
     "name": "stdout",
     "output_type": "stream",
     "text": [
      "test accuracy 0.914835\n",
      "Running time: 770.896\n"
     ]
    }
   ],
   "source": [
    "# training only with hard images\n",
    "# learning 0.0001\n",
    "# iteration 4000\n",
    "max_iter = 4000\n",
    "cnn_clf(max_iter)"
   ]
  },
  {
   "cell_type": "code",
   "execution_count": 94,
   "metadata": {
    "collapsed": true
   },
   "outputs": [],
   "source": [
    "# define a function to construct the CNN model initializing with easy image and then train with hard image\n",
    "def cnn_clf_2(max_iter):\n",
    "    \n",
    "    # tensorflow graph input\n",
    "    x = tf.placeholder(tf.float32, [None, 784]) \n",
    "    y_ = tf.placeholder('float', [None, 10]) \n",
    "    \n",
    "    # transform 4D input images to a tensor\n",
    "    x_image = tf.reshape(x, [-1, 28, 28, 1])\n",
    "    \n",
    "    # store weight and bias for each layer\n",
    "\n",
    "    # 5x5 convolution layer 1, 1 input, 32 outputs (feature maps)\n",
    "    W_conv1 = weight_variable([5, 5, 1, 32])\n",
    "    b_conv1 = bias_variable([32])\n",
    "    h_conv1 = tf.nn.relu(conv2d(x_image, W_conv1) + b_conv1)\n",
    "    h_pool1 = max_pool_2x2(h_conv1)\n",
    "    \n",
    "    # 5x5 convolution layer 2, 32 inputs, 64 outputs (feature maps)\n",
    "    W_conv2 = weight_variable([5, 5, 32, 64])\n",
    "    b_conv2 = bias_variable([64])\n",
    "    h_conv2 = tf.nn.relu(conv2d(h_pool1, W_conv2) + b_conv2)\n",
    "    h_pool2 = max_pool_2x2(h_conv2)\n",
    "    \n",
    "    # fully connected layer, 7*7*64 inputs, 1024 outputs\n",
    "    W_fc1 = weight_variable([7 * 7 * 64, 1024])\n",
    "    b_fc1 = bias_variable([1024])\n",
    "    h_pool2_flat = tf.reshape(h_pool2, [-1, 7*7*64])\n",
    "    h_fc1 = tf.nn.relu(tf.matmul(h_pool2_flat, W_fc1) + b_fc1)\n",
    "    \n",
    "    # drop out\n",
    "    keep_prob = tf.placeholder(tf.float32)\n",
    "    h_fc1_drop = tf.nn.dropout(h_fc1, keep_prob)\n",
    "    \n",
    "    # readout layer\n",
    "    W_fc2 = weight_variable([1024, 10])\n",
    "    b_fc2 = bias_variable([10])\n",
    "    y_conv = tf.matmul(h_fc1_drop, W_fc2) + b_fc2\n",
    "\n",
    "    \n",
    "    start = timeit.default_timer()\n",
    "    cross_entropy = tf.reduce_mean(tf.nn.softmax_cross_entropy_with_logits(labels=y_, logits=y_conv))\n",
    "    train_step = tf.train.AdamOptimizer(1e-4).minimize(cross_entropy)\n",
    "    correct_prediction = tf.equal(tf.argmax(y_conv, 1), tf.argmax(y_, 1))\n",
    "    accuracy = tf.reduce_mean(tf.cast(correct_prediction, tf.float32))\n",
    "\n",
    "    with tf.Session() as sess:\n",
    "        sess.run(tf.global_variables_initializer())\n",
    "        for i in range(0,200):\n",
    "            batch = next_batch(50, train_image_easy_oneHot, train_label_easy_oneHot)\n",
    "            if i % 100 == 0:\n",
    "                train_accuracy = accuracy.eval(feed_dict={x: batch[0], y_: batch[1], keep_prob: 1.0})\n",
    "                #print('step %d, training accuracy %g' % (i, train_accuracy))\n",
    "            train_step.run(feed_dict={x: batch[0], y_: batch[1], keep_prob: 0.5})\n",
    "        for i in range(200,max_iter):\n",
    "            batch = next_batch(50, train_image_hard_oneHot, train_label_hard_oneHot)\n",
    "            if i % 100 == 0:\n",
    "                train_accuracy = accuracy.eval(feed_dict={x: batch[0], y_: batch[1], keep_prob: 1.0})\n",
    "                #print('step %d, training accuracy %g' % (i, train_accuracy))\n",
    "            train_step.run(feed_dict={x: batch[0], y_: batch[1], keep_prob: 0.5})\n",
    "\n",
    "        print('test accuracy %g' % accuracy.eval(feed_dict={x: test_image_hard_oneHot, y_: test_label_hard_oneHot, keep_prob: 1.0}))\n",
    "    stop = timeit.default_timer()    \n",
    "    print('Running time: %.3f' % (stop - start))"
   ]
  },
  {
   "cell_type": "code",
   "execution_count": 92,
   "metadata": {
    "collapsed": false
   },
   "outputs": [
    {
     "name": "stdout",
     "output_type": "stream",
     "text": [
      "test accuracy 0.888736\n",
      "Running time: 331.583\n"
     ]
    }
   ],
   "source": [
    "# initializing with easy images and then train with hard images\n",
    "# learning 0.0001\n",
    "# iteration 2000\n",
    "# 100 initializing\n",
    "max_iter = 2000\n",
    "cnn_clf_2(max_iter)"
   ]
  },
  {
   "cell_type": "code",
   "execution_count": 90,
   "metadata": {
    "collapsed": false
   },
   "outputs": [
    {
     "name": "stdout",
     "output_type": "stream",
     "text": [
      "test accuracy 0.894231\n",
      "Running time: 336.821\n"
     ]
    }
   ],
   "source": [
    "# initializing with easy images and then train with hard images\n",
    "# learning 0.0001\n",
    "# iteration 2000\n",
    "# 200 initializing\n",
    "max_iter = 2000\n",
    "cnn_clf_2(max_iter)"
   ]
  },
  {
   "cell_type": "code",
   "execution_count": 87,
   "metadata": {
    "collapsed": false
   },
   "outputs": [
    {
     "name": "stdout",
     "output_type": "stream",
     "text": [
      "test accuracy 0.885989\n",
      "Running time: 338.460\n"
     ]
    }
   ],
   "source": [
    "# initializing with easy images and then train with hard images\n",
    "# learning 0.0001\n",
    "# iteration 2000\n",
    "# 300 initializing\n",
    "max_iter = 2000\n",
    "cnn_clf_2(max_iter)"
   ]
  },
  {
   "cell_type": "code",
   "execution_count": 95,
   "metadata": {
    "collapsed": false
   },
   "outputs": [
    {
     "name": "stdout",
     "output_type": "stream",
     "text": [
      "test accuracy 0.907967\n",
      "Running time: 495.676\n"
     ]
    }
   ],
   "source": [
    "# initializing with easy images and then train with hard images\n",
    "# learning 0.0001\n",
    "# iteration 3000\n",
    "# 200 initializing\n",
    "max_iter = 3000\n",
    "cnn_clf_2(max_iter)"
   ]
  },
  {
   "cell_type": "code",
   "execution_count": 96,
   "metadata": {
    "collapsed": false
   },
   "outputs": [
    {
     "name": "stdout",
     "output_type": "stream",
     "text": [
      "test accuracy 0.912088\n",
      "Running time: 694.979\n"
     ]
    }
   ],
   "source": [
    "# initializing with easy images and then train with hard images\n",
    "# learning 0.0001\n",
    "# iteration 4000\n",
    "# 200 initializing\n",
    "max_iter = 4000\n",
    "cnn_clf_2(max_iter)"
   ]
  },
  {
   "cell_type": "markdown",
   "metadata": {},
   "source": [
    "The CNN model designed has 2 convolutional layers, and one fully connected layer. \n",
    "\n",
    "- The CNN trained with random images performed relatively acceptable with hard images, yielding **71.978%** accuracy.\n",
    "\n",
    "- The CNN trained with only hard images yielded **91.896%** accuracy.\n",
    "\n",
    "- The CNN initialized with easy images and then trained with hard images yielded **91.209%** accuracy."
   ]
  },
  {
   "cell_type": "code",
   "execution_count": 31,
   "metadata": {
    "collapsed": false
   },
   "outputs": [
    {
     "name": "stdout",
     "output_type": "stream",
     "text": [
      "test accuracy 0.90522\n",
      "Trained Model Saved.\n",
      "Running time: 676.082\n"
     ]
    }
   ],
   "source": [
    "# train hard image cnn classifier and output model for future use with optimal parameters\n",
    "\n",
    "# tensorflow graph input\n",
    "x = tf.placeholder(tf.float32, [None, 784]) \n",
    "y_ = tf.placeholder('float', [None, 10]) \n",
    "\n",
    "# transform 4D input images to a tensor\n",
    "x_image = tf.reshape(x, [-1, 28, 28, 1])\n",
    "    \n",
    "# store weight and bias for each layer\n",
    "\n",
    "# 5x5 convolution layer 1, 1 input, 32 outputs (feature maps)\n",
    "W_conv1 = weight_variable([5, 5, 1, 32])\n",
    "b_conv1 = bias_variable([32])\n",
    "h_conv1 = tf.nn.relu(conv2d(x_image, W_conv1) + b_conv1)\n",
    "h_pool1 = max_pool_2x2(h_conv1)\n",
    "    \n",
    "# 5x5 convolution layer 2, 32 inputs, 64 outputs (feature maps)\n",
    "W_conv2 = weight_variable([5, 5, 32, 64])\n",
    "b_conv2 = bias_variable([64])\n",
    "h_conv2 = tf.nn.relu(conv2d(h_pool1, W_conv2) + b_conv2)\n",
    "h_pool2 = max_pool_2x2(h_conv2)\n",
    "    \n",
    "# fully connected layer, 7*7*64 inputs, 1024 outputs\n",
    "W_fc1 = weight_variable([7 * 7 * 64, 1024])\n",
    "b_fc1 = bias_variable([1024])\n",
    "h_pool2_flat = tf.reshape(h_pool2, [-1, 7*7*64])\n",
    "h_fc1 = tf.nn.relu(tf.matmul(h_pool2_flat, W_fc1) + b_fc1)\n",
    "    \n",
    "# drop out\n",
    "keep_prob = tf.placeholder(tf.float32)\n",
    "h_fc1_drop = tf.nn.dropout(h_fc1, keep_prob)\n",
    "    \n",
    "# readout layer\n",
    "W_fc2 = weight_variable([1024, 10])\n",
    "b_fc2 = bias_variable([10])\n",
    "y_conv = tf.matmul(h_fc1_drop, W_fc2) + b_fc2\n",
    "\n",
    "    \n",
    "start = timeit.default_timer()\n",
    "cross_entropy = tf.reduce_mean(tf.nn.softmax_cross_entropy_with_logits(labels=y_, logits=y_conv))\n",
    "train_step = tf.train.AdamOptimizer(1e-4).minimize(cross_entropy)\n",
    "correct_prediction = tf.equal(tf.argmax(y_conv, 1), tf.argmax(y_, 1))\n",
    "accuracy = tf.reduce_mean(tf.cast(correct_prediction, tf.float32))\n",
    "\n",
    "# save trained model\n",
    "save_file = 'train_model_cnn_50.ckpt'\n",
    "saver = tf.train.Saver()\n",
    "\n",
    "with tf.Session() as sess:\n",
    "    sess.run(tf.global_variables_initializer())\n",
    "    for i in range(0,4000):\n",
    "        batch = next_batch(50, train_image_hard_oneHot, train_label_hard_oneHot)\n",
    "        if i % 100 == 0:\n",
    "            train_accuracy = accuracy.eval(feed_dict={x: batch[0], y_: batch[1], keep_prob: 1.0})\n",
    "            #print('step %d, training accuracy %g' % (i, train_accuracy))\n",
    "        train_step.run(feed_dict={x: batch[0], y_: batch[1], keep_prob: 0.5})\n",
    "\n",
    "    print('test accuracy %g' % accuracy.eval(feed_dict={x: test_image_hard_oneHot, y_: test_label_hard_oneHot, keep_prob: 1.0}))\n",
    "    saver.save(sess, save_file)\n",
    "    print('Trained Model Saved.')\n",
    "stop = timeit.default_timer()    \n",
    "print('Running time: %.3f' % (stop - start))"
   ]
  },
  {
   "cell_type": "markdown",
   "metadata": {},
   "source": [
    "### Hard Image Classification Conclusion"
   ]
  },
  {
   "cell_type": "markdown",
   "metadata": {},
   "source": [
    "- MLP's best accuracy:\n",
    "    - Parameter: \n",
    "        - Number of hidden layers: 4\n",
    "        - Hidden layer size: [256, 128, 64, 32]\n",
    "        - Learning rate initial: 0.1\n",
    "        - max iteration: 200\n",
    "        - alpha (L2 regularization): 0.1\n",
    "        - tolerance: 0.001\n",
    "    - Accuracy: **79.121%**\n",
    "\n",
    "- CNN's best accuracy:\n",
    "    - Parameters:\n",
    "        - Local receptive field size: 2 * 2\n",
    "        - Stride length: 1\n",
    "        - Convolution layer 1 (5 * 5): 1 input, 32 outputs\n",
    "        - Convolution layer 2 (5 * 5): 32 inputs, 64 outputs\n",
    "        - Fully connected layer: 7 * 7 * 64 inputs, 1024 outputs\n",
    "        - Learning rate: 0.0001\n",
    "        - Max iteration: 3000\n",
    "        - Batch size: 50\n",
    "    - Accuracy: **91.896%** \n",
    "\n",
    "The CNN model's performance is much better than MLP model. Thus CNN is selected to be the hard image classifier."
   ]
  },
  {
   "cell_type": "markdown",
   "metadata": {},
   "source": [
    "## Pipeline Classification Process"
   ]
  },
  {
   "cell_type": "markdown",
   "metadata": {},
   "source": [
    "### Pipeline Process Exploration"
   ]
  },
  {
   "cell_type": "markdown",
   "metadata": {},
   "source": [
    "Pipeline process sudo:\n",
    "\n",
    "- Classify easy / hard label\n",
    "- split easy, hard image and label array\n",
    "- split easy:\n",
    "    - use simple classifier to predict number\n",
    "    - get predicting accuracy\n",
    "- split hard:\n",
    "    - use powerful classifier to predict number\n",
    "    - get predicting accuracy\n",
    "- Compute overall accuracy:\n",
    "    - overall accuracy = simple accuracy * simple data weight + hard accuracy * hard data weight"
   ]
  },
  {
   "cell_type": "code",
   "execution_count": 32,
   "metadata": {
    "collapsed": true
   },
   "outputs": [],
   "source": [
    "def pipeline_score(image, label, save_file):\n",
    "    \n",
    "    # compute easy / hard label\n",
    "    eh_label = clf_eh_rf.predict(image)\n",
    "    \n",
    "    # merge image predicted easy / hard label and label\n",
    "    df_data = pd.DataFrame(image)\n",
    "    df_data['label'] = label\n",
    "    df_data['eh'] = eh_label\n",
    "    \n",
    "    # split easy image and label\n",
    "    df_easy = df_data[df_data['eh'] == 0]\n",
    "    label_easy = df_easy['label'].as_matrix()\n",
    "    df_easy.drop(['eh', 'label'], axis = 1, inplace = True)\n",
    "    df_easy.reset_index(drop = True, inplace = True)\n",
    "    image_easy = df_easy.as_matrix()\n",
    "    \n",
    "    # split hard image and label\n",
    "    df_hard = df_data[df_data['eh'] == 1]\n",
    "    label_hard = df_hard['label'].as_matrix()\n",
    "    df_hard.drop(['eh', 'label'], axis = 1, inplace = True)\n",
    "    df_hard.reset_index(drop = True, inplace = True)\n",
    "    image_hard = df_hard.as_matrix()\n",
    "    targets = label_hard.reshape(-1)\n",
    "    label_hard_oneHot = np.eye(10)[targets]\n",
    "    \n",
    "    # compute weights for easy and hard data\n",
    "    w_easy = len(image_easy) / len(image)\n",
    "    w_hard = len(image_hard) / len(image)\n",
    "    \n",
    "    # use simple classifier to get easy image accuracy\n",
    "    easy_accuracy = clf_easy.score(image_easy, label_easy)\n",
    "    \n",
    "    # use powerful classifier (cnn) to get hard image accuracy\n",
    "    saver = tf.train.Saver()\n",
    "\n",
    "    # Launch the graph\n",
    "    with tf.Session() as sess:\n",
    "        saver.restore(sess, save_file)\n",
    "\n",
    "        hard_accuracy = sess.run(accuracy, feed_dict={x: image_hard, y_: label_hard_oneHot, keep_prob: 1.0})\n",
    "    \n",
    "    # compute overall accuracy\n",
    "    overall_accuracy = easy_accuracy * w_easy + hard_accuracy * w_hard\n",
    "    \n",
    "    return overall_accuracy"
   ]
  },
  {
   "cell_type": "code",
   "execution_count": 166,
   "metadata": {
    "collapsed": true
   },
   "outputs": [],
   "source": [
    "# Randomly sample a smaller dataset\n",
    "test_image_sample1 = resample(mnisttt.test.images, n_samples = 1000, random_state = 1)\n",
    "test_label_sample1 = resample(mnisttt.test.labels, n_samples = 1000, random_state = 1)\n",
    "test_image_sample_oneHot1 = resample(mnisttt_one_hot.test.images, n_samples = 1000, random_state = 1)\n",
    "test_label_sample_oneHot1 = resample(mnisttt_one_hot.test.labels, n_samples = 1000, random_state = 1)"
   ]
  },
  {
   "cell_type": "code",
   "execution_count": 173,
   "metadata": {
    "collapsed": false
   },
   "outputs": [
    {
     "name": "stdout",
     "output_type": "stream",
     "text": [
      "INFO:tensorflow:Restoring parameters from train_model_cnn_50.ckpt\n",
      "0.946\n"
     ]
    }
   ],
   "source": [
    "# test pipeline\n",
    "test_score1 = pipeline_score(test_image_sample1, test_label_sample1, 'train_model_cnn_50.ckpt')\n",
    "print(test_score1)"
   ]
  },
  {
   "cell_type": "code",
   "execution_count": 33,
   "metadata": {
    "collapsed": false
   },
   "outputs": [
    {
     "name": "stdout",
     "output_type": "stream",
     "text": [
      "INFO:tensorflow:Restoring parameters from train_model_cnn_50.ckpt\n",
      "training pipeline score: 0.989\n"
     ]
    }
   ],
   "source": [
    "# run pipeline with training data\n",
    "print('training pipeline score: %.3f' % pipeline_score(mnisttt.train.images, mnisttt.train.labels, 'train_model_cnn_50.ckpt'))"
   ]
  },
  {
   "cell_type": "code",
   "execution_count": 34,
   "metadata": {
    "collapsed": false
   },
   "outputs": [
    {
     "name": "stdout",
     "output_type": "stream",
     "text": [
      "INFO:tensorflow:Restoring parameters from train_model_cnn_50.ckpt\n",
      "testing pipeline score: 0.951\n"
     ]
    }
   ],
   "source": [
    "# run pipeline with testing data\n",
    "print('testing pipeline score: %.3f' % pipeline_score(mnisttt.test.images, mnisttt.test.labels, 'train_model_cnn_50.ckpt'))"
   ]
  },
  {
   "cell_type": "markdown",
   "metadata": {},
   "source": [
    "## Rerun whole process with threshold = 60%"
   ]
  },
  {
   "cell_type": "markdown",
   "metadata": {},
   "source": [
    "### Set threshold and compute Easy / Hard label"
   ]
  },
  {
   "cell_type": "code",
   "execution_count": 35,
   "metadata": {
    "collapsed": false
   },
   "outputs": [
    {
     "name": "stdout",
     "output_type": "stream",
     "text": [
      "0    55409\n",
      "1     4591\n",
      "dtype: int64\n",
      "0    9153\n",
      "1     847\n",
      "dtype: int64\n"
     ]
    }
   ],
   "source": [
    "# set default threshold to be 60%\n",
    "# Easy -> 0, Hard -> 1\n",
    "df_train_cw_60 = df_train_cw.apply(lambda x: 0 if np.average(x) >= 0.6 else 1, axis = 1)\n",
    "df_test_cw_60 = df_test_cw.apply(lambda x: 0 if np.average(x) >= 0.6 else 1, axis = 1)\n",
    "# count the number of easy and hard images\n",
    "print(df_train_cw_60.value_counts())\n",
    "print(df_test_cw_60.value_counts())\n",
    "# get the array of easy/hard label\n",
    "eh_train_label_60 = df_train_cw_60.values\n",
    "eh_test_label_60 = df_test_cw_60.values"
   ]
  },
  {
   "cell_type": "markdown",
   "metadata": {},
   "source": [
    "### Classify Easy / Hard Label"
   ]
  },
  {
   "cell_type": "code",
   "execution_count": 36,
   "metadata": {
    "collapsed": false
   },
   "outputs": [
    {
     "name": "stdout",
     "output_type": "stream",
     "text": [
      "Running time: 85.332\n"
     ]
    }
   ],
   "source": [
    "start = timeit.default_timer()\n",
    "\n",
    "# set the parameter grid\n",
    "param_grid_rf = {'n_estimators': [50],'max_depth': [20]}\n",
    "# use stratified 3-fold cross validation to tune the model\n",
    "# use accuracy as scoring paramsvm\n",
    "clf_eh_grid_rf = GridSearchCV(RandomForestClassifier(),param_grid_rf, scoring = 'accuracy', cv = 3)\n",
    "clf_eh_grid_rf.fit(mnisttt.train.images, eh_train_label_60)\n",
    "\n",
    "stop = timeit.default_timer()\n",
    "print('Running time: %.3f' % (stop - start))"
   ]
  },
  {
   "cell_type": "code",
   "execution_count": 37,
   "metadata": {
    "collapsed": false
   },
   "outputs": [
    {
     "data": {
      "text/plain": [
       "[mean: 0.92398, std: 0.00002, params: {'max_depth': 20, 'n_estimators': 50}]"
      ]
     },
     "execution_count": 37,
     "metadata": {},
     "output_type": "execute_result"
    }
   ],
   "source": [
    "clf_eh_grid_rf.grid_scores_"
   ]
  },
  {
   "cell_type": "code",
   "execution_count": 38,
   "metadata": {
    "collapsed": false
   },
   "outputs": [
    {
     "data": {
      "text/plain": [
       "0.91620000000000001"
      ]
     },
     "execution_count": 38,
     "metadata": {},
     "output_type": "execute_result"
    }
   ],
   "source": [
    "# predict test labels and get accuracy\n",
    "clf_eh_grid_rf.score(mnisttt.test.images, eh_test_label_60)"
   ]
  },
  {
   "cell_type": "markdown",
   "metadata": {},
   "source": [
    "### Classify Easy Images"
   ]
  },
  {
   "cell_type": "code",
   "execution_count": 39,
   "metadata": {
    "collapsed": true
   },
   "outputs": [],
   "source": [
    "# split training easy image data\n",
    "train_image_easy = pd.DataFrame(mnisttt.train.images)\n",
    "train_image_easy['eh'] = eh_train_label_60\n",
    "train_image_easy = train_image_easy[train_image_easy['eh'] == 0]\n",
    "train_image_easy.drop(['eh'], axis = 1, inplace = True)\n",
    "\n",
    "# split testing easy image data\n",
    "test_image_easy = pd.DataFrame(mnisttt.test.images)\n",
    "test_image_easy['eh'] = eh_test_label_60\n",
    "test_image_easy = test_image_easy[test_image_easy['eh'] == 0]\n",
    "test_image_easy.drop(['eh'], axis = 1, inplace = True)"
   ]
  },
  {
   "cell_type": "code",
   "execution_count": 40,
   "metadata": {
    "collapsed": true
   },
   "outputs": [],
   "source": [
    "# split training easy label data\n",
    "train_label_easy = pd.DataFrame(mnisttt.train.labels)\n",
    "train_label_easy['eh'] = eh_train_label_60\n",
    "train_label_easy = train_label_easy[train_label_easy['eh'] == 0]\n",
    "train_label_easy.drop(['eh'], axis = 1, inplace = True)\n",
    "\n",
    "# split testing easy label data\n",
    "test_label_easy = pd.DataFrame(mnisttt.test.labels)\n",
    "test_label_easy['eh'] = eh_test_label_60\n",
    "test_label_easy = test_label_easy[test_label_easy['eh'] == 0]\n",
    "test_label_easy.drop(['eh'], axis = 1, inplace = True)"
   ]
  },
  {
   "cell_type": "code",
   "execution_count": 41,
   "metadata": {
    "collapsed": false
   },
   "outputs": [
    {
     "name": "stdout",
     "output_type": "stream",
     "text": [
      "Running time: 91.617\n"
     ]
    }
   ],
   "source": [
    "start = timeit.default_timer()\n",
    "\n",
    "# fit easy data to radial svm model\n",
    "clf_easy = SVC(C = 50, kernel = 'rbf', degree = 3, gamma = 'auto')\n",
    "clf_easy.fit(train_image_easy, train_label_easy)\n",
    "\n",
    "stop = timeit.default_timer()\n",
    "print('Running time: %.3f' % (stop - start))"
   ]
  },
  {
   "cell_type": "code",
   "execution_count": 42,
   "metadata": {
    "collapsed": false
   },
   "outputs": [
    {
     "data": {
      "text/plain": [
       "0.99971123824649422"
      ]
     },
     "execution_count": 42,
     "metadata": {},
     "output_type": "execute_result"
    }
   ],
   "source": [
    "# get the accuracy of the easy model on training dataset\n",
    "clf_easy.score(train_image_easy, train_label_easy)"
   ]
  },
  {
   "cell_type": "code",
   "execution_count": 43,
   "metadata": {
    "collapsed": false
   },
   "outputs": [
    {
     "data": {
      "text/plain": [
       "0.99726865508576423"
      ]
     },
     "execution_count": 43,
     "metadata": {},
     "output_type": "execute_result"
    }
   ],
   "source": [
    "# get the accuracy of the easy model on test dataset\n",
    "clf_easy.score(test_image_easy, test_label_easy)"
   ]
  },
  {
   "cell_type": "markdown",
   "metadata": {},
   "source": [
    "### Classify Hard Images"
   ]
  },
  {
   "cell_type": "code",
   "execution_count": 44,
   "metadata": {
    "collapsed": true
   },
   "outputs": [],
   "source": [
    "# split training hard image data\n",
    "train_image_hard = pd.DataFrame(mnisttt.train.images)\n",
    "train_image_hard['eh'] = eh_train_label_60\n",
    "train_image_hard = train_image_hard[train_image_hard['eh'] == 1]\n",
    "train_image_hard.drop(['eh'], axis = 1, inplace = True)\n",
    "train_image_hard.reset_index(drop = True, inplace = True)\n",
    "train_image_hard = train_image_hard.as_matrix()\n",
    "\n",
    "# split testing hard image data\n",
    "test_image_hard = pd.DataFrame(mnisttt.test.images)\n",
    "test_image_hard['eh'] = eh_test_label_60\n",
    "test_image_hard = test_image_hard[test_image_hard['eh'] == 1]\n",
    "test_image_hard.drop(['eh'], axis = 1, inplace = True)\n",
    "test_image_hard.reset_index(drop = True, inplace = True)\n",
    "test_image_hard = test_image_hard.as_matrix()"
   ]
  },
  {
   "cell_type": "code",
   "execution_count": 45,
   "metadata": {
    "collapsed": true
   },
   "outputs": [],
   "source": [
    "# split training hard label data\n",
    "train_label_hard = pd.DataFrame(mnisttt.train.labels)\n",
    "train_label_hard['eh'] = eh_train_label_60\n",
    "train_label_hard = train_label_hard[train_label_hard['eh'] == 1]\n",
    "train_label_hard.drop(['eh'], axis = 1, inplace = True)\n",
    "train_label_hard.reset_index(drop = True, inplace = True)\n",
    "train_label_hard = train_label_hard.as_matrix()\n",
    "\n",
    "# split testing hard label data\n",
    "test_label_hard = pd.DataFrame(mnisttt.test.labels)\n",
    "test_label_hard['eh'] = eh_test_label_60\n",
    "test_label_hard = test_label_hard[test_label_hard['eh'] == 1]\n",
    "test_label_hard.drop(['eh'], axis = 1, inplace = True)\n",
    "test_label_hard.reset_index(drop = True, inplace = True)\n",
    "test_label_hard = test_label_hard.as_matrix()"
   ]
  },
  {
   "cell_type": "code",
   "execution_count": 46,
   "metadata": {
    "collapsed": false
   },
   "outputs": [
    {
     "data": {
      "text/plain": [
       "<matplotlib.figure.Figure at 0x117a409e8>"
      ]
     },
     "metadata": {},
     "output_type": "display_data"
    },
    {
     "data": {
      "image/png": "[encoded data removed]",
      "text/plain": [
       "<matplotlib.figure.Figure at 0x131262ef0>"
      ]
     },
     "metadata": {},
     "output_type": "display_data"
    }
   ],
   "source": [
    "# plot 20 random hard images\n",
    "image_plot(train_image_hard, 20)"
   ]
  },
  {
   "cell_type": "code",
   "execution_count": 47,
   "metadata": {
    "collapsed": false
   },
   "outputs": [
    {
     "name": "stdout",
     "output_type": "stream",
     "text": [
      "test accuracy 0.907967\n",
      "Trained Model Saved.\n",
      "Running time: 675.620\n"
     ]
    }
   ],
   "source": [
    "# train hard image cnn classifier and output model for future use with optimal parameters\n",
    "\n",
    "# tensorflow graph input\n",
    "x = tf.placeholder(tf.float32, [None, 784]) \n",
    "y_ = tf.placeholder('float', [None, 10]) \n",
    "\n",
    "# transform 4D input images to a tensor\n",
    "x_image = tf.reshape(x, [-1, 28, 28, 1])\n",
    "    \n",
    "# store weight and bias for each layer\n",
    "\n",
    "# 5x5 convolution layer 1, 1 input, 32 outputs (feature maps)\n",
    "W_conv1 = weight_variable([5, 5, 1, 32])\n",
    "b_conv1 = bias_variable([32])\n",
    "h_conv1 = tf.nn.relu(conv2d(x_image, W_conv1) + b_conv1)\n",
    "h_pool1 = max_pool_2x2(h_conv1)\n",
    "    \n",
    "# 5x5 convolution layer 2, 32 inputs, 64 outputs (feature maps)\n",
    "W_conv2 = weight_variable([5, 5, 32, 64])\n",
    "b_conv2 = bias_variable([64])\n",
    "h_conv2 = tf.nn.relu(conv2d(h_pool1, W_conv2) + b_conv2)\n",
    "h_pool2 = max_pool_2x2(h_conv2)\n",
    "    \n",
    "# fully connected layer, 7*7*64 inputs, 1024 outputs\n",
    "W_fc1 = weight_variable([7 * 7 * 64, 1024])\n",
    "b_fc1 = bias_variable([1024])\n",
    "h_pool2_flat = tf.reshape(h_pool2, [-1, 7*7*64])\n",
    "h_fc1 = tf.nn.relu(tf.matmul(h_pool2_flat, W_fc1) + b_fc1)\n",
    "    \n",
    "# drop out\n",
    "keep_prob = tf.placeholder(tf.float32)\n",
    "h_fc1_drop = tf.nn.dropout(h_fc1, keep_prob)\n",
    "    \n",
    "# readout layer\n",
    "W_fc2 = weight_variable([1024, 10])\n",
    "b_fc2 = bias_variable([10])\n",
    "y_conv = tf.matmul(h_fc1_drop, W_fc2) + b_fc2\n",
    "\n",
    "    \n",
    "start = timeit.default_timer()\n",
    "cross_entropy = tf.reduce_mean(tf.nn.softmax_cross_entropy_with_logits(labels=y_, logits=y_conv))\n",
    "train_step = tf.train.AdamOptimizer(1e-4).minimize(cross_entropy)\n",
    "correct_prediction = tf.equal(tf.argmax(y_conv, 1), tf.argmax(y_, 1))\n",
    "accuracy = tf.reduce_mean(tf.cast(correct_prediction, tf.float32))\n",
    "\n",
    "# save trained model\n",
    "save_file = 'train_model_cnn_60.ckpt'\n",
    "saver = tf.train.Saver()\n",
    "\n",
    "with tf.Session() as sess:\n",
    "    sess.run(tf.global_variables_initializer())\n",
    "    for i in range(0,4000):\n",
    "        batch = next_batch(50, train_image_hard_oneHot, train_label_hard_oneHot)\n",
    "        if i % 100 == 0:\n",
    "            train_accuracy = accuracy.eval(feed_dict={x: batch[0], y_: batch[1], keep_prob: 1.0})\n",
    "            #print('step %d, training accuracy %g' % (i, train_accuracy))\n",
    "        train_step.run(feed_dict={x: batch[0], y_: batch[1], keep_prob: 0.5})\n",
    "\n",
    "    print('test accuracy %g' % accuracy.eval(feed_dict={x: test_image_hard_oneHot, y_: test_label_hard_oneHot, keep_prob: 1.0}))\n",
    "    saver.save(sess, save_file)\n",
    "    print('Trained Model Saved.')\n",
    "stop = timeit.default_timer()    \n",
    "print('Running time: %.3f' % (stop - start))"
   ]
  },
  {
   "cell_type": "markdown",
   "metadata": {},
   "source": [
    "### Pipeline Classification Process and Result"
   ]
  },
  {
   "cell_type": "code",
   "execution_count": 48,
   "metadata": {
    "collapsed": false
   },
   "outputs": [
    {
     "name": "stdout",
     "output_type": "stream",
     "text": [
      "INFO:tensorflow:Restoring parameters from train_model_cnn_60.ckpt\n",
      "training pipeline score: 0.986\n",
      "INFO:tensorflow:Restoring parameters from train_model_cnn_60.ckpt\n",
      "testing pipeline score: 0.949\n"
     ]
    }
   ],
   "source": [
    "# run pipeline with training data\n",
    "print('training pipeline score: %.3f' % pipeline_score(mnisttt.train.images, mnisttt.train.labels, 'train_model_cnn_60.ckpt'))\n",
    "\n",
    "# run pipeline with testing data\n",
    "print('testing pipeline score: %.3f' % pipeline_score(mnisttt.test.images, mnisttt.test.labels, 'train_model_cnn_60.ckpt'))"
   ]
  },
  {
   "cell_type": "markdown",
   "metadata": {},
   "source": [
    "## Rerun whole process with threshold = 70%"
   ]
  },
  {
   "cell_type": "markdown",
   "metadata": {},
   "source": [
    "### Set threshold and compute Easy / Hard label"
   ]
  },
  {
   "cell_type": "code",
   "execution_count": 49,
   "metadata": {
    "collapsed": false
   },
   "outputs": [
    {
     "name": "stdout",
     "output_type": "stream",
     "text": [
      "0    54752\n",
      "1     5248\n",
      "dtype: int64\n",
      "0    9016\n",
      "1     984\n",
      "dtype: int64\n"
     ]
    }
   ],
   "source": [
    "# set default threshold to be 70%\n",
    "# Easy -> 0, Hard -> 1\n",
    "df_train_cw_70 = df_train_cw.apply(lambda x: 0 if np.average(x) >= 0.7 else 1, axis = 1)\n",
    "df_test_cw_70 = df_test_cw.apply(lambda x: 0 if np.average(x) >= 0.7 else 1, axis = 1)\n",
    "# count the number of easy and hard images\n",
    "print(df_train_cw_70.value_counts())\n",
    "print(df_test_cw_70.value_counts())\n",
    "# get the array of easy/hard label\n",
    "eh_train_label_70 = df_train_cw_70.values\n",
    "eh_test_label_70 = df_test_cw_70.values"
   ]
  },
  {
   "cell_type": "markdown",
   "metadata": {},
   "source": [
    "### Classify Easy / Hard Label"
   ]
  },
  {
   "cell_type": "code",
   "execution_count": 50,
   "metadata": {
    "collapsed": false
   },
   "outputs": [
    {
     "name": "stdout",
     "output_type": "stream",
     "text": [
      "Running time: 78.760\n",
      "[mean: 0.91343, std: 0.00023, params: {'max_depth': 20, 'n_estimators': 50}]\n",
      "0.9029\n"
     ]
    }
   ],
   "source": [
    "start = timeit.default_timer()\n",
    "\n",
    "# set the parameter grid\n",
    "param_grid_rf = {'n_estimators': [50],'max_depth': [20]}\n",
    "# use stratified 3-fold cross validation to tune the model\n",
    "# use accuracy as scoring paramsvm\n",
    "clf_eh_grid_rf = GridSearchCV(RandomForestClassifier(),param_grid_rf, scoring = 'accuracy', cv = 3)\n",
    "clf_eh_grid_rf.fit(mnisttt.train.images, eh_train_label_70)\n",
    "\n",
    "stop = timeit.default_timer()\n",
    "print('Running time: %.3f' % (stop - start))\n",
    "print(clf_eh_grid_rf.grid_scores_)\n",
    "# predict test labels and get accuracy\n",
    "print(clf_eh_grid_rf.score(mnisttt.test.images, eh_test_label_70))"
   ]
  },
  {
   "cell_type": "markdown",
   "metadata": {},
   "source": [
    "### Classify Easy Image"
   ]
  },
  {
   "cell_type": "code",
   "execution_count": 51,
   "metadata": {
    "collapsed": true
   },
   "outputs": [],
   "source": [
    "# split training easy image data\n",
    "train_image_easy = pd.DataFrame(mnisttt.train.images)\n",
    "train_image_easy['eh'] = eh_train_label_70\n",
    "train_image_easy = train_image_easy[train_image_easy['eh'] == 0]\n",
    "train_image_easy.drop(['eh'], axis = 1, inplace = True)\n",
    "\n",
    "# split testing easy image data\n",
    "test_image_easy = pd.DataFrame(mnisttt.test.images)\n",
    "test_image_easy['eh'] = eh_test_label_70\n",
    "test_image_easy = test_image_easy[test_image_easy['eh'] == 0]\n",
    "test_image_easy.drop(['eh'], axis = 1, inplace = True)\n",
    "\n",
    "# split training easy label data\n",
    "train_label_easy = pd.DataFrame(mnisttt.train.labels)\n",
    "train_label_easy['eh'] = eh_train_label_70\n",
    "train_label_easy = train_label_easy[train_label_easy['eh'] == 0]\n",
    "train_label_easy.drop(['eh'], axis = 1, inplace = True)\n",
    "\n",
    "# split testing easy label data\n",
    "test_label_easy = pd.DataFrame(mnisttt.test.labels)\n",
    "test_label_easy['eh'] = eh_test_label_70\n",
    "test_label_easy = test_label_easy[test_label_easy['eh'] == 0]\n",
    "test_label_easy.drop(['eh'], axis = 1, inplace = True)"
   ]
  },
  {
   "cell_type": "code",
   "execution_count": 52,
   "metadata": {
    "collapsed": false
   },
   "outputs": [
    {
     "name": "stdout",
     "output_type": "stream",
     "text": [
      "Running time: 83.475\n",
      "Training accuracy: 1.000\n",
      "Testing accuracy: 0.998\n"
     ]
    }
   ],
   "source": [
    "start = timeit.default_timer()\n",
    "\n",
    "# fit easy data to radial svm model\n",
    "clf_easy = SVC(C = 50, kernel = 'rbf', degree = 3, gamma = 'auto')\n",
    "clf_easy.fit(train_image_easy, train_label_easy)\n",
    "\n",
    "stop = timeit.default_timer()\n",
    "print('Running time: %.3f' % (stop - start))\n",
    "\n",
    "# get the accuracy of the easy model on training dataset\n",
    "print('Training accuracy: %.3f' % clf_easy.score(train_image_easy, train_label_easy))\n",
    "\n",
    "# get the accuracy of the easy model on test dataset\n",
    "print('Testing accuracy: %.3f' % clf_easy.score(test_image_easy, test_label_easy))"
   ]
  },
  {
   "cell_type": "markdown",
   "metadata": {},
   "source": [
    "### Classify Hard Image"
   ]
  },
  {
   "cell_type": "code",
   "execution_count": 53,
   "metadata": {
    "collapsed": false
   },
   "outputs": [
    {
     "data": {
      "text/plain": [
       "<matplotlib.figure.Figure at 0x127ee7320>"
      ]
     },
     "metadata": {},
     "output_type": "display_data"
    },
    {
     "data": {
      "image/png": "[encoded data removed]",
      "text/plain": [
       "<matplotlib.figure.Figure at 0x1281812b0>"
      ]
     },
     "metadata": {},
     "output_type": "display_data"
    }
   ],
   "source": [
    "# split training hard image data\n",
    "train_image_hard = pd.DataFrame(mnisttt.train.images)\n",
    "train_image_hard['eh'] = eh_train_label_70\n",
    "train_image_hard = train_image_hard[train_image_hard['eh'] == 1]\n",
    "train_image_hard.drop(['eh'], axis = 1, inplace = True)\n",
    "train_image_hard.reset_index(drop = True, inplace = True)\n",
    "train_image_hard = train_image_hard.as_matrix()\n",
    "\n",
    "# split testing hard image data\n",
    "test_image_hard = pd.DataFrame(mnisttt.test.images)\n",
    "test_image_hard['eh'] = eh_test_label_70\n",
    "test_image_hard = test_image_hard[test_image_hard['eh'] == 1]\n",
    "test_image_hard.drop(['eh'], axis = 1, inplace = True)\n",
    "test_image_hard.reset_index(drop = True, inplace = True)\n",
    "test_image_hard = test_image_hard.as_matrix()\n",
    "\n",
    "# split training hard label data\n",
    "train_label_hard = pd.DataFrame(mnisttt.train.labels)\n",
    "train_label_hard['eh'] = eh_train_label_70\n",
    "train_label_hard = train_label_hard[train_label_hard['eh'] == 1]\n",
    "train_label_hard.drop(['eh'], axis = 1, inplace = True)\n",
    "train_label_hard.reset_index(drop = True, inplace = True)\n",
    "train_label_hard = train_label_hard.as_matrix()\n",
    "\n",
    "# split testing hard label data\n",
    "test_label_hard = pd.DataFrame(mnisttt.test.labels)\n",
    "test_label_hard['eh'] = eh_test_label_70\n",
    "test_label_hard = test_label_hard[test_label_hard['eh'] == 1]\n",
    "test_label_hard.drop(['eh'], axis = 1, inplace = True)\n",
    "test_label_hard.reset_index(drop = True, inplace = True)\n",
    "test_label_hard = test_label_hard.as_matrix()\n",
    "\n",
    "# plot 20 random hard images\n",
    "image_plot(train_image_hard, 20)"
   ]
  },
  {
   "cell_type": "code",
   "execution_count": 54,
   "metadata": {
    "collapsed": false
   },
   "outputs": [
    {
     "name": "stdout",
     "output_type": "stream",
     "text": [
      "test accuracy 0.921703\n",
      "Trained Model Saved.\n",
      "Running time: 675.468\n"
     ]
    }
   ],
   "source": [
    "# train hard image cnn classifier and output model for future use with optimal parameters\n",
    "\n",
    "# tensorflow graph input\n",
    "x = tf.placeholder(tf.float32, [None, 784]) \n",
    "y_ = tf.placeholder('float', [None, 10]) \n",
    "\n",
    "# transform 4D input images to a tensor\n",
    "x_image = tf.reshape(x, [-1, 28, 28, 1])\n",
    "    \n",
    "# store weight and bias for each layer\n",
    "\n",
    "# 5x5 convolution layer 1, 1 input, 32 outputs (feature maps)\n",
    "W_conv1 = weight_variable([5, 5, 1, 32])\n",
    "b_conv1 = bias_variable([32])\n",
    "h_conv1 = tf.nn.relu(conv2d(x_image, W_conv1) + b_conv1)\n",
    "h_pool1 = max_pool_2x2(h_conv1)\n",
    "    \n",
    "# 5x5 convolution layer 2, 32 inputs, 64 outputs (feature maps)\n",
    "W_conv2 = weight_variable([5, 5, 32, 64])\n",
    "b_conv2 = bias_variable([64])\n",
    "h_conv2 = tf.nn.relu(conv2d(h_pool1, W_conv2) + b_conv2)\n",
    "h_pool2 = max_pool_2x2(h_conv2)\n",
    "    \n",
    "# fully connected layer, 7*7*64 inputs, 1024 outputs\n",
    "W_fc1 = weight_variable([7 * 7 * 64, 1024])\n",
    "b_fc1 = bias_variable([1024])\n",
    "h_pool2_flat = tf.reshape(h_pool2, [-1, 7*7*64])\n",
    "h_fc1 = tf.nn.relu(tf.matmul(h_pool2_flat, W_fc1) + b_fc1)\n",
    "    \n",
    "# drop out\n",
    "keep_prob = tf.placeholder(tf.float32)\n",
    "h_fc1_drop = tf.nn.dropout(h_fc1, keep_prob)\n",
    "    \n",
    "# readout layer\n",
    "W_fc2 = weight_variable([1024, 10])\n",
    "b_fc2 = bias_variable([10])\n",
    "y_conv = tf.matmul(h_fc1_drop, W_fc2) + b_fc2\n",
    "\n",
    "    \n",
    "start = timeit.default_timer()\n",
    "cross_entropy = tf.reduce_mean(tf.nn.softmax_cross_entropy_with_logits(labels=y_, logits=y_conv))\n",
    "train_step = tf.train.AdamOptimizer(1e-4).minimize(cross_entropy)\n",
    "correct_prediction = tf.equal(tf.argmax(y_conv, 1), tf.argmax(y_, 1))\n",
    "accuracy = tf.reduce_mean(tf.cast(correct_prediction, tf.float32))\n",
    "\n",
    "# save trained model\n",
    "save_file = 'train_model_cnn_70.ckpt'\n",
    "saver = tf.train.Saver()\n",
    "\n",
    "with tf.Session() as sess:\n",
    "    sess.run(tf.global_variables_initializer())\n",
    "    for i in range(0,4000):\n",
    "        batch = next_batch(50, train_image_hard_oneHot, train_label_hard_oneHot)\n",
    "        if i % 100 == 0:\n",
    "            train_accuracy = accuracy.eval(feed_dict={x: batch[0], y_: batch[1], keep_prob: 1.0})\n",
    "            #print('step %d, training accuracy %g' % (i, train_accuracy))\n",
    "        train_step.run(feed_dict={x: batch[0], y_: batch[1], keep_prob: 0.5})\n",
    "\n",
    "    print('test accuracy %g' % accuracy.eval(feed_dict={x: test_image_hard_oneHot, y_: test_label_hard_oneHot, keep_prob: 1.0}))\n",
    "    saver.save(sess, save_file)\n",
    "    print('Trained Model Saved.')\n",
    "stop = timeit.default_timer()    \n",
    "print('Running time: %.3f' % (stop - start))"
   ]
  },
  {
   "cell_type": "markdown",
   "metadata": {},
   "source": [
    "### Pipeline Classification Process and Result"
   ]
  },
  {
   "cell_type": "code",
   "execution_count": 55,
   "metadata": {
    "collapsed": false
   },
   "outputs": [
    {
     "name": "stdout",
     "output_type": "stream",
     "text": [
      "INFO:tensorflow:Restoring parameters from train_model_cnn_70.ckpt\n",
      "training pipeline score: 0.984\n",
      "INFO:tensorflow:Restoring parameters from train_model_cnn_70.ckpt\n",
      "testing pipeline score: 0.948\n"
     ]
    }
   ],
   "source": [
    "# run pipeline with training data\n",
    "print('training pipeline score: %.3f' % pipeline_score(mnisttt.train.images, mnisttt.train.labels, 'train_model_cnn_70.ckpt'))\n",
    "\n",
    "# run pipeline with testing data\n",
    "print('testing pipeline score: %.3f' % pipeline_score(mnisttt.test.images, mnisttt.test.labels, 'train_model_cnn_70.ckpt'))"
   ]
  },
  {
   "cell_type": "markdown",
   "metadata": {},
   "source": [
    "## Rerun whole process with threshold = 80%"
   ]
  },
  {
   "cell_type": "markdown",
   "metadata": {},
   "source": [
    "### Set threshold and compute Easy / Hard label"
   ]
  },
  {
   "cell_type": "code",
   "execution_count": 56,
   "metadata": {
    "collapsed": false
   },
   "outputs": [
    {
     "name": "stdout",
     "output_type": "stream",
     "text": [
      "0    53750\n",
      "1     6250\n",
      "dtype: int64\n",
      "0    8784\n",
      "1    1216\n",
      "dtype: int64\n"
     ]
    }
   ],
   "source": [
    "# set default threshold to be 80%\n",
    "# Easy -> 0, Hard -> 1\n",
    "df_train_cw_80 = df_train_cw.apply(lambda x: 0 if np.average(x) >= 0.8 else 1, axis = 1)\n",
    "df_test_cw_80 = df_test_cw.apply(lambda x: 0 if np.average(x) >= 0.8 else 1, axis = 1)\n",
    "# count the number of easy and hard images\n",
    "print(df_train_cw_80.value_counts())\n",
    "print(df_test_cw_80.value_counts())\n",
    "# get the array of easy/hard label\n",
    "eh_train_label_80 = df_train_cw_80.values\n",
    "eh_test_label_80 = df_test_cw_80.values"
   ]
  },
  {
   "cell_type": "markdown",
   "metadata": {},
   "source": [
    "### Classify Easy / Hard Label"
   ]
  },
  {
   "cell_type": "code",
   "execution_count": 57,
   "metadata": {
    "collapsed": false
   },
   "outputs": [
    {
     "name": "stdout",
     "output_type": "stream",
     "text": [
      "Running time: 77.603\n",
      "[mean: 0.89752, std: 0.00009, params: {'max_depth': 20, 'n_estimators': 50}]\n",
      "0.8813\n"
     ]
    }
   ],
   "source": [
    "start = timeit.default_timer()\n",
    "\n",
    "# set the parameter grid\n",
    "param_grid_rf = {'n_estimators': [50],'max_depth': [20]}\n",
    "# use stratified 3-fold cross validation to tune the model\n",
    "# use accuracy as scoring paramsvm\n",
    "clf_eh_grid_rf = GridSearchCV(RandomForestClassifier(),param_grid_rf, scoring = 'accuracy', cv = 3)\n",
    "clf_eh_grid_rf.fit(mnisttt.train.images, eh_train_label_80)\n",
    "\n",
    "stop = timeit.default_timer()\n",
    "print('Running time: %.3f' % (stop - start))\n",
    "print(clf_eh_grid_rf.grid_scores_)\n",
    "# predict test labels and get accuracy\n",
    "print(clf_eh_grid_rf.score(mnisttt.test.images, eh_test_label_80))"
   ]
  },
  {
   "cell_type": "markdown",
   "metadata": {},
   "source": [
    "### Classify Easy Image"
   ]
  },
  {
   "cell_type": "code",
   "execution_count": 58,
   "metadata": {
    "collapsed": true
   },
   "outputs": [],
   "source": [
    "# split training easy image data\n",
    "train_image_easy = pd.DataFrame(mnisttt.train.images)\n",
    "train_image_easy['eh'] = eh_train_label_80\n",
    "train_image_easy = train_image_easy[train_image_easy['eh'] == 0]\n",
    "train_image_easy.drop(['eh'], axis = 1, inplace = True)\n",
    "\n",
    "# split testing easy image data\n",
    "test_image_easy = pd.DataFrame(mnisttt.test.images)\n",
    "test_image_easy['eh'] = eh_test_label_80\n",
    "test_image_easy = test_image_easy[test_image_easy['eh'] == 0]\n",
    "test_image_easy.drop(['eh'], axis = 1, inplace = True)\n",
    "\n",
    "# split training easy label data\n",
    "train_label_easy = pd.DataFrame(mnisttt.train.labels)\n",
    "train_label_easy['eh'] = eh_train_label_80\n",
    "train_label_easy = train_label_easy[train_label_easy['eh'] == 0]\n",
    "train_label_easy.drop(['eh'], axis = 1, inplace = True)\n",
    "\n",
    "# split testing easy label data\n",
    "test_label_easy = pd.DataFrame(mnisttt.test.labels)\n",
    "test_label_easy['eh'] = eh_test_label_80\n",
    "test_label_easy = test_label_easy[test_label_easy['eh'] == 0]\n",
    "test_label_easy.drop(['eh'], axis = 1, inplace = True)"
   ]
  },
  {
   "cell_type": "code",
   "execution_count": 59,
   "metadata": {
    "collapsed": false
   },
   "outputs": [
    {
     "name": "stdout",
     "output_type": "stream",
     "text": [
      "Running time: 76.044\n",
      "Training accuracy: 1.000\n",
      "Testing accuracy: 0.999\n"
     ]
    }
   ],
   "source": [
    "start = timeit.default_timer()\n",
    "\n",
    "# fit easy data to radial svm model\n",
    "clf_easy = SVC(C = 50, kernel = 'rbf', degree = 3, gamma = 'auto')\n",
    "clf_easy.fit(train_image_easy, train_label_easy)\n",
    "\n",
    "stop = timeit.default_timer()\n",
    "print('Running time: %.3f' % (stop - start))\n",
    "\n",
    "# get the accuracy of the easy model on training dataset\n",
    "print('Training accuracy: %.3f' % clf_easy.score(train_image_easy, train_label_easy))\n",
    "\n",
    "# get the accuracy of the easy model on test dataset\n",
    "print('Testing accuracy: %.3f' % clf_easy.score(test_image_easy, test_label_easy))"
   ]
  },
  {
   "cell_type": "markdown",
   "metadata": {},
   "source": [
    "### Classify Hard Image"
   ]
  },
  {
   "cell_type": "code",
   "execution_count": 60,
   "metadata": {
    "collapsed": false
   },
   "outputs": [
    {
     "data": {
      "text/plain": [
       "<matplotlib.figure.Figure at 0x14a523358>"
      ]
     },
     "metadata": {},
     "output_type": "display_data"
    },
    {
     "data": {
      "image/png": "[encoded data removed]",
      "text/plain": [
       "<matplotlib.figure.Figure at 0x127ec7ac8>"
      ]
     },
     "metadata": {},
     "output_type": "display_data"
    }
   ],
   "source": [
    "# split training hard image data\n",
    "train_image_hard = pd.DataFrame(mnisttt.train.images)\n",
    "train_image_hard['eh'] = eh_train_label_80\n",
    "train_image_hard = train_image_hard[train_image_hard['eh'] == 1]\n",
    "train_image_hard.drop(['eh'], axis = 1, inplace = True)\n",
    "train_image_hard.reset_index(drop = True, inplace = True)\n",
    "train_image_hard = train_image_hard.as_matrix()\n",
    "\n",
    "# split testing hard image data\n",
    "test_image_hard = pd.DataFrame(mnisttt.test.images)\n",
    "test_image_hard['eh'] = eh_test_label_80\n",
    "test_image_hard = test_image_hard[test_image_hard['eh'] == 1]\n",
    "test_image_hard.drop(['eh'], axis = 1, inplace = True)\n",
    "test_image_hard.reset_index(drop = True, inplace = True)\n",
    "test_image_hard = test_image_hard.as_matrix()\n",
    "\n",
    "# split training hard label data\n",
    "train_label_hard = pd.DataFrame(mnisttt.train.labels)\n",
    "train_label_hard['eh'] = eh_train_label_80\n",
    "train_label_hard = train_label_hard[train_label_hard['eh'] == 1]\n",
    "train_label_hard.drop(['eh'], axis = 1, inplace = True)\n",
    "train_label_hard.reset_index(drop = True, inplace = True)\n",
    "train_label_hard = train_label_hard.as_matrix()\n",
    "\n",
    "# split testing hard label data\n",
    "test_label_hard = pd.DataFrame(mnisttt.test.labels)\n",
    "test_label_hard['eh'] = eh_test_label_80\n",
    "test_label_hard = test_label_hard[test_label_hard['eh'] == 1]\n",
    "test_label_hard.drop(['eh'], axis = 1, inplace = True)\n",
    "test_label_hard.reset_index(drop = True, inplace = True)\n",
    "test_label_hard = test_label_hard.as_matrix()\n",
    "\n",
    "# plot 20 random hard images\n",
    "image_plot(train_image_hard, 20)"
   ]
  },
  {
   "cell_type": "code",
   "execution_count": 61,
   "metadata": {
    "collapsed": false
   },
   "outputs": [
    {
     "name": "stdout",
     "output_type": "stream",
     "text": [
      "test accuracy 0.906593\n",
      "Trained Model Saved.\n",
      "Running time: 678.929\n"
     ]
    }
   ],
   "source": [
    "# train hard image cnn classifier and output model for future use with optimal parameters\n",
    "\n",
    "# tensorflow graph input\n",
    "x = tf.placeholder(tf.float32, [None, 784]) \n",
    "y_ = tf.placeholder('float', [None, 10]) \n",
    "\n",
    "# transform 4D input images to a tensor\n",
    "x_image = tf.reshape(x, [-1, 28, 28, 1])\n",
    "    \n",
    "# store weight and bias for each layer\n",
    "\n",
    "# 5x5 convolution layer 1, 1 input, 32 outputs (feature maps)\n",
    "W_conv1 = weight_variable([5, 5, 1, 32])\n",
    "b_conv1 = bias_variable([32])\n",
    "h_conv1 = tf.nn.relu(conv2d(x_image, W_conv1) + b_conv1)\n",
    "h_pool1 = max_pool_2x2(h_conv1)\n",
    "    \n",
    "# 5x5 convolution layer 2, 32 inputs, 64 outputs (feature maps)\n",
    "W_conv2 = weight_variable([5, 5, 32, 64])\n",
    "b_conv2 = bias_variable([64])\n",
    "h_conv2 = tf.nn.relu(conv2d(h_pool1, W_conv2) + b_conv2)\n",
    "h_pool2 = max_pool_2x2(h_conv2)\n",
    "    \n",
    "# fully connected layer, 7*7*64 inputs, 1024 outputs\n",
    "W_fc1 = weight_variable([7 * 7 * 64, 1024])\n",
    "b_fc1 = bias_variable([1024])\n",
    "h_pool2_flat = tf.reshape(h_pool2, [-1, 7*7*64])\n",
    "h_fc1 = tf.nn.relu(tf.matmul(h_pool2_flat, W_fc1) + b_fc1)\n",
    "    \n",
    "# drop out\n",
    "keep_prob = tf.placeholder(tf.float32)\n",
    "h_fc1_drop = tf.nn.dropout(h_fc1, keep_prob)\n",
    "    \n",
    "# readout layer\n",
    "W_fc2 = weight_variable([1024, 10])\n",
    "b_fc2 = bias_variable([10])\n",
    "y_conv = tf.matmul(h_fc1_drop, W_fc2) + b_fc2\n",
    "\n",
    "    \n",
    "start = timeit.default_timer()\n",
    "cross_entropy = tf.reduce_mean(tf.nn.softmax_cross_entropy_with_logits(labels=y_, logits=y_conv))\n",
    "train_step = tf.train.AdamOptimizer(1e-4).minimize(cross_entropy)\n",
    "correct_prediction = tf.equal(tf.argmax(y_conv, 1), tf.argmax(y_, 1))\n",
    "accuracy = tf.reduce_mean(tf.cast(correct_prediction, tf.float32))\n",
    "\n",
    "# save trained model\n",
    "save_file = 'train_model_cnn_80.ckpt'\n",
    "saver = tf.train.Saver()\n",
    "\n",
    "with tf.Session() as sess:\n",
    "    sess.run(tf.global_variables_initializer())\n",
    "    for i in range(0,4000):\n",
    "        batch = next_batch(50, train_image_hard_oneHot, train_label_hard_oneHot)\n",
    "        if i % 100 == 0:\n",
    "            train_accuracy = accuracy.eval(feed_dict={x: batch[0], y_: batch[1], keep_prob: 1.0})\n",
    "            #print('step %d, training accuracy %g' % (i, train_accuracy))\n",
    "        train_step.run(feed_dict={x: batch[0], y_: batch[1], keep_prob: 0.5})\n",
    "\n",
    "    print('test accuracy %g' % accuracy.eval(feed_dict={x: test_image_hard_oneHot, y_: test_label_hard_oneHot, keep_prob: 1.0}))\n",
    "    saver.save(sess, save_file)\n",
    "    print('Trained Model Saved.')\n",
    "stop = timeit.default_timer()    \n",
    "print('Running time: %.3f' % (stop - start))"
   ]
  },
  {
   "cell_type": "markdown",
   "metadata": {},
   "source": [
    "### Pipeline Classification Process and Result"
   ]
  },
  {
   "cell_type": "code",
   "execution_count": 62,
   "metadata": {
    "collapsed": false
   },
   "outputs": [
    {
     "name": "stdout",
     "output_type": "stream",
     "text": [
      "INFO:tensorflow:Restoring parameters from train_model_cnn_80.ckpt\n",
      "training pipeline score: 0.981\n",
      "INFO:tensorflow:Restoring parameters from train_model_cnn_80.ckpt\n",
      "testing pipeline score: 0.944\n"
     ]
    }
   ],
   "source": [
    "# run pipeline with training data\n",
    "print('training pipeline score: %.3f' % pipeline_score(mnisttt.train.images, mnisttt.train.labels, 'train_model_cnn_80.ckpt'))\n",
    "\n",
    "# run pipeline with testing data\n",
    "print('testing pipeline score: %.3f' % pipeline_score(mnisttt.test.images, mnisttt.test.labels, 'train_model_cnn_80.ckpt'))"
   ]
  },
  {
   "cell_type": "markdown",
   "metadata": {},
   "source": [
    "## Rerun whole process with threshold = 90%"
   ]
  },
  {
   "cell_type": "markdown",
   "metadata": {},
   "source": [
    "### Set threshold and compute Easy / Hard label\n"
   ]
  },
  {
   "cell_type": "code",
   "execution_count": 63,
   "metadata": {
    "collapsed": false
   },
   "outputs": [
    {
     "name": "stdout",
     "output_type": "stream",
     "text": [
      "0    51494\n",
      "1     8506\n",
      "dtype: int64\n",
      "0    8187\n",
      "1    1813\n",
      "dtype: int64\n"
     ]
    }
   ],
   "source": [
    "# set default threshold to be 90%\n",
    "# Easy -> 0, Hard -> 1\n",
    "df_train_cw_90 = df_train_cw.apply(lambda x: 0 if np.average(x) >= 0.9 else 1, axis = 1)\n",
    "df_test_cw_90 = df_test_cw.apply(lambda x: 0 if np.average(x) >= 0.9 else 1, axis = 1)\n",
    "# count the number of easy and hard images\n",
    "print(df_train_cw_90.value_counts())\n",
    "print(df_test_cw_90.value_counts())\n",
    "# get the array of easy/hard label\n",
    "eh_train_label_90 = df_train_cw_90.values\n",
    "eh_test_label_90 = df_test_cw_90.values"
   ]
  },
  {
   "cell_type": "markdown",
   "metadata": {},
   "source": [
    "### Classify Easy / Hard Label"
   ]
  },
  {
   "cell_type": "code",
   "execution_count": 64,
   "metadata": {
    "collapsed": false
   },
   "outputs": [
    {
     "name": "stdout",
     "output_type": "stream",
     "text": [
      "Running time: 74.259\n",
      "[mean: 0.86403, std: 0.00005, params: {'max_depth': 20, 'n_estimators': 50}]\n",
      "0.8268\n"
     ]
    }
   ],
   "source": [
    "start = timeit.default_timer()\n",
    "\n",
    "# set the parameter grid\n",
    "param_grid_rf = {'n_estimators': [50],'max_depth': [20]}\n",
    "# use stratified 3-fold cross validation to tune the model\n",
    "# use accuracy as scoring paramsvm\n",
    "clf_eh_grid_rf = GridSearchCV(RandomForestClassifier(),param_grid_rf, scoring = 'accuracy', cv = 3)\n",
    "clf_eh_grid_rf.fit(mnisttt.train.images, eh_train_label_90)\n",
    "\n",
    "stop = timeit.default_timer()\n",
    "print('Running time: %.3f' % (stop - start))\n",
    "print(clf_eh_grid_rf.grid_scores_)\n",
    "# predict test labels and get accuracy\n",
    "print(clf_eh_grid_rf.score(mnisttt.test.images, eh_test_label_90))"
   ]
  },
  {
   "cell_type": "markdown",
   "metadata": {},
   "source": [
    "### Classify Easy Image"
   ]
  },
  {
   "cell_type": "code",
   "execution_count": 65,
   "metadata": {
    "collapsed": true
   },
   "outputs": [],
   "source": [
    "# split training easy image data\n",
    "train_image_easy = pd.DataFrame(mnisttt.train.images)\n",
    "train_image_easy['eh'] = eh_train_label_90\n",
    "train_image_easy = train_image_easy[train_image_easy['eh'] == 0]\n",
    "train_image_easy.drop(['eh'], axis = 1, inplace = True)\n",
    "\n",
    "# split testing easy image data\n",
    "test_image_easy = pd.DataFrame(mnisttt.test.images)\n",
    "test_image_easy['eh'] = eh_test_label_90\n",
    "test_image_easy = test_image_easy[test_image_easy['eh'] == 0]\n",
    "test_image_easy.drop(['eh'], axis = 1, inplace = True)\n",
    "\n",
    "# split training easy label data\n",
    "train_label_easy = pd.DataFrame(mnisttt.train.labels)\n",
    "train_label_easy['eh'] = eh_train_label_90\n",
    "train_label_easy = train_label_easy[train_label_easy['eh'] == 0]\n",
    "train_label_easy.drop(['eh'], axis = 1, inplace = True)\n",
    "\n",
    "# split testing easy label data\n",
    "test_label_easy = pd.DataFrame(mnisttt.test.labels)\n",
    "test_label_easy['eh'] = eh_test_label_90\n",
    "test_label_easy = test_label_easy[test_label_easy['eh'] == 0]\n",
    "test_label_easy.drop(['eh'], axis = 1, inplace = True)"
   ]
  },
  {
   "cell_type": "code",
   "execution_count": 66,
   "metadata": {
    "collapsed": false
   },
   "outputs": [
    {
     "name": "stdout",
     "output_type": "stream",
     "text": [
      "Running time: 64.926\n",
      "Training accuracy: 1.000\n",
      "Testing accuracy: 0.999\n"
     ]
    }
   ],
   "source": [
    "start = timeit.default_timer()\n",
    "\n",
    "# fit easy data to radial svm model\n",
    "clf_easy = SVC(C = 50, kernel = 'rbf', degree = 3, gamma = 'auto')\n",
    "clf_easy.fit(train_image_easy, train_label_easy)\n",
    "\n",
    "stop = timeit.default_timer()\n",
    "print('Running time: %.3f' % (stop - start))\n",
    "\n",
    "# get the accuracy of the easy model on training dataset\n",
    "print('Training accuracy: %.3f' % clf_easy.score(train_image_easy, train_label_easy))\n",
    "\n",
    "# get the accuracy of the easy model on test dataset\n",
    "print('Testing accuracy: %.3f' % clf_easy.score(test_image_easy, test_label_easy))"
   ]
  },
  {
   "cell_type": "markdown",
   "metadata": {},
   "source": [
    "### Classify Hard Image"
   ]
  },
  {
   "cell_type": "code",
   "execution_count": 67,
   "metadata": {
    "collapsed": false
   },
   "outputs": [
    {
     "data": {
      "text/plain": [
       "<matplotlib.figure.Figure at 0x128be56a0>"
      ]
     },
     "metadata": {},
     "output_type": "display_data"
    },
    {
     "data": {
      "image/png": "[encoded data removed]",
      "text/plain": [
       "<matplotlib.figure.Figure at 0x15bf308d0>"
      ]
     },
     "metadata": {},
     "output_type": "display_data"
    }
   ],
   "source": [
    "# split training hard image data\n",
    "train_image_hard = pd.DataFrame(mnisttt.train.images)\n",
    "train_image_hard['eh'] = eh_train_label_90\n",
    "train_image_hard = train_image_hard[train_image_hard['eh'] == 1]\n",
    "train_image_hard.drop(['eh'], axis = 1, inplace = True)\n",
    "train_image_hard.reset_index(drop = True, inplace = True)\n",
    "train_image_hard = train_image_hard.as_matrix()\n",
    "\n",
    "# split testing hard image data\n",
    "test_image_hard = pd.DataFrame(mnisttt.test.images)\n",
    "test_image_hard['eh'] = eh_test_label_90\n",
    "test_image_hard = test_image_hard[test_image_hard['eh'] == 1]\n",
    "test_image_hard.drop(['eh'], axis = 1, inplace = True)\n",
    "test_image_hard.reset_index(drop = True, inplace = True)\n",
    "test_image_hard = test_image_hard.as_matrix()\n",
    "\n",
    "# split training hard label data\n",
    "train_label_hard = pd.DataFrame(mnisttt.train.labels)\n",
    "train_label_hard['eh'] = eh_train_label_90\n",
    "train_label_hard = train_label_hard[train_label_hard['eh'] == 1]\n",
    "train_label_hard.drop(['eh'], axis = 1, inplace = True)\n",
    "train_label_hard.reset_index(drop = True, inplace = True)\n",
    "train_label_hard = train_label_hard.as_matrix()\n",
    "\n",
    "# split testing hard label data\n",
    "test_label_hard = pd.DataFrame(mnisttt.test.labels)\n",
    "test_label_hard['eh'] = eh_test_label_90\n",
    "test_label_hard = test_label_hard[test_label_hard['eh'] == 1]\n",
    "test_label_hard.drop(['eh'], axis = 1, inplace = True)\n",
    "test_label_hard.reset_index(drop = True, inplace = True)\n",
    "test_label_hard = test_label_hard.as_matrix()\n",
    "\n",
    "# plot 20 random hard images\n",
    "image_plot(train_image_hard, 20)"
   ]
  },
  {
   "cell_type": "code",
   "execution_count": 68,
   "metadata": {
    "collapsed": false
   },
   "outputs": [
    {
     "name": "stdout",
     "output_type": "stream",
     "text": [
      "test accuracy 0.906593\n",
      "Trained Model Saved.\n",
      "Running time: 678.839\n"
     ]
    }
   ],
   "source": [
    "# train hard image cnn classifier and output model for future use with optimal parameters\n",
    "\n",
    "# tensorflow graph input\n",
    "x = tf.placeholder(tf.float32, [None, 784]) \n",
    "y_ = tf.placeholder('float', [None, 10]) \n",
    "\n",
    "# transform 4D input images to a tensor\n",
    "x_image = tf.reshape(x, [-1, 28, 28, 1])\n",
    "    \n",
    "# store weight and bias for each layer\n",
    "\n",
    "# 5x5 convolution layer 1, 1 input, 32 outputs (feature maps)\n",
    "W_conv1 = weight_variable([5, 5, 1, 32])\n",
    "b_conv1 = bias_variable([32])\n",
    "h_conv1 = tf.nn.relu(conv2d(x_image, W_conv1) + b_conv1)\n",
    "h_pool1 = max_pool_2x2(h_conv1)\n",
    "    \n",
    "# 5x5 convolution layer 2, 32 inputs, 64 outputs (feature maps)\n",
    "W_conv2 = weight_variable([5, 5, 32, 64])\n",
    "b_conv2 = bias_variable([64])\n",
    "h_conv2 = tf.nn.relu(conv2d(h_pool1, W_conv2) + b_conv2)\n",
    "h_pool2 = max_pool_2x2(h_conv2)\n",
    "    \n",
    "# fully connected layer, 7*7*64 inputs, 1024 outputs\n",
    "W_fc1 = weight_variable([7 * 7 * 64, 1024])\n",
    "b_fc1 = bias_variable([1024])\n",
    "h_pool2_flat = tf.reshape(h_pool2, [-1, 7*7*64])\n",
    "h_fc1 = tf.nn.relu(tf.matmul(h_pool2_flat, W_fc1) + b_fc1)\n",
    "    \n",
    "# drop out\n",
    "keep_prob = tf.placeholder(tf.float32)\n",
    "h_fc1_drop = tf.nn.dropout(h_fc1, keep_prob)\n",
    "    \n",
    "# readout layer\n",
    "W_fc2 = weight_variable([1024, 10])\n",
    "b_fc2 = bias_variable([10])\n",
    "y_conv = tf.matmul(h_fc1_drop, W_fc2) + b_fc2\n",
    "\n",
    "    \n",
    "start = timeit.default_timer()\n",
    "cross_entropy = tf.reduce_mean(tf.nn.softmax_cross_entropy_with_logits(labels=y_, logits=y_conv))\n",
    "train_step = tf.train.AdamOptimizer(1e-4).minimize(cross_entropy)\n",
    "correct_prediction = tf.equal(tf.argmax(y_conv, 1), tf.argmax(y_, 1))\n",
    "accuracy = tf.reduce_mean(tf.cast(correct_prediction, tf.float32))\n",
    "\n",
    "# save trained model\n",
    "save_file = 'train_model_cnn_90.ckpt'\n",
    "saver = tf.train.Saver()\n",
    "\n",
    "with tf.Session() as sess:\n",
    "    sess.run(tf.global_variables_initializer())\n",
    "    for i in range(0,4000):\n",
    "        batch = next_batch(50, train_image_hard_oneHot, train_label_hard_oneHot)\n",
    "        if i % 100 == 0:\n",
    "            train_accuracy = accuracy.eval(feed_dict={x: batch[0], y_: batch[1], keep_prob: 1.0})\n",
    "            #print('step %d, training accuracy %g' % (i, train_accuracy))\n",
    "        train_step.run(feed_dict={x: batch[0], y_: batch[1], keep_prob: 0.5})\n",
    "\n",
    "    print('test accuracy %g' % accuracy.eval(feed_dict={x: test_image_hard_oneHot, y_: test_label_hard_oneHot, keep_prob: 1.0}))\n",
    "    saver.save(sess, save_file)\n",
    "    print('Trained Model Saved.')\n",
    "stop = timeit.default_timer()    \n",
    "print('Running time: %.3f' % (stop - start))"
   ]
  },
  {
   "cell_type": "markdown",
   "metadata": {},
   "source": [
    "### Pipeline Classification Process and Result"
   ]
  },
  {
   "cell_type": "code",
   "execution_count": 69,
   "metadata": {
    "collapsed": false
   },
   "outputs": [
    {
     "name": "stdout",
     "output_type": "stream",
     "text": [
      "INFO:tensorflow:Restoring parameters from train_model_cnn_90.ckpt\n",
      "training pipeline score: 0.977\n",
      "INFO:tensorflow:Restoring parameters from train_model_cnn_90.ckpt\n",
      "testing pipeline score: 0.942\n"
     ]
    }
   ],
   "source": [
    "# run pipeline with training data\n",
    "print('training pipeline score: %.3f' % pipeline_score(mnisttt.train.images, mnisttt.train.labels, 'train_model_cnn_90.ckpt'))\n",
    "\n",
    "# run pipeline with testing data\n",
    "print('testing pipeline score: %.3f' % pipeline_score(mnisttt.test.images, mnisttt.test.labels, 'train_model_cnn_90.ckpt'))"
   ]
  },
  {
   "cell_type": "code",
   "execution_count": null,
   "metadata": {
    "collapsed": true
   },
   "outputs": [],
   "source": []
  },
  {
   "cell_type": "code",
   "execution_count": null,
   "metadata": {
    "collapsed": true
   },
   "outputs": [],
   "source": []
  },
  {
   "cell_type": "code",
   "execution_count": null,
   "metadata": {
    "collapsed": true
   },
   "outputs": [],
   "source": []
  }
 ],
 "metadata": {
  "kernelspec": {
   "display_name": "Python 3",
   "language": "python",
   "name": "python3"
  },
  "language_info": {
   "codemirror_mode": {
    "name": "ipython",
    "version": 3
   },
   "file_extension": ".py",
   "mimetype": "text/x-python",
   "name": "python",
   "nbconvert_exporter": "python",
   "pygments_lexer": "ipython3",
   "version": "3.6.0"
  }
 },
 "nbformat": 4,
 "nbformat_minor": 2
}
