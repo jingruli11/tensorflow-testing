{
 "cells": [
  {
   "cell_type": "markdown",
   "metadata": {},
   "source": [
    "# Machine Learning Final Project\n",
    "\n",
    "Michael Li\n",
    "\n",
    "Dec 10, 2017"
   ]
  },
  {
   "cell_type": "markdown",
   "metadata": {},
   "source": [
    "## Environment Setup"
   ]
  },
  {
   "cell_type": "code",
   "execution_count": 23,
   "metadata": {
    "collapsed": false
   },
   "outputs": [],
   "source": [
    "# import relevant libraries\n",
    "import pandas as pd\n",
    "import numpy as np\n",
    "import scipy\n",
    "import matplotlib.pyplot as plt\n",
    "import seaborn as sns\n",
    "import sklearn\n",
    "import tensorflow as tf\n",
    "from tensorflow.examples.tutorials.mnist import input_data\n",
    "import timeit\n",
    "import datetime\n",
    "from sklearn.linear_model import Perceptron\n",
    "from sklearn.linear_model import LogisticRegression\n",
    "from sklearn.svm import LinearSVC\n",
    "from sklearn.svm import SVC\n",
    "from sklearn.tree import DecisionTreeClassifier\n",
    "from sklearn.ensemble import RandomForestClassifier\n",
    "from sklearn.model_selection import GridSearchCV\n",
    "from sklearn.metrics import roc_curve, auc"
   ]
  },
  {
   "cell_type": "code",
   "execution_count": 2,
   "metadata": {
    "collapsed": true
   },
   "outputs": [],
   "source": [
    "# suppress warnings\n",
    "import warnings\n",
    "warnings.simplefilter('ignore')"
   ]
  },
  {
   "cell_type": "markdown",
   "metadata": {},
   "source": [
    "## Load and Cleanse Dataset "
   ]
  },
  {
   "cell_type": "code",
   "execution_count": 3,
   "metadata": {
    "collapsed": false
   },
   "outputs": [
    {
     "name": "stdout",
     "output_type": "stream",
     "text": [
      "Extracting ./train-images-idx3-ubyte.gz\n",
      "Extracting ./train-labels-idx1-ubyte.gz\n",
      "Extracting ./t10k-images-idx3-ubyte.gz\n",
      "Extracting ./t10k-labels-idx1-ubyte.gz\n"
     ]
    }
   ],
   "source": [
    "# load dataset \n",
    "mnisttt = input_data.read_data_sets(\".\", one_hot=False, validation_size = 0)"
   ]
  },
  {
   "cell_type": "code",
   "execution_count": 4,
   "metadata": {
    "collapsed": true
   },
   "outputs": [],
   "source": [
    "# define function to plot images\n",
    "def image_plot(image, size):\n",
    "    idxs = np.random.randint(len(image), size=size)\n",
    "    plt.clf()\n",
    "    f, axarr = plt.subplots(1, size, figsize = (20,20))\n",
    "    for i in range(0,len(idxs)):\n",
    "        X = mnisttt.train.images[idxs[i]]\n",
    "        X = X.reshape([28, 28])\n",
    "        axarr[i].imshow(X)\n",
    "        axarr[i].set_axis_off()\n",
    "    plt.show()"
   ]
  },
  {
   "cell_type": "code",
   "execution_count": 5,
   "metadata": {
    "collapsed": false
   },
   "outputs": [
    {
     "data": {
      "text/plain": [
       "<matplotlib.figure.Figure at 0x1111b8828>"
      ]
     },
     "metadata": {},
     "output_type": "display_data"
    },
    {
     "data": {
      "image/png": "[encoded data removed]",
      "text/plain": [
       "<matplotlib.figure.Figure at 0x126ce0e80>"
      ]
     },
     "metadata": {},
     "output_type": "display_data"
    }
   ],
   "source": [
    "# plot 20 random images\n",
    "image_plot(mnisttt.train.images, 20)"
   ]
  },
  {
   "cell_type": "code",
   "execution_count": 6,
   "metadata": {
    "collapsed": false
   },
   "outputs": [
    {
     "name": "stdout",
     "output_type": "stream",
     "text": [
      "The size of training image dataset is:  (60000, 784)\n",
      "The size of training label dataset is:  (60000,)\n",
      "The size of validation image dataset is:  (0, 784)\n",
      "The size of validation label dataset is:  (0,)\n",
      "The size of testing image dataset is:  (10000, 784)\n",
      "The size of testing label dataset is:  (10000,)\n"
     ]
    }
   ],
   "source": [
    "# print dataset size\n",
    "print('The size of training image dataset is: ', mnisttt.train.images.shape)\n",
    "print('The size of training label dataset is: ', mnisttt.train.labels.shape)\n",
    "print('The size of validation image dataset is: ', mnisttt.validation.images.shape)\n",
    "print('The size of validation label dataset is: ', mnisttt.validation.labels.shape)\n",
    "print('The size of testing image dataset is: ', mnisttt.test.images.shape)\n",
    "print('The size of testing label dataset is: ', mnisttt.test.labels.shape)"
   ]
  },
  {
   "cell_type": "markdown",
   "metadata": {},
   "source": [
    "## Compute Easy / Hard Label"
   ]
  },
  {
   "cell_type": "markdown",
   "metadata": {},
   "source": [
    "- To find the label 'Easy / Hard', 5 classification models will be used:\n",
    "    1. Perceptron\n",
    "    2. Logistic Regression\n",
    "    3. Linear SVM\n",
    "    4. Decision Tree\n",
    "    5. Random Forest\n",
    "\n",
    "\n",
    "- Each classification model will be applied with 2 sets of parameters, which totals up to 10 classification results"
   ]
  },
  {
   "cell_type": "markdown",
   "metadata": {},
   "source": [
    "### Classification using Perceptron"
   ]
  },
  {
   "cell_type": "code",
   "execution_count": 35,
   "metadata": {
    "collapsed": true
   },
   "outputs": [],
   "source": [
    "# define a function to classify data using Perceptron\n",
    "def clf_perceptron(train_image, train_label, test_image, test_label, p):\n",
    "    clf = Perceptron(n_iter=p)\n",
    "    clf.fit(train_image, train_label)\n",
    "    train_pred = clf.predict(train_image)\n",
    "    test_pred = clf.predict(test_image)\n",
    "    df_train_temp = pd.DataFrame({'Label': train_label, 'Pred': train_pred})\n",
    "    df_test_temp = pd.DataFrame({'Label': test_label, 'Pred': test_pred})\n",
    "    # Correct -> 1, Wrong -> 0\n",
    "    df_train_temp['Perceptron'] = df_train_temp.apply(lambda x: 1 if x['Label'] == x['Pred'] else 0, axis = 1)\n",
    "    df_test_temp['Perceptron'] = df_test_temp.apply(lambda x: 1 if x['Label'] == x['Pred'] else 0, axis = 1)\n",
    "    return df_train_temp[['Perceptron']], df_test_temp[['Perceptron']]"
   ]
  },
  {
   "cell_type": "code",
   "execution_count": 65,
   "metadata": {
    "collapsed": false
   },
   "outputs": [
    {
     "name": "stdout",
     "output_type": "stream",
     "text": [
      "Running time: 173.288\n"
     ]
    }
   ],
   "source": [
    "start = timeit.default_timer()\n",
    "# Use perceptron to classify training and testing datasets with n_iter = 75\n",
    "df_p_train1, df_p_test1 = clf_perceptron(mnisttt.train.images, mnisttt.train.labels, \n",
    "                                         mnisttt.test.images, mnisttt.test.labels, 75)\n",
    "\n",
    "# Use perceptron to classify training and testing datasets with n_iter = 150\n",
    "df_p_train2, df_p_test2 = clf_perceptron(mnisttt.train.images, mnisttt.train.labels, \n",
    "                                         mnisttt.test.images, mnisttt.test.labels, 150)\n",
    "\n",
    "# rename the dataframes to include parameter\n",
    "df_p_train1.rename(columns = {'Perceptron': 'C1 Perceptron n_iter = 75'}, inplace = True)\n",
    "df_p_test1.rename(columns = {'Perceptron': 'C1 Perceptron n_iter = 75'}, inplace = True)\n",
    "df_p_train2.rename(columns = {'Perceptron': 'C1 Perceptron n_iter = 150'}, inplace = True)\n",
    "df_p_test2.rename(columns = {'Perceptron': 'C1 Perceptron n_iter = 150'}, inplace = True)\n",
    "\n",
    "stop = timeit.default_timer()\n",
    "print('Running time: %.3f' % (stop - start))"
   ]
  },
  {
   "cell_type": "markdown",
   "metadata": {},
   "source": [
    "### Classification using Logistic Regression"
   ]
  },
  {
   "cell_type": "code",
   "execution_count": 40,
   "metadata": {
    "collapsed": true
   },
   "outputs": [],
   "source": [
    "# define a function to classify data using Logistic Regression\n",
    "def clf_logit(train_image, train_label, test_image, test_label, p):\n",
    "    clf = LogisticRegression(penalty = 'l2', C = p, solver ='newton-cg')\n",
    "    clf.fit(train_image, train_label)\n",
    "    train_pred = clf.predict(train_image)\n",
    "    test_pred = clf.predict(test_image)\n",
    "    df_train_temp = pd.DataFrame({'Label': train_label, 'Pred': train_pred})\n",
    "    df_test_temp = pd.DataFrame({'Label': test_label, 'Pred': test_pred})\n",
    "    # Correct -> 1, Wrong -> 0\n",
    "    df_train_temp['Logit'] = df_train_temp[['Label','Pred']].apply(lambda x: 1 if x['Label'] == x['Pred'] else 0, axis = 1)\n",
    "    df_test_temp['Logit'] = df_test_temp[['Label','Pred']].apply(lambda x: 1 if x['Label'] == x['Pred'] else 0, axis = 1)\n",
    "    return df_train_temp[['Logit']], df_test_temp[['Logit']]"
   ]
  },
  {
   "cell_type": "code",
   "execution_count": 66,
   "metadata": {
    "collapsed": false
   },
   "outputs": [
    {
     "name": "stdout",
     "output_type": "stream",
     "text": [
      "Running time: 355.211\n"
     ]
    }
   ],
   "source": [
    "start = timeit.default_timer()\n",
    "# Use Logistic Regression to classify training and testing datasets with C = 0.1\n",
    "df_logit_train1, df_logit_test1 = clf_logit(mnisttt.train.images, mnisttt.train.labels, \n",
    "                                         mnisttt.test.images, mnisttt.test.labels, 0.1)\n",
    "\n",
    "# Use Logistic Regression to classify training and testing datasets with C = 0.01\n",
    "df_logit_train2, df_logit_test2 = clf_logit(mnisttt.train.images, mnisttt.train.labels, \n",
    "                                         mnisttt.test.images, mnisttt.test.labels, 0.01)\n",
    "\n",
    "# rename the dataframes to include parameter\n",
    "df_logit_train1.rename(columns = {'Logit': 'C2 Logistic Regression C = 0.1'}, inplace = True)\n",
    "df_logit_test1.rename(columns = {'Logit': 'C2 Logistic Regression C = 0.1'}, inplace = True)\n",
    "df_logit_train2.rename(columns = {'Logit': 'C2 Logistic Regression C = 0.01'}, inplace = True)\n",
    "df_logit_test2.rename(columns = {'Logit': 'C2 Logistic Regression C = 0.01'}, inplace = True)\n",
    "\n",
    "stop = timeit.default_timer()\n",
    "print('Running time: %.3f' % (stop - start))"
   ]
  },
  {
   "cell_type": "markdown",
   "metadata": {},
   "source": [
    "### Classification using Linear SVM"
   ]
  },
  {
   "cell_type": "code",
   "execution_count": 42,
   "metadata": {
    "collapsed": true
   },
   "outputs": [],
   "source": [
    "# define a function to classify data using Linear SVM\n",
    "def clf_lsvm(train_image, train_label, test_image, test_label, p):\n",
    "    clf = LinearSVC(penalty = 'l2', C = p, multi_class = 'ovr')\n",
    "    clf.fit(train_image, train_label)\n",
    "    train_pred = clf.predict(train_image)\n",
    "    test_pred = clf.predict(test_image)\n",
    "    df_train_temp = pd.DataFrame({'Label': train_label, 'Pred': train_pred})\n",
    "    df_test_temp = pd.DataFrame({'Label': test_label, 'Pred': test_pred})\n",
    "    # Correct -> 1, Wrong -> 0\n",
    "    df_train_temp['Linear SVM'] = df_train_temp[['Label','Pred']].apply(lambda x: 1 if x['Label'] == x['Pred'] else 0, axis = 1)\n",
    "    df_test_temp['Linear SVM'] = df_test_temp[['Label','Pred']].apply(lambda x: 1 if x['Label'] == x['Pred'] else 0, axis = 1)\n",
    "    return df_train_temp[['Linear SVM']], df_test_temp[['Linear SVM']]"
   ]
  },
  {
   "cell_type": "code",
   "execution_count": 67,
   "metadata": {
    "collapsed": false
   },
   "outputs": [
    {
     "name": "stdout",
     "output_type": "stream",
     "text": [
      "Running time: 45.904\n"
     ]
    }
   ],
   "source": [
    "start = timeit.default_timer()\n",
    "# Use Linear SVM to classify training and testing datasets with C = 0.1\n",
    "df_lsvm_train1, df_lsvm_test1 = clf_lsvm(mnisttt.train.images, mnisttt.train.labels, \n",
    "                                         mnisttt.test.images, mnisttt.test.labels, 0.1)\n",
    "\n",
    "# Use Linear SVM to classify training and testing datasets with C = 0.01\n",
    "df_lsvm_train2, df_lsvm_test2 = clf_lsvm(mnisttt.train.images, mnisttt.train.labels, \n",
    "                                         mnisttt.test.images, mnisttt.test.labels, 0.01)\n",
    "\n",
    "# rename the dataframes to include parameter\n",
    "df_lsvm_train1.rename(columns = {'Linear SVM': 'C3 Linear SVM C = 0.1'}, inplace = True)\n",
    "df_lsvm_test1.rename(columns = {'Linear SVM': 'C3 Linear SVM C = 0.1'}, inplace = True)\n",
    "df_lsvm_train2.rename(columns = {'Linear SVM': 'C3 Linear SVM C = 0.01'}, inplace = True)\n",
    "df_lsvm_test2.rename(columns = {'Linear SVM': 'C3 Linear SVM C = 0.01'}, inplace = True)\n",
    "\n",
    "stop = timeit.default_timer()\n",
    "print('Running time: %.3f' % (stop - start))"
   ]
  },
  {
   "cell_type": "markdown",
   "metadata": {},
   "source": [
    "### Classification using Decision Tree"
   ]
  },
  {
   "cell_type": "code",
   "execution_count": 50,
   "metadata": {
    "collapsed": false
   },
   "outputs": [
    {
     "name": "stdout",
     "output_type": "stream",
     "text": [
      "Running time: 594.915\n"
     ]
    }
   ],
   "source": [
    "# Before applying decision tree model to predict, \n",
    "# since the Decision Tree model's optimal parameter has not been searched, \n",
    "# I will use GridSearchCV to find the best parameter\n",
    "start = timeit.default_timer()\n",
    "\n",
    "# set the parameter grid for max_depth\n",
    "param_grid = {'max_depth': np.arange(3,26)}\n",
    "clf_tree = GridSearchCV(DecisionTreeClassifier(),param_grid)\n",
    "clf_tree.fit(mnisttt.train.images, mnisttt.train.labels)\n",
    "\n",
    "stop = timeit.default_timer()\n",
    "print('Running time: %.3f' % (stop - start))"
   ]
  },
  {
   "cell_type": "markdown",
   "metadata": {},
   "source": [
    "The best parameter for max_depth is 16 or 17."
   ]
  },
  {
   "cell_type": "code",
   "execution_count": 54,
   "metadata": {
    "collapsed": true
   },
   "outputs": [],
   "source": [
    "# define a function to classify data using Decision Tree\n",
    "def clf_dtree(train_image, train_label, test_image, test_label, p):\n",
    "    clf = DecisionTreeClassifier(max_depth = p)\n",
    "    clf.fit(train_image, train_label)\n",
    "    train_pred = clf.predict(train_image)\n",
    "    test_pred = clf.predict(test_image)\n",
    "    df_train_temp = pd.DataFrame({'Label': train_label, 'Pred': train_pred})\n",
    "    df_test_temp = pd.DataFrame({'Label': test_label, 'Pred': test_pred})\n",
    "    # Correct -> 1, Wrong -> 0\n",
    "    df_train_temp['Decision tree'] = df_train_temp[['Label','Pred']].apply(lambda x: 1 if x['Label'] == x['Pred'] else 0, axis = 1)\n",
    "    df_test_temp['Decision tree'] = df_test_temp[['Label','Pred']].apply(lambda x: 1 if x['Label'] == x['Pred'] else 0, axis = 1)\n",
    "    return df_train_temp[['Decision tree']], df_test_temp[['Decision tree']]"
   ]
  },
  {
   "cell_type": "code",
   "execution_count": 74,
   "metadata": {
    "collapsed": false
   },
   "outputs": [
    {
     "name": "stdout",
     "output_type": "stream",
     "text": [
      "Running time: 32.062\n"
     ]
    }
   ],
   "source": [
    "start = timeit.default_timer()\n",
    "# Use Decision Tree to classify training and testing datasets with max_depth = 16\n",
    "df_dtree_train1, df_dtree_test1 = clf_dtree(mnisttt.train.images, mnisttt.train.labels, \n",
    "                                         mnisttt.test.images, mnisttt.test.labels, 16)\n",
    "\n",
    "# Use Decision Tree to classify training and testing datasets with max_depth = 10\n",
    "df_dtree_train2, df_dtree_test2 = clf_dtree(mnisttt.train.images, mnisttt.train.labels, \n",
    "                                         mnisttt.test.images, mnisttt.test.labels, 10)\n",
    "\n",
    "# rename the dataframes to include parameter\n",
    "df_dtree_train1.rename(columns = {'Decision tree': 'C4 Decision Tree max_depth = 16'}, inplace = True)\n",
    "df_dtree_test1.rename(columns = {'Decision tree': 'C4 Decision Tree max_depth = 16'}, inplace = True)\n",
    "df_dtree_train2.rename(columns = {'Decision tree': 'C4 Decision Tree max_depth = 10'}, inplace = True)\n",
    "df_dtree_test2.rename(columns = {'Decision tree': 'C4 Decision Tree max_depth = 10'}, inplace = True)\n",
    "\n",
    "stop = timeit.default_timer()\n",
    "print('Running time: %.3f' % (stop - start))"
   ]
  },
  {
   "cell_type": "markdown",
   "metadata": {},
   "source": [
    "### Classification using Random Forest"
   ]
  },
  {
   "cell_type": "code",
   "execution_count": 57,
   "metadata": {
    "collapsed": false
   },
   "outputs": [
    {
     "name": "stdout",
     "output_type": "stream",
     "text": [
      "Running time: 487.623\n"
     ]
    }
   ],
   "source": [
    "# Before applying random forest model to predict, \n",
    "# since the Random Forest model's optimal parameter has not been searched, \n",
    "# I will use GridSearchCV to find the best parameter\n",
    "start = timeit.default_timer()\n",
    "\n",
    "# set the parameter grid for max_depth\n",
    "param_grid = {'n_estimators': np.arange(10,51,10),'max_depth': np.arange(3,10)}\n",
    "clf_rdmforest = GridSearchCV(RandomForestClassifier(),param_grid)\n",
    "clf_rdmforest.fit(mnisttt.train.images, mnisttt.train.labels)\n",
    "\n",
    "stop = timeit.default_timer()\n",
    "print('Running time: %.3f' % (stop - start))"
   ]
  },
  {
   "cell_type": "markdown",
   "metadata": {},
   "source": [
    "The best parameter set is: \n",
    "\n",
    "- max_depth = 9\n",
    "- n_estimators = 50\n",
    "\n",
    "The accuracy is presumed to continue increase with deeper depth and more estimators.\n",
    "\n",
    "The change in max_depth has larger effect on accuracy then change in n_estimators."
   ]
  },
  {
   "cell_type": "code",
   "execution_count": 61,
   "metadata": {
    "collapsed": true
   },
   "outputs": [],
   "source": [
    "# define a function to classify data using Random Forest\n",
    "def clf_rdmfst(train_image, train_label, test_image, test_label, p):\n",
    "    clf = RandomForestClassifier(n_estimators = 50, max_depth = p)\n",
    "    clf.fit(train_image, train_label)\n",
    "    train_pred = clf.predict(train_image)\n",
    "    test_pred = clf.predict(test_image)\n",
    "    df_train_temp = pd.DataFrame({'Label': train_label, 'Pred': train_pred})\n",
    "    df_test_temp = pd.DataFrame({'Label': test_label, 'Pred': test_pred})\n",
    "    # Correct -> 1, Wrong -> 0\n",
    "    df_train_temp['Random forest'] = df_train_temp[['Label','Pred']].apply(lambda x: 1 if x['Label'] == x['Pred'] else 0, axis = 1)\n",
    "    df_test_temp['Random forest'] = df_test_temp[['Label','Pred']].apply(lambda x: 1 if x['Label'] == x['Pred'] else 0, axis = 1)\n",
    "    return df_train_temp[['Random forest']], df_test_temp[['Random forest']]"
   ]
  },
  {
   "cell_type": "code",
   "execution_count": 75,
   "metadata": {
    "collapsed": false
   },
   "outputs": [
    {
     "name": "stdout",
     "output_type": "stream",
     "text": [
      "Running time: 31.375\n"
     ]
    }
   ],
   "source": [
    "start = timeit.default_timer()\n",
    "# Use Random Forest to classify training and testing datasets with max_depth = 9\n",
    "df_rdmfst_train1, df_rdmfst_test1 = clf_rdmfst(mnisttt.train.images, mnisttt.train.labels, \n",
    "                                         mnisttt.test.images, mnisttt.test.labels, 9)\n",
    "\n",
    "# Use Random Forest to classify training and testing datasets with max_depth = 7\n",
    "df_rdmfst_train2, df_rdmfst_test2 = clf_rdmfst(mnisttt.train.images, mnisttt.train.labels, \n",
    "                                         mnisttt.test.images, mnisttt.test.labels, 7)\n",
    "# rename the dataframes to include parameter\n",
    "df_rdmfst_train1.rename(columns = {'Random forest': 'C5 Random Forest max_depth = 9'}, inplace = True)\n",
    "df_rdmfst_test1.rename(columns = {'Random forest': 'C5 Random Forest max_depth = 9'}, inplace = True)\n",
    "df_rdmfst_train2.rename(columns = {'Random forest': 'C5 Random Forest max_depth = 7'}, inplace = True)\n",
    "df_rdmfst_test2.rename(columns = {'Random forest': 'C5 Random Forest max_depth = 7'}, inplace = True)\n",
    "\n",
    "stop = timeit.default_timer()\n",
    "print('Running time: %.3f' % (stop - start))"
   ]
  },
  {
   "cell_type": "markdown",
   "metadata": {},
   "source": [
    "### Consolidate result"
   ]
  },
  {
   "cell_type": "code",
   "execution_count": 76,
   "metadata": {
    "collapsed": true
   },
   "outputs": [],
   "source": [
    "# Merge all result together into a dataframe\n",
    "df_train_cw = pd.concat([df_p_train1, df_p_train2, df_logit_train1, df_logit_train2, \n",
    "                               df_lsvm_train1, df_lsvm_train2, df_dtree_train1, df_dtree_train2,\n",
    "                               df_rdmfst_train1, df_rdmfst_train2], axis = 1)\n",
    "\n",
    "df_test_cw = pd.concat([df_p_test1, df_p_test2, df_logit_test1, df_logit_test2, \n",
    "                               df_lsvm_test1, df_lsvm_test2, df_dtree_test1, df_dtree_test2,\n",
    "                               df_rdmfst_test1, df_rdmfst_test2], axis = 1)"
   ]
  },
  {
   "cell_type": "code",
   "execution_count": 78,
   "metadata": {
    "collapsed": false
   },
   "outputs": [
    {
     "data": {
      "text/html": [
       "<div>\n",
       "<style>\n",
       "    .dataframe thead tr:only-child th {\n",
       "        text-align: right;\n",
       "    }\n",
       "\n",
       "    .dataframe thead th {\n",
       "        text-align: left;\n",
       "    }\n",
       "\n",
       "    .dataframe tbody tr th {\n",
       "        vertical-align: top;\n",
       "    }\n",
       "</style>\n",
       "<table border=\"1\" class=\"dataframe\">\n",
       "  <thead>\n",
       "    <tr style=\"text-align: right;\">\n",
       "      <th></th>\n",
       "      <th>C1 Perceptron n_iter = 75</th>\n",
       "      <th>C1 Perceptron n_iter = 150</th>\n",
       "      <th>C2 Logistic Regression C = 0.1</th>\n",
       "      <th>C2 Logistic Regression C = 0.01</th>\n",
       "      <th>C3 Linear SVM C = 0.1</th>\n",
       "      <th>C3 Linear SVM C = 0.01</th>\n",
       "      <th>C4 Decision Tree max_depth = 16</th>\n",
       "      <th>C4 Decision Tree max_depth = 10</th>\n",
       "      <th>C5 Random Forest max_depth = 9</th>\n",
       "      <th>C5 Random Forest max_depth = 7</th>\n",
       "    </tr>\n",
       "  </thead>\n",
       "  <tbody>\n",
       "    <tr>\n",
       "      <th>0</th>\n",
       "      <td>0</td>\n",
       "      <td>0</td>\n",
       "      <td>1</td>\n",
       "      <td>1</td>\n",
       "      <td>1</td>\n",
       "      <td>1</td>\n",
       "      <td>1</td>\n",
       "      <td>1</td>\n",
       "      <td>1</td>\n",
       "      <td>1</td>\n",
       "    </tr>\n",
       "    <tr>\n",
       "      <th>1</th>\n",
       "      <td>1</td>\n",
       "      <td>1</td>\n",
       "      <td>1</td>\n",
       "      <td>1</td>\n",
       "      <td>1</td>\n",
       "      <td>1</td>\n",
       "      <td>1</td>\n",
       "      <td>1</td>\n",
       "      <td>1</td>\n",
       "      <td>1</td>\n",
       "    </tr>\n",
       "    <tr>\n",
       "      <th>2</th>\n",
       "      <td>1</td>\n",
       "      <td>1</td>\n",
       "      <td>1</td>\n",
       "      <td>1</td>\n",
       "      <td>1</td>\n",
       "      <td>1</td>\n",
       "      <td>1</td>\n",
       "      <td>1</td>\n",
       "      <td>1</td>\n",
       "      <td>1</td>\n",
       "    </tr>\n",
       "    <tr>\n",
       "      <th>3</th>\n",
       "      <td>1</td>\n",
       "      <td>1</td>\n",
       "      <td>1</td>\n",
       "      <td>1</td>\n",
       "      <td>1</td>\n",
       "      <td>1</td>\n",
       "      <td>1</td>\n",
       "      <td>1</td>\n",
       "      <td>1</td>\n",
       "      <td>1</td>\n",
       "    </tr>\n",
       "    <tr>\n",
       "      <th>4</th>\n",
       "      <td>1</td>\n",
       "      <td>1</td>\n",
       "      <td>1</td>\n",
       "      <td>1</td>\n",
       "      <td>1</td>\n",
       "      <td>1</td>\n",
       "      <td>1</td>\n",
       "      <td>1</td>\n",
       "      <td>1</td>\n",
       "      <td>1</td>\n",
       "    </tr>\n",
       "  </tbody>\n",
       "</table>\n",
       "</div>"
      ],
      "text/plain": [
       "   C1 Perceptron n_iter = 75  C1 Perceptron n_iter = 150  \\\n",
       "0                          0                           0   \n",
       "1                          1                           1   \n",
       "2                          1                           1   \n",
       "3                          1                           1   \n",
       "4                          1                           1   \n",
       "\n",
       "   C2 Logistic Regression C = 0.1  C2 Logistic Regression C = 0.01  \\\n",
       "0                               1                                1   \n",
       "1                               1                                1   \n",
       "2                               1                                1   \n",
       "3                               1                                1   \n",
       "4                               1                                1   \n",
       "\n",
       "   C3 Linear SVM C = 0.1  C3 Linear SVM C = 0.01  \\\n",
       "0                      1                       1   \n",
       "1                      1                       1   \n",
       "2                      1                       1   \n",
       "3                      1                       1   \n",
       "4                      1                       1   \n",
       "\n",
       "   C4 Decision Tree max_depth = 16  C4 Decision Tree max_depth = 10  \\\n",
       "0                                1                                1   \n",
       "1                                1                                1   \n",
       "2                                1                                1   \n",
       "3                                1                                1   \n",
       "4                                1                                1   \n",
       "\n",
       "   C5 Random Forest max_depth = 9  C5 Random Forest max_depth = 7  \n",
       "0                               1                               1  \n",
       "1                               1                               1  \n",
       "2                               1                               1  \n",
       "3                               1                               1  \n",
       "4                               1                               1  "
      ]
     },
     "execution_count": 78,
     "metadata": {},
     "output_type": "execute_result"
    }
   ],
   "source": [
    "# preview the first 5 rows of training dataset result\n",
    "df_train_cw.head()"
   ]
  },
  {
   "cell_type": "code",
   "execution_count": 116,
   "metadata": {
    "collapsed": true
   },
   "outputs": [],
   "source": [
    "# save result to csv file\n",
    "df_train_cw.to_csv('train_correct_wrong.csv', index = True)\n",
    "df_test_cw.to_csv('test_correct_wrong.csv', index = True)"
   ]
  },
  {
   "cell_type": "markdown",
   "metadata": {},
   "source": [
    "### Set threshold and compute Easy / Hard label"
   ]
  },
  {
   "cell_type": "code",
   "execution_count": 13,
   "metadata": {
    "collapsed": false
   },
   "outputs": [],
   "source": [
    "# read correct_wrong file\n",
    "df_train_cw = pd.read_csv('train_correct_wrong.csv', index_col = 0)\n",
    "df_test_cw = pd.read_csv('test_correct_wrong.csv', index_col = 0)"
   ]
  },
  {
   "cell_type": "code",
   "execution_count": 14,
   "metadata": {
    "collapsed": false
   },
   "outputs": [
    {
     "data": {
      "text/html": [
       "<div>\n",
       "<style>\n",
       "    .dataframe thead tr:only-child th {\n",
       "        text-align: right;\n",
       "    }\n",
       "\n",
       "    .dataframe thead th {\n",
       "        text-align: left;\n",
       "    }\n",
       "\n",
       "    .dataframe tbody tr th {\n",
       "        vertical-align: top;\n",
       "    }\n",
       "</style>\n",
       "<table border=\"1\" class=\"dataframe\">\n",
       "  <thead>\n",
       "    <tr style=\"text-align: right;\">\n",
       "      <th></th>\n",
       "      <th>C1 Perceptron n_iter = 75</th>\n",
       "      <th>C1 Perceptron n_iter = 150</th>\n",
       "      <th>C2 Logistic Regression C = 0.1</th>\n",
       "      <th>C2 Logistic Regression C = 0.01</th>\n",
       "      <th>C3 Linear SVM C = 0.1</th>\n",
       "      <th>C3 Linear SVM C = 0.01</th>\n",
       "      <th>C4 Decision Tree max_depth = 16</th>\n",
       "      <th>C4 Decision Tree max_depth = 10</th>\n",
       "      <th>C5 Random Forest max_depth = 9</th>\n",
       "      <th>C5 Random Forest max_depth = 7</th>\n",
       "    </tr>\n",
       "  </thead>\n",
       "  <tbody>\n",
       "    <tr>\n",
       "      <th>0</th>\n",
       "      <td>0</td>\n",
       "      <td>0</td>\n",
       "      <td>1</td>\n",
       "      <td>1</td>\n",
       "      <td>1</td>\n",
       "      <td>1</td>\n",
       "      <td>1</td>\n",
       "      <td>1</td>\n",
       "      <td>1</td>\n",
       "      <td>1</td>\n",
       "    </tr>\n",
       "    <tr>\n",
       "      <th>1</th>\n",
       "      <td>1</td>\n",
       "      <td>1</td>\n",
       "      <td>1</td>\n",
       "      <td>1</td>\n",
       "      <td>1</td>\n",
       "      <td>1</td>\n",
       "      <td>1</td>\n",
       "      <td>1</td>\n",
       "      <td>1</td>\n",
       "      <td>1</td>\n",
       "    </tr>\n",
       "    <tr>\n",
       "      <th>2</th>\n",
       "      <td>1</td>\n",
       "      <td>1</td>\n",
       "      <td>1</td>\n",
       "      <td>1</td>\n",
       "      <td>1</td>\n",
       "      <td>1</td>\n",
       "      <td>1</td>\n",
       "      <td>1</td>\n",
       "      <td>1</td>\n",
       "      <td>1</td>\n",
       "    </tr>\n",
       "    <tr>\n",
       "      <th>3</th>\n",
       "      <td>1</td>\n",
       "      <td>1</td>\n",
       "      <td>1</td>\n",
       "      <td>1</td>\n",
       "      <td>1</td>\n",
       "      <td>1</td>\n",
       "      <td>1</td>\n",
       "      <td>1</td>\n",
       "      <td>1</td>\n",
       "      <td>1</td>\n",
       "    </tr>\n",
       "    <tr>\n",
       "      <th>4</th>\n",
       "      <td>1</td>\n",
       "      <td>1</td>\n",
       "      <td>1</td>\n",
       "      <td>1</td>\n",
       "      <td>1</td>\n",
       "      <td>1</td>\n",
       "      <td>1</td>\n",
       "      <td>1</td>\n",
       "      <td>1</td>\n",
       "      <td>1</td>\n",
       "    </tr>\n",
       "  </tbody>\n",
       "</table>\n",
       "</div>"
      ],
      "text/plain": [
       "   C1 Perceptron n_iter = 75  C1 Perceptron n_iter = 150  \\\n",
       "0                          0                           0   \n",
       "1                          1                           1   \n",
       "2                          1                           1   \n",
       "3                          1                           1   \n",
       "4                          1                           1   \n",
       "\n",
       "   C2 Logistic Regression C = 0.1  C2 Logistic Regression C = 0.01  \\\n",
       "0                               1                                1   \n",
       "1                               1                                1   \n",
       "2                               1                                1   \n",
       "3                               1                                1   \n",
       "4                               1                                1   \n",
       "\n",
       "   C3 Linear SVM C = 0.1  C3 Linear SVM C = 0.01  \\\n",
       "0                      1                       1   \n",
       "1                      1                       1   \n",
       "2                      1                       1   \n",
       "3                      1                       1   \n",
       "4                      1                       1   \n",
       "\n",
       "   C4 Decision Tree max_depth = 16  C4 Decision Tree max_depth = 10  \\\n",
       "0                                1                                1   \n",
       "1                                1                                1   \n",
       "2                                1                                1   \n",
       "3                                1                                1   \n",
       "4                                1                                1   \n",
       "\n",
       "   C5 Random Forest max_depth = 9  C5 Random Forest max_depth = 7  \n",
       "0                               1                               1  \n",
       "1                               1                               1  \n",
       "2                               1                               1  \n",
       "3                               1                               1  \n",
       "4                               1                               1  "
      ]
     },
     "execution_count": 14,
     "metadata": {},
     "output_type": "execute_result"
    }
   ],
   "source": [
    "# check correct_wrong dataframe\n",
    "df_train_cw.head()"
   ]
  },
  {
   "cell_type": "code",
   "execution_count": 15,
   "metadata": {
    "collapsed": true
   },
   "outputs": [],
   "source": [
    "# set default threshold to be 50%\n",
    "# Easy -> 0, Hard -> 1\n",
    "df_train_cw_50 = df_train_cw.apply(lambda x: 0 if np.average(x) >= 0.5 else 1, axis = 1)\n",
    "df_test_cw_50 = df_test_cw.apply(lambda x: 0 if np.average(x) >= 0.5 else 1, axis = 1)"
   ]
  },
  {
   "cell_type": "code",
   "execution_count": 16,
   "metadata": {
    "collapsed": false
   },
   "outputs": [
    {
     "name": "stdout",
     "output_type": "stream",
     "text": [
      "0    56171\n",
      "1     3829\n",
      "dtype: int64\n",
      "0    9272\n",
      "1     728\n",
      "dtype: int64\n"
     ]
    }
   ],
   "source": [
    "# count the number of easy and hard images\n",
    "print(df_train_cw_50.value_counts())\n",
    "print(df_test_cw_50.value_counts())"
   ]
  },
  {
   "cell_type": "code",
   "execution_count": 17,
   "metadata": {
    "collapsed": false
   },
   "outputs": [],
   "source": [
    "# get the array of easy/hard label\n",
    "eh_train_label_50 = df_train_cw_50.values\n",
    "eh_test_label_50 = df_test_cw_50.values"
   ]
  },
  {
   "cell_type": "markdown",
   "metadata": {},
   "source": [
    "## Classify Easy / Hard Label"
   ]
  },
  {
   "cell_type": "markdown",
   "metadata": {},
   "source": [
    "Since any classification model can be used to classify the easy / hard label, logistic regression is chosen for this step.\n",
    "\n",
    "To achieve better accuracy, gridsearchCV is used in this step."
   ]
  },
  {
   "cell_type": "code",
   "execution_count": 18,
   "metadata": {
    "collapsed": false
   },
   "outputs": [
    {
     "name": "stdout",
     "output_type": "stream",
     "text": [
      "Running time: 598.904\n"
     ]
    }
   ],
   "source": [
    "start = timeit.default_timer()\n",
    "\n",
    "# set the parameter grid for C\n",
    "param_grid = {'C': [0.0001, 0.001, 0.01, 0.1, 1, 5]}\n",
    "# use stratified 3-fold cross validation to tune the model\n",
    "# use accuracy as scoring parameter\n",
    "clf_eh_grid = GridSearchCV(LogisticRegression(penalty= 'l2', solver='newton-cg'),param_grid, scoring = 'accuracy', cv = 3)\n",
    "clf_eh_grid.fit(mnisttt.train.images, eh_train_label_50)\n",
    "\n",
    "stop = timeit.default_timer()\n",
    "print('Running time: %.3f' % (stop - start))"
   ]
  },
  {
   "cell_type": "code",
   "execution_count": 19,
   "metadata": {
    "collapsed": false
   },
   "outputs": [
    {
     "data": {
      "text/plain": [
       "[mean: 0.93618, std: 0.00002, params: {'C': 0.0001},\n",
       " mean: 0.93618, std: 0.00002, params: {'C': 0.001},\n",
       " mean: 0.93615, std: 0.00007, params: {'C': 0.01},\n",
       " mean: 0.93612, std: 0.00019, params: {'C': 0.1},\n",
       " mean: 0.93572, std: 0.00065, params: {'C': 1},\n",
       " mean: 0.93517, std: 0.00073, params: {'C': 5}]"
      ]
     },
     "execution_count": 19,
     "metadata": {},
     "output_type": "execute_result"
    }
   ],
   "source": [
    "clf_eh_grid.grid_scores_"
   ]
  },
  {
   "cell_type": "markdown",
   "metadata": {},
   "source": [
    "The optimal tuned Logistic Regression model:\n",
    "\n",
    "- parameter: C = 0.001\n",
    "\n",
    "- average accuracy = 93.618%"
   ]
  },
  {
   "cell_type": "code",
   "execution_count": 20,
   "metadata": {
    "collapsed": false
   },
   "outputs": [
    {
     "data": {
      "text/plain": [
       "0.92720000000000002"
      ]
     },
     "execution_count": 20,
     "metadata": {},
     "output_type": "execute_result"
    }
   ],
   "source": [
    "# predict test labels and get accuracy\n",
    "clf_eh_grid.score(mnisttt.test.images, eh_test_label_50)"
   ]
  },
  {
   "cell_type": "markdown",
   "metadata": {},
   "source": [
    "The test accuracy is 92.72%"
   ]
  },
  {
   "cell_type": "markdown",
   "metadata": {},
   "source": [
    "## Classify Easy Images"
   ]
  },
  {
   "cell_type": "markdown",
   "metadata": {},
   "source": [
    "### Split Easy dataset"
   ]
  },
  {
   "cell_type": "code",
   "execution_count": 44,
   "metadata": {
    "collapsed": true
   },
   "outputs": [],
   "source": [
    "# split training easy image data\n",
    "train_image_easy = pd.DataFrame(mnisttt.train.images)\n",
    "train_image_easy['eh'] = eh_train_label_50\n",
    "train_image_easy = train_image_easy[train_image_easy['eh'] == 0]\n",
    "train_image_easy.drop(['eh'], axis = 1, inplace = True)\n",
    "\n",
    "# split testing easy image data\n",
    "test_image_easy = pd.DataFrame(mnisttt.test.images)\n",
    "test_image_easy['eh'] = eh_test_label_50\n",
    "test_image_easy = test_image_easy[test_image_easy['eh'] == 0]\n",
    "test_image_easy.drop(['eh'], axis = 1, inplace = True)"
   ]
  },
  {
   "cell_type": "code",
   "execution_count": 46,
   "metadata": {
    "collapsed": false
   },
   "outputs": [
    {
     "name": "stdout",
     "output_type": "stream",
     "text": [
      "(56171, 784)\n",
      "(9272, 784)\n"
     ]
    }
   ],
   "source": [
    "# check training and testing easy image dataset shape\n",
    "print(train_image_easy.shape)\n",
    "print(test_image_easy.shape)"
   ]
  },
  {
   "cell_type": "code",
   "execution_count": 48,
   "metadata": {
    "collapsed": true
   },
   "outputs": [],
   "source": [
    "# split training easy label data\n",
    "train_label_easy = pd.DataFrame(mnisttt.train.labels)\n",
    "train_label_easy['eh'] = eh_train_label_50\n",
    "train_label_easy = train_label_easy[train_label_easy['eh'] == 0]\n",
    "train_label_easy.drop(['eh'], axis = 1, inplace = True)\n",
    "\n",
    "# split testing easy label data\n",
    "test_label_easy = pd.DataFrame(mnisttt.test.labels)\n",
    "test_label_easy['eh'] = eh_test_label_50\n",
    "test_label_easy = test_label_easy[test_label_easy['eh'] == 0]\n",
    "test_label_easy.drop(['eh'], axis = 1, inplace = True)"
   ]
  },
  {
   "cell_type": "code",
   "execution_count": 49,
   "metadata": {
    "collapsed": false
   },
   "outputs": [
    {
     "name": "stdout",
     "output_type": "stream",
     "text": [
      "(56171, 1)\n",
      "(9272, 1)\n"
     ]
    }
   ],
   "source": [
    "# check training and testing easy label dataset shape\n",
    "print(train_label_easy.shape)\n",
    "print(test_label_easy.shape)"
   ]
  },
  {
   "cell_type": "markdown",
   "metadata": {
    "collapsed": true
   },
   "source": [
    "### Simple Classifier for Easy Image"
   ]
  },
  {
   "cell_type": "markdown",
   "metadata": {
    "collapsed": true
   },
   "source": [
    "For the simple classifier, the model with best accuracy is Radial SVM (C = 50)"
   ]
  },
  {
   "cell_type": "code",
   "execution_count": 55,
   "metadata": {
    "collapsed": false
   },
   "outputs": [
    {
     "name": "stdout",
     "output_type": "stream",
     "text": [
      "Running time: 104.763\n"
     ]
    }
   ],
   "source": [
    "start = timeit.default_timer()\n",
    "\n",
    "# fit easy data to radial svm model\n",
    "clf_easy = SVC(C = 50, kernel = 'rbf', degree = 3, gamma = 'auto')\n",
    "clf_easy.fit(train_image_easy, train_label_easy)\n",
    "\n",
    "stop = timeit.default_timer()\n",
    "print('Running time: %.3f' % (stop - start))"
   ]
  },
  {
   "cell_type": "code",
   "execution_count": 56,
   "metadata": {
    "collapsed": false
   },
   "outputs": [
    {
     "data": {
      "text/plain": [
       "0.99525452976704054"
      ]
     },
     "execution_count": 56,
     "metadata": {},
     "output_type": "execute_result"
    }
   ],
   "source": [
    "# get the accuracy of the easy model on test dataset\n",
    "clf_easy.score(test_image_easy, test_label_easy)"
   ]
  },
  {
   "cell_type": "markdown",
   "metadata": {},
   "source": [
    "## Classify Hard Images"
   ]
  },
  {
   "cell_type": "markdown",
   "metadata": {},
   "source": [
    "### Split Hard Dataset"
   ]
  },
  {
   "cell_type": "code",
   "execution_count": 57,
   "metadata": {
    "collapsed": false
   },
   "outputs": [
    {
     "name": "stdout",
     "output_type": "stream",
     "text": [
      "Extracting ./train-images-idx3-ubyte.gz\n",
      "Extracting ./train-labels-idx1-ubyte.gz\n",
      "Extracting ./t10k-images-idx3-ubyte.gz\n",
      "Extracting ./t10k-labels-idx1-ubyte.gz\n"
     ]
    }
   ],
   "source": [
    "# load OneHotEncode dataset\n",
    "mnisttt_one_hot = input_data.read_data_sets(\".\", one_hot=True, validation_size = 0)"
   ]
  },
  {
   "cell_type": "code",
   "execution_count": 58,
   "metadata": {
    "collapsed": true
   },
   "outputs": [],
   "source": [
    "# split training hard image data\n",
    "train_image_hard = pd.DataFrame(mnisttt_one_hot.train.images)\n",
    "train_image_hard['eh'] = eh_train_label_50\n",
    "train_image_hard = train_image_hard[train_image_hard['eh'] == 1]\n",
    "train_image_hard.drop(['eh'], axis = 1, inplace = True)\n",
    "\n",
    "# split testing hard image data\n",
    "test_image_hard = pd.DataFrame(mnisttt_one_hot.test.images)\n",
    "test_image_hard['eh'] = eh_test_label_50\n",
    "test_image_hard = test_image_hard[test_image_hard['eh'] == 1]\n",
    "test_image_hard.drop(['eh'], axis = 1, inplace = True)"
   ]
  },
  {
   "cell_type": "code",
   "execution_count": 59,
   "metadata": {
    "collapsed": false
   },
   "outputs": [
    {
     "name": "stdout",
     "output_type": "stream",
     "text": [
      "(3829, 784)\n",
      "(728, 784)\n"
     ]
    }
   ],
   "source": [
    "# check training and testing hard image dataset shape\n",
    "print(train_image_hard.shape)\n",
    "print(test_image_hard.shape)"
   ]
  },
  {
   "cell_type": "code",
   "execution_count": 60,
   "metadata": {
    "collapsed": true
   },
   "outputs": [],
   "source": [
    "# split training hard label data\n",
    "train_label_hard = pd.DataFrame(mnisttt_one_hot.train.labels)\n",
    "train_label_hard['eh'] = eh_train_label_50\n",
    "train_label_hard = train_label_hard[train_label_hard['eh'] == 1]\n",
    "train_label_hard.drop(['eh'], axis = 1, inplace = True)\n",
    "\n",
    "# split testing hard label data\n",
    "test_label_hard = pd.DataFrame(mnisttt_one_hot.test.labels)\n",
    "test_label_hard['eh'] = eh_test_label_50\n",
    "test_label_hard = test_label_hard[test_label_hard['eh'] == 1]\n",
    "test_label_hard.drop(['eh'], axis = 1, inplace = True)"
   ]
  },
  {
   "cell_type": "code",
   "execution_count": 61,
   "metadata": {
    "collapsed": false
   },
   "outputs": [
    {
     "name": "stdout",
     "output_type": "stream",
     "text": [
      "(3829, 10)\n",
      "(728, 10)\n"
     ]
    }
   ],
   "source": [
    "# check training and testing hard label dataset shape\n",
    "print(train_label_hard.shape)\n",
    "print(test_label_hard.shape)"
   ]
  },
  {
   "cell_type": "markdown",
   "metadata": {},
   "source": [
    "### CNN Classifier for Hard Images"
   ]
  },
  {
   "cell_type": "code",
   "execution_count": 62,
   "metadata": {
    "collapsed": true
   },
   "outputs": [],
   "source": [
    "# use tensorflow to construct CNN Classifier\n",
    "# set parameters\n",
    "learning_rate = 0.001\n",
    "training_iters = 100000\n",
    "batch_size = 128\n",
    "display_step = 10\n",
    "k = 2\n",
    "s = 1"
   ]
  },
  {
   "cell_type": "code",
   "execution_count": 63,
   "metadata": {
    "collapsed": true
   },
   "outputs": [],
   "source": [
    "# set network parameters\n",
    "nodes_input = 784 # number of input nodes: MNIST image input is 784 pixels (image size is 28 x 28 pixels)\n",
    "nodes_classes = 10 # number of output nodes: network output is digits 0-9\n",
    "dropout = 0.80 # probability to keep units, used to avoid overfitting"
   ]
  },
  {
   "cell_type": "code",
   "execution_count": 64,
   "metadata": {
    "collapsed": true
   },
   "outputs": [],
   "source": [
    "def conv2d(img, w, s, b):\n",
    "    return tf.nn.relu(tf.nn.bias_add(tf.nn.conv2d(img, w, strides = [1, s, s, 1], padding = 'SAME'), b))\n",
    "    \n",
    "def max_pool(img, k):\n",
    "    return tf.nn.max_pool(img, ksize = [1, k, k, 1], strides = [1, k, k, 1], padding = 'SAME')"
   ]
  },
  {
   "cell_type": "code",
   "execution_count": 65,
   "metadata": {
    "collapsed": true
   },
   "outputs": [],
   "source": [
    "# define a function to construct the CNN model\n",
    "def cnn_clf(learn, iters, batch, display_step, ss, kk):\n",
    "    \n",
    "    # tensorflow graph input\n",
    "    x = tf.placeholder(tf.float32, [None, nodes_input]) \n",
    "    y = tf.placeholder('float', [None, nodes_classes]) \n",
    "    keep_probability = tf.placeholder(tf.float32)\n",
    "    # store weight and bias for each layer\n",
    "\n",
    "    # 5x5 convolution layer 1, 1 input, 32 outputs (feature maps)\n",
    "    weights_c1 = tf.Variable(tf.random_normal([5, 5, 1, 32]))\n",
    "    bias_c1 = tf.Variable(tf.random_normal([32]))\n",
    "    \n",
    "    # 5x5 convolution layer 2, 32 inputs, 64 outputs (feature maps)\n",
    "    weights_c2 = tf.Variable(tf.random_normal([5, 5, 32, 64]))\n",
    "    bias_c2 = tf.Variable(tf.random_normal([64]))\n",
    "    \n",
    "    # fully connected layer, 7*7*64 inputs, 1024 outputs\n",
    "    weights_d1 = tf.Variable(tf.random_normal([7 * 7 * 64, 1024]))\n",
    "    \n",
    "    # class prediction layer, 1024 inputs, 10 outputs\n",
    "    weights_out = tf.Variable(tf.random_normal([1024, nodes_classes]))\n",
    "    bias_d1 = tf.Variable(tf.random_normal([1024]))\n",
    "    bias_out = tf.Variable(tf.random_normal([nodes_classes]))\n",
    "    \n",
    "    # transform 4D input images to a tensor\n",
    "    _X = tf.reshape(x, shape = [-1, 28, 28, 1])\n",
    "    \n",
    "    # construct convolution layer 1\n",
    "    conv1 = conv2d(_X, weights_c1, s, bias_c1)\n",
    "    # apply max pooling\n",
    "    conv1 = max_pool(conv1, k = kk)\n",
    "    # apply dropout\n",
    "    conv1 = tf.nn.dropout(conv1, keep_probability)\n",
    "    \n",
    "    # construct convolution layer 2\n",
    "    conv2 = conv2d(conv1, weights_c2, s, bias_c2)\n",
    "    # apply max pooling\n",
    "    conv2 = max_pool(conv2, k = kk)\n",
    "    # apply dropout\n",
    "    conv2 = tf.nn.dropout(conv2, keep_probability)\n",
    "    \n",
    "    # construct fully connected layer\n",
    "    # reshape conv2 output to fit dense layer input\n",
    "    dense1 = tf.reshape(conv2, [-1, weights_d1.get_shape().as_list()[0]])\n",
    "    # relu activation\n",
    "    dense1 = tf.nn.relu(tf.add(tf.matmul(dense1, weights_d1), bias_d1))\n",
    "    # apply dropout\n",
    "    dense1 = tf.nn.dropout(dense1, keep_probability)\n",
    "    \n",
    "    # construct prediction output layer\n",
    "    prediction = tf.add(tf.matmul(dense1, weights_out), bias_out)\n",
    "    \n",
    "    # cost function\n",
    "    cost = tf.reduce_mean(tf.nn.softmax_cross_entropy_with_logits(logits = prediction, labels = y))\n",
    "    \n",
    "    # optimizer (adam optimizer controls the learning rate, could also use gradient descent optimizer)\n",
    "    optimizer = tf.train.AdamOptimizer(learning_rate=learn).minimize(cost)\n",
    "    \n",
    "    # evaluate model\n",
    "    correct_prediction = tf.equal(tf.argmax(prediction, 1), tf.argmax(y, 1))\n",
    "    accuracy = tf.reduce_mean(tf.cast(correct_prediction, tf.float32))\n",
    "    \n",
    "    # initialize variables\n",
    "    init = tf.initialize_all_variables()\n",
    "    \n",
    "    # launch graph\n",
    "    start = timeit.default_timer()\n",
    "    \n",
    "    with tf.Session() as sess:\n",
    "        sess.run(init)\n",
    "    \n",
    "        step = 1\n",
    "        # train until reach max iterations\n",
    "        while step * batch < iters:\n",
    "            batch_xs, batch_ys = mnisttt.train.next_batch(batch)\n",
    "            # fit training using batch data\n",
    "            sess.run(optimizer, feed_dict = {x: batch_xs, y: batch_ys, keep_probability: dropout})\n",
    "            if step % display_step == 0:\n",
    "                # calculate batch accuracy\n",
    "                acc = sess.run(accuracy, feed_dict = {x: batch_xs, y: batch_ys, keep_probability: 1.})\n",
    "                # calculate batch loss\n",
    "                loss = sess.run(cost, feed_dict = {x: batch_xs, y: batch_ys, keep_probability: 1.})\n",
    "                # print('Iter ' + str(step * batch) + ', Minibatch Loss = ' + '{:.6f}'.format(loss) + ', Training Accuracy = ' + '{:.5f}'.format(acc))\n",
    "            step += 1\n",
    "    \n",
    "        print('Optimization finished')\n",
    "        # calculate accuracy\n",
    "        print('Testing Accuracy:', sess.run(accuracy, feed_dict = {x: mnisttt.test.images[:256], y: mnisttt.test.labels[:256], keep_probability: 1.}))\n",
    "    \n",
    "    stop = timeit.default_timer()    \n",
    "    print('Running time: %.3f' % (stop - start))"
   ]
  },
  {
   "cell_type": "code",
   "execution_count": 66,
   "metadata": {
    "collapsed": false
   },
   "outputs": [
    {
     "name": "stdout",
     "output_type": "stream",
     "text": [
      "WARNING:tensorflow:From <ipython-input-65-7cb30b5b4b67>:65: initialize_all_variables (from tensorflow.python.ops.variables) is deprecated and will be removed after 2017-03-02.\n",
      "Instructions for updating:\n",
      "Use `tf.global_variables_initializer` instead.\n"
     ]
    },
    {
     "ename": "ValueError",
     "evalue": "Cannot feed value of shape (128,) for Tensor 'Placeholder_1:0', which has shape '(?, 10)'",
     "output_type": "error",
     "traceback": [
      "\u001b[0;31m---------------------------------------------------------------------------\u001b[0m",
      "\u001b[0;31mValueError\u001b[0m                                Traceback (most recent call last)",
      "\u001b[0;32m<ipython-input-66-f66904bb2ba0>\u001b[0m in \u001b[0;36m<module>\u001b[0;34m()\u001b[0m\n\u001b[0;32m----> 1\u001b[0;31m \u001b[0mcnn_clf\u001b[0m\u001b[0;34m(\u001b[0m\u001b[0mlearning_rate\u001b[0m\u001b[0;34m,\u001b[0m \u001b[0mtraining_iters\u001b[0m\u001b[0;34m,\u001b[0m \u001b[0mbatch_size\u001b[0m\u001b[0;34m,\u001b[0m \u001b[0mdisplay_step\u001b[0m\u001b[0;34m,\u001b[0m \u001b[0ms\u001b[0m\u001b[0;34m,\u001b[0m \u001b[0mk\u001b[0m\u001b[0;34m)\u001b[0m\u001b[0;34m\u001b[0m\u001b[0m\n\u001b[0m",
      "\u001b[0;32m<ipython-input-65-7cb30b5b4b67>\u001b[0m in \u001b[0;36mcnn_clf\u001b[0;34m(learn, iters, batch, display_step, ss, kk)\u001b[0m\n\u001b[1;32m     76\u001b[0m             \u001b[0mbatch_xs\u001b[0m\u001b[0;34m,\u001b[0m \u001b[0mbatch_ys\u001b[0m \u001b[0;34m=\u001b[0m \u001b[0mmnisttt\u001b[0m\u001b[0;34m.\u001b[0m\u001b[0mtrain\u001b[0m\u001b[0;34m.\u001b[0m\u001b[0mnext_batch\u001b[0m\u001b[0;34m(\u001b[0m\u001b[0mbatch\u001b[0m\u001b[0;34m)\u001b[0m\u001b[0;34m\u001b[0m\u001b[0m\n\u001b[1;32m     77\u001b[0m             \u001b[0;31m# fit training using batch data\u001b[0m\u001b[0;34m\u001b[0m\u001b[0;34m\u001b[0m\u001b[0m\n\u001b[0;32m---> 78\u001b[0;31m             \u001b[0msess\u001b[0m\u001b[0;34m.\u001b[0m\u001b[0mrun\u001b[0m\u001b[0;34m(\u001b[0m\u001b[0moptimizer\u001b[0m\u001b[0;34m,\u001b[0m \u001b[0mfeed_dict\u001b[0m \u001b[0;34m=\u001b[0m \u001b[0;34m{\u001b[0m\u001b[0mx\u001b[0m\u001b[0;34m:\u001b[0m \u001b[0mbatch_xs\u001b[0m\u001b[0;34m,\u001b[0m \u001b[0my\u001b[0m\u001b[0;34m:\u001b[0m \u001b[0mbatch_ys\u001b[0m\u001b[0;34m,\u001b[0m \u001b[0mkeep_probability\u001b[0m\u001b[0;34m:\u001b[0m \u001b[0mdropout\u001b[0m\u001b[0;34m}\u001b[0m\u001b[0;34m)\u001b[0m\u001b[0;34m\u001b[0m\u001b[0m\n\u001b[0m\u001b[1;32m     79\u001b[0m             \u001b[0;32mif\u001b[0m \u001b[0mstep\u001b[0m \u001b[0;34m%\u001b[0m \u001b[0mdisplay_step\u001b[0m \u001b[0;34m==\u001b[0m \u001b[0;36m0\u001b[0m\u001b[0;34m:\u001b[0m\u001b[0;34m\u001b[0m\u001b[0m\n\u001b[1;32m     80\u001b[0m                 \u001b[0;31m# calculate batch accuracy\u001b[0m\u001b[0;34m\u001b[0m\u001b[0;34m\u001b[0m\u001b[0m\n",
      "\u001b[0;32m/Users/Michael/anaconda/lib/python3.6/site-packages/tensorflow/python/client/session.py\u001b[0m in \u001b[0;36mrun\u001b[0;34m(self, fetches, feed_dict, options, run_metadata)\u001b[0m\n\u001b[1;32m    776\u001b[0m     \u001b[0;32mtry\u001b[0m\u001b[0;34m:\u001b[0m\u001b[0;34m\u001b[0m\u001b[0m\n\u001b[1;32m    777\u001b[0m       result = self._run(None, fetches, feed_dict, options_ptr,\n\u001b[0;32m--> 778\u001b[0;31m                          run_metadata_ptr)\n\u001b[0m\u001b[1;32m    779\u001b[0m       \u001b[0;32mif\u001b[0m \u001b[0mrun_metadata\u001b[0m\u001b[0;34m:\u001b[0m\u001b[0;34m\u001b[0m\u001b[0m\n\u001b[1;32m    780\u001b[0m         \u001b[0mproto_data\u001b[0m \u001b[0;34m=\u001b[0m \u001b[0mtf_session\u001b[0m\u001b[0;34m.\u001b[0m\u001b[0mTF_GetBuffer\u001b[0m\u001b[0;34m(\u001b[0m\u001b[0mrun_metadata_ptr\u001b[0m\u001b[0;34m)\u001b[0m\u001b[0;34m\u001b[0m\u001b[0m\n",
      "\u001b[0;32m/Users/Michael/anaconda/lib/python3.6/site-packages/tensorflow/python/client/session.py\u001b[0m in \u001b[0;36m_run\u001b[0;34m(self, handle, fetches, feed_dict, options, run_metadata)\u001b[0m\n\u001b[1;32m    959\u001b[0m                 \u001b[0;34m'Cannot feed value of shape %r for Tensor %r, '\u001b[0m\u001b[0;34m\u001b[0m\u001b[0m\n\u001b[1;32m    960\u001b[0m                 \u001b[0;34m'which has shape %r'\u001b[0m\u001b[0;34m\u001b[0m\u001b[0m\n\u001b[0;32m--> 961\u001b[0;31m                 % (np_val.shape, subfeed_t.name, str(subfeed_t.get_shape())))\n\u001b[0m\u001b[1;32m    962\u001b[0m           \u001b[0;32mif\u001b[0m \u001b[0;32mnot\u001b[0m \u001b[0mself\u001b[0m\u001b[0;34m.\u001b[0m\u001b[0mgraph\u001b[0m\u001b[0;34m.\u001b[0m\u001b[0mis_feedable\u001b[0m\u001b[0;34m(\u001b[0m\u001b[0msubfeed_t\u001b[0m\u001b[0;34m)\u001b[0m\u001b[0;34m:\u001b[0m\u001b[0;34m\u001b[0m\u001b[0m\n\u001b[1;32m    963\u001b[0m             \u001b[0;32mraise\u001b[0m \u001b[0mValueError\u001b[0m\u001b[0;34m(\u001b[0m\u001b[0;34m'Tensor %s may not be fed.'\u001b[0m \u001b[0;34m%\u001b[0m \u001b[0msubfeed_t\u001b[0m\u001b[0;34m)\u001b[0m\u001b[0;34m\u001b[0m\u001b[0m\n",
      "\u001b[0;31mValueError\u001b[0m: Cannot feed value of shape (128,) for Tensor 'Placeholder_1:0', which has shape '(?, 10)'"
     ]
    }
   ],
   "source": [
    "cnn_clf(learning_rate, training_iters, batch_size, display_step, s, k)"
   ]
  },
  {
   "cell_type": "code",
   "execution_count": null,
   "metadata": {
    "collapsed": true
   },
   "outputs": [],
   "source": []
  },
  {
   "cell_type": "code",
   "execution_count": null,
   "metadata": {
    "collapsed": true
   },
   "outputs": [],
   "source": []
  },
  {
   "cell_type": "code",
   "execution_count": null,
   "metadata": {
    "collapsed": true
   },
   "outputs": [],
   "source": []
  }
 ],
 "metadata": {
  "kernelspec": {
   "display_name": "Python 3",
   "language": "python",
   "name": "python3"
  },
  "language_info": {
   "codemirror_mode": {
    "name": "ipython",
    "version": 3
   },
   "file_extension": ".py",
   "mimetype": "text/x-python",
   "name": "python",
   "nbconvert_exporter": "python",
   "pygments_lexer": "ipython3",
   "version": "3.6.0"
  }
 },
 "nbformat": 4,
 "nbformat_minor": 2
}
