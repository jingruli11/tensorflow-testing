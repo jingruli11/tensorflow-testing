{
 "cells": [
  {
   "cell_type": "markdown",
   "metadata": {},
   "source": [
    "# Two Sigma Data Challenge_MTA Dataset_Jingru Li"
   ]
  },
  {
   "cell_type": "markdown",
   "metadata": {},
   "source": [
    "##  Data Extraction and Cleansing"
   ]
  },
  {
   "cell_type": "code",
   "execution_count": 1,
   "metadata": {
    "collapsed": false
   },
   "outputs": [],
   "source": [
    "# import libraries\n",
    "import glob\n",
    "import pandas as pd\n",
    "import numpy as np\n",
    "import matplotlib.pyplot as plt\n",
    "import timeit\n",
    "import datetime"
   ]
  },
  {
   "cell_type": "code",
   "execution_count": 2,
   "metadata": {
    "collapsed": false
   },
   "outputs": [],
   "source": [
    "# get a list of data file names\n",
    "ls_c = glob.glob('/Users/Michael/Downloads/python/tensorflow-testing/two sigma current/*.txt')\n",
    "ls_p = glob.glob('/Users/Michael/Downloads/python/tensorflow-testing/two sigma pre/*.txt')"
   ]
  },
  {
   "cell_type": "code",
   "execution_count": 3,
   "metadata": {
    "collapsed": false
   },
   "outputs": [
    {
     "name": "stdout",
     "output_type": "stream",
     "text": [
      "315.55373182403855\n"
     ]
    }
   ],
   "source": [
    "# load current datasets into a pandas dataframe\n",
    "start = timeit.default_timer()\n",
    "\n",
    "df_current = pd.read_csv('two sigma current/turnstile_170624.txt', sep = ',')\n",
    "ls_c = ls_c[:-1]\n",
    "\n",
    "for file in ls_c:\n",
    "    df_current = df_current.append(pd.read_csv(file, sep = ','))\n",
    "\n",
    "stop = timeit.default_timer()\n",
    "print(stop - start)"
   ]
  },
  {
   "cell_type": "code",
   "execution_count": 4,
   "metadata": {
    "collapsed": false
   },
   "outputs": [],
   "source": [
    "# define a function to flatten the file shape\n",
    "def flat(df):\n",
    "    col_1 = ['C/A','UNIT','SCP','DATE1','TIME1','DESC1','ENTRIES1','EXITS1']\n",
    "    col_2 = ['C/A','UNIT','SCP','DATE2','TIME2','DESC2','ENTRIES2','EXITS2']\n",
    "    col_3 = ['C/A','UNIT','SCP','DATE3','TIME3','DESC3','ENTRIES3','EXITS3']\n",
    "    col_4 = ['C/A','UNIT','SCP','DATE4','TIME4','DESC4','ENTRIES4','EXITS4']\n",
    "    col_5 = ['C/A','UNIT','SCP','DATE5','TIME5','DESC5','ENTRIES5','EXITS5']\n",
    "    col_6 = ['C/A','UNIT','SCP','DATE6','TIME6','DESC6','ENTRIES6','EXITS6']\n",
    "    col_7 = ['C/A','UNIT','SCP','DATE7','TIME7','DESC7','ENTRIES7','EXITS7']\n",
    "    col_8 = ['C/A','UNIT','SCP','DATE8','TIME8','DESC8','ENTRIES8','EXITS8']\n",
    "    colnew = ['C/A','UNIT','SCP','DATE','TIME','DESC','ENTRIES','EXITS']\n",
    "    cols = [col_1, col_2, col_3, col_4, col_5, col_6, col_7, col_8]\n",
    "    temp = []\n",
    "    for i in range(8):\n",
    "        df_temp = df[cols[i]]\n",
    "        df_temp = df_temp.rename(columns = {df_temp.columns[3]: 'DATE', \n",
    "                                            df_temp.columns[4]: 'TIME',\n",
    "                                            df_temp.columns[5]: 'DESC', \n",
    "                                            df_temp.columns[6]: 'ENTRIES',\n",
    "                                            df_temp.columns[7]: 'EXITS'})\n",
    "        temp.append(df_temp)\n",
    "    df_trans = pd.concat(temp)\n",
    "    df_trans.dropna(inplace = True)\n",
    "    return df_trans"
   ]
  },
  {
   "cell_type": "code",
   "execution_count": 5,
   "metadata": {
    "collapsed": false
   },
   "outputs": [
    {
     "name": "stdout",
     "output_type": "stream",
     "text": [
      "341.6285086189164\n",
      "229\n",
      "(24543496, 8)\n",
      "(24970795, 8)\n"
     ]
    }
   ],
   "source": [
    "# load pre 10/18/2014 datasets into a pandas dataframe\n",
    "start = timeit.default_timer()\n",
    "# ls_p = glob.glob('/Users/Michael/Downloads/python/tensorflow-testing/two sigma pre/*.txt')\n",
    "# since the pre datasets does not have column names, the column names will be manually \n",
    "# embedded into the dataframe\n",
    "col_nms = ['C/A','UNIT','SCP','DATE1','TIME1','DESC1','ENTRIES1','EXITS1',\n",
    "           'DATE2','TIME2','DESC2','ENTRIES2','EXITS2',\n",
    "           'DATE3','TIME3','DESC3','ENTRIES3','EXITS3',\n",
    "           'DATE4','TIME4','DESC4','ENTRIES4','EXITS4',\n",
    "           'DATE5','TIME5','DESC5','ENTRIES5','EXITS5',\n",
    "           'DATE6','TIME6','DESC6','ENTRIES6','EXITS6',\n",
    "           'DATE7','TIME7','DESC7','ENTRIES7','EXITS7',\n",
    "           'DATE8','TIME8','DESC8','ENTRIES8','EXITS8']\n",
    "\n",
    "# since file 'turnstile_120714.txt' (114) and file 'turnstile_120505.txt' (104) are messier \n",
    "# than other files, these two files will be cleansed and loaded seperately.\n",
    "\n",
    "df_prea = pd.read_csv(ls_p[-1], sep = ',', names = col_nms)\n",
    "df_prea = flat(df_prea)\n",
    "ls_p = ls_p[:-1]\n",
    "del ls_p[114]\n",
    "del ls_p[104]\n",
    "n = int(len(ls_p)/2)\n",
    "\n",
    "for file in ls_p[:n]:\n",
    "    df_tempa = pd.read_csv(file, sep = ',', names = col_nms)\n",
    "    df_tempa = flat(df_tempa)\n",
    "    df_prea = df_prea.append(df_tempa)\n",
    "\n",
    "df_preb = pd.read_csv(ls_p[n], sep = ',', names = col_nms)\n",
    "df_preb = flat(df_preb)    \n",
    "for file in ls_p[n+1:]:\n",
    "    df_tempb = pd.read_csv(file, sep = ',', names = col_nms)\n",
    "    df_tempb = flat(df_tempb)\n",
    "    df_preb = df_preb.append(df_tempb)\n",
    "\n",
    "stop = timeit.default_timer()\n",
    "print(stop - start)\n",
    "print(len(ls_p))\n",
    "print(df_prea.shape)\n",
    "print(df_preb.shape)\n"
   ]
  },
  {
   "cell_type": "code",
   "execution_count": 6,
   "metadata": {
    "collapsed": false
   },
   "outputs": [],
   "source": [
    "# load and flatten file 'turnstile_120714.txt' (114)\n",
    "f_114 = ls_p[114]\n",
    "\n",
    "df_114 = pd.read_csv(f_114, sep = ',', names = col_nms, skiprows = 10)\n",
    "df_114_f = flat(df_114)"
   ]
  },
  {
   "cell_type": "code",
   "execution_count": 7,
   "metadata": {
    "collapsed": false
   },
   "outputs": [],
   "source": [
    "# load and flatten file 'turnstile_120505.txt' (104)\n",
    "f_104 = ls_p[104]\n",
    "df_104a = pd.read_csv(f_104, sep = ',', names = col_nms, nrows = 16384)\n",
    "df_104b = pd.read_csv(f_104, sep = ',', names = col_nms, skiprows = 16384)\n",
    "df_104 = df_104a.append(df_104b)\n",
    "df_104_f = flat(df_104)"
   ]
  },
  {
   "cell_type": "code",
   "execution_count": 8,
   "metadata": {
    "collapsed": false
   },
   "outputs": [
    {
     "name": "stdout",
     "output_type": "stream",
     "text": [
      "247.73638331703842\n",
      "(42577162, 9)\n"
     ]
    }
   ],
   "source": [
    "# append all 4 dataframes together to form a large dataframe that holds all data pre\n",
    "# Since there are 6 different types of description, only those labeled as 'REGULAR' will be\n",
    "# considered without further information\n",
    "# concat date and time together and change the datatype to datetime\n",
    "start = timeit.default_timer()\n",
    "df_pre = df_prea.append(df_preb).append(df_104_f).append(df_114_f)\n",
    "df_pre = df_pre[df_pre['DESC'] == 'REGULAR']\n",
    "datetime = df_pre.DATE + ' ' + df_pre.TIME\n",
    "df_pre['DATETIME'] = pd.to_datetime(datetime, format='%m-%d-%y %H:%M:%S')\n",
    "df_pre.head()\n",
    "stop = timeit.default_timer()\n",
    "print(stop - start)\n",
    "print(df_pre.shape)"
   ]
  },
  {
   "cell_type": "code",
   "execution_count": 9,
   "metadata": {
    "collapsed": false
   },
   "outputs": [
    {
     "name": "stdout",
     "output_type": "stream",
     "text": [
      "(768, 6)\n",
      "  Remote  Booth       Station Line Name Division   CONDITION\n",
      "0   R001   A060  WHITEHALL ST        R1      BMT   A060-R001\n",
      "1   R001   A058  WHITEHALL ST        R1      BMT   A058-R001\n",
      "2   R001  R101S   SOUTH FERRY        R1      IRT  R101S-R001\n",
      "3   R002   A077     FULTON ST  ACJZ2345      BMT   A077-R002\n",
      "4   R002   A081     FULTON ST  ACJZ2345      BMT   A081-R002\n"
     ]
    }
   ],
   "source": [
    "# load the excel file that shows the relationship among units, stations, lines, etc.\n",
    "df_rel = pd.read_excel('Remote-Booth-Station.xls')\n",
    "df_rel['CONDITION'] = df_rel['Booth'] + '-' + df_rel['Remote']\n",
    "\n",
    "print(df_rel.shape)\n",
    "print(df_rel.head())"
   ]
  },
  {
   "cell_type": "code",
   "execution_count": 10,
   "metadata": {
    "collapsed": false
   },
   "outputs": [
    {
     "name": "stderr",
     "output_type": "stream",
     "text": [
      "/Users/Michael/anaconda/lib/python3.6/site-packages/ipykernel/__main__.py:3: SettingWithCopyWarning: \n",
      "A value is trying to be set on a copy of a slice from a DataFrame.\n",
      "Try using .loc[row_indexer,col_indexer] = value instead\n",
      "\n",
      "See the caveats in the documentation: http://pandas.pydata.org/pandas-docs/stable/indexing.html#indexing-view-versus-copy\n",
      "  app.launch_new_instance()\n",
      "/Users/Michael/anaconda/lib/python3.6/site-packages/ipykernel/__main__.py:4: SettingWithCopyWarning: \n",
      "A value is trying to be set on a copy of a slice from a DataFrame.\n",
      "Try using .loc[row_indexer,col_indexer] = value instead\n",
      "\n",
      "See the caveats in the documentation: http://pandas.pydata.org/pandas-docs/stable/indexing.html#indexing-view-versus-copy\n"
     ]
    }
   ],
   "source": [
    "df_2013 = df_pre[df_pre['DATE'].str[-2:] == '13']\n",
    "\n",
    "df_2013['TURNSTILE'] = df_2013['C/A'] + '-' + df_2013['UNIT'] + '-' + df_2013['SCP']\n",
    "df_2013['CONDITION'] = df_2013['C/A'] + '-' + df_2013['UNIT']\n",
    "df_2013= pd.merge(df_2013, df_rel[['CONDITION','Station']],left_on = 'CONDITION', right_on = 'CONDITION', how = 'left')"
   ]
  },
  {
   "cell_type": "code",
   "execution_count": 11,
   "metadata": {
    "collapsed": false
   },
   "outputs": [
    {
     "name": "stderr",
     "output_type": "stream",
     "text": [
      "/Users/Michael/anaconda/lib/python3.6/site-packages/ipykernel/__main__.py:17: DeprecationWarning: \n",
      ".ix is deprecated. Please use\n",
      ".loc for label based indexing or\n",
      ".iloc for positional indexing\n",
      "\n",
      "See the documentation here:\n",
      "http://pandas.pydata.org/pandas-docs/stable/indexing.html#deprecate_ix\n"
     ]
    }
   ],
   "source": [
    "df_2013.sort_values(['Station', 'TURNSTILE', 'DATETIME'])\n",
    "# define a function to calculate ENTRIES_MARGINAL and EXITS_MARGINAL\n",
    "\n",
    "def marginal_change(i):\n",
    "    if len(i) != 2:\n",
    "        return np.nan\n",
    "    last, now = i\n",
    "    # if last > now then the odometer has been reset. The value will be discarded.\n",
    "    return now - last if last <= now else now\n",
    "marginal_change_rolling = lambda ser: ser.rolling(window=2).apply(marginal_change)\n",
    "# compute marginal change of entries and exits using rolling window\n",
    "df_grouped = df_2013.groupby(['TURNSTILE','Station'])\n",
    "df_2013['EXITS_MARGINAL']   = df_grouped['EXITS'].apply(marginal_change_rolling)\n",
    "df_2013['ENTRIES_MARGINAL'] = df_grouped['ENTRIES'].apply(marginal_change_rolling)\n",
    "# for some periods the stations are closed. They will be marked as NaN\n",
    "for col in ['ENTRIES_MARGINAL', 'EXITS_MARGINAL']:\n",
    "    df_2013.ix[df_2013[col] < 0, col] = np.nan\n"
   ]
  },
  {
   "cell_type": "code",
   "execution_count": 12,
   "metadata": {
    "collapsed": false
   },
   "outputs": [
    {
     "data": {
      "text/html": [
       "<div>\n",
       "<style>\n",
       "    .dataframe thead tr:only-child th {\n",
       "        text-align: right;\n",
       "    }\n",
       "\n",
       "    .dataframe thead th {\n",
       "        text-align: left;\n",
       "    }\n",
       "\n",
       "    .dataframe tbody tr th {\n",
       "        vertical-align: top;\n",
       "    }\n",
       "</style>\n",
       "<table border=\"1\" class=\"dataframe\">\n",
       "  <thead>\n",
       "    <tr style=\"text-align: right;\">\n",
       "      <th></th>\n",
       "      <th>C/A</th>\n",
       "      <th>UNIT</th>\n",
       "      <th>SCP</th>\n",
       "      <th>DATE</th>\n",
       "      <th>TIME</th>\n",
       "      <th>DESC</th>\n",
       "      <th>ENTRIES</th>\n",
       "      <th>EXITS</th>\n",
       "      <th>DATETIME</th>\n",
       "      <th>TURNSTILE</th>\n",
       "      <th>CONDITION</th>\n",
       "      <th>Station</th>\n",
       "      <th>EXITS_MARGINAL</th>\n",
       "      <th>ENTRIES_MARGINAL</th>\n",
       "    </tr>\n",
       "  </thead>\n",
       "  <tbody>\n",
       "    <tr>\n",
       "      <th>0</th>\n",
       "      <td>A002</td>\n",
       "      <td>R051</td>\n",
       "      <td>02-00-00</td>\n",
       "      <td>01-02-13</td>\n",
       "      <td>03:00:00</td>\n",
       "      <td>REGULAR</td>\n",
       "      <td>3932806.0</td>\n",
       "      <td>1355869.0</td>\n",
       "      <td>2013-01-02 03:00:00</td>\n",
       "      <td>A002-R051-02-00-00</td>\n",
       "      <td>A002-R051</td>\n",
       "      <td>LEXINGTON AVE</td>\n",
       "      <td>NaN</td>\n",
       "      <td>NaN</td>\n",
       "    </tr>\n",
       "    <tr>\n",
       "      <th>1</th>\n",
       "      <td>A002</td>\n",
       "      <td>R051</td>\n",
       "      <td>02-00-00</td>\n",
       "      <td>01-02-13</td>\n",
       "      <td>23:00:00</td>\n",
       "      <td>REGULAR</td>\n",
       "      <td>3934459.0</td>\n",
       "      <td>1356406.0</td>\n",
       "      <td>2013-01-02 23:00:00</td>\n",
       "      <td>A002-R051-02-00-00</td>\n",
       "      <td>A002-R051</td>\n",
       "      <td>LEXINGTON AVE</td>\n",
       "      <td>537.0</td>\n",
       "      <td>1653.0</td>\n",
       "    </tr>\n",
       "    <tr>\n",
       "      <th>2</th>\n",
       "      <td>A002</td>\n",
       "      <td>R051</td>\n",
       "      <td>02-00-00</td>\n",
       "      <td>01-03-13</td>\n",
       "      <td>19:00:00</td>\n",
       "      <td>REGULAR</td>\n",
       "      <td>3935784.0</td>\n",
       "      <td>1356882.0</td>\n",
       "      <td>2013-01-03 19:00:00</td>\n",
       "      <td>A002-R051-02-00-00</td>\n",
       "      <td>A002-R051</td>\n",
       "      <td>LEXINGTON AVE</td>\n",
       "      <td>476.0</td>\n",
       "      <td>1325.0</td>\n",
       "    </tr>\n",
       "    <tr>\n",
       "      <th>3</th>\n",
       "      <td>A002</td>\n",
       "      <td>R051</td>\n",
       "      <td>02-00-01</td>\n",
       "      <td>01-02-13</td>\n",
       "      <td>03:00:00</td>\n",
       "      <td>REGULAR</td>\n",
       "      <td>3759731.0</td>\n",
       "      <td>813220.0</td>\n",
       "      <td>2013-01-02 03:00:00</td>\n",
       "      <td>A002-R051-02-00-01</td>\n",
       "      <td>A002-R051</td>\n",
       "      <td>LEXINGTON AVE</td>\n",
       "      <td>NaN</td>\n",
       "      <td>NaN</td>\n",
       "    </tr>\n",
       "    <tr>\n",
       "      <th>4</th>\n",
       "      <td>A002</td>\n",
       "      <td>R051</td>\n",
       "      <td>02-00-01</td>\n",
       "      <td>01-02-13</td>\n",
       "      <td>23:00:00</td>\n",
       "      <td>REGULAR</td>\n",
       "      <td>3761049.0</td>\n",
       "      <td>813536.0</td>\n",
       "      <td>2013-01-02 23:00:00</td>\n",
       "      <td>A002-R051-02-00-01</td>\n",
       "      <td>A002-R051</td>\n",
       "      <td>LEXINGTON AVE</td>\n",
       "      <td>316.0</td>\n",
       "      <td>1318.0</td>\n",
       "    </tr>\n",
       "    <tr>\n",
       "      <th>5</th>\n",
       "      <td>A002</td>\n",
       "      <td>R051</td>\n",
       "      <td>02-00-01</td>\n",
       "      <td>01-03-13</td>\n",
       "      <td>15:00:00</td>\n",
       "      <td>REGULAR</td>\n",
       "      <td>3761385.0</td>\n",
       "      <td>813787.0</td>\n",
       "      <td>2013-01-03 15:00:00</td>\n",
       "      <td>A002-R051-02-00-01</td>\n",
       "      <td>A002-R051</td>\n",
       "      <td>LEXINGTON AVE</td>\n",
       "      <td>251.0</td>\n",
       "      <td>336.0</td>\n",
       "    </tr>\n",
       "    <tr>\n",
       "      <th>6</th>\n",
       "      <td>A002</td>\n",
       "      <td>R051</td>\n",
       "      <td>02-00-01</td>\n",
       "      <td>01-04-13</td>\n",
       "      <td>23:00:00</td>\n",
       "      <td>REGULAR</td>\n",
       "      <td>3763686.0</td>\n",
       "      <td>814168.0</td>\n",
       "      <td>2013-01-04 23:00:00</td>\n",
       "      <td>A002-R051-02-00-01</td>\n",
       "      <td>A002-R051</td>\n",
       "      <td>LEXINGTON AVE</td>\n",
       "      <td>381.0</td>\n",
       "      <td>2301.0</td>\n",
       "    </tr>\n",
       "    <tr>\n",
       "      <th>7</th>\n",
       "      <td>A002</td>\n",
       "      <td>R051</td>\n",
       "      <td>02-03-00</td>\n",
       "      <td>01-02-13</td>\n",
       "      <td>03:00:00</td>\n",
       "      <td>REGULAR</td>\n",
       "      <td>37053.0</td>\n",
       "      <td>133391.0</td>\n",
       "      <td>2013-01-02 03:00:00</td>\n",
       "      <td>A002-R051-02-03-00</td>\n",
       "      <td>A002-R051</td>\n",
       "      <td>LEXINGTON AVE</td>\n",
       "      <td>NaN</td>\n",
       "      <td>NaN</td>\n",
       "    </tr>\n",
       "    <tr>\n",
       "      <th>8</th>\n",
       "      <td>A002</td>\n",
       "      <td>R051</td>\n",
       "      <td>02-03-00</td>\n",
       "      <td>01-02-13</td>\n",
       "      <td>23:00:00</td>\n",
       "      <td>REGULAR</td>\n",
       "      <td>37734.0</td>\n",
       "      <td>135631.0</td>\n",
       "      <td>2013-01-02 23:00:00</td>\n",
       "      <td>A002-R051-02-03-00</td>\n",
       "      <td>A002-R051</td>\n",
       "      <td>LEXINGTON AVE</td>\n",
       "      <td>2240.0</td>\n",
       "      <td>681.0</td>\n",
       "    </tr>\n",
       "    <tr>\n",
       "      <th>9</th>\n",
       "      <td>A002</td>\n",
       "      <td>R051</td>\n",
       "      <td>02-03-00</td>\n",
       "      <td>01-04-13</td>\n",
       "      <td>07:00:00</td>\n",
       "      <td>REGULAR</td>\n",
       "      <td>38425.0</td>\n",
       "      <td>138094.0</td>\n",
       "      <td>2013-01-04 07:00:00</td>\n",
       "      <td>A002-R051-02-03-00</td>\n",
       "      <td>A002-R051</td>\n",
       "      <td>LEXINGTON AVE</td>\n",
       "      <td>2463.0</td>\n",
       "      <td>691.0</td>\n",
       "    </tr>\n",
       "    <tr>\n",
       "      <th>10</th>\n",
       "      <td>A002</td>\n",
       "      <td>R051</td>\n",
       "      <td>02-03-01</td>\n",
       "      <td>01-02-13</td>\n",
       "      <td>03:00:00</td>\n",
       "      <td>REGULAR</td>\n",
       "      <td>3575838.0</td>\n",
       "      <td>5571852.0</td>\n",
       "      <td>2013-01-02 03:00:00</td>\n",
       "      <td>A002-R051-02-03-01</td>\n",
       "      <td>A002-R051</td>\n",
       "      <td>LEXINGTON AVE</td>\n",
       "      <td>NaN</td>\n",
       "      <td>NaN</td>\n",
       "    </tr>\n",
       "    <tr>\n",
       "      <th>11</th>\n",
       "      <td>A002</td>\n",
       "      <td>R051</td>\n",
       "      <td>02-03-01</td>\n",
       "      <td>01-02-13</td>\n",
       "      <td>23:00:00</td>\n",
       "      <td>REGULAR</td>\n",
       "      <td>3577209.0</td>\n",
       "      <td>5574141.0</td>\n",
       "      <td>2013-01-02 23:00:00</td>\n",
       "      <td>A002-R051-02-03-01</td>\n",
       "      <td>A002-R051</td>\n",
       "      <td>LEXINGTON AVE</td>\n",
       "      <td>2289.0</td>\n",
       "      <td>1371.0</td>\n",
       "    </tr>\n",
       "    <tr>\n",
       "      <th>12</th>\n",
       "      <td>A002</td>\n",
       "      <td>R051</td>\n",
       "      <td>02-03-01</td>\n",
       "      <td>01-04-13</td>\n",
       "      <td>07:00:00</td>\n",
       "      <td>REGULAR</td>\n",
       "      <td>3578685.0</td>\n",
       "      <td>5576624.0</td>\n",
       "      <td>2013-01-04 07:00:00</td>\n",
       "      <td>A002-R051-02-03-01</td>\n",
       "      <td>A002-R051</td>\n",
       "      <td>LEXINGTON AVE</td>\n",
       "      <td>2483.0</td>\n",
       "      <td>1476.0</td>\n",
       "    </tr>\n",
       "    <tr>\n",
       "      <th>13</th>\n",
       "      <td>A002</td>\n",
       "      <td>R051</td>\n",
       "      <td>02-03-02</td>\n",
       "      <td>01-02-13</td>\n",
       "      <td>03:00:00</td>\n",
       "      <td>REGULAR</td>\n",
       "      <td>3311283.0</td>\n",
       "      <td>4590845.0</td>\n",
       "      <td>2013-01-02 03:00:00</td>\n",
       "      <td>A002-R051-02-03-02</td>\n",
       "      <td>A002-R051</td>\n",
       "      <td>LEXINGTON AVE</td>\n",
       "      <td>NaN</td>\n",
       "      <td>NaN</td>\n",
       "    </tr>\n",
       "    <tr>\n",
       "      <th>14</th>\n",
       "      <td>A002</td>\n",
       "      <td>R051</td>\n",
       "      <td>02-03-02</td>\n",
       "      <td>01-02-13</td>\n",
       "      <td>23:00:00</td>\n",
       "      <td>REGULAR</td>\n",
       "      <td>3312712.0</td>\n",
       "      <td>4592726.0</td>\n",
       "      <td>2013-01-02 23:00:00</td>\n",
       "      <td>A002-R051-02-03-02</td>\n",
       "      <td>A002-R051</td>\n",
       "      <td>LEXINGTON AVE</td>\n",
       "      <td>1881.0</td>\n",
       "      <td>1429.0</td>\n",
       "    </tr>\n",
       "    <tr>\n",
       "      <th>15</th>\n",
       "      <td>A002</td>\n",
       "      <td>R051</td>\n",
       "      <td>02-03-02</td>\n",
       "      <td>01-04-13</td>\n",
       "      <td>07:00:00</td>\n",
       "      <td>REGULAR</td>\n",
       "      <td>3314199.0</td>\n",
       "      <td>4594913.0</td>\n",
       "      <td>2013-01-04 07:00:00</td>\n",
       "      <td>A002-R051-02-03-02</td>\n",
       "      <td>A002-R051</td>\n",
       "      <td>LEXINGTON AVE</td>\n",
       "      <td>2187.0</td>\n",
       "      <td>1487.0</td>\n",
       "    </tr>\n",
       "    <tr>\n",
       "      <th>16</th>\n",
       "      <td>A002</td>\n",
       "      <td>R051</td>\n",
       "      <td>02-03-03</td>\n",
       "      <td>01-02-13</td>\n",
       "      <td>03:00:00</td>\n",
       "      <td>REGULAR</td>\n",
       "      <td>2989559.0</td>\n",
       "      <td>3814132.0</td>\n",
       "      <td>2013-01-02 03:00:00</td>\n",
       "      <td>A002-R051-02-03-03</td>\n",
       "      <td>A002-R051</td>\n",
       "      <td>LEXINGTON AVE</td>\n",
       "      <td>NaN</td>\n",
       "      <td>NaN</td>\n",
       "    </tr>\n",
       "    <tr>\n",
       "      <th>17</th>\n",
       "      <td>A002</td>\n",
       "      <td>R051</td>\n",
       "      <td>02-03-03</td>\n",
       "      <td>01-02-13</td>\n",
       "      <td>23:00:00</td>\n",
       "      <td>REGULAR</td>\n",
       "      <td>2991097.0</td>\n",
       "      <td>3815558.0</td>\n",
       "      <td>2013-01-02 23:00:00</td>\n",
       "      <td>A002-R051-02-03-03</td>\n",
       "      <td>A002-R051</td>\n",
       "      <td>LEXINGTON AVE</td>\n",
       "      <td>1426.0</td>\n",
       "      <td>1538.0</td>\n",
       "    </tr>\n",
       "    <tr>\n",
       "      <th>18</th>\n",
       "      <td>A002</td>\n",
       "      <td>R051</td>\n",
       "      <td>02-03-03</td>\n",
       "      <td>01-04-13</td>\n",
       "      <td>07:00:00</td>\n",
       "      <td>REGULAR</td>\n",
       "      <td>2992599.0</td>\n",
       "      <td>3817209.0</td>\n",
       "      <td>2013-01-04 07:00:00</td>\n",
       "      <td>A002-R051-02-03-03</td>\n",
       "      <td>A002-R051</td>\n",
       "      <td>LEXINGTON AVE</td>\n",
       "      <td>1651.0</td>\n",
       "      <td>1502.0</td>\n",
       "    </tr>\n",
       "    <tr>\n",
       "      <th>19</th>\n",
       "      <td>A002</td>\n",
       "      <td>R051</td>\n",
       "      <td>02-03-04</td>\n",
       "      <td>01-02-13</td>\n",
       "      <td>03:00:00</td>\n",
       "      <td>REGULAR</td>\n",
       "      <td>3859165.0</td>\n",
       "      <td>2365999.0</td>\n",
       "      <td>2013-01-02 03:00:00</td>\n",
       "      <td>A002-R051-02-03-04</td>\n",
       "      <td>A002-R051</td>\n",
       "      <td>LEXINGTON AVE</td>\n",
       "      <td>NaN</td>\n",
       "      <td>NaN</td>\n",
       "    </tr>\n",
       "  </tbody>\n",
       "</table>\n",
       "</div>"
      ],
      "text/plain": [
       "     C/A  UNIT       SCP      DATE      TIME     DESC    ENTRIES      EXITS  \\\n",
       "0   A002  R051  02-00-00  01-02-13  03:00:00  REGULAR  3932806.0  1355869.0   \n",
       "1   A002  R051  02-00-00  01-02-13  23:00:00  REGULAR  3934459.0  1356406.0   \n",
       "2   A002  R051  02-00-00  01-03-13  19:00:00  REGULAR  3935784.0  1356882.0   \n",
       "3   A002  R051  02-00-01  01-02-13  03:00:00  REGULAR  3759731.0   813220.0   \n",
       "4   A002  R051  02-00-01  01-02-13  23:00:00  REGULAR  3761049.0   813536.0   \n",
       "5   A002  R051  02-00-01  01-03-13  15:00:00  REGULAR  3761385.0   813787.0   \n",
       "6   A002  R051  02-00-01  01-04-13  23:00:00  REGULAR  3763686.0   814168.0   \n",
       "7   A002  R051  02-03-00  01-02-13  03:00:00  REGULAR    37053.0   133391.0   \n",
       "8   A002  R051  02-03-00  01-02-13  23:00:00  REGULAR    37734.0   135631.0   \n",
       "9   A002  R051  02-03-00  01-04-13  07:00:00  REGULAR    38425.0   138094.0   \n",
       "10  A002  R051  02-03-01  01-02-13  03:00:00  REGULAR  3575838.0  5571852.0   \n",
       "11  A002  R051  02-03-01  01-02-13  23:00:00  REGULAR  3577209.0  5574141.0   \n",
       "12  A002  R051  02-03-01  01-04-13  07:00:00  REGULAR  3578685.0  5576624.0   \n",
       "13  A002  R051  02-03-02  01-02-13  03:00:00  REGULAR  3311283.0  4590845.0   \n",
       "14  A002  R051  02-03-02  01-02-13  23:00:00  REGULAR  3312712.0  4592726.0   \n",
       "15  A002  R051  02-03-02  01-04-13  07:00:00  REGULAR  3314199.0  4594913.0   \n",
       "16  A002  R051  02-03-03  01-02-13  03:00:00  REGULAR  2989559.0  3814132.0   \n",
       "17  A002  R051  02-03-03  01-02-13  23:00:00  REGULAR  2991097.0  3815558.0   \n",
       "18  A002  R051  02-03-03  01-04-13  07:00:00  REGULAR  2992599.0  3817209.0   \n",
       "19  A002  R051  02-03-04  01-02-13  03:00:00  REGULAR  3859165.0  2365999.0   \n",
       "\n",
       "              DATETIME           TURNSTILE  CONDITION        Station  \\\n",
       "0  2013-01-02 03:00:00  A002-R051-02-00-00  A002-R051  LEXINGTON AVE   \n",
       "1  2013-01-02 23:00:00  A002-R051-02-00-00  A002-R051  LEXINGTON AVE   \n",
       "2  2013-01-03 19:00:00  A002-R051-02-00-00  A002-R051  LEXINGTON AVE   \n",
       "3  2013-01-02 03:00:00  A002-R051-02-00-01  A002-R051  LEXINGTON AVE   \n",
       "4  2013-01-02 23:00:00  A002-R051-02-00-01  A002-R051  LEXINGTON AVE   \n",
       "5  2013-01-03 15:00:00  A002-R051-02-00-01  A002-R051  LEXINGTON AVE   \n",
       "6  2013-01-04 23:00:00  A002-R051-02-00-01  A002-R051  LEXINGTON AVE   \n",
       "7  2013-01-02 03:00:00  A002-R051-02-03-00  A002-R051  LEXINGTON AVE   \n",
       "8  2013-01-02 23:00:00  A002-R051-02-03-00  A002-R051  LEXINGTON AVE   \n",
       "9  2013-01-04 07:00:00  A002-R051-02-03-00  A002-R051  LEXINGTON AVE   \n",
       "10 2013-01-02 03:00:00  A002-R051-02-03-01  A002-R051  LEXINGTON AVE   \n",
       "11 2013-01-02 23:00:00  A002-R051-02-03-01  A002-R051  LEXINGTON AVE   \n",
       "12 2013-01-04 07:00:00  A002-R051-02-03-01  A002-R051  LEXINGTON AVE   \n",
       "13 2013-01-02 03:00:00  A002-R051-02-03-02  A002-R051  LEXINGTON AVE   \n",
       "14 2013-01-02 23:00:00  A002-R051-02-03-02  A002-R051  LEXINGTON AVE   \n",
       "15 2013-01-04 07:00:00  A002-R051-02-03-02  A002-R051  LEXINGTON AVE   \n",
       "16 2013-01-02 03:00:00  A002-R051-02-03-03  A002-R051  LEXINGTON AVE   \n",
       "17 2013-01-02 23:00:00  A002-R051-02-03-03  A002-R051  LEXINGTON AVE   \n",
       "18 2013-01-04 07:00:00  A002-R051-02-03-03  A002-R051  LEXINGTON AVE   \n",
       "19 2013-01-02 03:00:00  A002-R051-02-03-04  A002-R051  LEXINGTON AVE   \n",
       "\n",
       "    EXITS_MARGINAL  ENTRIES_MARGINAL  \n",
       "0              NaN               NaN  \n",
       "1            537.0            1653.0  \n",
       "2            476.0            1325.0  \n",
       "3              NaN               NaN  \n",
       "4            316.0            1318.0  \n",
       "5            251.0             336.0  \n",
       "6            381.0            2301.0  \n",
       "7              NaN               NaN  \n",
       "8           2240.0             681.0  \n",
       "9           2463.0             691.0  \n",
       "10             NaN               NaN  \n",
       "11          2289.0            1371.0  \n",
       "12          2483.0            1476.0  \n",
       "13             NaN               NaN  \n",
       "14          1881.0            1429.0  \n",
       "15          2187.0            1487.0  \n",
       "16             NaN               NaN  \n",
       "17          1426.0            1538.0  \n",
       "18          1651.0            1502.0  \n",
       "19             NaN               NaN  "
      ]
     },
     "execution_count": 12,
     "metadata": {},
     "output_type": "execute_result"
    }
   ],
   "source": [
    "df_2013.head(20)"
   ]
  },
  {
   "cell_type": "code",
   "execution_count": 13,
   "metadata": {
    "collapsed": false
   },
   "outputs": [
    {
     "data": {
      "text/plain": [
       "<matplotlib.figure.Figure at 0x3659597b8>"
      ]
     },
     "metadata": {},
     "output_type": "display_data"
    },
    {
     "data": {
      "image/png": "[encoded data removed]",
      "text/plain": [
       "<matplotlib.figure.Figure at 0x1e0628cc0>"
      ]
     },
     "metadata": {},
     "output_type": "display_data"
    }
   ],
   "source": [
    "plt.figure()\n",
    "sample = 1000000\n",
    "hist = { 'bins':700, 'range':(0,7000), 'figsize':(20, 8) }\n",
    "df_sample = df_2013.sample(n=sample).loc[:,['EXITS_MARGINAL','ENTRIES_MARGINAL']]\n",
    "df_sample.hist(**hist)\n",
    "plt.show()"
   ]
  },
  {
   "cell_type": "code",
   "execution_count": 14,
   "metadata": {
    "collapsed": false
   },
   "outputs": [
    {
     "data": {
      "text/html": [
       "<div>\n",
       "<style>\n",
       "    .dataframe thead tr:only-child th {\n",
       "        text-align: right;\n",
       "    }\n",
       "\n",
       "    .dataframe thead th {\n",
       "        text-align: left;\n",
       "    }\n",
       "\n",
       "    .dataframe tbody tr th {\n",
       "        vertical-align: top;\n",
       "    }\n",
       "</style>\n",
       "<table border=\"1\" class=\"dataframe\">\n",
       "  <thead>\n",
       "    <tr style=\"text-align: right;\">\n",
       "      <th></th>\n",
       "      <th>EXITS_MARGINAL</th>\n",
       "      <th>ENTRIES_MARGINAL</th>\n",
       "    </tr>\n",
       "  </thead>\n",
       "  <tbody>\n",
       "    <tr>\n",
       "      <th>count</th>\n",
       "      <td>8.089763e+06</td>\n",
       "      <td>8.089763e+06</td>\n",
       "    </tr>\n",
       "    <tr>\n",
       "      <th>mean</th>\n",
       "      <td>1.004464e+03</td>\n",
       "      <td>1.319604e+03</td>\n",
       "    </tr>\n",
       "    <tr>\n",
       "      <th>std</th>\n",
       "      <td>1.114988e+03</td>\n",
       "      <td>1.252853e+03</td>\n",
       "    </tr>\n",
       "    <tr>\n",
       "      <th>min</th>\n",
       "      <td>0.000000e+00</td>\n",
       "      <td>0.000000e+00</td>\n",
       "    </tr>\n",
       "    <tr>\n",
       "      <th>25%</th>\n",
       "      <td>1.640000e+02</td>\n",
       "      <td>2.930000e+02</td>\n",
       "    </tr>\n",
       "    <tr>\n",
       "      <th>50%</th>\n",
       "      <td>6.350000e+02</td>\n",
       "      <td>1.006000e+03</td>\n",
       "    </tr>\n",
       "    <tr>\n",
       "      <th>75%</th>\n",
       "      <td>1.462000e+03</td>\n",
       "      <td>1.994000e+03</td>\n",
       "    </tr>\n",
       "    <tr>\n",
       "      <th>max</th>\n",
       "      <td>6.000000e+03</td>\n",
       "      <td>6.000000e+03</td>\n",
       "    </tr>\n",
       "  </tbody>\n",
       "</table>\n",
       "</div>"
      ],
      "text/plain": [
       "       EXITS_MARGINAL  ENTRIES_MARGINAL\n",
       "count    8.089763e+06      8.089763e+06\n",
       "mean     1.004464e+03      1.319604e+03\n",
       "std      1.114988e+03      1.252853e+03\n",
       "min      0.000000e+00      0.000000e+00\n",
       "25%      1.640000e+02      2.930000e+02\n",
       "50%      6.350000e+02      1.006000e+03\n",
       "75%      1.462000e+03      1.994000e+03\n",
       "max      6.000000e+03      6.000000e+03"
      ]
     },
     "execution_count": 14,
     "metadata": {},
     "output_type": "execute_result"
    }
   ],
   "source": [
    "# clearly counts beyond 6000 decreased sharply. Thus 6000 will be used to filter outliers.\n",
    "df_2013 = df_2013[(df_2013['ENTRIES_MARGINAL'] <= 6000) & (df_2013['EXITS_MARGINAL'] <= 6000)]\n",
    "df_2013[['EXITS_MARGINAL','ENTRIES_MARGINAL']].describe()"
   ]
  },
  {
   "cell_type": "code",
   "execution_count": 15,
   "metadata": {
    "collapsed": false
   },
   "outputs": [
    {
     "name": "stderr",
     "output_type": "stream",
     "text": [
      "/Users/Michael/anaconda/lib/python3.6/site-packages/ipykernel/__main__.py:1: SettingWithCopyWarning: \n",
      "A value is trying to be set on a copy of a slice from a DataFrame.\n",
      "Try using .loc[row_indexer,col_indexer] = value instead\n",
      "\n",
      "See the caveats in the documentation: http://pandas.pydata.org/pandas-docs/stable/indexing.html#indexing-view-versus-copy\n",
      "  if __name__ == '__main__':\n"
     ]
    }
   ],
   "source": [
    "df_2013['BUSY_MARGINAL'] = df_2013['ENTRIES_MARGINAL'] + df_2013['EXITS_MARGINAL']"
   ]
  },
  {
   "cell_type": "markdown",
   "metadata": {
    "collapsed": false
   },
   "source": [
    "Notes on data extraction and cleansing:\n",
    "1. The problem may not require the full dataset to be loaded, however I always like to challenge myself loading and cleansing large dataset with limited RAM capacity. \n",
    "2. The current dataset is extremely clean. However the pre dataset has 2 files that messes up the whole process. Thus I used bisection search to find these two files and dealt with them accordingly.\n",
    "3. Since the RAM capacity in my laptop is limited, the pre dataset is too huge to load at once. So I broke it down to two parts. Combining the two messy parts, I concatenated all four subsets to form a complete dataframe for the data pre 10/18/2014.\n",
    "4. The station information is joined into the dataframe based on UNIT and C/A variables.\n",
    "5. The turnstile is defined using C/A, UNIT and SCP.\n",
    "6. The future questions only focus on year 2013.\n",
    "7. The marginal change of entries and exits as well as business are computed for future use."
   ]
  },
  {
   "cell_type": "markdown",
   "metadata": {},
   "source": [
    "*************************"
   ]
  },
  {
   "cell_type": "markdown",
   "metadata": {
    "collapsed": false
   },
   "source": [
    "## Data Analysis:"
   ]
  },
  {
   "cell_type": "markdown",
   "metadata": {
    "collapsed": true
   },
   "source": [
    "Question 1: Which station has the most number of units as of today?"
   ]
  },
  {
   "cell_type": "code",
   "execution_count": 16,
   "metadata": {
    "collapsed": false
   },
   "outputs": [
    {
     "name": "stdout",
     "output_type": "stream",
     "text": [
      "34 ST-PENN STA  has the most number of units ( 14  units) as of today.\n"
     ]
    }
   ],
   "source": [
    "most_units_station = df_rel[['Station', 'Remote']].groupby(['Station']).agg('count').sort_values('Remote', ascending = False).head(1)\n",
    "print(most_units_station.index[0], ' has the most number of units (', most_units_station.values[0][0], ' units) as of today.')"
   ]
  },
  {
   "cell_type": "markdown",
   "metadata": {},
   "source": [
    "34 ST-PENN STA has the most number of units (14 units) as of today."
   ]
  },
  {
   "cell_type": "markdown",
   "metadata": {},
   "source": [
    "***************************************************************************************"
   ]
  },
  {
   "cell_type": "markdown",
   "metadata": {},
   "source": [
    "Question 2: What is the total number of entries & exits across the subway system for August 1, 2013?"
   ]
  },
  {
   "cell_type": "code",
   "execution_count": 17,
   "metadata": {
    "collapsed": false
   },
   "outputs": [],
   "source": [
    "from datetime import datetime\n",
    "date_condition = (df_2013.DATETIME >= datetime(2013,8,1)) & (df_2013.DATETIME < datetime(2013,8,2))\n",
    "df_2013_0801 = df_2013[date_condition]"
   ]
  },
  {
   "cell_type": "code",
   "execution_count": 18,
   "metadata": {
    "collapsed": false
   },
   "outputs": [
    {
     "name": "stdout",
     "output_type": "stream",
     "text": [
      "The total number of entries on August 01, 2013 is:  40315523.0\n",
      "The total number of exits on August 01, 2013 is:  30741828.0\n"
     ]
    }
   ],
   "source": [
    "entries_080113 = np.sum(df_2013_0801['ENTRIES_MARGINAL'])\n",
    "exits_080113 = np.sum(df_2013_0801['EXITS_MARGINAL'])\n",
    "    \n",
    "print('The total number of entries on August 01, 2013 is: ', entries_080113)\n",
    "print('The total number of exits on August 01, 2013 is: ', exits_080113)"
   ]
  },
  {
   "cell_type": "code",
   "execution_count": 19,
   "metadata": {
    "collapsed": false
   },
   "outputs": [
    {
     "data": {
      "text/html": [
       "<div>\n",
       "<style>\n",
       "    .dataframe thead tr:only-child th {\n",
       "        text-align: right;\n",
       "    }\n",
       "\n",
       "    .dataframe thead th {\n",
       "        text-align: left;\n",
       "    }\n",
       "\n",
       "    .dataframe tbody tr th {\n",
       "        vertical-align: top;\n",
       "    }\n",
       "</style>\n",
       "<table border=\"1\" class=\"dataframe\">\n",
       "  <thead>\n",
       "    <tr style=\"text-align: right;\">\n",
       "      <th></th>\n",
       "      <th>C/A</th>\n",
       "      <th>UNIT</th>\n",
       "      <th>SCP</th>\n",
       "      <th>DATE</th>\n",
       "      <th>TIME</th>\n",
       "      <th>DESC</th>\n",
       "      <th>ENTRIES</th>\n",
       "      <th>EXITS</th>\n",
       "      <th>DATETIME</th>\n",
       "      <th>TURNSTILE</th>\n",
       "      <th>CONDITION</th>\n",
       "      <th>Station</th>\n",
       "      <th>EXITS_MARGINAL</th>\n",
       "      <th>ENTRIES_MARGINAL</th>\n",
       "      <th>BUSY_MARGINAL</th>\n",
       "    </tr>\n",
       "  </thead>\n",
       "  <tbody>\n",
       "    <tr>\n",
       "      <th>5632463</th>\n",
       "      <td>A002</td>\n",
       "      <td>R051</td>\n",
       "      <td>02-00-00</td>\n",
       "      <td>08-01-13</td>\n",
       "      <td>00:00:00</td>\n",
       "      <td>REGULAR</td>\n",
       "      <td>4215894.0</td>\n",
       "      <td>1445274.0</td>\n",
       "      <td>2013-08-01 00:00:00</td>\n",
       "      <td>A002-R051-02-00-00</td>\n",
       "      <td>A002-R051</td>\n",
       "      <td>LEXINGTON AVE</td>\n",
       "      <td>537.0</td>\n",
       "      <td>2561.0</td>\n",
       "      <td>3098.0</td>\n",
       "    </tr>\n",
       "    <tr>\n",
       "      <th>5632469</th>\n",
       "      <td>A002</td>\n",
       "      <td>R051</td>\n",
       "      <td>02-00-01</td>\n",
       "      <td>08-01-13</td>\n",
       "      <td>04:00:00</td>\n",
       "      <td>REGULAR</td>\n",
       "      <td>3982869.0</td>\n",
       "      <td>865551.0</td>\n",
       "      <td>2013-08-01 04:00:00</td>\n",
       "      <td>A002-R051-02-00-01</td>\n",
       "      <td>A002-R051</td>\n",
       "      <td>LEXINGTON AVE</td>\n",
       "      <td>332.0</td>\n",
       "      <td>1500.0</td>\n",
       "      <td>1832.0</td>\n",
       "    </tr>\n",
       "    <tr>\n",
       "      <th>5632485</th>\n",
       "      <td>A002</td>\n",
       "      <td>R051</td>\n",
       "      <td>02-03-02</td>\n",
       "      <td>08-01-13</td>\n",
       "      <td>08:00:00</td>\n",
       "      <td>REGULAR</td>\n",
       "      <td>3581595.0</td>\n",
       "      <td>4947415.0</td>\n",
       "      <td>2013-08-01 08:00:00</td>\n",
       "      <td>A002-R051-02-03-02</td>\n",
       "      <td>A002-R051</td>\n",
       "      <td>LEXINGTON AVE</td>\n",
       "      <td>2271.0</td>\n",
       "      <td>1601.0</td>\n",
       "      <td>3872.0</td>\n",
       "    </tr>\n",
       "    <tr>\n",
       "      <th>5632491</th>\n",
       "      <td>A002</td>\n",
       "      <td>R051</td>\n",
       "      <td>02-03-03</td>\n",
       "      <td>08-01-13</td>\n",
       "      <td>08:00:00</td>\n",
       "      <td>REGULAR</td>\n",
       "      <td>3259913.0</td>\n",
       "      <td>4090513.0</td>\n",
       "      <td>2013-08-01 08:00:00</td>\n",
       "      <td>A002-R051-02-03-03</td>\n",
       "      <td>A002-R051</td>\n",
       "      <td>LEXINGTON AVE</td>\n",
       "      <td>1832.0</td>\n",
       "      <td>1386.0</td>\n",
       "      <td>3218.0</td>\n",
       "    </tr>\n",
       "    <tr>\n",
       "      <th>5632497</th>\n",
       "      <td>A002</td>\n",
       "      <td>R051</td>\n",
       "      <td>02-03-04</td>\n",
       "      <td>08-01-13</td>\n",
       "      <td>08:00:00</td>\n",
       "      <td>REGULAR</td>\n",
       "      <td>4163781.0</td>\n",
       "      <td>2497975.0</td>\n",
       "      <td>2013-08-01 08:00:00</td>\n",
       "      <td>A002-R051-02-03-04</td>\n",
       "      <td>A002-R051</td>\n",
       "      <td>LEXINGTON AVE</td>\n",
       "      <td>896.0</td>\n",
       "      <td>1668.0</td>\n",
       "      <td>2564.0</td>\n",
       "    </tr>\n",
       "  </tbody>\n",
       "</table>\n",
       "</div>"
      ],
      "text/plain": [
       "          C/A  UNIT       SCP      DATE      TIME     DESC    ENTRIES  \\\n",
       "5632463  A002  R051  02-00-00  08-01-13  00:00:00  REGULAR  4215894.0   \n",
       "5632469  A002  R051  02-00-01  08-01-13  04:00:00  REGULAR  3982869.0   \n",
       "5632485  A002  R051  02-03-02  08-01-13  08:00:00  REGULAR  3581595.0   \n",
       "5632491  A002  R051  02-03-03  08-01-13  08:00:00  REGULAR  3259913.0   \n",
       "5632497  A002  R051  02-03-04  08-01-13  08:00:00  REGULAR  4163781.0   \n",
       "\n",
       "             EXITS            DATETIME           TURNSTILE  CONDITION  \\\n",
       "5632463  1445274.0 2013-08-01 00:00:00  A002-R051-02-00-00  A002-R051   \n",
       "5632469   865551.0 2013-08-01 04:00:00  A002-R051-02-00-01  A002-R051   \n",
       "5632485  4947415.0 2013-08-01 08:00:00  A002-R051-02-03-02  A002-R051   \n",
       "5632491  4090513.0 2013-08-01 08:00:00  A002-R051-02-03-03  A002-R051   \n",
       "5632497  2497975.0 2013-08-01 08:00:00  A002-R051-02-03-04  A002-R051   \n",
       "\n",
       "               Station  EXITS_MARGINAL  ENTRIES_MARGINAL  BUSY_MARGINAL  \n",
       "5632463  LEXINGTON AVE           537.0            2561.0         3098.0  \n",
       "5632469  LEXINGTON AVE           332.0            1500.0         1832.0  \n",
       "5632485  LEXINGTON AVE          2271.0            1601.0         3872.0  \n",
       "5632491  LEXINGTON AVE          1832.0            1386.0         3218.0  \n",
       "5632497  LEXINGTON AVE           896.0            1668.0         2564.0  "
      ]
     },
     "execution_count": 19,
     "metadata": {},
     "output_type": "execute_result"
    }
   ],
   "source": [
    "df_2013_0801.head()"
   ]
  },
  {
   "cell_type": "markdown",
   "metadata": {},
   "source": [
    "******"
   ]
  },
  {
   "cell_type": "markdown",
   "metadata": {},
   "source": [
    "Question 3:  Let’s define the busy-ness as sum of entry & exit count. What station was the busiest on August 1, 2013? What turnstile was the busiest on that date?"
   ]
  },
  {
   "cell_type": "code",
   "execution_count": 20,
   "metadata": {
    "collapsed": false
   },
   "outputs": [
    {
     "name": "stdout",
     "output_type": "stream",
     "text": [
      "The busiest station on Aug 01, 2013 is:  34 ST-PENN STA\n",
      "The busiest turnstile on Aug 01, 2013 is:  R236-R045-00-03-03\n"
     ]
    }
   ],
   "source": [
    "df_station_080113 = df_2013_0801.groupby(['Station']).agg(np.sum)\n",
    "busy_station = df_station_080113.sort_values('BUSY_MARGINAL',ascending = False).head(1).index[0]\n",
    "df_turnstile_080113 = df_2013_0801.groupby(['TURNSTILE']).agg(np.sum)\n",
    "busy_turnstile = df_turnstile_080113.sort_values('BUSY_MARGINAL',ascending = False).head(1).index[0]\n",
    "print('The busiest station on Aug 01, 2013 is: ', busy_station)\n",
    "print('The busiest turnstile on Aug 01, 2013 is: ', busy_turnstile)"
   ]
  },
  {
   "cell_type": "markdown",
   "metadata": {},
   "source": [
    "***"
   ]
  },
  {
   "cell_type": "markdown",
   "metadata": {},
   "source": [
    "Question 4: What stations have seen the most usage growth/decline in 2013?"
   ]
  },
  {
   "cell_type": "code",
   "execution_count": 21,
   "metadata": {
    "collapsed": false
   },
   "outputs": [
    {
     "name": "stderr",
     "output_type": "stream",
     "text": [
      "/Users/Michael/anaconda/lib/python3.6/site-packages/ipykernel/__main__.py:1: SettingWithCopyWarning: \n",
      "A value is trying to be set on a copy of a slice from a DataFrame.\n",
      "Try using .loc[row_indexer,col_indexer] = value instead\n",
      "\n",
      "See the caveats in the documentation: http://pandas.pydata.org/pandas-docs/stable/indexing.html#indexing-view-versus-copy\n",
      "  if __name__ == '__main__':\n"
     ]
    },
    {
     "data": {
      "text/html": [
       "<div>\n",
       "<style>\n",
       "    .dataframe thead tr:only-child th {\n",
       "        text-align: right;\n",
       "    }\n",
       "\n",
       "    .dataframe thead th {\n",
       "        text-align: left;\n",
       "    }\n",
       "\n",
       "    .dataframe tbody tr th {\n",
       "        vertical-align: top;\n",
       "    }\n",
       "</style>\n",
       "<table border=\"1\" class=\"dataframe\">\n",
       "  <thead>\n",
       "    <tr style=\"text-align: right;\">\n",
       "      <th></th>\n",
       "      <th>Station</th>\n",
       "      <th>MONTH</th>\n",
       "      <th>ENTRIES</th>\n",
       "      <th>EXITS</th>\n",
       "      <th>EXITS_MARGINAL</th>\n",
       "      <th>ENTRIES_MARGINAL</th>\n",
       "      <th>BUSY_MARGINAL</th>\n",
       "    </tr>\n",
       "  </thead>\n",
       "  <tbody>\n",
       "    <tr>\n",
       "      <th>0</th>\n",
       "      <td>1 AVE</td>\n",
       "      <td>1</td>\n",
       "      <td>5.853605e+09</td>\n",
       "      <td>4.968126e+09</td>\n",
       "      <td>2600958.0</td>\n",
       "      <td>2756357.0</td>\n",
       "      <td>5357315.0</td>\n",
       "    </tr>\n",
       "    <tr>\n",
       "      <th>1</th>\n",
       "      <td>1 AVE</td>\n",
       "      <td>2</td>\n",
       "      <td>5.294487e+09</td>\n",
       "      <td>4.483287e+09</td>\n",
       "      <td>2406569.0</td>\n",
       "      <td>2776362.0</td>\n",
       "      <td>5182931.0</td>\n",
       "    </tr>\n",
       "    <tr>\n",
       "      <th>2</th>\n",
       "      <td>1 AVE</td>\n",
       "      <td>3</td>\n",
       "      <td>3.946194e+09</td>\n",
       "      <td>4.899910e+09</td>\n",
       "      <td>2781048.0</td>\n",
       "      <td>3051477.0</td>\n",
       "      <td>5832525.0</td>\n",
       "    </tr>\n",
       "    <tr>\n",
       "      <th>3</th>\n",
       "      <td>1 AVE</td>\n",
       "      <td>4</td>\n",
       "      <td>3.630213e+09</td>\n",
       "      <td>4.832464e+09</td>\n",
       "      <td>2883000.0</td>\n",
       "      <td>3001135.0</td>\n",
       "      <td>5884135.0</td>\n",
       "    </tr>\n",
       "    <tr>\n",
       "      <th>4</th>\n",
       "      <td>1 AVE</td>\n",
       "      <td>5</td>\n",
       "      <td>4.385859e+09</td>\n",
       "      <td>5.722174e+09</td>\n",
       "      <td>2896516.0</td>\n",
       "      <td>3032420.0</td>\n",
       "      <td>5928936.0</td>\n",
       "    </tr>\n",
       "  </tbody>\n",
       "</table>\n",
       "</div>"
      ],
      "text/plain": [
       "  Station  MONTH       ENTRIES         EXITS  EXITS_MARGINAL  \\\n",
       "0   1 AVE      1  5.853605e+09  4.968126e+09       2600958.0   \n",
       "1   1 AVE      2  5.294487e+09  4.483287e+09       2406569.0   \n",
       "2   1 AVE      3  3.946194e+09  4.899910e+09       2781048.0   \n",
       "3   1 AVE      4  3.630213e+09  4.832464e+09       2883000.0   \n",
       "4   1 AVE      5  4.385859e+09  5.722174e+09       2896516.0   \n",
       "\n",
       "   ENTRIES_MARGINAL  BUSY_MARGINAL  \n",
       "0         2756357.0      5357315.0  \n",
       "1         2776362.0      5182931.0  \n",
       "2         3051477.0      5832525.0  \n",
       "3         3001135.0      5884135.0  \n",
       "4         3032420.0      5928936.0  "
      ]
     },
     "execution_count": 21,
     "metadata": {},
     "output_type": "execute_result"
    }
   ],
   "source": [
    "df_2013['MONTH'] = df_2013['DATETIME'].dt.month\n",
    "df_2013_monthly = df_2013.groupby(['Station','MONTH']).sum().reset_index()\n",
    "df_2013_monthly.head()"
   ]
  },
  {
   "cell_type": "code",
   "execution_count": 22,
   "metadata": {
    "collapsed": false
   },
   "outputs": [
    {
     "data": {
      "text/html": [
       "<div>\n",
       "<style>\n",
       "    .dataframe thead tr:only-child th {\n",
       "        text-align: right;\n",
       "    }\n",
       "\n",
       "    .dataframe thead th {\n",
       "        text-align: left;\n",
       "    }\n",
       "\n",
       "    .dataframe tbody tr th {\n",
       "        vertical-align: top;\n",
       "    }\n",
       "</style>\n",
       "<table border=\"1\" class=\"dataframe\">\n",
       "  <thead>\n",
       "    <tr style=\"text-align: right;\">\n",
       "      <th></th>\n",
       "      <th>Station</th>\n",
       "      <th>MONTH</th>\n",
       "      <th>ENTRIES</th>\n",
       "      <th>EXITS</th>\n",
       "      <th>EXITS_MARGINAL</th>\n",
       "      <th>ENTRIES_MARGINAL</th>\n",
       "      <th>BUSY_MARGINAL</th>\n",
       "      <th>BUSY_PERCENTAGE</th>\n",
       "    </tr>\n",
       "  </thead>\n",
       "  <tbody>\n",
       "    <tr>\n",
       "      <th>0</th>\n",
       "      <td>1 AVE</td>\n",
       "      <td>1</td>\n",
       "      <td>5.853605e+09</td>\n",
       "      <td>4.968126e+09</td>\n",
       "      <td>2600958.0</td>\n",
       "      <td>2756357.0</td>\n",
       "      <td>5357315.0</td>\n",
       "      <td>NaN</td>\n",
       "    </tr>\n",
       "    <tr>\n",
       "      <th>1</th>\n",
       "      <td>1 AVE</td>\n",
       "      <td>2</td>\n",
       "      <td>5.294487e+09</td>\n",
       "      <td>4.483287e+09</td>\n",
       "      <td>2406569.0</td>\n",
       "      <td>2776362.0</td>\n",
       "      <td>5182931.0</td>\n",
       "      <td>-0.032551</td>\n",
       "    </tr>\n",
       "    <tr>\n",
       "      <th>2</th>\n",
       "      <td>1 AVE</td>\n",
       "      <td>3</td>\n",
       "      <td>3.946194e+09</td>\n",
       "      <td>4.899910e+09</td>\n",
       "      <td>2781048.0</td>\n",
       "      <td>3051477.0</td>\n",
       "      <td>5832525.0</td>\n",
       "      <td>0.125333</td>\n",
       "    </tr>\n",
       "    <tr>\n",
       "      <th>3</th>\n",
       "      <td>1 AVE</td>\n",
       "      <td>4</td>\n",
       "      <td>3.630213e+09</td>\n",
       "      <td>4.832464e+09</td>\n",
       "      <td>2883000.0</td>\n",
       "      <td>3001135.0</td>\n",
       "      <td>5884135.0</td>\n",
       "      <td>0.008849</td>\n",
       "    </tr>\n",
       "    <tr>\n",
       "      <th>4</th>\n",
       "      <td>1 AVE</td>\n",
       "      <td>5</td>\n",
       "      <td>4.385859e+09</td>\n",
       "      <td>5.722174e+09</td>\n",
       "      <td>2896516.0</td>\n",
       "      <td>3032420.0</td>\n",
       "      <td>5928936.0</td>\n",
       "      <td>0.007614</td>\n",
       "    </tr>\n",
       "  </tbody>\n",
       "</table>\n",
       "</div>"
      ],
      "text/plain": [
       "  Station  MONTH       ENTRIES         EXITS  EXITS_MARGINAL  \\\n",
       "0   1 AVE      1  5.853605e+09  4.968126e+09       2600958.0   \n",
       "1   1 AVE      2  5.294487e+09  4.483287e+09       2406569.0   \n",
       "2   1 AVE      3  3.946194e+09  4.899910e+09       2781048.0   \n",
       "3   1 AVE      4  3.630213e+09  4.832464e+09       2883000.0   \n",
       "4   1 AVE      5  4.385859e+09  5.722174e+09       2896516.0   \n",
       "\n",
       "   ENTRIES_MARGINAL  BUSY_MARGINAL  BUSY_PERCENTAGE  \n",
       "0         2756357.0      5357315.0              NaN  \n",
       "1         2776362.0      5182931.0        -0.032551  \n",
       "2         3051477.0      5832525.0         0.125333  \n",
       "3         3001135.0      5884135.0         0.008849  \n",
       "4         3032420.0      5928936.0         0.007614  "
      ]
     },
     "execution_count": 22,
     "metadata": {},
     "output_type": "execute_result"
    }
   ],
   "source": [
    "df_2013_monthly['BUSY_PERCENTAGE'] = df_2013_monthly.groupby('Station').pct_change().BUSY_MARGINAL\n",
    "df_2013_monthly_growth = df_2013_monthly.groupby('Station').agg(np.mean)\n",
    "df_2013_monthly.head()"
   ]
  },
  {
   "cell_type": "code",
   "execution_count": 23,
   "metadata": {
    "collapsed": false
   },
   "outputs": [
    {
     "name": "stdout",
     "output_type": "stream",
     "text": [
      "Top 5 growth usage stations:\n",
      "                 BUSY_PERCENTAGE\n",
      "Station                         \n",
      "BEACH 90 ST            17.210655\n",
      "AQUEDUCT TRACK         14.576732\n",
      "ORCHARD BEACH           4.044455\n",
      "ROCKAWAY PK 116         3.418239\n",
      "BEACH 98 ST             2.305412\n",
      "\n",
      " Top 5 decline usage stations:\n",
      "                 BUSY_PERCENTAGE\n",
      "Station                         \n",
      "CASTLE HILL AVE        -0.101847\n",
      "MIDDLETOWN ROAD        -0.086844\n",
      "WHITEHALL ST           -0.037777\n",
      "MURRAY ST-B'WAY        -0.034844\n",
      "JOURNAL SQUARE         -0.029038\n"
     ]
    }
   ],
   "source": [
    "# The top 5 and last 5 stations of average monthly percentage change of business in 2013\n",
    "df_2013_monthly_growth.dropna(inplace=True)\n",
    "df_2013_monthly_growth.sort_values('BUSY_PERCENTAGE', ascending = False, inplace = True)\n",
    "print('Top 5 growth usage stations:')\n",
    "print(df_2013_monthly_growth.head(5).loc[:, ['BUSY_PERCENTAGE']])\n",
    "df_2013_monthly_growth.sort_values('BUSY_PERCENTAGE', ascending = True, inplace = True)\n",
    "print('\\n','Top 5 decline usage stations:')\n",
    "print(df_2013_monthly_growth.head(5).loc[:, ['BUSY_PERCENTAGE']])"
   ]
  },
  {
   "cell_type": "markdown",
   "metadata": {},
   "source": [
    "***"
   ]
  },
  {
   "cell_type": "markdown",
   "metadata": {},
   "source": [
    "Question 5: What dates in 2013 are the least busy? Could you identify days in 2013 on which stations were not operating at full capacity or closed entirely?"
   ]
  },
  {
   "cell_type": "code",
   "execution_count": 24,
   "metadata": {
    "collapsed": false
   },
   "outputs": [
    {
     "name": "stderr",
     "output_type": "stream",
     "text": [
      "/Users/Michael/anaconda/lib/python3.6/site-packages/ipykernel/__main__.py:2: SettingWithCopyWarning: \n",
      "A value is trying to be set on a copy of a slice from a DataFrame.\n",
      "Try using .loc[row_indexer,col_indexer] = value instead\n",
      "\n",
      "See the caveats in the documentation: http://pandas.pydata.org/pandas-docs/stable/indexing.html#indexing-view-versus-copy\n",
      "  from ipykernel import kernelapp as app\n"
     ]
    },
    {
     "name": "stdout",
     "output_type": "stream",
     "text": [
      "The least busy dates in 2013 are:\n"
     ]
    },
    {
     "data": {
      "text/html": [
       "<div>\n",
       "<style>\n",
       "    .dataframe thead tr:only-child th {\n",
       "        text-align: right;\n",
       "    }\n",
       "\n",
       "    .dataframe thead th {\n",
       "        text-align: left;\n",
       "    }\n",
       "\n",
       "    .dataframe tbody tr th {\n",
       "        vertical-align: top;\n",
       "    }\n",
       "</style>\n",
       "<table border=\"1\" class=\"dataframe\">\n",
       "  <thead>\n",
       "    <tr style=\"text-align: right;\">\n",
       "      <th></th>\n",
       "      <th>BUSY_MARGINAL</th>\n",
       "    </tr>\n",
       "    <tr>\n",
       "      <th>DAY</th>\n",
       "      <th></th>\n",
       "    </tr>\n",
       "  </thead>\n",
       "  <tbody>\n",
       "    <tr>\n",
       "      <th>1</th>\n",
       "      <td>1777009.0</td>\n",
       "    </tr>\n",
       "    <tr>\n",
       "      <th>334</th>\n",
       "      <td>6398831.0</td>\n",
       "    </tr>\n",
       "    <tr>\n",
       "      <th>40</th>\n",
       "      <td>7444673.0</td>\n",
       "    </tr>\n",
       "    <tr>\n",
       "      <th>362</th>\n",
       "      <td>7451548.0</td>\n",
       "    </tr>\n",
       "    <tr>\n",
       "      <th>26</th>\n",
       "      <td>7536231.0</td>\n",
       "    </tr>\n",
       "  </tbody>\n",
       "</table>\n",
       "</div>"
      ],
      "text/plain": [
       "     BUSY_MARGINAL\n",
       "DAY               \n",
       "1        1777009.0\n",
       "334      6398831.0\n",
       "40       7444673.0\n",
       "362      7451548.0\n",
       "26       7536231.0"
      ]
     },
     "execution_count": 24,
     "metadata": {},
     "output_type": "execute_result"
    }
   ],
   "source": [
    "from datetime import timedelta\n",
    "df_2013['DAY'] = df_2013['DATETIME'].dt.dayofyear\n",
    "df_2013_daily = df_2013.groupby(['DAY']).agg(np.sum)\n",
    "df_2013_daily.sort_values('BUSY_MARGINAL', ascending = True, inplace = True)\n",
    "print('The least busy dates in 2013 are:')\n",
    "df_2013_daily.head().loc[:,['BUSY_MARGINAL']]"
   ]
  },
  {
   "cell_type": "code",
   "execution_count": 25,
   "metadata": {
    "collapsed": false
   },
   "outputs": [
    {
     "data": {
      "text/html": [
       "<div>\n",
       "<style>\n",
       "    .dataframe thead tr:only-child th {\n",
       "        text-align: right;\n",
       "    }\n",
       "\n",
       "    .dataframe thead th {\n",
       "        text-align: left;\n",
       "    }\n",
       "\n",
       "    .dataframe tbody tr th {\n",
       "        vertical-align: top;\n",
       "    }\n",
       "</style>\n",
       "<table border=\"1\" class=\"dataframe\">\n",
       "  <thead>\n",
       "    <tr style=\"text-align: right;\">\n",
       "      <th></th>\n",
       "      <th></th>\n",
       "      <th>ENTRIES</th>\n",
       "      <th>EXITS</th>\n",
       "      <th>EXITS_MARGINAL</th>\n",
       "      <th>ENTRIES_MARGINAL</th>\n",
       "      <th>BUSY_MARGINAL</th>\n",
       "      <th>MONTH</th>\n",
       "    </tr>\n",
       "    <tr>\n",
       "      <th>Station</th>\n",
       "      <th>DAY</th>\n",
       "      <th></th>\n",
       "      <th></th>\n",
       "      <th></th>\n",
       "      <th></th>\n",
       "      <th></th>\n",
       "      <th></th>\n",
       "    </tr>\n",
       "  </thead>\n",
       "  <tbody>\n",
       "    <tr>\n",
       "      <th rowspan=\"20\" valign=\"top\">1 AVE</th>\n",
       "      <th>1</th>\n",
       "      <td>12678179.0</td>\n",
       "      <td>14118451.0</td>\n",
       "      <td>3084.0</td>\n",
       "      <td>6600.0</td>\n",
       "      <td>9684.0</td>\n",
       "      <td>2</td>\n",
       "    </tr>\n",
       "    <tr>\n",
       "      <th>2</th>\n",
       "      <td>170981512.0</td>\n",
       "      <td>153118212.0</td>\n",
       "      <td>77371.0</td>\n",
       "      <td>59760.0</td>\n",
       "      <td>137131.0</td>\n",
       "      <td>35</td>\n",
       "    </tr>\n",
       "    <tr>\n",
       "      <th>3</th>\n",
       "      <td>237851839.0</td>\n",
       "      <td>180073033.0</td>\n",
       "      <td>105545.0</td>\n",
       "      <td>104901.0</td>\n",
       "      <td>210446.0</td>\n",
       "      <td>45</td>\n",
       "    </tr>\n",
       "    <tr>\n",
       "      <th>4</th>\n",
       "      <td>242390339.0</td>\n",
       "      <td>184633757.0</td>\n",
       "      <td>91655.0</td>\n",
       "      <td>108006.0</td>\n",
       "      <td>199661.0</td>\n",
       "      <td>44</td>\n",
       "    </tr>\n",
       "    <tr>\n",
       "      <th>5</th>\n",
       "      <td>35731376.0</td>\n",
       "      <td>24666670.0</td>\n",
       "      <td>8924.0</td>\n",
       "      <td>6657.0</td>\n",
       "      <td>15581.0</td>\n",
       "      <td>8</td>\n",
       "    </tr>\n",
       "    <tr>\n",
       "      <th>6</th>\n",
       "      <td>166212339.0</td>\n",
       "      <td>156255876.0</td>\n",
       "      <td>84192.0</td>\n",
       "      <td>61684.0</td>\n",
       "      <td>145876.0</td>\n",
       "      <td>36</td>\n",
       "    </tr>\n",
       "    <tr>\n",
       "      <th>7</th>\n",
       "      <td>260767135.0</td>\n",
       "      <td>238681671.0</td>\n",
       "      <td>118337.0</td>\n",
       "      <td>100495.0</td>\n",
       "      <td>218832.0</td>\n",
       "      <td>54</td>\n",
       "    </tr>\n",
       "    <tr>\n",
       "      <th>8</th>\n",
       "      <td>238516897.0</td>\n",
       "      <td>184388516.0</td>\n",
       "      <td>110114.0</td>\n",
       "      <td>115520.0</td>\n",
       "      <td>225634.0</td>\n",
       "      <td>46</td>\n",
       "    </tr>\n",
       "    <tr>\n",
       "      <th>9</th>\n",
       "      <td>242782590.0</td>\n",
       "      <td>184985031.0</td>\n",
       "      <td>101797.0</td>\n",
       "      <td>121498.0</td>\n",
       "      <td>223295.0</td>\n",
       "      <td>44</td>\n",
       "    </tr>\n",
       "    <tr>\n",
       "      <th>10</th>\n",
       "      <td>228826776.0</td>\n",
       "      <td>188447722.0</td>\n",
       "      <td>106746.0</td>\n",
       "      <td>114860.0</td>\n",
       "      <td>221606.0</td>\n",
       "      <td>44</td>\n",
       "    </tr>\n",
       "    <tr>\n",
       "      <th>11</th>\n",
       "      <td>192702968.0</td>\n",
       "      <td>147302102.0</td>\n",
       "      <td>79154.0</td>\n",
       "      <td>105570.0</td>\n",
       "      <td>184724.0</td>\n",
       "      <td>38</td>\n",
       "    </tr>\n",
       "    <tr>\n",
       "      <th>12</th>\n",
       "      <td>48045502.0</td>\n",
       "      <td>46266553.0</td>\n",
       "      <td>16858.0</td>\n",
       "      <td>14753.0</td>\n",
       "      <td>31611.0</td>\n",
       "      <td>10</td>\n",
       "    </tr>\n",
       "    <tr>\n",
       "      <th>13</th>\n",
       "      <td>192287400.0</td>\n",
       "      <td>185182281.0</td>\n",
       "      <td>104976.0</td>\n",
       "      <td>95842.0</td>\n",
       "      <td>200818.0</td>\n",
       "      <td>40</td>\n",
       "    </tr>\n",
       "    <tr>\n",
       "      <th>14</th>\n",
       "      <td>287159296.0</td>\n",
       "      <td>267877017.0</td>\n",
       "      <td>133110.0</td>\n",
       "      <td>131035.0</td>\n",
       "      <td>264145.0</td>\n",
       "      <td>58</td>\n",
       "    </tr>\n",
       "    <tr>\n",
       "      <th>15</th>\n",
       "      <td>229136208.0</td>\n",
       "      <td>214550440.0</td>\n",
       "      <td>111242.0</td>\n",
       "      <td>111514.0</td>\n",
       "      <td>222756.0</td>\n",
       "      <td>45</td>\n",
       "    </tr>\n",
       "    <tr>\n",
       "      <th>16</th>\n",
       "      <td>271450363.0</td>\n",
       "      <td>246648850.0</td>\n",
       "      <td>124596.0</td>\n",
       "      <td>120445.0</td>\n",
       "      <td>245041.0</td>\n",
       "      <td>50</td>\n",
       "    </tr>\n",
       "    <tr>\n",
       "      <th>17</th>\n",
       "      <td>215989518.0</td>\n",
       "      <td>187167670.0</td>\n",
       "      <td>96210.0</td>\n",
       "      <td>105174.0</td>\n",
       "      <td>201384.0</td>\n",
       "      <td>42</td>\n",
       "    </tr>\n",
       "    <tr>\n",
       "      <th>18</th>\n",
       "      <td>193448774.0</td>\n",
       "      <td>156194322.0</td>\n",
       "      <td>78201.0</td>\n",
       "      <td>102270.0</td>\n",
       "      <td>180471.0</td>\n",
       "      <td>37</td>\n",
       "    </tr>\n",
       "    <tr>\n",
       "      <th>19</th>\n",
       "      <td>43969717.0</td>\n",
       "      <td>44515799.0</td>\n",
       "      <td>17540.0</td>\n",
       "      <td>13624.0</td>\n",
       "      <td>31164.0</td>\n",
       "      <td>9</td>\n",
       "    </tr>\n",
       "    <tr>\n",
       "      <th>20</th>\n",
       "      <td>192888354.0</td>\n",
       "      <td>185820384.0</td>\n",
       "      <td>105389.0</td>\n",
       "      <td>96853.0</td>\n",
       "      <td>202242.0</td>\n",
       "      <td>40</td>\n",
       "    </tr>\n",
       "  </tbody>\n",
       "</table>\n",
       "</div>"
      ],
      "text/plain": [
       "                 ENTRIES        EXITS  EXITS_MARGINAL  ENTRIES_MARGINAL  \\\n",
       "Station DAY                                                               \n",
       "1 AVE   1     12678179.0   14118451.0          3084.0            6600.0   \n",
       "        2    170981512.0  153118212.0         77371.0           59760.0   \n",
       "        3    237851839.0  180073033.0        105545.0          104901.0   \n",
       "        4    242390339.0  184633757.0         91655.0          108006.0   \n",
       "        5     35731376.0   24666670.0          8924.0            6657.0   \n",
       "        6    166212339.0  156255876.0         84192.0           61684.0   \n",
       "        7    260767135.0  238681671.0        118337.0          100495.0   \n",
       "        8    238516897.0  184388516.0        110114.0          115520.0   \n",
       "        9    242782590.0  184985031.0        101797.0          121498.0   \n",
       "        10   228826776.0  188447722.0        106746.0          114860.0   \n",
       "        11   192702968.0  147302102.0         79154.0          105570.0   \n",
       "        12    48045502.0   46266553.0         16858.0           14753.0   \n",
       "        13   192287400.0  185182281.0        104976.0           95842.0   \n",
       "        14   287159296.0  267877017.0        133110.0          131035.0   \n",
       "        15   229136208.0  214550440.0        111242.0          111514.0   \n",
       "        16   271450363.0  246648850.0        124596.0          120445.0   \n",
       "        17   215989518.0  187167670.0         96210.0          105174.0   \n",
       "        18   193448774.0  156194322.0         78201.0          102270.0   \n",
       "        19    43969717.0   44515799.0         17540.0           13624.0   \n",
       "        20   192888354.0  185820384.0        105389.0           96853.0   \n",
       "\n",
       "             BUSY_MARGINAL  MONTH  \n",
       "Station DAY                        \n",
       "1 AVE   1           9684.0      2  \n",
       "        2         137131.0     35  \n",
       "        3         210446.0     45  \n",
       "        4         199661.0     44  \n",
       "        5          15581.0      8  \n",
       "        6         145876.0     36  \n",
       "        7         218832.0     54  \n",
       "        8         225634.0     46  \n",
       "        9         223295.0     44  \n",
       "        10        221606.0     44  \n",
       "        11        184724.0     38  \n",
       "        12         31611.0     10  \n",
       "        13        200818.0     40  \n",
       "        14        264145.0     58  \n",
       "        15        222756.0     45  \n",
       "        16        245041.0     50  \n",
       "        17        201384.0     42  \n",
       "        18        180471.0     37  \n",
       "        19         31164.0      9  \n",
       "        20        202242.0     40  "
      ]
     },
     "execution_count": 25,
     "metadata": {},
     "output_type": "execute_result"
    }
   ],
   "source": [
    "# identify stations in specific days that were not operating at full capacity or closed entirely\n",
    "# basically entries with NaN values.\n",
    "df_2013_station_daily = df_2013.groupby(['Station', 'DAY']).agg(np.sum)\n",
    "df_2013_station_daily.head(20)"
   ]
  },
  {
   "cell_type": "code",
   "execution_count": 26,
   "metadata": {
    "collapsed": false
   },
   "outputs": [
    {
     "name": "stdout",
     "output_type": "stream",
     "text": [
      "The stations closed on specific dates are: \n"
     ]
    },
    {
     "data": {
      "text/plain": [
       "Station          DAY\n",
       "167 ST           1      0.0\n",
       "170 ST           1      0.0\n",
       "18 AVE           1      0.0\n",
       "21 ST            1      0.0\n",
       "231 ST           1      0.0\n",
       "238 ST           251    0.0\n",
       "242 ST           279    0.0\n",
       "33 ST            1      0.0\n",
       "33 ST/RAWSON ST  1      0.0\n",
       "                 47     0.0\n",
       "47-50 ST-ROCK    1      0.0\n",
       "49 ST-7 AVE      1      0.0\n",
       "67 AVE           1      0.0\n",
       "                 47     0.0\n",
       "8 AVE            1      0.0\n",
       "AQUEDUCT TRACK   75     0.0\n",
       "                 95     0.0\n",
       "                 96     0.0\n",
       "                 97     0.0\n",
       "                 98     0.0\n",
       "                 99     0.0\n",
       "                 100    0.0\n",
       "                 101    0.0\n",
       "                 102    0.0\n",
       "                 103    0.0\n",
       "                 104    0.0\n",
       "                 105    0.0\n",
       "                 109    0.0\n",
       "                 167    0.0\n",
       "                 187    0.0\n",
       "                       ... \n",
       "MORRISON AVE     1      0.0\n",
       "                 47     0.0\n",
       "NEW UTRECHT AVE  1      0.0\n",
       "NEWARK C         187    0.0\n",
       "NEWARK HM HE     1      0.0\n",
       "OCEAN PARKWAY    1      0.0\n",
       "ORCHARD BEACH    138    0.0\n",
       "                 139    0.0\n",
       "                 194    0.0\n",
       "                 208    0.0\n",
       "                 249    0.0\n",
       "PARSONS BLVD     1      0.0\n",
       "PATH WTC 2       180    0.0\n",
       "PELHAM BAY PARK  1      0.0\n",
       "                 47     0.0\n",
       "ROCKAWAY PK 116  136    0.0\n",
       "SENECA AVE       265    0.0\n",
       "                 307    0.0\n",
       "SPRING ST        1      0.0\n",
       "TOMPKINSVILLE    1      0.0\n",
       "VAN ALSTON-21ST  195    0.0\n",
       "                 216    0.0\n",
       "                 251    0.0\n",
       "                 272    0.0\n",
       "                 279    0.0\n",
       "                 349    0.0\n",
       "W 8 ST-AQUARIUM  1      0.0\n",
       "WHITLOCK AVE     1      0.0\n",
       "WOODHAVEN BLVD   1      0.0\n",
       "WORLD TRADE CTR  1      0.0\n",
       "Name: BUSY_MARGINAL, Length: 133, dtype: float64"
      ]
     },
     "execution_count": 26,
     "metadata": {},
     "output_type": "execute_result"
    }
   ],
   "source": [
    "df_2013_closed_daily = df_2013_station_daily[df_2013_station_daily['BUSY_MARGINAL'] == 0]\n",
    "print('The stations closed on specific dates are: ')\n",
    "\n",
    "df_2013_closed_daily['BUSY_MARGINAL']"
   ]
  },
  {
   "cell_type": "code",
   "execution_count": 27,
   "metadata": {
    "collapsed": false
   },
   "outputs": [
    {
     "data": {
      "text/plain": [
       "count    1.375520e+05\n",
       "mean     1.366840e+05\n",
       "std      1.998622e+05\n",
       "min      0.000000e+00\n",
       "25%      3.222775e+04\n",
       "50%      7.295900e+04\n",
       "75%      1.566352e+05\n",
       "max      2.714239e+06\n",
       "Name: BUSY_MARGINAL, dtype: float64"
      ]
     },
     "execution_count": 27,
     "metadata": {},
     "output_type": "execute_result"
    }
   ],
   "source": [
    "df_2013_station_daily['BUSY_MARGINAL'].describe()"
   ]
  },
  {
   "cell_type": "code",
   "execution_count": 28,
   "metadata": {
    "collapsed": false
   },
   "outputs": [
    {
     "name": "stdout",
     "output_type": "stream",
     "text": [
      "Stations not operating full capacity:\n"
     ]
    },
    {
     "data": {
      "text/plain": [
       "Station          DAY\n",
       "148 ST-LENOX     55     27.0\n",
       "                 62     39.0\n",
       "                 69     53.0\n",
       "157 ST           230    52.0\n",
       "190 ST           104     4.0\n",
       "                 111    72.0\n",
       "                 118    71.0\n",
       "191 ST           230     9.0\n",
       "                 251    72.0\n",
       "                 279    19.0\n",
       "                 300     8.0\n",
       "215 ST           195    90.0\n",
       "                 251    49.0\n",
       "238 ST           195    30.0\n",
       "242 ST           125    46.0\n",
       "                 195     6.0\n",
       "                 230    15.0\n",
       "                 251    42.0\n",
       "                 300    11.0\n",
       "7 AVE            321    16.0\n",
       "AQUEDUCT TRACK   73     12.0\n",
       "                 76      6.0\n",
       "                 77     45.0\n",
       "                 78     50.0\n",
       "                 79     11.0\n",
       "                 82      2.0\n",
       "                 83     40.0\n",
       "                 84     55.0\n",
       "                 85     13.0\n",
       "                 86      7.0\n",
       "                        ... \n",
       "PENNSYLVANIA AV  6      19.0\n",
       "                 20     73.0\n",
       "ROCKAWAY PK 116  137    16.0\n",
       "                 138     8.0\n",
       "                 139    18.0\n",
       "                 140    80.0\n",
       "ROOSEVELT AVE    1       6.0\n",
       "SENECA AVE       62     76.0\n",
       "                 139     9.0\n",
       "                 167     2.0\n",
       "                 237     4.0\n",
       "                 293     4.0\n",
       "                 328     2.0\n",
       "                 342     4.0\n",
       "ST LAWRENCE AVE  1      96.0\n",
       "THIRTY THIRD ST  6      49.0\n",
       "VAN ALSTON-21ST  188    62.0\n",
       "                 202     2.0\n",
       "                 223     1.0\n",
       "                 230     5.0\n",
       "                 237     8.0\n",
       "                 342     9.0\n",
       "VERNON/JACKSON   34     93.0\n",
       "                 69     96.0\n",
       "WAKEFIELD-241    223    64.0\n",
       "                 225    68.0\n",
       "                 229    37.0\n",
       "                 236    24.0\n",
       "WILSON AVE       244     1.0\n",
       "WORLD TRADE CTR  139    81.0\n",
       "Name: BUSY_MARGINAL, Length: 504, dtype: float64"
      ]
     },
     "execution_count": 28,
     "metadata": {},
     "output_type": "execute_result"
    }
   ],
   "source": [
    "# assume stations without operating full capacity has less than 100 in 'BUSY_MARGINAL' column.\n",
    "print('Stations not operating full capacity:')\n",
    "df_2013_daily_nfull = df_2013_station_daily[(df_2013_station_daily['BUSY_MARGINAL'] < 100) & (df_2013_station_daily['BUSY_MARGINAL'] != 0)]['BUSY_MARGINAL']\n",
    "df_2013_daily_nfull"
   ]
  },
  {
   "cell_type": "markdown",
   "metadata": {},
   "source": [
    "***"
   ]
  },
  {
   "cell_type": "markdown",
   "metadata": {},
   "source": [
    "## Data Visualization "
   ]
  },
  {
   "cell_type": "markdown",
   "metadata": {},
   "source": [
    "Question 1: Plot the daily row counts for data files in Q3 2013"
   ]
  },
  {
   "cell_type": "code",
   "execution_count": 29,
   "metadata": {
    "collapsed": false
   },
   "outputs": [
    {
     "data": {
      "image/png": "[encoded data removed]",
      "text/plain": [
       "<matplotlib.figure.Figure at 0x1d9e2ce10>"
      ]
     },
     "metadata": {},
     "output_type": "display_data"
    }
   ],
   "source": [
    "q3_range = (df_2013.DATETIME >= datetime(2013,7,1)) & (df_2013.DATETIME < datetime(2013,10,1))\n",
    "df_2013_q3 = df_2013[q3_range]\n",
    "df_2013_q3_counts = df_2013_q3.groupby(['DATE']).size()\n",
    "plt.figure()\n",
    "df_2013_q3_counts.plot(kind = 'area', figsize = (20,8), title = 'Daily Row Counts in Q3 2013')\n",
    "plt.show()"
   ]
  },
  {
   "cell_type": "markdown",
   "metadata": {},
   "source": [
    "***"
   ]
  },
  {
   "cell_type": "markdown",
   "metadata": {},
   "source": [
    "Question 2: Plot the daily total number of entries & exits across the system for Q3 2013"
   ]
  },
  {
   "cell_type": "code",
   "execution_count": 30,
   "metadata": {
    "collapsed": false
   },
   "outputs": [
    {
     "data": {
      "text/plain": [
       "<matplotlib.figure.Figure at 0x10fb2beb8>"
      ]
     },
     "metadata": {},
     "output_type": "display_data"
    },
    {
     "data": {
      "image/png": "[encoded data removed]",
      "text/plain": [
       "<matplotlib.figure.Figure at 0x1d9df8da0>"
      ]
     },
     "metadata": {},
     "output_type": "display_data"
    }
   ],
   "source": [
    "df_2013_q3_daily_ee = df_2013_q3[['DATE','ENTRIES_MARGINAL','EXITS_MARGINAL']].groupby(['DATE']).agg(np.sum)\n",
    "plt.figure()\n",
    "df_2013_q3_daily_ee.plot(kind = 'line', figsize = (20,8), title = 'Daily total number of entries & exits across the system for Q3 2013')\n",
    "plt.show()"
   ]
  },
  {
   "cell_type": "markdown",
   "metadata": {},
   "source": [
    "***"
   ]
  },
  {
   "cell_type": "markdown",
   "metadata": {},
   "source": [
    "Question 3:  Plot the mean and standard deviation of the daily total number of entries & exits for each month in Q3 2013 for station 34 ST-PENN STA"
   ]
  },
  {
   "cell_type": "code",
   "execution_count": 31,
   "metadata": {
    "collapsed": false
   },
   "outputs": [
    {
     "data": {
      "text/plain": [
       "<matplotlib.figure.Figure at 0x510d3b208>"
      ]
     },
     "metadata": {},
     "output_type": "display_data"
    },
    {
     "data": {
      "image/png": "[encoded data removed]",
      "text/plain": [
       "<matplotlib.figure.Figure at 0x1d9e2cd30>"
      ]
     },
     "metadata": {},
     "output_type": "display_data"
    }
   ],
   "source": [
    "df_2013_q3_penn = df_2013_q3[df_2013_q3['Station'] == '34 ST-PENN STA']\n",
    "df_2013_q3_penn = df_2013_q3_penn[['MONTH', 'ENTRIES_MARGINAL','EXITS_MARGINAL']]\n",
    "df_2013_q3_penn_mean_std = df_2013_q3_penn[['MONTH','ENTRIES_MARGINAL', 'EXITS_MARGINAL']].groupby(['MONTH']).agg([np.mean, np.std])\n",
    "plt.figure()\n",
    "df_2013_q3_penn_mean_std.plot(kind = 'bar', figsize = (20,8), title = 'Mean and standard deviation of daily total number of entries & exits for each month in Q3 2013 for station 34 ST-PENN STA')\n",
    "plt.show()"
   ]
  },
  {
   "cell_type": "markdown",
   "metadata": {},
   "source": [
    "***"
   ]
  },
  {
   "cell_type": "markdown",
   "metadata": {},
   "source": [
    "Question 4: Plot 25/50/75 percentile of the daily total number of entries & exits for each month in Q3 2013 for station 34 ST-PENN STA"
   ]
  },
  {
   "cell_type": "code",
   "execution_count": 42,
   "metadata": {
    "collapsed": false
   },
   "outputs": [
    {
     "data": {
      "text/plain": [
       "<matplotlib.figure.Figure at 0x1e063c080>"
      ]
     },
     "metadata": {},
     "output_type": "display_data"
    },
    {
     "data": {
      "image/png": "[encoded data removed]",
      "text/plain": [
       "<matplotlib.figure.Figure at 0x1cfdb2e80>"
      ]
     },
     "metadata": {},
     "output_type": "display_data"
    },
    {
     "data": {
      "image/png": "[encoded data removed]",
      "text/plain": [
       "<matplotlib.figure.Figure at 0x1d6259cc0>"
      ]
     },
     "metadata": {},
     "output_type": "display_data"
    },
    {
     "data": {
      "image/png": "[encoded data removed]",
      "text/plain": [
       "<matplotlib.figure.Figure at 0x1cd658470>"
      ]
     },
     "metadata": {},
     "output_type": "display_data"
    }
   ],
   "source": [
    "df_2013_q3_penn_percentile = df_2013_q3_penn.set_index('MONTH')\n",
    "plt.figure()\n",
    "df_2013_q3_penn_percentile.loc[7].plot(kind = 'box', figsize = (20,8), title = 'July quantiles of daily total number of entries & exits for each month in Q3 2013 for station 34 ST-PENN STA')\n",
    "df_2013_q3_penn_percentile.loc[8].plot(kind = 'box', figsize = (20,8), title = 'August quantiles of daily total number of entries & exits for each month in Q3 2013 for station 34 ST-PENN STA')\n",
    "df_2013_q3_penn_percentile.loc[9].plot(kind = 'box', figsize = (20,8), title = 'September quantiles of daily total number of entries & exits for each month in Q3 2013 for station 34 ST-PENN STA')\n",
    "plt.show()\n"
   ]
  },
  {
   "cell_type": "code",
   "execution_count": 41,
   "metadata": {
    "collapsed": false
   },
   "outputs": [
    {
     "data": {
      "text/plain": [
       "<matplotlib.figure.Figure at 0x1e063c080>"
      ]
     },
     "metadata": {},
     "output_type": "display_data"
    },
    {
     "data": {
      "image/png": "[encoded data removed]",
      "text/plain": [
       "<matplotlib.figure.Figure at 0x1e063c5f8>"
      ]
     },
     "metadata": {},
     "output_type": "display_data"
    }
   ],
   "source": [
    "df_2013_q3_penn_percentile = df_2013_q3_penn.set_index('MONTH')\n",
    "plt.figure()\n",
    "df_2013_q3_penn_july.loc[7].plot(kind = 'box', figsize = (20,8), tit)\n",
    "plt.show()"
   ]
  },
  {
   "cell_type": "markdown",
   "metadata": {},
   "source": [
    "***"
   ]
  },
  {
   "cell_type": "markdown",
   "metadata": {},
   "source": [
    "Question 5:  Plot the daily number of closed stations and number of stations that were not operating at full capacity in Q3 2013"
   ]
  },
  {
   "cell_type": "code",
   "execution_count": 34,
   "metadata": {
    "collapsed": false
   },
   "outputs": [],
   "source": [
    "df_2013_closed_count = df_2013_closed_daily['BUSY_MARGINAL'].groupby('DAY').count().rename('CLOSED')\n",
    "df_2013_nfull_count = df_2013_daily_nfull.groupby('DAY').count().rename('NOT_FULL_CAPACITY')\n",
    "df_2013_closed_nfull = pd.concat([df_2013_closed_count, df_2013_nfull_count], axis = 1)\n",
    "df_2013_closed_nfull['DAYS'] = df_2013_closed_nfull.index"
   ]
  },
  {
   "cell_type": "code",
   "execution_count": 35,
   "metadata": {
    "collapsed": false
   },
   "outputs": [
    {
     "data": {
      "text/html": [
       "<div>\n",
       "<style>\n",
       "    .dataframe thead tr:only-child th {\n",
       "        text-align: right;\n",
       "    }\n",
       "\n",
       "    .dataframe thead th {\n",
       "        text-align: left;\n",
       "    }\n",
       "\n",
       "    .dataframe tbody tr th {\n",
       "        vertical-align: top;\n",
       "    }\n",
       "</style>\n",
       "<table border=\"1\" class=\"dataframe\">\n",
       "  <thead>\n",
       "    <tr style=\"text-align: right;\">\n",
       "      <th></th>\n",
       "      <th>CLOSED</th>\n",
       "      <th>NOT_FULL_CAPACITY</th>\n",
       "    </tr>\n",
       "    <tr>\n",
       "      <th>DATE2</th>\n",
       "      <th></th>\n",
       "      <th></th>\n",
       "    </tr>\n",
       "  </thead>\n",
       "  <tbody>\n",
       "    <tr>\n",
       "      <th>07-01-13</th>\n",
       "      <td>NaN</td>\n",
       "      <td>1.0</td>\n",
       "    </tr>\n",
       "    <tr>\n",
       "      <th>07-02-13</th>\n",
       "      <td>NaN</td>\n",
       "      <td>1.0</td>\n",
       "    </tr>\n",
       "    <tr>\n",
       "      <th>07-03-13</th>\n",
       "      <td>NaN</td>\n",
       "      <td>2.0</td>\n",
       "    </tr>\n",
       "    <tr>\n",
       "      <th>07-04-13</th>\n",
       "      <td>NaN</td>\n",
       "      <td>NaN</td>\n",
       "    </tr>\n",
       "    <tr>\n",
       "      <th>07-05-13</th>\n",
       "      <td>NaN</td>\n",
       "      <td>1.0</td>\n",
       "    </tr>\n",
       "    <tr>\n",
       "      <th>07-06-13</th>\n",
       "      <td>2.0</td>\n",
       "      <td>NaN</td>\n",
       "    </tr>\n",
       "    <tr>\n",
       "      <th>07-07-13</th>\n",
       "      <td>NaN</td>\n",
       "      <td>3.0</td>\n",
       "    </tr>\n",
       "    <tr>\n",
       "      <th>07-08-13</th>\n",
       "      <td>NaN</td>\n",
       "      <td>1.0</td>\n",
       "    </tr>\n",
       "    <tr>\n",
       "      <th>07-09-13</th>\n",
       "      <td>NaN</td>\n",
       "      <td>1.0</td>\n",
       "    </tr>\n",
       "    <tr>\n",
       "      <th>07-10-13</th>\n",
       "      <td>NaN</td>\n",
       "      <td>2.0</td>\n",
       "    </tr>\n",
       "    <tr>\n",
       "      <th>07-11-13</th>\n",
       "      <td>NaN</td>\n",
       "      <td>2.0</td>\n",
       "    </tr>\n",
       "    <tr>\n",
       "      <th>07-12-13</th>\n",
       "      <td>NaN</td>\n",
       "      <td>1.0</td>\n",
       "    </tr>\n",
       "    <tr>\n",
       "      <th>07-13-13</th>\n",
       "      <td>2.0</td>\n",
       "      <td>NaN</td>\n",
       "    </tr>\n",
       "    <tr>\n",
       "      <th>07-14-13</th>\n",
       "      <td>2.0</td>\n",
       "      <td>5.0</td>\n",
       "    </tr>\n",
       "    <tr>\n",
       "      <th>07-15-13</th>\n",
       "      <td>NaN</td>\n",
       "      <td>1.0</td>\n",
       "    </tr>\n",
       "    <tr>\n",
       "      <th>07-16-13</th>\n",
       "      <td>NaN</td>\n",
       "      <td>1.0</td>\n",
       "    </tr>\n",
       "    <tr>\n",
       "      <th>07-17-13</th>\n",
       "      <td>NaN</td>\n",
       "      <td>1.0</td>\n",
       "    </tr>\n",
       "    <tr>\n",
       "      <th>07-18-13</th>\n",
       "      <td>NaN</td>\n",
       "      <td>1.0</td>\n",
       "    </tr>\n",
       "    <tr>\n",
       "      <th>07-19-13</th>\n",
       "      <td>NaN</td>\n",
       "      <td>1.0</td>\n",
       "    </tr>\n",
       "    <tr>\n",
       "      <th>07-20-13</th>\n",
       "      <td>NaN</td>\n",
       "      <td>1.0</td>\n",
       "    </tr>\n",
       "    <tr>\n",
       "      <th>07-21-13</th>\n",
       "      <td>NaN</td>\n",
       "      <td>2.0</td>\n",
       "    </tr>\n",
       "    <tr>\n",
       "      <th>07-22-13</th>\n",
       "      <td>NaN</td>\n",
       "      <td>1.0</td>\n",
       "    </tr>\n",
       "    <tr>\n",
       "      <th>07-23-13</th>\n",
       "      <td>NaN</td>\n",
       "      <td>1.0</td>\n",
       "    </tr>\n",
       "    <tr>\n",
       "      <th>07-24-13</th>\n",
       "      <td>NaN</td>\n",
       "      <td>2.0</td>\n",
       "    </tr>\n",
       "    <tr>\n",
       "      <th>07-25-13</th>\n",
       "      <td>NaN</td>\n",
       "      <td>1.0</td>\n",
       "    </tr>\n",
       "    <tr>\n",
       "      <th>07-26-13</th>\n",
       "      <td>NaN</td>\n",
       "      <td>1.0</td>\n",
       "    </tr>\n",
       "    <tr>\n",
       "      <th>07-27-13</th>\n",
       "      <td>1.0</td>\n",
       "      <td>NaN</td>\n",
       "    </tr>\n",
       "    <tr>\n",
       "      <th>07-28-13</th>\n",
       "      <td>NaN</td>\n",
       "      <td>1.0</td>\n",
       "    </tr>\n",
       "    <tr>\n",
       "      <th>07-29-13</th>\n",
       "      <td>NaN</td>\n",
       "      <td>NaN</td>\n",
       "    </tr>\n",
       "    <tr>\n",
       "      <th>07-30-13</th>\n",
       "      <td>NaN</td>\n",
       "      <td>NaN</td>\n",
       "    </tr>\n",
       "    <tr>\n",
       "      <th>...</th>\n",
       "      <td>...</td>\n",
       "      <td>...</td>\n",
       "    </tr>\n",
       "    <tr>\n",
       "      <th>09-01-13</th>\n",
       "      <td>NaN</td>\n",
       "      <td>4.0</td>\n",
       "    </tr>\n",
       "    <tr>\n",
       "      <th>09-02-13</th>\n",
       "      <td>NaN</td>\n",
       "      <td>1.0</td>\n",
       "    </tr>\n",
       "    <tr>\n",
       "      <th>09-03-13</th>\n",
       "      <td>NaN</td>\n",
       "      <td>NaN</td>\n",
       "    </tr>\n",
       "    <tr>\n",
       "      <th>09-04-13</th>\n",
       "      <td>NaN</td>\n",
       "      <td>1.0</td>\n",
       "    </tr>\n",
       "    <tr>\n",
       "      <th>09-05-13</th>\n",
       "      <td>NaN</td>\n",
       "      <td>1.0</td>\n",
       "    </tr>\n",
       "    <tr>\n",
       "      <th>09-06-13</th>\n",
       "      <td>1.0</td>\n",
       "      <td>NaN</td>\n",
       "    </tr>\n",
       "    <tr>\n",
       "      <th>09-07-13</th>\n",
       "      <td>NaN</td>\n",
       "      <td>1.0</td>\n",
       "    </tr>\n",
       "    <tr>\n",
       "      <th>09-08-13</th>\n",
       "      <td>2.0</td>\n",
       "      <td>8.0</td>\n",
       "    </tr>\n",
       "    <tr>\n",
       "      <th>09-09-13</th>\n",
       "      <td>NaN</td>\n",
       "      <td>NaN</td>\n",
       "    </tr>\n",
       "    <tr>\n",
       "      <th>09-10-13</th>\n",
       "      <td>NaN</td>\n",
       "      <td>NaN</td>\n",
       "    </tr>\n",
       "    <tr>\n",
       "      <th>09-11-13</th>\n",
       "      <td>NaN</td>\n",
       "      <td>NaN</td>\n",
       "    </tr>\n",
       "    <tr>\n",
       "      <th>09-12-13</th>\n",
       "      <td>NaN</td>\n",
       "      <td>NaN</td>\n",
       "    </tr>\n",
       "    <tr>\n",
       "      <th>09-13-13</th>\n",
       "      <td>NaN</td>\n",
       "      <td>NaN</td>\n",
       "    </tr>\n",
       "    <tr>\n",
       "      <th>09-14-13</th>\n",
       "      <td>NaN</td>\n",
       "      <td>NaN</td>\n",
       "    </tr>\n",
       "    <tr>\n",
       "      <th>09-15-13</th>\n",
       "      <td>NaN</td>\n",
       "      <td>5.0</td>\n",
       "    </tr>\n",
       "    <tr>\n",
       "      <th>09-16-13</th>\n",
       "      <td>NaN</td>\n",
       "      <td>NaN</td>\n",
       "    </tr>\n",
       "    <tr>\n",
       "      <th>09-17-13</th>\n",
       "      <td>NaN</td>\n",
       "      <td>NaN</td>\n",
       "    </tr>\n",
       "    <tr>\n",
       "      <th>09-18-13</th>\n",
       "      <td>NaN</td>\n",
       "      <td>NaN</td>\n",
       "    </tr>\n",
       "    <tr>\n",
       "      <th>09-19-13</th>\n",
       "      <td>NaN</td>\n",
       "      <td>NaN</td>\n",
       "    </tr>\n",
       "    <tr>\n",
       "      <th>09-20-13</th>\n",
       "      <td>NaN</td>\n",
       "      <td>NaN</td>\n",
       "    </tr>\n",
       "    <tr>\n",
       "      <th>09-21-13</th>\n",
       "      <td>NaN</td>\n",
       "      <td>1.0</td>\n",
       "    </tr>\n",
       "    <tr>\n",
       "      <th>09-22-13</th>\n",
       "      <td>1.0</td>\n",
       "      <td>8.0</td>\n",
       "    </tr>\n",
       "    <tr>\n",
       "      <th>09-23-13</th>\n",
       "      <td>NaN</td>\n",
       "      <td>NaN</td>\n",
       "    </tr>\n",
       "    <tr>\n",
       "      <th>09-24-13</th>\n",
       "      <td>NaN</td>\n",
       "      <td>NaN</td>\n",
       "    </tr>\n",
       "    <tr>\n",
       "      <th>09-25-13</th>\n",
       "      <td>NaN</td>\n",
       "      <td>NaN</td>\n",
       "    </tr>\n",
       "    <tr>\n",
       "      <th>09-26-13</th>\n",
       "      <td>NaN</td>\n",
       "      <td>NaN</td>\n",
       "    </tr>\n",
       "    <tr>\n",
       "      <th>09-27-13</th>\n",
       "      <td>NaN</td>\n",
       "      <td>NaN</td>\n",
       "    </tr>\n",
       "    <tr>\n",
       "      <th>09-28-13</th>\n",
       "      <td>NaN</td>\n",
       "      <td>NaN</td>\n",
       "    </tr>\n",
       "    <tr>\n",
       "      <th>09-29-13</th>\n",
       "      <td>1.0</td>\n",
       "      <td>7.0</td>\n",
       "    </tr>\n",
       "    <tr>\n",
       "      <th>09-30-13</th>\n",
       "      <td>NaN</td>\n",
       "      <td>NaN</td>\n",
       "    </tr>\n",
       "  </tbody>\n",
       "</table>\n",
       "<p>92 rows × 2 columns</p>\n",
       "</div>"
      ],
      "text/plain": [
       "          CLOSED  NOT_FULL_CAPACITY\n",
       "DATE2                              \n",
       "07-01-13     NaN                1.0\n",
       "07-02-13     NaN                1.0\n",
       "07-03-13     NaN                2.0\n",
       "07-04-13     NaN                NaN\n",
       "07-05-13     NaN                1.0\n",
       "07-06-13     2.0                NaN\n",
       "07-07-13     NaN                3.0\n",
       "07-08-13     NaN                1.0\n",
       "07-09-13     NaN                1.0\n",
       "07-10-13     NaN                2.0\n",
       "07-11-13     NaN                2.0\n",
       "07-12-13     NaN                1.0\n",
       "07-13-13     2.0                NaN\n",
       "07-14-13     2.0                5.0\n",
       "07-15-13     NaN                1.0\n",
       "07-16-13     NaN                1.0\n",
       "07-17-13     NaN                1.0\n",
       "07-18-13     NaN                1.0\n",
       "07-19-13     NaN                1.0\n",
       "07-20-13     NaN                1.0\n",
       "07-21-13     NaN                2.0\n",
       "07-22-13     NaN                1.0\n",
       "07-23-13     NaN                1.0\n",
       "07-24-13     NaN                2.0\n",
       "07-25-13     NaN                1.0\n",
       "07-26-13     NaN                1.0\n",
       "07-27-13     1.0                NaN\n",
       "07-28-13     NaN                1.0\n",
       "07-29-13     NaN                NaN\n",
       "07-30-13     NaN                NaN\n",
       "...          ...                ...\n",
       "09-01-13     NaN                4.0\n",
       "09-02-13     NaN                1.0\n",
       "09-03-13     NaN                NaN\n",
       "09-04-13     NaN                1.0\n",
       "09-05-13     NaN                1.0\n",
       "09-06-13     1.0                NaN\n",
       "09-07-13     NaN                1.0\n",
       "09-08-13     2.0                8.0\n",
       "09-09-13     NaN                NaN\n",
       "09-10-13     NaN                NaN\n",
       "09-11-13     NaN                NaN\n",
       "09-12-13     NaN                NaN\n",
       "09-13-13     NaN                NaN\n",
       "09-14-13     NaN                NaN\n",
       "09-15-13     NaN                5.0\n",
       "09-16-13     NaN                NaN\n",
       "09-17-13     NaN                NaN\n",
       "09-18-13     NaN                NaN\n",
       "09-19-13     NaN                NaN\n",
       "09-20-13     NaN                NaN\n",
       "09-21-13     NaN                1.0\n",
       "09-22-13     1.0                8.0\n",
       "09-23-13     NaN                NaN\n",
       "09-24-13     NaN                NaN\n",
       "09-25-13     NaN                NaN\n",
       "09-26-13     NaN                NaN\n",
       "09-27-13     NaN                NaN\n",
       "09-28-13     NaN                NaN\n",
       "09-29-13     1.0                7.0\n",
       "09-30-13     NaN                NaN\n",
       "\n",
       "[92 rows x 2 columns]"
      ]
     },
     "execution_count": 35,
     "metadata": {},
     "output_type": "execute_result"
    }
   ],
   "source": [
    "temp = df_2013_q3[['DAY', 'DATE']].groupby(['DAY','DATE']).count()\n",
    "temp['DATE2'] = temp.index.levels[1]\n",
    "temp.index = temp.index.droplevel(1)\n",
    "\n",
    "df_2013_closed_nfull = temp.merge(df_2013_closed_nfull, left_index = True, right_index = True, how = 'left')\n",
    "df_2013_closed_nfull = df_2013_closed_nfull[['DATE2', 'CLOSED', 'NOT_FULL_CAPACITY']]\n",
    "df_2013_closed_nfull.set_index('DATE2', inplace = True)\n",
    "df_2013_closed_nfull"
   ]
  },
  {
   "cell_type": "code",
   "execution_count": 36,
   "metadata": {
    "collapsed": false
   },
   "outputs": [
    {
     "data": {
      "text/plain": [
       "<matplotlib.figure.Figure at 0x23b04ceb8>"
      ]
     },
     "metadata": {},
     "output_type": "display_data"
    },
    {
     "data": {
      "image/png": "[encoded data removed]",
      "text/plain": [
       "<matplotlib.figure.Figure at 0x23aca92e8>"
      ]
     },
     "metadata": {},
     "output_type": "display_data"
    }
   ],
   "source": [
    "plt.figure()\n",
    "df_2013_closed_nfull.plot(kind = 'area', figsize = (20,8), title = 'Daily number of closed stations and number of stations that were not operating at full capacity in Q3 2013')\n",
    "plt.show()"
   ]
  }
 ],
 "metadata": {
  "kernelspec": {
   "display_name": "Python 3",
   "language": "python",
   "name": "python3"
  },
  "language_info": {
   "codemirror_mode": {
    "name": "ipython",
    "version": 3
   },
   "file_extension": ".py",
   "mimetype": "text/x-python",
   "name": "python",
   "nbconvert_exporter": "python",
   "pygments_lexer": "ipython3",
   "version": "3.6.0"
  }
 },
 "nbformat": 4,
 "nbformat_minor": 2
}
