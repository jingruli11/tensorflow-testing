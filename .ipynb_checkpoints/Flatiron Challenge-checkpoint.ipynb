{
 "cells": [
  {
   "cell_type": "markdown",
   "metadata": {},
   "source": [
    "# Flatiron data challenge\n",
    "\n",
    "Jingru Li\n",
    "\n",
    "Oct 23, 2018"
   ]
  },
  {
   "cell_type": "markdown",
   "metadata": {},
   "source": [
    "**Data Format**\n",
    "\n",
    "- **Patient_Diagnosis**\n",
    "\n",
    "    - patient_id - patient identifier; each patient has a unique patient_id\n",
    "    - diagnosis_date - date of diagnosis; YYYY-MM-DD format\n",
    "    - diagnosis_code - an ICD9CM diagnosis code \n",
    "    - diagnosis - a diagnosis description used for reporting purposes\n",
    "\n",
    "- **Patient_Treatment**\n",
    "\n",
    "    - patient_id\n",
    "    - treatment_date - date of treatment; YYYY-MM-DD format\n",
    "    - drug_code - an internal drug identifier"
   ]
  },
  {
   "cell_type": "markdown",
   "metadata": {},
   "source": [
    "## General Questions\n",
    "\n",
    "1. **When presented with a new dataset or database, what steps do you generally take to evaluate it prior to working with it?**\n",
    "\n",
    "    When presented with a new dataset, I usually take 4 steps to evaluate it before working.\n",
    "    \n",
    "    1. Design, data collection method\n",
    "    \n",
    "        - In this step, I look at what this dataset is about, and how are the data collected. For example, what is the target population, and how is the sample drawn. Also, I look at if there are selection bias, and what's the impact if there is bias.\n",
    "    2. Data file format, size, schema, and relationship between datasets / fields\n",
    "    \n",
    "        - In this step, I normally check the format of the file (csv, excel, parquet, etc). Then I check the size of the files, to see if it's within the computing power of my RAM / cluster. Afterwards I check the schema of the dataset, to see how many fields are there, what's primary key, and what's the data type of each field, is it nullable, etc. If there are multiple datasets, I would check if there are connections between datasets, if a primary key in dataset A is the secondary key in dataset B, if I can join them based on keys, and what's the intuition behind those join, etc.\n",
    "    3. Data quality, missing data\n",
    "    \n",
    "        - In this step, I check the quality of the data. To begin, I check if there are any errors in the data, such as wrong data types in the columns. Then, I would check for any missing data issue, and then evaluate the methods of fixing those missing data, either by deleting the rows or filling in values such as 0, mean, mode or whatever is appropriate.\n",
    "    4. Data preview and distribution\n",
    "    \n",
    "        - The last step is to preview the data and check the distribution of key fields. This step includes examining the counts of fields, distinct counts, and summary statistics.\n",
    "        \n",
    "        \n",
    "2. **Based on the information provided above and the attached dataset, what three questions would you like to understand prior to conducting any analysis of the data?**\n",
    "\n",
    "    In order to further interpret the information provided, here are some potential areas in which I would like to understand better:\n",
    "    \n",
    "    1. Sample bias:\n",
    "        - What's the method of sample selection? Is it random? Would there be selection bias within the sample? For example, are the patients diagnosed at the same stage of cancer? \n",
    "    \n",
    "    2. Subjects of treatment:\n",
    "        - Are all of the patients diagnosed with cancer treated with drugs? How many patients were not treated?\n",
    "    \n",
    "    3. For patients who have been diagnosed with both types of cancer, how do their individual cases affect the overall data set? Ex: the order in which they are diagnosed with one condition or another, the difference in their chemotherapy and immunotherapy process, and last but not least whether all these points of differentiation result in possible overlaps, missing information, or potential distortion in data."
   ]
  },
  {
   "cell_type": "markdown",
   "metadata": {},
   "source": [
    "`Before moving on to data analysis question, first clean and explore the dataset.`"
   ]
  },
  {
   "cell_type": "markdown",
   "metadata": {},
   "source": [
    "## Data Extraction, Cleaning and Exploration"
   ]
  },
  {
   "cell_type": "code",
   "execution_count": 1,
   "metadata": {},
   "outputs": [],
   "source": [
    "# import relevant libraries\n",
    "import pandas as pd\n",
    "import numpy as np\n",
    "import matplotlib.pyplot as plt\n",
    "from scipy.stats import ttest_ind_from_stats\n",
    "from scipy.special import stdtr\n",
    "from scipy.stats import bartlett\n"
   ]
  },
  {
   "cell_type": "code",
   "execution_count": 2,
   "metadata": {},
   "outputs": [],
   "source": [
    "# load the data\n",
    "df_d = pd.read_csv('Patient_Diagnosis.csv')\n",
    "df_t = pd.read_csv(\"Patient_Treatment.csv\")"
   ]
  },
  {
   "cell_type": "code",
   "execution_count": 3,
   "metadata": {},
   "outputs": [
    {
     "name": "stdout",
     "output_type": "stream",
     "text": [
      "<class 'pandas.core.frame.DataFrame'>\n",
      "RangeIndex: 57 entries, 0 to 56\n",
      "Data columns (total 4 columns):\n",
      "patient_id        57 non-null int64\n",
      "diagnosis_date    57 non-null object\n",
      "diagnosis_code    57 non-null float64\n",
      "diagnosis         57 non-null object\n",
      "dtypes: float64(1), int64(1), object(2)\n",
      "memory usage: 1.9+ KB\n"
     ]
    }
   ],
   "source": [
    "# schema of diagnosis dataframe\n",
    "df_d.info()"
   ]
  },
  {
   "cell_type": "code",
   "execution_count": 4,
   "metadata": {},
   "outputs": [
    {
     "name": "stdout",
     "output_type": "stream",
     "text": [
      "<class 'pandas.core.frame.DataFrame'>\n",
      "RangeIndex: 1096 entries, 0 to 1095\n",
      "Data columns (total 3 columns):\n",
      "patient_id        1096 non-null int64\n",
      "treatment_date    1096 non-null object\n",
      "drug_code         1096 non-null object\n",
      "dtypes: int64(1), object(2)\n",
      "memory usage: 25.8+ KB\n"
     ]
    }
   ],
   "source": [
    "# schema of treatment dataframe\n",
    "df_t.info()"
   ]
  },
  {
   "cell_type": "code",
   "execution_count": 5,
   "metadata": {},
   "outputs": [
    {
     "data": {
      "text/plain": [
       "47"
      ]
     },
     "execution_count": 5,
     "metadata": {},
     "output_type": "execute_result"
    }
   ],
   "source": [
    "# number of distinct patients in diagnosis data\n",
    "df_d['patient_id'].nunique()"
   ]
  },
  {
   "cell_type": "code",
   "execution_count": 6,
   "metadata": {},
   "outputs": [
    {
     "data": {
      "text/plain": [
       "46"
      ]
     },
     "execution_count": 6,
     "metadata": {},
     "output_type": "execute_result"
    }
   ],
   "source": [
    "# number of distinct patients in treatment data\n",
    "df_t['patient_id'].nunique()"
   ]
  },
  {
   "cell_type": "markdown",
   "metadata": {},
   "source": [
    "There are 47 distinct patients in diagnosis dataframe, while treatment dataframe only has 46.\n",
    "\n",
    "The difference between count of unique `patient_id` is 1. This means one patient who was diagnosed of cancer did not get treatment."
   ]
  },
  {
   "cell_type": "code",
   "execution_count": 7,
   "metadata": {},
   "outputs": [],
   "source": [
    "# convert date from string to date time data type\n",
    "df_d['diagnosis_date'] = pd.to_datetime(df_d['diagnosis_date'])\n",
    "df_t['treatment_date'] = pd.to_datetime(df_t['treatment_date'])"
   ]
  },
  {
   "cell_type": "markdown",
   "metadata": {},
   "source": [
    "## Data Analysis Question"
   ]
  },
  {
   "cell_type": "markdown",
   "metadata": {},
   "source": [
    "### Question 1\n",
    "**First, the clinic would like to know the distribution of cancer types across their patients. Please provide the clinic with this information.**"
   ]
  },
  {
   "cell_type": "code",
   "execution_count": 8,
   "metadata": {},
   "outputs": [
    {
     "data": {
      "text/plain": [
       "diagnosis\n",
       "Breast Cancer    36\n",
       "Colon Cancer     16\n",
       "Name: patient_id, dtype: int64"
      ]
     },
     "execution_count": 8,
     "metadata": {},
     "output_type": "execute_result"
    }
   ],
   "source": [
    "# distribution of cancer types\n",
    "df_d.groupby(['diagnosis'])['patient_id'].nunique()"
   ]
  },
  {
   "cell_type": "code",
   "execution_count": 9,
   "metadata": {},
   "outputs": [
    {
     "data": {
      "text/plain": [
       "5"
      ]
     },
     "execution_count": 9,
     "metadata": {},
     "output_type": "execute_result"
    }
   ],
   "source": [
    "# derive a patient level dataframe and count number of distinct diagnosis\n",
    "df_patients = df_d.groupby(['patient_id'])['diagnosis'].nunique()\n",
    "# count number of patients with both Breast cancer and Colon cancer\n",
    "df_patients[df_patients > 1].count()"
   ]
  },
  {
   "cell_type": "markdown",
   "metadata": {},
   "source": [
    "- There are **47** patients in total in this sample.\n",
    "- **36** patients are diagnosed with Breast Cancer.\n",
    "- **16** Patients are diagnosed with Colon Cancer.\n",
    "- **5** patients are diagnosed with both Breast Cancer and Colon Cancer."
   ]
  },
  {
   "cell_type": "markdown",
   "metadata": {},
   "source": [
    "### Question 2\n",
    "**The clinic wants to know how long it takes for patients to start therapy after being diagnosed, which they consider to be helpful in understanding the quality of care for the patient. How long after being diagnosed do patients start treatment?**"
   ]
  },
  {
   "cell_type": "code",
   "execution_count": 10,
   "metadata": {},
   "outputs": [
    {
     "data": {
      "text/plain": [
       "(1239, 6)"
      ]
     },
     "execution_count": 10,
     "metadata": {},
     "output_type": "execute_result"
    }
   ],
   "source": [
    "# merge diagnosis and treatment data\n",
    "df_all = pd.merge(df_d, df_t, how = 'left', on = 'patient_id')\n",
    "# print size of all data\n",
    "df_all.shape"
   ]
  },
  {
   "cell_type": "code",
   "execution_count": 11,
   "metadata": {},
   "outputs": [
    {
     "data": {
      "text/plain": [
       "(1235, 6)"
      ]
     },
     "execution_count": 11,
     "metadata": {},
     "output_type": "execute_result"
    }
   ],
   "source": [
    "# some patients have been diagnosed for 2 conditions, \n",
    "# thus we drop the rows where treatment is before diagnosis, which is supposed to be for the other diagnosis\n",
    "df_all.drop(df_all[df_all['treatment_date'] < df_all['diagnosis_date']].index, inplace = True)\n",
    "# also we drop the rows where there is no treatment information, because one patient diagnosed was not treated\n",
    "df_all.dropna(inplace= True)\n",
    "# check the size of all data\n",
    "df_all.shape"
   ]
  },
  {
   "cell_type": "markdown",
   "metadata": {},
   "source": [
    "4 rows has been dropped."
   ]
  },
  {
   "cell_type": "code",
   "execution_count": 12,
   "metadata": {},
   "outputs": [
    {
     "data": {
      "text/plain": [
       "count     51.000000\n",
       "mean      10.921569\n",
       "std       42.011828\n",
       "min        0.000000\n",
       "25%        3.500000\n",
       "50%        5.000000\n",
       "75%        6.000000\n",
       "max      304.000000\n",
       "Name: lag, dtype: float64"
      ]
     },
     "execution_count": 12,
     "metadata": {},
     "output_type": "execute_result"
    }
   ],
   "source": [
    "# treatment start date after diagnosis\n",
    "df_treat_start = df_all.groupby(['diagnosis', 'patient_id'])['diagnosis_date', 'treatment_date'].agg(min)\n",
    "df_treat_start.reset_index(drop = False, inplace = True)\n",
    "# calculate lag from diagnosis to fist treatment\n",
    "df_treat_start['lag'] = df_treat_start['treatment_date'] - df_treat_start['diagnosis_date']\n",
    "# summary statistics of the lag between diagnosis and therapy\n",
    "df_treat_start['lag'].dt.days.describe()"
   ]
  },
  {
   "cell_type": "code",
   "execution_count": 13,
   "metadata": {},
   "outputs": [
    {
     "data": {
      "text/plain": [
       "count    50.000000\n",
       "mean      5.060000\n",
       "std       3.605042\n",
       "min       0.000000\n",
       "25%       3.250000\n",
       "50%       5.000000\n",
       "75%       6.000000\n",
       "max      20.000000\n",
       "Name: lag, dtype: float64"
      ]
     },
     "execution_count": 13,
     "metadata": {},
     "output_type": "execute_result"
    }
   ],
   "source": [
    "# summary statistics without the outlier of row where lag is 304 days\n",
    "df_treat_start[df_treat_start['lag'].dt.days < 50]['lag'].dt.days.describe()"
   ]
  },
  {
   "cell_type": "code",
   "execution_count": 14,
   "metadata": {},
   "outputs": [
    {
     "data": {
      "text/plain": [
       "<matplotlib.figure.Figure at 0x118aec198>"
      ]
     },
     "metadata": {},
     "output_type": "display_data"
    },
    {
     "data": {
      "image/png": "[encoded data removed]",
      "text/plain": [
       "<matplotlib.figure.Figure at 0x118ad0a58>"
      ]
     },
     "metadata": {},
     "output_type": "display_data"
    }
   ],
   "source": [
    "# plot of lag distribution\n",
    "plt.clf()\n",
    "plt.figure(figsize = (16,6))\n",
    "plt.suptitle('Lag between diagnosis and therapy distribution', fontsize = 20)\n",
    "# distribution of lag with raw data\n",
    "plt.subplot(1,2,1)\n",
    "df_treat_start['lag'].dt.days.hist(bins = 100).set_title('Distribution of Lag with raw data')\n",
    "# distribution of lag with cleaned data, lag < 50, remove one outlier with 304 days lag\n",
    "plt.subplot(1,2,2)\n",
    "df_treat_start[df_treat_start['lag'].dt.days < 50]['lag'].dt.days.hist(bins = 10).set_title('Distribution of Lag with cleaned data')\n",
    "plt.show()"
   ]
  },
  {
   "cell_type": "markdown",
   "metadata": {},
   "source": [
    "- There is one outlier in the data with therapy starting time after diagnosis 304 days. This number is way bigger than the others. Thus it is removed from analysis.\n",
    "- The average time of starting therapy after diagnosis is close to **5 days**.\n",
    "- The standard deviation of lag is between **3 to 4 days**.\n",
    "- The distribution of lag resembles a log-normal distribution."
   ]
  },
  {
   "cell_type": "markdown",
   "metadata": {},
   "source": [
    "### Question 3\n",
    "**Which treatment regimens [i.e., drug(s)] do you think would be indicated to be used as first-line of treatment for breast cancer? What about colon cancer?**"
   ]
  },
  {
   "cell_type": "code",
   "execution_count": 15,
   "metadata": {},
   "outputs": [
    {
     "data": {
      "text/plain": [
       "A, B    18\n",
       "B        7\n",
       "C        6\n",
       "A        4\n",
       "Name: First-line Drug, dtype: int64"
      ]
     },
     "execution_count": 15,
     "metadata": {},
     "output_type": "execute_result"
    }
   ],
   "source": [
    "# table of patients with corresponding first line drugs\n",
    "# merge the treatment records with the starting treatment table\n",
    "# we use the starting treatment table as the base table because it has the earliest treatment date, which means first-line therapy\n",
    "df_start_drug = pd.merge(df_treat_start, df_all[['patient_id', 'treatment_date', 'drug_code']], \n",
    "                         how = 'left', on = ['patient_id', 'treatment_date']).drop_duplicates()\n",
    "# sort dataframe in ascending order\n",
    "df_start_drug.sort_values(['diagnosis', 'patient_id', 'diagnosis_date', 'treatment_date', 'lag','drug_code'], ascending = True, inplace = True)\n",
    "# create another dataframe and concatenate the strings for the drug code for each patient\n",
    "df_start_drug_grouped = df_start_drug.groupby(['diagnosis', 'patient_id', 'diagnosis_date', \n",
    "                                               'treatment_date', 'lag']).apply(lambda x: ', '.join(x['drug_code']))\n",
    "df_start_drug_grouped = df_start_drug_grouped.reset_index(drop = False)\n",
    "# rename the column to \"first-line drug\"\n",
    "df_start_drug_grouped.rename({0:'First-line Drug'}, axis = 1, inplace = True)\n",
    "# display number of patients with first line treatment for breast cancer\n",
    "df_start_drug_grouped[df_start_drug_grouped['diagnosis'] == 'Breast Cancer']['First-line Drug'].value_counts(sort = True)"
   ]
  },
  {
   "cell_type": "code",
   "execution_count": 16,
   "metadata": {},
   "outputs": [
    {
     "data": {
      "text/plain": [
       "C       4\n",
       "A, B    4\n",
       "B       4\n",
       "D       4\n",
       "Name: First-line Drug, dtype: int64"
      ]
     },
     "execution_count": 16,
     "metadata": {},
     "output_type": "execute_result"
    }
   ],
   "source": [
    "# display first line treatment for colon cancer\n",
    "df_start_drug_grouped[df_start_drug_grouped['diagnosis'] == 'Colon Cancer']['First-line Drug'].value_counts(sort = True)"
   ]
  },
  {
   "cell_type": "markdown",
   "metadata": {},
   "source": [
    "- For breast cancer:\n",
    "    - Drug A and B (Chemotherapy) are the most popular first-line therapy. \n",
    "    - Most of the times Drug A and B are treated together as first-line therapy.\n",
    "    - Drug B has slightly higher popularity then A.\n",
    "    - Drug C (immunotherapy) is sometimes used as first-line therapy.\n",
    "- For colon cancer:\n",
    "    - Drug B (Chemotherapy) is the most popular first-line therapy.\n",
    "    - The other 3 drugs (A, C, and D) have equal frequency of being the first-line therapy.\n",
    "    - Sometimes drug A and B are prescriped together to be the first-line therapy."
   ]
  },
  {
   "cell_type": "markdown",
   "metadata": {},
   "source": [
    "### Question 4\n",
    "**Do the patients taking Regimen A vs. Regimen B as first-line therapy for breast cancer vary in terms of duration of therapy? Please include statistical tests and visualizations, as appropriate.**"
   ]
  },
  {
   "cell_type": "markdown",
   "metadata": {},
   "source": [
    "To compare durations of Regimen A vs. Regimen B as first-line therapy, we need a dataframe of patients, drugs, and therapy durations"
   ]
  },
  {
   "cell_type": "code",
   "execution_count": 17,
   "metadata": {},
   "outputs": [],
   "source": [
    "# dataframe for all treatment and duration\n",
    "df_treatment = df_all.groupby(['diagnosis', 'patient_id', 'diagnosis_date', 'drug_code'])['treatment_date'].agg([min, max])\n",
    "df_treatment.reset_index(drop = False, inplace = True)\n",
    "# filter this dataframe to only include breast cancer, drug A and B, and first-line therapy\n",
    "df_treatment = df_treatment[(df_treatment['diagnosis'] == 'Breast Cancer') & ((df_treatment['drug_code'] == 'A') | (df_treatment['drug_code'] == 'B'))]\n",
    "# calculate drug start lag, which is the time between diagnosis and the drug starts\n",
    "df_treatment['drug_start_lag'] = df_treatment['min'] - df_treatment['diagnosis_date']\n",
    "# calculate drug end lag, which is the time between diagnosis and the drug ends\n",
    "df_treatment['drug_end_lag'] = df_treatment['max'] - df_treatment['diagnosis_date']\n",
    "# calculate drug duration, which is how long the drug was used for the patient\n",
    "df_treatment['drug_duration'] = df_treatment['drug_end_lag'] - df_treatment['drug_start_lag']"
   ]
  },
  {
   "cell_type": "code",
   "execution_count": 18,
   "metadata": {},
   "outputs": [
    {
     "data": {
      "text/html": [
       "<div>\n",
       "<style scoped>\n",
       "    .dataframe tbody tr th:only-of-type {\n",
       "        vertical-align: middle;\n",
       "    }\n",
       "\n",
       "    .dataframe tbody tr th {\n",
       "        vertical-align: top;\n",
       "    }\n",
       "\n",
       "    .dataframe thead th {\n",
       "        text-align: right;\n",
       "    }\n",
       "</style>\n",
       "<table border=\"1\" class=\"dataframe\">\n",
       "  <thead>\n",
       "    <tr style=\"text-align: right;\">\n",
       "      <th></th>\n",
       "      <th>diagnosis</th>\n",
       "      <th>patient_id</th>\n",
       "      <th>diagnosis_date</th>\n",
       "      <th>drug_code</th>\n",
       "      <th>min</th>\n",
       "      <th>max</th>\n",
       "      <th>drug_start_lag</th>\n",
       "      <th>drug_end_lag</th>\n",
       "      <th>drug_duration</th>\n",
       "    </tr>\n",
       "  </thead>\n",
       "  <tbody>\n",
       "    <tr>\n",
       "      <th>0</th>\n",
       "      <td>Breast Cancer</td>\n",
       "      <td>2038</td>\n",
       "      <td>2010-01-21</td>\n",
       "      <td>A</td>\n",
       "      <td>2010-01-24</td>\n",
       "      <td>2017-02-20</td>\n",
       "      <td>3 days</td>\n",
       "      <td>2587 days</td>\n",
       "      <td>2584 days</td>\n",
       "    </tr>\n",
       "    <tr>\n",
       "      <th>6</th>\n",
       "      <td>Breast Cancer</td>\n",
       "      <td>2238</td>\n",
       "      <td>2010-01-21</td>\n",
       "      <td>B</td>\n",
       "      <td>2010-01-21</td>\n",
       "      <td>2012-10-18</td>\n",
       "      <td>0 days</td>\n",
       "      <td>1001 days</td>\n",
       "      <td>1001 days</td>\n",
       "    </tr>\n",
       "    <tr>\n",
       "      <th>59</th>\n",
       "      <td>Breast Cancer</td>\n",
       "      <td>9331</td>\n",
       "      <td>2013-08-23</td>\n",
       "      <td>A</td>\n",
       "      <td>2013-08-29</td>\n",
       "      <td>2013-12-02</td>\n",
       "      <td>6 days</td>\n",
       "      <td>101 days</td>\n",
       "      <td>95 days</td>\n",
       "    </tr>\n",
       "    <tr>\n",
       "      <th>58</th>\n",
       "      <td>Breast Cancer</td>\n",
       "      <td>8827</td>\n",
       "      <td>2013-07-21</td>\n",
       "      <td>A</td>\n",
       "      <td>2013-07-31</td>\n",
       "      <td>2013-10-19</td>\n",
       "      <td>10 days</td>\n",
       "      <td>90 days</td>\n",
       "      <td>80 days</td>\n",
       "    </tr>\n",
       "    <tr>\n",
       "      <th>56</th>\n",
       "      <td>Breast Cancer</td>\n",
       "      <td>8615</td>\n",
       "      <td>2013-07-18</td>\n",
       "      <td>A</td>\n",
       "      <td>2013-07-24</td>\n",
       "      <td>2013-10-12</td>\n",
       "      <td>6 days</td>\n",
       "      <td>86 days</td>\n",
       "      <td>80 days</td>\n",
       "    </tr>\n",
       "    <tr>\n",
       "      <th>21</th>\n",
       "      <td>Breast Cancer</td>\n",
       "      <td>3025</td>\n",
       "      <td>2010-12-15</td>\n",
       "      <td>B</td>\n",
       "      <td>2010-12-21</td>\n",
       "      <td>2011-03-08</td>\n",
       "      <td>6 days</td>\n",
       "      <td>83 days</td>\n",
       "      <td>77 days</td>\n",
       "    </tr>\n",
       "    <tr>\n",
       "      <th>55</th>\n",
       "      <td>Breast Cancer</td>\n",
       "      <td>8480</td>\n",
       "      <td>2013-05-16</td>\n",
       "      <td>A</td>\n",
       "      <td>2013-05-22</td>\n",
       "      <td>2013-08-07</td>\n",
       "      <td>6 days</td>\n",
       "      <td>83 days</td>\n",
       "      <td>77 days</td>\n",
       "    </tr>\n",
       "    <tr>\n",
       "      <th>54</th>\n",
       "      <td>Breast Cancer</td>\n",
       "      <td>7976</td>\n",
       "      <td>2013-03-06</td>\n",
       "      <td>A</td>\n",
       "      <td>2013-03-11</td>\n",
       "      <td>2013-05-27</td>\n",
       "      <td>5 days</td>\n",
       "      <td>82 days</td>\n",
       "      <td>77 days</td>\n",
       "    </tr>\n",
       "    <tr>\n",
       "      <th>15</th>\n",
       "      <td>Breast Cancer</td>\n",
       "      <td>2720</td>\n",
       "      <td>2010-01-09</td>\n",
       "      <td>B</td>\n",
       "      <td>2010-01-20</td>\n",
       "      <td>2010-04-06</td>\n",
       "      <td>11 days</td>\n",
       "      <td>87 days</td>\n",
       "      <td>76 days</td>\n",
       "    </tr>\n",
       "    <tr>\n",
       "      <th>18</th>\n",
       "      <td>Breast Cancer</td>\n",
       "      <td>2762</td>\n",
       "      <td>2011-01-07</td>\n",
       "      <td>B</td>\n",
       "      <td>2011-01-10</td>\n",
       "      <td>2011-03-27</td>\n",
       "      <td>3 days</td>\n",
       "      <td>79 days</td>\n",
       "      <td>76 days</td>\n",
       "    </tr>\n",
       "  </tbody>\n",
       "</table>\n",
       "</div>"
      ],
      "text/plain": [
       "        diagnosis  patient_id diagnosis_date drug_code        min        max  \\\n",
       "0   Breast Cancer        2038     2010-01-21         A 2010-01-24 2017-02-20   \n",
       "6   Breast Cancer        2238     2010-01-21         B 2010-01-21 2012-10-18   \n",
       "59  Breast Cancer        9331     2013-08-23         A 2013-08-29 2013-12-02   \n",
       "58  Breast Cancer        8827     2013-07-21         A 2013-07-31 2013-10-19   \n",
       "56  Breast Cancer        8615     2013-07-18         A 2013-07-24 2013-10-12   \n",
       "21  Breast Cancer        3025     2010-12-15         B 2010-12-21 2011-03-08   \n",
       "55  Breast Cancer        8480     2013-05-16         A 2013-05-22 2013-08-07   \n",
       "54  Breast Cancer        7976     2013-03-06         A 2013-03-11 2013-05-27   \n",
       "15  Breast Cancer        2720     2010-01-09         B 2010-01-20 2010-04-06   \n",
       "18  Breast Cancer        2762     2011-01-07         B 2011-01-10 2011-03-27   \n",
       "\n",
       "   drug_start_lag drug_end_lag drug_duration  \n",
       "0          3 days    2587 days     2584 days  \n",
       "6          0 days    1001 days     1001 days  \n",
       "59         6 days     101 days       95 days  \n",
       "58        10 days      90 days       80 days  \n",
       "56         6 days      86 days       80 days  \n",
       "21         6 days      83 days       77 days  \n",
       "55         6 days      83 days       77 days  \n",
       "54         5 days      82 days       77 days  \n",
       "15        11 days      87 days       76 days  \n",
       "18         3 days      79 days       76 days  "
      ]
     },
     "execution_count": 18,
     "metadata": {},
     "output_type": "execute_result"
    }
   ],
   "source": [
    "# preview top 10 rows with highest duration in the dataframe for breast cancer treatment\n",
    "df_treatment.sort_values(['drug_duration', 'drug_code','drug_start_lag', 'drug_end_lag'], ascending = False).head(10)"
   ]
  },
  {
   "cell_type": "markdown",
   "metadata": {},
   "source": [
    "- It is quite evident that the first 2 rows are outliers, with drug duration above 1000 days, which is way above the others.\n",
    "- The next step is to look into those patients' treatment journey and figure out why."
   ]
  },
  {
   "cell_type": "code",
   "execution_count": 19,
   "metadata": {},
   "outputs": [
    {
     "data": {
      "text/html": [
       "<div>\n",
       "<style scoped>\n",
       "    .dataframe tbody tr th:only-of-type {\n",
       "        vertical-align: middle;\n",
       "    }\n",
       "\n",
       "    .dataframe tbody tr th {\n",
       "        vertical-align: top;\n",
       "    }\n",
       "\n",
       "    .dataframe thead th {\n",
       "        text-align: right;\n",
       "    }\n",
       "</style>\n",
       "<table border=\"1\" class=\"dataframe\">\n",
       "  <thead>\n",
       "    <tr style=\"text-align: right;\">\n",
       "      <th></th>\n",
       "      <th>patient_id</th>\n",
       "      <th>treatment_date</th>\n",
       "      <th>drug_code</th>\n",
       "    </tr>\n",
       "  </thead>\n",
       "  <tbody>\n",
       "    <tr>\n",
       "      <th>3</th>\n",
       "      <td>2038</td>\n",
       "      <td>2010-01-24</td>\n",
       "      <td>A</td>\n",
       "    </tr>\n",
       "    <tr>\n",
       "      <th>5</th>\n",
       "      <td>2038</td>\n",
       "      <td>2010-01-24</td>\n",
       "      <td>B</td>\n",
       "    </tr>\n",
       "    <tr>\n",
       "      <th>8</th>\n",
       "      <td>2038</td>\n",
       "      <td>2010-01-27</td>\n",
       "      <td>A</td>\n",
       "    </tr>\n",
       "    <tr>\n",
       "      <th>9</th>\n",
       "      <td>2038</td>\n",
       "      <td>2010-01-27</td>\n",
       "      <td>B</td>\n",
       "    </tr>\n",
       "    <tr>\n",
       "      <th>15</th>\n",
       "      <td>2038</td>\n",
       "      <td>2010-01-30</td>\n",
       "      <td>A</td>\n",
       "    </tr>\n",
       "    <tr>\n",
       "      <th>16</th>\n",
       "      <td>2038</td>\n",
       "      <td>2010-01-30</td>\n",
       "      <td>B</td>\n",
       "    </tr>\n",
       "    <tr>\n",
       "      <th>20</th>\n",
       "      <td>2038</td>\n",
       "      <td>2010-02-02</td>\n",
       "      <td>A</td>\n",
       "    </tr>\n",
       "    <tr>\n",
       "      <th>24</th>\n",
       "      <td>2038</td>\n",
       "      <td>2010-02-06</td>\n",
       "      <td>A</td>\n",
       "    </tr>\n",
       "    <tr>\n",
       "      <th>31</th>\n",
       "      <td>2038</td>\n",
       "      <td>2010-02-11</td>\n",
       "      <td>A</td>\n",
       "    </tr>\n",
       "    <tr>\n",
       "      <th>45</th>\n",
       "      <td>2038</td>\n",
       "      <td>2010-02-18</td>\n",
       "      <td>A</td>\n",
       "    </tr>\n",
       "    <tr>\n",
       "      <th>49</th>\n",
       "      <td>2038</td>\n",
       "      <td>2010-02-20</td>\n",
       "      <td>A</td>\n",
       "    </tr>\n",
       "    <tr>\n",
       "      <th>1088</th>\n",
       "      <td>2038</td>\n",
       "      <td>2017-01-24</td>\n",
       "      <td>A</td>\n",
       "    </tr>\n",
       "    <tr>\n",
       "      <th>1089</th>\n",
       "      <td>2038</td>\n",
       "      <td>2017-01-27</td>\n",
       "      <td>A</td>\n",
       "    </tr>\n",
       "    <tr>\n",
       "      <th>1090</th>\n",
       "      <td>2038</td>\n",
       "      <td>2017-01-30</td>\n",
       "      <td>A</td>\n",
       "    </tr>\n",
       "    <tr>\n",
       "      <th>1091</th>\n",
       "      <td>2038</td>\n",
       "      <td>2017-02-02</td>\n",
       "      <td>A</td>\n",
       "    </tr>\n",
       "    <tr>\n",
       "      <th>1092</th>\n",
       "      <td>2038</td>\n",
       "      <td>2017-02-06</td>\n",
       "      <td>A</td>\n",
       "    </tr>\n",
       "    <tr>\n",
       "      <th>1093</th>\n",
       "      <td>2038</td>\n",
       "      <td>2017-02-11</td>\n",
       "      <td>A</td>\n",
       "    </tr>\n",
       "    <tr>\n",
       "      <th>1094</th>\n",
       "      <td>2038</td>\n",
       "      <td>2017-02-18</td>\n",
       "      <td>A</td>\n",
       "    </tr>\n",
       "    <tr>\n",
       "      <th>1095</th>\n",
       "      <td>2038</td>\n",
       "      <td>2017-02-20</td>\n",
       "      <td>A</td>\n",
       "    </tr>\n",
       "  </tbody>\n",
       "</table>\n",
       "</div>"
      ],
      "text/plain": [
       "      patient_id treatment_date drug_code\n",
       "3           2038     2010-01-24         A\n",
       "5           2038     2010-01-24         B\n",
       "8           2038     2010-01-27         A\n",
       "9           2038     2010-01-27         B\n",
       "15          2038     2010-01-30         A\n",
       "16          2038     2010-01-30         B\n",
       "20          2038     2010-02-02         A\n",
       "24          2038     2010-02-06         A\n",
       "31          2038     2010-02-11         A\n",
       "45          2038     2010-02-18         A\n",
       "49          2038     2010-02-20         A\n",
       "1088        2038     2017-01-24         A\n",
       "1089        2038     2017-01-27         A\n",
       "1090        2038     2017-01-30         A\n",
       "1091        2038     2017-02-02         A\n",
       "1092        2038     2017-02-06         A\n",
       "1093        2038     2017-02-11         A\n",
       "1094        2038     2017-02-18         A\n",
       "1095        2038     2017-02-20         A"
      ]
     },
     "execution_count": 19,
     "metadata": {},
     "output_type": "execute_result"
    }
   ],
   "source": [
    "# check treatment history for patient 2038\n",
    "df_t[df_t['patient_id'] == 2038]"
   ]
  },
  {
   "cell_type": "code",
   "execution_count": 20,
   "metadata": {},
   "outputs": [
    {
     "data": {
      "text/html": [
       "<div>\n",
       "<style scoped>\n",
       "    .dataframe tbody tr th:only-of-type {\n",
       "        vertical-align: middle;\n",
       "    }\n",
       "\n",
       "    .dataframe tbody tr th {\n",
       "        vertical-align: top;\n",
       "    }\n",
       "\n",
       "    .dataframe thead th {\n",
       "        text-align: right;\n",
       "    }\n",
       "</style>\n",
       "<table border=\"1\" class=\"dataframe\">\n",
       "  <thead>\n",
       "    <tr style=\"text-align: right;\">\n",
       "      <th></th>\n",
       "      <th>patient_id</th>\n",
       "      <th>treatment_date</th>\n",
       "      <th>drug_code</th>\n",
       "    </tr>\n",
       "  </thead>\n",
       "  <tbody>\n",
       "    <tr>\n",
       "      <th>1</th>\n",
       "      <td>2238</td>\n",
       "      <td>2010-01-21</td>\n",
       "      <td>B</td>\n",
       "    </tr>\n",
       "    <tr>\n",
       "      <th>17</th>\n",
       "      <td>2238</td>\n",
       "      <td>2010-01-31</td>\n",
       "      <td>B</td>\n",
       "    </tr>\n",
       "    <tr>\n",
       "      <th>29</th>\n",
       "      <td>2238</td>\n",
       "      <td>2010-02-10</td>\n",
       "      <td>B</td>\n",
       "    </tr>\n",
       "    <tr>\n",
       "      <th>50</th>\n",
       "      <td>2238</td>\n",
       "      <td>2010-02-20</td>\n",
       "      <td>B</td>\n",
       "    </tr>\n",
       "    <tr>\n",
       "      <th>64</th>\n",
       "      <td>2238</td>\n",
       "      <td>2010-03-02</td>\n",
       "      <td>B</td>\n",
       "    </tr>\n",
       "    <tr>\n",
       "      <th>70</th>\n",
       "      <td>2238</td>\n",
       "      <td>2010-03-12</td>\n",
       "      <td>B</td>\n",
       "    </tr>\n",
       "    <tr>\n",
       "      <th>78</th>\n",
       "      <td>2238</td>\n",
       "      <td>2010-03-22</td>\n",
       "      <td>B</td>\n",
       "    </tr>\n",
       "    <tr>\n",
       "      <th>84</th>\n",
       "      <td>2238</td>\n",
       "      <td>2010-04-01</td>\n",
       "      <td>B</td>\n",
       "    </tr>\n",
       "    <tr>\n",
       "      <th>631</th>\n",
       "      <td>2238</td>\n",
       "      <td>2012-09-18</td>\n",
       "      <td>B</td>\n",
       "    </tr>\n",
       "    <tr>\n",
       "      <th>649</th>\n",
       "      <td>2238</td>\n",
       "      <td>2012-09-28</td>\n",
       "      <td>B</td>\n",
       "    </tr>\n",
       "    <tr>\n",
       "      <th>665</th>\n",
       "      <td>2238</td>\n",
       "      <td>2012-10-08</td>\n",
       "      <td>B</td>\n",
       "    </tr>\n",
       "    <tr>\n",
       "      <th>679</th>\n",
       "      <td>2238</td>\n",
       "      <td>2012-10-18</td>\n",
       "      <td>B</td>\n",
       "    </tr>\n",
       "  </tbody>\n",
       "</table>\n",
       "</div>"
      ],
      "text/plain": [
       "     patient_id treatment_date drug_code\n",
       "1          2238     2010-01-21         B\n",
       "17         2238     2010-01-31         B\n",
       "29         2238     2010-02-10         B\n",
       "50         2238     2010-02-20         B\n",
       "64         2238     2010-03-02         B\n",
       "70         2238     2010-03-12         B\n",
       "78         2238     2010-03-22         B\n",
       "84         2238     2010-04-01         B\n",
       "631        2238     2012-09-18         B\n",
       "649        2238     2012-09-28         B\n",
       "665        2238     2012-10-08         B\n",
       "679        2238     2012-10-18         B"
      ]
     },
     "execution_count": 20,
     "metadata": {},
     "output_type": "execute_result"
    }
   ],
   "source": [
    "# check treatment history for patient 2238\n",
    "df_t[df_t['patient_id'] == 2238]"
   ]
  },
  {
   "cell_type": "markdown",
   "metadata": {},
   "source": [
    "- From both of the patients' records, we can see the treatment was interrupted in the middle. After a few years, the drug was reused for some reason.\n",
    "- A potential explanation of this could be patient's condition got better after the initial therapy, then after certain time the patient relapsed.\n",
    "- It is not clear that when the drug is reused, it counts as first-line therapy or second-line. Thus we remove those records from future analysis."
   ]
  },
  {
   "cell_type": "code",
   "execution_count": 21,
   "metadata": {},
   "outputs": [
    {
     "data": {
      "text/plain": [
       "count    22.000000\n",
       "mean     59.272727\n",
       "std      19.024250\n",
       "min      20.000000\n",
       "25%      46.500000\n",
       "50%      62.500000\n",
       "75%      73.000000\n",
       "max      95.000000\n",
       "Name: drug_duration, dtype: float64"
      ]
     },
     "execution_count": 21,
     "metadata": {},
     "output_type": "execute_result"
    }
   ],
   "source": [
    "# summary statistics for drug A treated on breast cancer\n",
    "df_treatment[(df_treatment['drug_code'] == 'A') & (df_treatment['drug_duration'].dt.days < 500)]['drug_duration'].dt.days.describe()"
   ]
  },
  {
   "cell_type": "code",
   "execution_count": 22,
   "metadata": {},
   "outputs": [
    {
     "data": {
      "text/plain": [
       "count    24.000000\n",
       "mean     48.333333\n",
       "std      22.060523\n",
       "min       0.000000\n",
       "25%      35.000000\n",
       "50%      51.500000\n",
       "75%      64.500000\n",
       "max      77.000000\n",
       "Name: drug_duration, dtype: float64"
      ]
     },
     "execution_count": 22,
     "metadata": {},
     "output_type": "execute_result"
    }
   ],
   "source": [
    "# summary statistics for drug B treated on breast cancer\n",
    "df_treatment[(df_treatment['drug_code'] == 'B') & (df_treatment['drug_duration'].dt.days < 500)]['drug_duration'].dt.days.describe()"
   ]
  },
  {
   "cell_type": "code",
   "execution_count": 23,
   "metadata": {},
   "outputs": [
    {
     "data": {
      "text/plain": [
       "<matplotlib.figure.Figure at 0x118ab54e0>"
      ]
     },
     "metadata": {},
     "output_type": "display_data"
    },
    {
     "data": {
      "image/png": "[encoded data removed]",
      "text/plain": [
       "<matplotlib.figure.Figure at 0x118ab5b00>"
      ]
     },
     "metadata": {},
     "output_type": "display_data"
    }
   ],
   "source": [
    "# plot distribution for breast cancer first line treatment (Regimen A and Regimen B) duration\n",
    "plt.clf()\n",
    "plt.figure(figsize=(16,10))\n",
    "plt.suptitle('Breast Cancer First-line Therapy Duration Distribution', fontsize = 20)\n",
    "# distribution of A / Breast Cancer with interruption\n",
    "plt.subplot(2,2,1)\n",
    "df_treatment[df_treatment['drug_code'] == 'A']['drug_duration'].dt.days.hist(bins = 300).set_title('Distribution of Breast Cancer / A Regimen with Interruption')\n",
    "# distribution of A / Breast Cancer without interruption\n",
    "plt.subplot(2,2,2)\n",
    "df_treatment[(df_treatment['drug_code'] == 'A') & (df_treatment['drug_duration'].dt.days < 500)]['drug_duration'].dt.days.hist(bins = 15).set_title('Distribution of Breast Cancer / A Regimen without Interruption')\n",
    "# distribution of B / Breast Cancer with interruption\n",
    "plt.subplot(2,2,3)\n",
    "df_treatment[df_treatment['drug_code'] == 'B']['drug_duration'].dt.days.hist(bins = 300).set_title('Distribution of Breast Cancer / B Regimen with Interruption')\n",
    "# distribution of A / Breast Cancer without interruption\n",
    "plt.subplot(2,2,4)\n",
    "df_treatment[(df_treatment['drug_code'] == 'B') & (df_treatment['drug_duration'].dt.days < 500)]['drug_duration'].dt.days.hist(bins = 15).set_title('Distribution of Breast Cancer / B Regimen without Interruption')\n",
    "plt.show()"
   ]
  },
  {
   "cell_type": "markdown",
   "metadata": {},
   "source": [
    "From the summary statistics and distribution plot, the mean and variance of drug A and B's durations look similar. \n",
    "\n",
    "To find out more, we perform hypothesis testings on both samples."
   ]
  },
  {
   "cell_type": "code",
   "execution_count": 24,
   "metadata": {},
   "outputs": [],
   "source": [
    "# get 2 samples for regimen A and regimen B\n",
    "df_a_regimen = df_treatment[(df_treatment['drug_code'] == 'A') & (df_treatment['drug_duration'].dt.days < 500)]['drug_duration'].dt.days\n",
    "df_b_regimen = df_treatment[(df_treatment['drug_code'] == 'B') & (df_treatment['drug_duration'].dt.days < 500)]['drug_duration'].dt.days"
   ]
  },
  {
   "cell_type": "markdown",
   "metadata": {},
   "source": [
    "First, we test if the 2 samples have the same variance.\n",
    "The hypothesis are as follows:\n",
    "\n",
    "- H0: variance of A duration = variance of B duration\n",
    "- H1: variance of A duration != variance of B duration\n",
    "\n",
    "The testing model we use is bartlett test."
   ]
  },
  {
   "cell_type": "code",
   "execution_count": 25,
   "metadata": {},
   "outputs": [],
   "source": [
    "# Function to test if A and B regimen have same variance of duration with bartlett test\n",
    "# assumption: the 2 samples are normally distributed\n",
    "# bartlett's test on H0: Var A = Var B, H1: Var A != Var B\n",
    "def bartlett_test(a,b):\n",
    "    t2, p2 = bartlett(a,b)\n",
    "    print('bartlett test result: t = %g  p = %g' % (t2, p2))"
   ]
  },
  {
   "cell_type": "code",
   "execution_count": 26,
   "metadata": {},
   "outputs": [
    {
     "name": "stdout",
     "output_type": "stream",
     "text": [
      "bartlett test result: t = 0.466862  p = 0.494434\n"
     ]
    }
   ],
   "source": [
    "# execute bartlett test:\n",
    "bartlett_test(df_a_regimen, df_b_regimen)"
   ]
  },
  {
   "cell_type": "markdown",
   "metadata": {},
   "source": [
    "Based on bartlett's result, we can conclude the following:\n",
    "\n",
    "- Confidence level = 95%\n",
    "- Since p value (49.44%) is greater than 5%, we do not reject the null hypothesis\n",
    "- Thus the result of the test is not significant, and drug A and B have same variance"
   ]
  },
  {
   "cell_type": "markdown",
   "metadata": {},
   "source": [
    "Next, we test if the 2 samples have the same mean.\n",
    "The hypothesis are as follows:\n",
    "\n",
    "- H0: mean of A duration = mean of B duration\n",
    "- H1: mean of A duration != mean of B duration\n",
    "\n",
    "The testing model we use is 2 sample t test."
   ]
  },
  {
   "cell_type": "code",
   "execution_count": 27,
   "metadata": {},
   "outputs": [],
   "source": [
    "# Function to test if A and B regimen have same mean of duration\n",
    "# assumption: homoscedasticity, normal distribution, different variance\n",
    "# t test on H0: Mean A = Mean B, H1: Mean A != Mean B\n",
    "def t_test(a,b):\n",
    "    # Compute the descriptive statistics of a and b.\n",
    "    abar = a.mean()\n",
    "    avar = a.var(ddof=1)\n",
    "    na = a.size\n",
    "    adof = na - 1\n",
    "\n",
    "    bbar = b.mean()\n",
    "    bvar = b.var(ddof=1)\n",
    "    nb = b.size\n",
    "    bdof = nb - 1\n",
    "\n",
    "    # Use scipy.stats.ttest_ind_from_stats.\n",
    "    t1, p1 = ttest_ind_from_stats(abar, np.sqrt(avar), na,\n",
    "                                  bbar, np.sqrt(bvar), nb,\n",
    "                                  equal_var=True)\n",
    "    print('t test result: t = %g  p = %g' % (t1, p1))"
   ]
  },
  {
   "cell_type": "code",
   "execution_count": 28,
   "metadata": {},
   "outputs": [
    {
     "name": "stdout",
     "output_type": "stream",
     "text": [
      "t test result: t = 1.79329  p = 0.079801\n"
     ]
    }
   ],
   "source": [
    "# execute t test:\n",
    "t_test(df_a_regimen, df_b_regimen)"
   ]
  },
  {
   "cell_type": "markdown",
   "metadata": {},
   "source": [
    "Based on t test's result, we can conclude the following:\n",
    "\n",
    "- Confidence level = 95%\n",
    "- Since p value (7.98%) is greater than 5%, we do not reject the null hypothesis\n",
    "- Thus the result of the test is not significant, and drug A and B have same mean\n",
    "\n",
    "Overall, the patients taking Regimen A vs. Regimen B as first-line therapy for breast cancer do **not** vary interms of duration of therapy."
   ]
  }
 ],
 "metadata": {
  "kernelspec": {
   "display_name": "Python 3",
   "language": "python",
   "name": "python3"
  },
  "language_info": {
   "codemirror_mode": {
    "name": "ipython",
    "version": 3
   },
   "file_extension": ".py",
   "mimetype": "text/x-python",
   "name": "python",
   "nbconvert_exporter": "python",
   "pygments_lexer": "ipython3",
   "version": "3.6.0"
  }
 },
 "nbformat": 4,
 "nbformat_minor": 2
}
